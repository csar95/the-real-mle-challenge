{
 "cells": [
  {
   "cell_type": "markdown",
   "id": "476b2d95-b81a-46bc-b215-acc7dd2ed59d",
   "metadata": {},
   "source": [
    "The idea with a regression model is to estimate the price and assign a category based on thresholds."
   ]
  },
  {
   "cell_type": "code",
   "execution_count": 1,
   "id": "0396d064-2e9b-4575-8da2-7b00b2d5ad4d",
   "metadata": {},
   "outputs": [],
   "source": [
    "import pandas as pd\n",
    "pd.set_option('display.max_columns', 150)\n",
    "pd.set_option('display.max_rows', None)\n",
    "import numpy as np\n",
    "import re\n",
    "import seaborn as sns\n",
    "import matplotlib.pyplot as plt"
   ]
  },
  {
   "cell_type": "markdown",
   "id": "2d500d9b-438d-4a65-a540-f8c713aee10d",
   "metadata": {},
   "source": [
    "# Load data"
   ]
  },
  {
   "cell_type": "code",
   "execution_count": 2,
   "id": "73b76cff-dd29-4e66-a3dc-1ada0e5f0545",
   "metadata": {},
   "outputs": [
    {
     "name": "stdout",
     "output_type": "stream",
     "text": [
      "(38277, 11)\n"
     ]
    },
    {
     "data": {
      "text/html": [
       "<div>\n",
       "<style scoped>\n",
       "    .dataframe tbody tr th:only-of-type {\n",
       "        vertical-align: middle;\n",
       "    }\n",
       "\n",
       "    .dataframe tbody tr th {\n",
       "        vertical-align: top;\n",
       "    }\n",
       "\n",
       "    .dataframe thead th {\n",
       "        text-align: right;\n",
       "    }\n",
       "</style>\n",
       "<table border=\"1\" class=\"dataframe\">\n",
       "  <thead>\n",
       "    <tr style=\"text-align: right;\">\n",
       "      <th></th>\n",
       "      <th>id</th>\n",
       "      <th>neighbourhood_group_cleansed</th>\n",
       "      <th>latitude</th>\n",
       "      <th>longitude</th>\n",
       "      <th>room_type</th>\n",
       "      <th>accommodates</th>\n",
       "      <th>bathrooms_text</th>\n",
       "      <th>bedrooms</th>\n",
       "      <th>beds</th>\n",
       "      <th>amenities</th>\n",
       "      <th>price</th>\n",
       "    </tr>\n",
       "  </thead>\n",
       "  <tbody>\n",
       "    <tr>\n",
       "      <th>0</th>\n",
       "      <td>2595</td>\n",
       "      <td>Manhattan</td>\n",
       "      <td>40.75356</td>\n",
       "      <td>-73.98559</td>\n",
       "      <td>Entire home/apt</td>\n",
       "      <td>1</td>\n",
       "      <td>1 bath</td>\n",
       "      <td>NaN</td>\n",
       "      <td>1.0</td>\n",
       "      <td>[\"Extra pillows and blankets\", \"Baking sheet\",...</td>\n",
       "      <td>$150.00</td>\n",
       "    </tr>\n",
       "    <tr>\n",
       "      <th>1</th>\n",
       "      <td>3831</td>\n",
       "      <td>Brooklyn</td>\n",
       "      <td>40.68494</td>\n",
       "      <td>-73.95765</td>\n",
       "      <td>Entire home/apt</td>\n",
       "      <td>3</td>\n",
       "      <td>1 bath</td>\n",
       "      <td>1.0</td>\n",
       "      <td>3.0</td>\n",
       "      <td>[\"Extra pillows and blankets\", \"Luggage dropof...</td>\n",
       "      <td>$75.00</td>\n",
       "    </tr>\n",
       "    <tr>\n",
       "      <th>2</th>\n",
       "      <td>5121</td>\n",
       "      <td>Brooklyn</td>\n",
       "      <td>40.68535</td>\n",
       "      <td>-73.95512</td>\n",
       "      <td>Private room</td>\n",
       "      <td>2</td>\n",
       "      <td>NaN</td>\n",
       "      <td>1.0</td>\n",
       "      <td>1.0</td>\n",
       "      <td>[\"Kitchen\", \"Long term stays allowed\", \"Wifi\",...</td>\n",
       "      <td>$60.00</td>\n",
       "    </tr>\n",
       "  </tbody>\n",
       "</table>\n",
       "</div>"
      ],
      "text/plain": [
       "     id neighbourhood_group_cleansed  latitude  longitude        room_type  \\\n",
       "0  2595                    Manhattan  40.75356  -73.98559  Entire home/apt   \n",
       "1  3831                     Brooklyn  40.68494  -73.95765  Entire home/apt   \n",
       "2  5121                     Brooklyn  40.68535  -73.95512     Private room   \n",
       "\n",
       "   accommodates bathrooms_text  bedrooms  beds  \\\n",
       "0             1         1 bath       NaN   1.0   \n",
       "1             3         1 bath       1.0   3.0   \n",
       "2             2            NaN       1.0   1.0   \n",
       "\n",
       "                                           amenities    price  \n",
       "0  [\"Extra pillows and blankets\", \"Baking sheet\",...  $150.00  \n",
       "1  [\"Extra pillows and blankets\", \"Luggage dropof...   $75.00  \n",
       "2  [\"Kitchen\", \"Long term stays allowed\", \"Wifi\",...   $60.00  "
      ]
     },
     "execution_count": 2,
     "metadata": {},
     "output_type": "execute_result"
    }
   ],
   "source": [
    "data = pd.read_csv(\"../../data/raw/listings.csv\", usecols=['id','accommodates','room_type','beds','bedrooms','bathrooms_text','neighbourhood_group_cleansed','amenities','latitude','longitude','price'])\n",
    "print(data.shape)\n",
    "data.head(3)"
   ]
  },
  {
   "cell_type": "markdown",
   "id": "0a94f07c-5100-43df-8f17-e769d92bbeec",
   "metadata": {},
   "source": [
    "# Feature engineer, cleaning and transformation"
   ]
  },
  {
   "cell_type": "markdown",
   "id": "4849bf14-3a9f-4cb7-8ac0-2c0df1195493",
   "metadata": {},
   "source": [
    "First, we convert the target/price variable into a numerical variable."
   ]
  },
  {
   "cell_type": "code",
   "execution_count": 3,
   "id": "732247b9-0265-4cab-b4cd-57a9fb33e471",
   "metadata": {},
   "outputs": [],
   "source": [
    "data['price_processed'] = data.price.str[1:-3].str.replace(',','').astype(int)\n",
    "data.drop(columns=['price'], inplace=True)\n",
    "data.rename(columns={'price_processed':'price'}, inplace=True)"
   ]
  },
  {
   "cell_type": "markdown",
   "id": "5ad24b95-1afd-449b-be54-1ef055197ce0",
   "metadata": {},
   "source": [
    "As we saw in the exploratory, the number of bathrooms has to be extracted from the column `bathrooms_text`."
   ]
  },
  {
   "cell_type": "code",
   "execution_count": 4,
   "id": "f66270c6-c286-43a7-83f6-af9da3666d4c",
   "metadata": {},
   "outputs": [],
   "source": [
    "def extract_num_baths(text):\n",
    "    found_groups = [group for group in re.findall(\"(\\d*\\.?\\d*).*\", str(text)) if group!='']\n",
    "    if found_groups:\n",
    "        return float(found_groups[0])\n",
    "    elif pd.isna(text) or text is None:\n",
    "        return np.nan\n",
    "    # Special cases\n",
    "    elif \"half-bath\" in text.lower():\n",
    "        return 0.5\n",
    "    else:  # In case there were any cases like this\n",
    "        return 1\n",
    "    \n",
    "data['bathrooms'] = data.bathrooms_text.apply(extract_num_baths)\n",
    "data.drop(columns=['bathrooms_text'], inplace=True)"
   ]
  },
  {
   "cell_type": "code",
   "execution_count": 5,
   "id": "9c9a09cf-e25a-45ef-8019-f7935b3cc16f",
   "metadata": {},
   "outputs": [],
   "source": [
    "data.rename(columns={'neighbourhood_group_cleansed':'neighbourhood'}, inplace=True)"
   ]
  },
  {
   "cell_type": "markdown",
   "id": "c3661a35-1caa-4298-8cbd-885d2c5c9d39",
   "metadata": {},
   "source": [
    "Based on the example of an input for our API, we are only interested on 3 types of amenities: tv, elevator and internet/wifi."
   ]
  },
  {
   "cell_type": "code",
   "execution_count": 6,
   "id": "8f6bb17c-3296-4888-9059-244cba84d9c8",
   "metadata": {},
   "outputs": [],
   "source": [
    "def find_amenities(lst):\n",
    "    return pd.Series([int('tv' in lst.lower()), int('elevator' in lst.lower()), int('wifi' in lst.lower())])\n",
    "\n",
    "data[['tv','elevator','internet']] = data.amenities.apply(find_amenities)\n",
    "data.drop(columns=['amenities'], inplace=True)"
   ]
  },
  {
   "cell_type": "markdown",
   "id": "7dc41360-8663-4453-b52d-5715916fbeac",
   "metadata": {},
   "source": [
    "## Impute missing values\n",
    "\n",
    "We check if there are still missing values. If so, we are going to impute them taking into account other correlated variables. We have selected this strategy based on the finding in the exploratory analysis."
   ]
  },
  {
   "cell_type": "code",
   "execution_count": 7,
   "id": "38681391-f990-465e-8283-3260823391f2",
   "metadata": {},
   "outputs": [
    {
     "data": {
      "text/plain": [
       "id                  0\n",
       "neighbourhood       0\n",
       "latitude            0\n",
       "longitude           0\n",
       "room_type           0\n",
       "accommodates        0\n",
       "bedrooms         3975\n",
       "beds             2405\n",
       "price               0\n",
       "bathrooms         107\n",
       "tv                  0\n",
       "elevator            0\n",
       "internet            0\n",
       "dtype: int64"
      ]
     },
     "execution_count": 7,
     "metadata": {},
     "output_type": "execute_result"
    }
   ],
   "source": [
    "data.isna().sum()"
   ]
  },
  {
   "cell_type": "code",
   "execution_count": 8,
   "id": "85c7fcf1-92a0-4b04-9410-9b0ae40d23ab",
   "metadata": {},
   "outputs": [
    {
     "data": {
      "text/plain": [
       "0"
      ]
     },
     "execution_count": 8,
     "metadata": {},
     "output_type": "execute_result"
    }
   ],
   "source": [
    "median_num_baths_by_bedrooms = data.groupby('bedrooms')['bathrooms'].median()\n",
    "median_num_baths_by_accommodates = data.groupby('accommodates')['bathrooms'].median().fillna(0)\n",
    "\n",
    "data.loc[data.bathrooms.isna() & data.bedrooms.notna(), 'bathrooms'] = data.loc[data.bathrooms.isna() & data.bedrooms.notna(), 'bedrooms'].apply(lambda n_bedrooms : median_num_baths_by_bedrooms[n_bedrooms])\n",
    "data.loc[data.bathrooms.isna(), 'bathrooms'] = data.loc[data.bathrooms.isna(), 'accommodates'].apply(lambda n_accommodates : median_num_baths_by_accommodates[n_accommodates])\n",
    "\n",
    "data.bathrooms.isna().sum()"
   ]
  },
  {
   "cell_type": "code",
   "execution_count": 9,
   "id": "00bc5fec-740f-46da-b56b-a1ae8c1662c3",
   "metadata": {},
   "outputs": [
    {
     "data": {
      "text/plain": [
       "0"
      ]
     },
     "execution_count": 9,
     "metadata": {},
     "output_type": "execute_result"
    }
   ],
   "source": [
    "median_num_beds_by_bedrooms = data.groupby('bedrooms')['beds'].median()\n",
    "median_num_beds_by_accommodates = data.groupby('accommodates')['beds'].median().fillna(0)\n",
    "\n",
    "data.loc[data.beds.isna() & data.bedrooms.notna(), 'beds'] = data.loc[data.beds.isna() & data.bedrooms.notna(), 'bedrooms'].apply(lambda n_bedrooms : median_num_beds_by_bedrooms[n_bedrooms])\n",
    "data.loc[data.beds.isna(), 'beds'] = data.loc[data.beds.isna(), 'accommodates'].apply(lambda n_accommodates : median_num_beds_by_accommodates[n_accommodates])\n",
    "\n",
    "data.beds.isna().sum()"
   ]
  },
  {
   "cell_type": "code",
   "execution_count": 10,
   "id": "e9f66f9c-b389-48d0-b7a8-6e62e600aa4e",
   "metadata": {},
   "outputs": [
    {
     "data": {
      "text/plain": [
       "0"
      ]
     },
     "execution_count": 10,
     "metadata": {},
     "output_type": "execute_result"
    }
   ],
   "source": [
    "median_num_bedrooms_by_accommodates = data.groupby('accommodates')['bedrooms'].median().fillna(0)\n",
    "\n",
    "data.loc[data.bedrooms.isna(), 'bedrooms'] = data.loc[data.bedrooms.isna(), 'accommodates'].apply(lambda n_accommodates : median_num_bedrooms_by_accommodates[n_accommodates])\n",
    "\n",
    "data.bedrooms.isna().sum()"
   ]
  },
  {
   "cell_type": "markdown",
   "id": "e5c6b62d-38f5-4c6f-b364-de41b4f8ab25",
   "metadata": {},
   "source": [
    "## Preprocess categorical variables\n",
    "\n",
    "Lastly, we found out in the exploratory that some categories in `room_type` and `neighbourhood` variables have a similar distribution of the price categories. Thus, we group them together into a single category."
   ]
  },
  {
   "cell_type": "code",
   "execution_count": 11,
   "id": "26676a0a-c274-40cb-b0e5-019809629f39",
   "metadata": {},
   "outputs": [],
   "source": [
    "data.loc[ data.room_type.isin(['Private room','Shared room']), 'room_type' ] = \"Private-Share room\""
   ]
  },
  {
   "cell_type": "code",
   "execution_count": 12,
   "id": "a337e81e-530d-4f1c-a8df-7fb236c5c964",
   "metadata": {},
   "outputs": [],
   "source": [
    "data.loc[ data.neighbourhood.isin(['Bronx','Queens','Staten Island']), 'neighbourhood' ] = \"Bronx-Queens-StatenIsland\""
   ]
  },
  {
   "cell_type": "markdown",
   "id": "a2f30d62-273a-44fc-9299-49daaed50c5e",
   "metadata": {},
   "source": [
    "Since the model we are training doesn't work with categorical features we need to apply one-hot encoding to the categorical variables."
   ]
  },
  {
   "cell_type": "code",
   "execution_count": 13,
   "id": "e0d0ab9f-86b6-4f8f-833c-61225d03cb43",
   "metadata": {},
   "outputs": [],
   "source": [
    "data = pd.get_dummies(data, columns=['room_type','neighbourhood'], drop_first=True)"
   ]
  },
  {
   "cell_type": "code",
   "execution_count": 14,
   "id": "520784c1-28ac-4f01-ab60-9a0b3557c269",
   "metadata": {},
   "outputs": [],
   "source": [
    "data.drop(columns=['id'], inplace=True)"
   ]
  },
  {
   "cell_type": "code",
   "execution_count": 15,
   "id": "7eb220b0-f904-4f3d-b221-6bf490d0c1fa",
   "metadata": {},
   "outputs": [
    {
     "data": {
      "text/html": [
       "<div>\n",
       "<style scoped>\n",
       "    .dataframe tbody tr th:only-of-type {\n",
       "        vertical-align: middle;\n",
       "    }\n",
       "\n",
       "    .dataframe tbody tr th {\n",
       "        vertical-align: top;\n",
       "    }\n",
       "\n",
       "    .dataframe thead th {\n",
       "        text-align: right;\n",
       "    }\n",
       "</style>\n",
       "<table border=\"1\" class=\"dataframe\">\n",
       "  <thead>\n",
       "    <tr style=\"text-align: right;\">\n",
       "      <th></th>\n",
       "      <th>latitude</th>\n",
       "      <th>longitude</th>\n",
       "      <th>accommodates</th>\n",
       "      <th>bedrooms</th>\n",
       "      <th>beds</th>\n",
       "      <th>price</th>\n",
       "      <th>bathrooms</th>\n",
       "      <th>tv</th>\n",
       "      <th>elevator</th>\n",
       "      <th>internet</th>\n",
       "      <th>room_type_Hotel room</th>\n",
       "      <th>room_type_Private-Share room</th>\n",
       "      <th>neighbourhood_Brooklyn</th>\n",
       "      <th>neighbourhood_Manhattan</th>\n",
       "    </tr>\n",
       "  </thead>\n",
       "  <tbody>\n",
       "    <tr>\n",
       "      <th>0</th>\n",
       "      <td>40.75356</td>\n",
       "      <td>-73.98559</td>\n",
       "      <td>1</td>\n",
       "      <td>1.0</td>\n",
       "      <td>1.0</td>\n",
       "      <td>150</td>\n",
       "      <td>1.0</td>\n",
       "      <td>1</td>\n",
       "      <td>0</td>\n",
       "      <td>1</td>\n",
       "      <td>0</td>\n",
       "      <td>0</td>\n",
       "      <td>0</td>\n",
       "      <td>1</td>\n",
       "    </tr>\n",
       "    <tr>\n",
       "      <th>1</th>\n",
       "      <td>40.68494</td>\n",
       "      <td>-73.95765</td>\n",
       "      <td>3</td>\n",
       "      <td>1.0</td>\n",
       "      <td>3.0</td>\n",
       "      <td>75</td>\n",
       "      <td>1.0</td>\n",
       "      <td>1</td>\n",
       "      <td>0</td>\n",
       "      <td>1</td>\n",
       "      <td>0</td>\n",
       "      <td>0</td>\n",
       "      <td>1</td>\n",
       "      <td>0</td>\n",
       "    </tr>\n",
       "    <tr>\n",
       "      <th>2</th>\n",
       "      <td>40.68535</td>\n",
       "      <td>-73.95512</td>\n",
       "      <td>2</td>\n",
       "      <td>1.0</td>\n",
       "      <td>1.0</td>\n",
       "      <td>60</td>\n",
       "      <td>1.0</td>\n",
       "      <td>0</td>\n",
       "      <td>0</td>\n",
       "      <td>1</td>\n",
       "      <td>0</td>\n",
       "      <td>1</td>\n",
       "      <td>1</td>\n",
       "      <td>0</td>\n",
       "    </tr>\n",
       "    <tr>\n",
       "      <th>3</th>\n",
       "      <td>40.66265</td>\n",
       "      <td>-73.99454</td>\n",
       "      <td>4</td>\n",
       "      <td>2.0</td>\n",
       "      <td>2.0</td>\n",
       "      <td>275</td>\n",
       "      <td>1.5</td>\n",
       "      <td>1</td>\n",
       "      <td>0</td>\n",
       "      <td>1</td>\n",
       "      <td>0</td>\n",
       "      <td>0</td>\n",
       "      <td>1</td>\n",
       "      <td>0</td>\n",
       "    </tr>\n",
       "    <tr>\n",
       "      <th>4</th>\n",
       "      <td>40.76457</td>\n",
       "      <td>-73.98317</td>\n",
       "      <td>2</td>\n",
       "      <td>1.0</td>\n",
       "      <td>1.0</td>\n",
       "      <td>68</td>\n",
       "      <td>1.0</td>\n",
       "      <td>1</td>\n",
       "      <td>0</td>\n",
       "      <td>1</td>\n",
       "      <td>0</td>\n",
       "      <td>1</td>\n",
       "      <td>0</td>\n",
       "      <td>1</td>\n",
       "    </tr>\n",
       "  </tbody>\n",
       "</table>\n",
       "</div>"
      ],
      "text/plain": [
       "   latitude  longitude  accommodates  bedrooms  beds  price  bathrooms  tv  \\\n",
       "0  40.75356  -73.98559             1       1.0   1.0    150        1.0   1   \n",
       "1  40.68494  -73.95765             3       1.0   3.0     75        1.0   1   \n",
       "2  40.68535  -73.95512             2       1.0   1.0     60        1.0   0   \n",
       "3  40.66265  -73.99454             4       2.0   2.0    275        1.5   1   \n",
       "4  40.76457  -73.98317             2       1.0   1.0     68        1.0   1   \n",
       "\n",
       "   elevator  internet  room_type_Hotel room  room_type_Private-Share room  \\\n",
       "0         0         1                     0                             0   \n",
       "1         0         1                     0                             0   \n",
       "2         0         1                     0                             1   \n",
       "3         0         1                     0                             0   \n",
       "4         0         1                     0                             1   \n",
       "\n",
       "   neighbourhood_Brooklyn  neighbourhood_Manhattan  \n",
       "0                       0                        1  \n",
       "1                       1                        0  \n",
       "2                       1                        0  \n",
       "3                       1                        0  \n",
       "4                       0                        1  "
      ]
     },
     "execution_count": 15,
     "metadata": {},
     "output_type": "execute_result"
    }
   ],
   "source": [
    "data.head()"
   ]
  },
  {
   "cell_type": "markdown",
   "id": "53943f5c-46d7-4464-996f-b1e76b8c0c8e",
   "metadata": {},
   "source": [
    "# Modeling\n",
    "\n",
    "We are trying a random forest regressor, that's why there's no need to drop correlated features like `accommodates`, `beds` and `bedrooms`. Neither it is necessary to standardize numerical variables."
   ]
  },
  {
   "cell_type": "code",
   "execution_count": 16,
   "id": "d278791e-a593-4534-a296-0f79cea4cf9e",
   "metadata": {},
   "outputs": [],
   "source": [
    "from sklearn.model_selection import train_test_split\n",
    "from sklearn.ensemble import RandomForestRegressor\n",
    "from sklearn.metrics import mean_absolute_error, mean_squared_error, r2_score"
   ]
  },
  {
   "cell_type": "code",
   "execution_count": 17,
   "id": "83d5bd2e-a353-4e36-93f0-87d62cb2f6e7",
   "metadata": {},
   "outputs": [],
   "source": [
    "X = data.drop(columns=['price'])\n",
    "y = data['price']"
   ]
  },
  {
   "cell_type": "code",
   "execution_count": 18,
   "id": "3abe8ffc-1d02-4e86-b652-1dffe20eb1c9",
   "metadata": {},
   "outputs": [
    {
     "data": {
      "text/plain": [
       "((30621, 13), (7656, 13), (30621,), (7656,))"
      ]
     },
     "execution_count": 18,
     "metadata": {},
     "output_type": "execute_result"
    }
   ],
   "source": [
    "X_train, X_test, y_train, y_test = train_test_split(X, y, test_size=0.2, random_state=42)\n",
    "X_train.shape, X_test.shape, y_train.shape, y_test.shape"
   ]
  },
  {
   "cell_type": "markdown",
   "id": "cdff1ded-537b-4fe6-a66d-8dbacf0f2c15",
   "metadata": {
    "tags": []
   },
   "source": [
    "## Baseline model"
   ]
  },
  {
   "cell_type": "markdown",
   "id": "ae14e913-e6dc-46cc-8592-ca22dccb98e4",
   "metadata": {},
   "source": [
    "### Training"
   ]
  },
  {
   "cell_type": "code",
   "execution_count": 19,
   "id": "d8182ac6-d1b1-4642-9da1-aba6f125df18",
   "metadata": {},
   "outputs": [
    {
     "name": "stdout",
     "output_type": "stream",
     "text": [
      "CPU times: user 2.12 s, sys: 15.7 ms, total: 2.13 s\n",
      "Wall time: 2.2 s\n"
     ]
    }
   ],
   "source": [
    "%%time\n",
    "baseline_model = RandomForestRegressor(n_estimators=100,\n",
    "                                       max_depth=4,\n",
    "                                       random_state=0)\n",
    "\n",
    "baseline_model = baseline_model.fit(X_train, y_train)"
   ]
  },
  {
   "cell_type": "markdown",
   "id": "ae25f060-51ec-454d-abaa-1f953aa802d3",
   "metadata": {},
   "source": [
    "### Evaluation"
   ]
  },
  {
   "cell_type": "code",
   "execution_count": 20,
   "id": "7cece1da-771f-4d15-84a9-ffa7d437f0a8",
   "metadata": {},
   "outputs": [],
   "source": [
    "y_pred = baseline_model.predict(X_test)"
   ]
  },
  {
   "cell_type": "code",
   "execution_count": 21,
   "id": "28ef662c-d01a-48a4-83ca-3eb2c5479bc5",
   "metadata": {},
   "outputs": [
    {
     "name": "stdout",
     "output_type": "stream",
     "text": [
      "Mean Absolute Error:  86.9754900267856\n",
      "Mean Squared Error:  112222.06268480151\n",
      "Root Mean Squared Error:  334.9956159187781\n",
      "R-squared:  0.11530375785597957\n"
     ]
    }
   ],
   "source": [
    "mae = mean_absolute_error(y_test, y_pred)\n",
    "mse = mean_squared_error(y_test, y_pred)\n",
    "r2 = r2_score(y_test, y_pred)\n",
    "\n",
    "print(\"Mean Absolute Error: \", mae)\n",
    "print(\"Mean Squared Error: \", mse)\n",
    "print(\"Root Mean Squared Error: \", np.sqrt(mse))\n",
    "print(\"R-squared: \", r2)"
   ]
  },
  {
   "cell_type": "markdown",
   "id": "84f3a19e-562d-4a8d-9964-aaf61be0b9c7",
   "metadata": {},
   "source": [
    "The results that we obtain with the baseline model are quite bad."
   ]
  },
  {
   "cell_type": "markdown",
   "id": "fb0a725d-ac1f-4694-b09a-5fad3ed978c5",
   "metadata": {},
   "source": [
    "## Cross-validation & Grid search - RandomForestRegressor"
   ]
  },
  {
   "cell_type": "code",
   "execution_count": 22,
   "id": "25ff486e-a72b-4074-997c-d136d6a819ca",
   "metadata": {},
   "outputs": [],
   "source": [
    "from sklearn.model_selection import StratifiedKFold, ParameterGrid\n",
    "from tqdm import tqdm"
   ]
  },
  {
   "cell_type": "code",
   "execution_count": 74,
   "id": "e0adf8a8-f9f9-4609-8230-f570663460de",
   "metadata": {},
   "outputs": [],
   "source": [
    "params_GridSearch = {'n_estimators': [100,200,500],\n",
    "                     'max_depth': [2,4,8,14,20],\n",
    "                     'min_samples_leaf': [1,10,50],\n",
    "                     'max_features': [1,2]}"
   ]
  },
  {
   "cell_type": "code",
   "execution_count": 75,
   "id": "4bb4b48b-a612-4a04-9698-47210df6f2ab",
   "metadata": {},
   "outputs": [],
   "source": [
    "def random_forest_cross_val(X, y, params, n_splits=3):\n",
    "    skf = StratifiedKFold(n_splits=n_splits, shuffle=True, random_state=42)\n",
    "    \n",
    "    rmse = []\n",
    "    \n",
    "    for tr_ind, val_ind in skf.split(X, y):\n",
    "        X_tr = X.iloc[tr_ind]\n",
    "        y_tr = y.iloc[tr_ind]\n",
    "        \n",
    "        X_val = X.iloc[val_ind]\n",
    "        y_val = y.iloc[val_ind]\n",
    "        \n",
    "        # print(X_tr.shape, y_tr.shape, X_val.shape, y_val.shape)\n",
    "        \n",
    "        model = RandomForestRegressor(n_estimators=params['n_estimators'],\n",
    "                                      max_depth=params['max_depth'],\n",
    "                                      min_samples_leaf=params['min_samples_leaf'],\n",
    "                                      max_features=params['max_features'],\n",
    "                                      n_jobs=-1, random_state=42)\n",
    "        \n",
    "        model.fit(X_tr, y_tr)        \n",
    "        \n",
    "        y_pred = model.predict(X_val)\n",
    "        \n",
    "        mse = mean_squared_error(y_val, y_pred)\n",
    "        rmse.append( np.sqrt(mse) )\n",
    "        \n",
    "    return sum(rmse) / n_splits"
   ]
  },
  {
   "cell_type": "code",
   "execution_count": 76,
   "id": "c32f8f04-44c8-4c40-8b7f-94da0df9f478",
   "metadata": {},
   "outputs": [],
   "source": [
    "def grid_search_CV(X, y, params_GridSearch):\n",
    "    df_acc_by_params = pd.DataFrame(columns=list(params_GridSearch.keys()) + ['rmse'])\n",
    "        \n",
    "    for prms in tqdm( list(ParameterGrid(params_GridSearch)), ascii=True, desc='Params Tuning:', position=0, leave=True ):\n",
    "                          \n",
    "        rmse = random_forest_cross_val(X, y, prms, n_splits=5)\n",
    "        \n",
    "        data_dic = eval('{'+','.join([f\"'{k}':[prms['{k}']]\" for k in params_GridSearch.keys()])+'}')\n",
    "        data_dic['rmse'] = [rmse]\n",
    "        \n",
    "        df_acc_by_params = pd.concat([df_acc_by_params,\n",
    "                                      pd.DataFrame(data=data_dic)], \n",
    "                                      ignore_index=True)\n",
    "        \n",
    "    return df_acc_by_params"
   ]
  },
  {
   "cell_type": "code",
   "execution_count": 77,
   "id": "50853f33-b398-425c-83f8-fda8badfc5bd",
   "metadata": {
    "scrolled": true,
    "tags": []
   },
   "outputs": [
    {
     "name": "stderr",
     "output_type": "stream",
     "text": [
      "Params Tuning::   0%|                                    | 0/90 [00:00<?, ?it/s]/Users/csr95/opt/anaconda3/envs/intelygenz-project/lib/python3.9/site-packages/sklearn/model_selection/_split.py:684: UserWarning: The least populated class in y has only 1 members, which is less than n_splits=5.\n",
      "  warnings.warn(\n",
      "Params Tuning::   1%|3                           | 1/90 [00:01<01:34,  1.07s/it]/Users/csr95/opt/anaconda3/envs/intelygenz-project/lib/python3.9/site-packages/sklearn/model_selection/_split.py:684: UserWarning: The least populated class in y has only 1 members, which is less than n_splits=5.\n",
      "  warnings.warn(\n",
      "Params Tuning::   2%|6                           | 2/90 [00:03<02:23,  1.63s/it]/Users/csr95/opt/anaconda3/envs/intelygenz-project/lib/python3.9/site-packages/sklearn/model_selection/_split.py:684: UserWarning: The least populated class in y has only 1 members, which is less than n_splits=5.\n",
      "  warnings.warn(\n",
      "Params Tuning::   3%|9                           | 3/90 [00:07<04:16,  2.95s/it]/Users/csr95/opt/anaconda3/envs/intelygenz-project/lib/python3.9/site-packages/sklearn/model_selection/_split.py:684: UserWarning: The least populated class in y has only 1 members, which is less than n_splits=5.\n",
      "  warnings.warn(\n",
      "Params Tuning::   4%|#2                          | 4/90 [00:08<03:07,  2.18s/it]/Users/csr95/opt/anaconda3/envs/intelygenz-project/lib/python3.9/site-packages/sklearn/model_selection/_split.py:684: UserWarning: The least populated class in y has only 1 members, which is less than n_splits=5.\n",
      "  warnings.warn(\n",
      "Params Tuning::   6%|#5                          | 5/90 [00:10<02:59,  2.11s/it]/Users/csr95/opt/anaconda3/envs/intelygenz-project/lib/python3.9/site-packages/sklearn/model_selection/_split.py:684: UserWarning: The least populated class in y has only 1 members, which is less than n_splits=5.\n",
      "  warnings.warn(\n",
      "Params Tuning::   7%|#8                          | 6/90 [00:15<04:07,  2.95s/it]/Users/csr95/opt/anaconda3/envs/intelygenz-project/lib/python3.9/site-packages/sklearn/model_selection/_split.py:684: UserWarning: The least populated class in y has only 1 members, which is less than n_splits=5.\n",
      "  warnings.warn(\n",
      "Params Tuning::   8%|##1                         | 7/90 [00:16<03:11,  2.31s/it]/Users/csr95/opt/anaconda3/envs/intelygenz-project/lib/python3.9/site-packages/sklearn/model_selection/_split.py:684: UserWarning: The least populated class in y has only 1 members, which is less than n_splits=5.\n",
      "  warnings.warn(\n",
      "Params Tuning::   9%|##4                         | 8/90 [00:17<02:56,  2.15s/it]/Users/csr95/opt/anaconda3/envs/intelygenz-project/lib/python3.9/site-packages/sklearn/model_selection/_split.py:684: UserWarning: The least populated class in y has only 1 members, which is less than n_splits=5.\n",
      "  warnings.warn(\n",
      "Params Tuning::  10%|##8                         | 9/90 [00:22<03:51,  2.86s/it]/Users/csr95/opt/anaconda3/envs/intelygenz-project/lib/python3.9/site-packages/sklearn/model_selection/_split.py:684: UserWarning: The least populated class in y has only 1 members, which is less than n_splits=5.\n",
      "  warnings.warn(\n",
      "Params Tuning::  11%|###                        | 10/90 [00:23<03:04,  2.31s/it]/Users/csr95/opt/anaconda3/envs/intelygenz-project/lib/python3.9/site-packages/sklearn/model_selection/_split.py:684: UserWarning: The least populated class in y has only 1 members, which is less than n_splits=5.\n",
      "  warnings.warn(\n",
      "Params Tuning::  12%|###3                       | 11/90 [00:25<02:55,  2.22s/it]/Users/csr95/opt/anaconda3/envs/intelygenz-project/lib/python3.9/site-packages/sklearn/model_selection/_split.py:684: UserWarning: The least populated class in y has only 1 members, which is less than n_splits=5.\n",
      "  warnings.warn(\n",
      "Params Tuning::  13%|###6                       | 12/90 [00:30<03:54,  3.01s/it]/Users/csr95/opt/anaconda3/envs/intelygenz-project/lib/python3.9/site-packages/sklearn/model_selection/_split.py:684: UserWarning: The least populated class in y has only 1 members, which is less than n_splits=5.\n",
      "  warnings.warn(\n",
      "Params Tuning::  14%|###8                       | 13/90 [00:31<03:06,  2.43s/it]/Users/csr95/opt/anaconda3/envs/intelygenz-project/lib/python3.9/site-packages/sklearn/model_selection/_split.py:684: UserWarning: The least populated class in y has only 1 members, which is less than n_splits=5.\n",
      "  warnings.warn(\n",
      "Params Tuning::  16%|####2                      | 14/90 [00:33<03:07,  2.47s/it]/Users/csr95/opt/anaconda3/envs/intelygenz-project/lib/python3.9/site-packages/sklearn/model_selection/_split.py:684: UserWarning: The least populated class in y has only 1 members, which is less than n_splits=5.\n",
      "  warnings.warn(\n",
      "Params Tuning::  17%|####5                      | 15/90 [00:38<03:58,  3.17s/it]/Users/csr95/opt/anaconda3/envs/intelygenz-project/lib/python3.9/site-packages/sklearn/model_selection/_split.py:684: UserWarning: The least populated class in y has only 1 members, which is less than n_splits=5.\n",
      "  warnings.warn(\n",
      "Params Tuning::  18%|####8                      | 16/90 [00:39<03:08,  2.54s/it]/Users/csr95/opt/anaconda3/envs/intelygenz-project/lib/python3.9/site-packages/sklearn/model_selection/_split.py:684: UserWarning: The least populated class in y has only 1 members, which is less than n_splits=5.\n",
      "  warnings.warn(\n",
      "Params Tuning::  19%|#####1                     | 17/90 [00:41<02:53,  2.38s/it]/Users/csr95/opt/anaconda3/envs/intelygenz-project/lib/python3.9/site-packages/sklearn/model_selection/_split.py:684: UserWarning: The least populated class in y has only 1 members, which is less than n_splits=5.\n",
      "  warnings.warn(\n",
      "Params Tuning::  20%|#####4                     | 18/90 [00:46<03:43,  3.11s/it]/Users/csr95/opt/anaconda3/envs/intelygenz-project/lib/python3.9/site-packages/sklearn/model_selection/_split.py:684: UserWarning: The least populated class in y has only 1 members, which is less than n_splits=5.\n",
      "  warnings.warn(\n",
      "Params Tuning::  21%|#####7                     | 19/90 [00:47<03:00,  2.54s/it]/Users/csr95/opt/anaconda3/envs/intelygenz-project/lib/python3.9/site-packages/sklearn/model_selection/_split.py:684: UserWarning: The least populated class in y has only 1 members, which is less than n_splits=5.\n",
      "  warnings.warn(\n",
      "Params Tuning::  22%|######                     | 20/90 [00:50<02:52,  2.47s/it]/Users/csr95/opt/anaconda3/envs/intelygenz-project/lib/python3.9/site-packages/sklearn/model_selection/_split.py:684: UserWarning: The least populated class in y has only 1 members, which is less than n_splits=5.\n",
      "  warnings.warn(\n",
      "Params Tuning::  23%|######3                    | 21/90 [00:55<03:59,  3.46s/it]/Users/csr95/opt/anaconda3/envs/intelygenz-project/lib/python3.9/site-packages/sklearn/model_selection/_split.py:684: UserWarning: The least populated class in y has only 1 members, which is less than n_splits=5.\n",
      "  warnings.warn(\n",
      "Params Tuning::  24%|######6                    | 22/90 [00:57<03:09,  2.79s/it]/Users/csr95/opt/anaconda3/envs/intelygenz-project/lib/python3.9/site-packages/sklearn/model_selection/_split.py:684: UserWarning: The least populated class in y has only 1 members, which is less than n_splits=5.\n",
      "  warnings.warn(\n",
      "Params Tuning::  26%|######9                    | 23/90 [00:59<02:57,  2.65s/it]/Users/csr95/opt/anaconda3/envs/intelygenz-project/lib/python3.9/site-packages/sklearn/model_selection/_split.py:684: UserWarning: The least populated class in y has only 1 members, which is less than n_splits=5.\n",
      "  warnings.warn(\n",
      "Params Tuning::  27%|#######2                   | 24/90 [01:06<04:25,  4.02s/it]/Users/csr95/opt/anaconda3/envs/intelygenz-project/lib/python3.9/site-packages/sklearn/model_selection/_split.py:684: UserWarning: The least populated class in y has only 1 members, which is less than n_splits=5.\n",
      "  warnings.warn(\n",
      "Params Tuning::  28%|#######5                   | 25/90 [01:07<03:26,  3.18s/it]/Users/csr95/opt/anaconda3/envs/intelygenz-project/lib/python3.9/site-packages/sklearn/model_selection/_split.py:684: UserWarning: The least populated class in y has only 1 members, which is less than n_splits=5.\n",
      "  warnings.warn(\n",
      "Params Tuning::  29%|#######7                   | 26/90 [01:10<03:07,  2.93s/it]/Users/csr95/opt/anaconda3/envs/intelygenz-project/lib/python3.9/site-packages/sklearn/model_selection/_split.py:684: UserWarning: The least populated class in y has only 1 members, which is less than n_splits=5.\n",
      "  warnings.warn(\n",
      "Params Tuning::  30%|########1                  | 27/90 [01:16<03:59,  3.80s/it]/Users/csr95/opt/anaconda3/envs/intelygenz-project/lib/python3.9/site-packages/sklearn/model_selection/_split.py:684: UserWarning: The least populated class in y has only 1 members, which is less than n_splits=5.\n",
      "  warnings.warn(\n",
      "Params Tuning::  31%|########4                  | 28/90 [01:17<03:12,  3.11s/it]/Users/csr95/opt/anaconda3/envs/intelygenz-project/lib/python3.9/site-packages/sklearn/model_selection/_split.py:684: UserWarning: The least populated class in y has only 1 members, which is less than n_splits=5.\n",
      "  warnings.warn(\n",
      "Params Tuning::  32%|########7                  | 29/90 [01:20<03:04,  3.03s/it]/Users/csr95/opt/anaconda3/envs/intelygenz-project/lib/python3.9/site-packages/sklearn/model_selection/_split.py:684: UserWarning: The least populated class in y has only 1 members, which is less than n_splits=5.\n",
      "  warnings.warn(\n",
      "Params Tuning::  33%|#########                  | 30/90 [01:27<04:10,  4.17s/it]/Users/csr95/opt/anaconda3/envs/intelygenz-project/lib/python3.9/site-packages/sklearn/model_selection/_split.py:684: UserWarning: The least populated class in y has only 1 members, which is less than n_splits=5.\n",
      "  warnings.warn(\n",
      "Params Tuning::  34%|#########3                 | 31/90 [01:28<03:18,  3.36s/it]/Users/csr95/opt/anaconda3/envs/intelygenz-project/lib/python3.9/site-packages/sklearn/model_selection/_split.py:684: UserWarning: The least populated class in y has only 1 members, which is less than n_splits=5.\n",
      "  warnings.warn(\n",
      "Params Tuning::  36%|#########6                 | 32/90 [01:31<03:05,  3.20s/it]/Users/csr95/opt/anaconda3/envs/intelygenz-project/lib/python3.9/site-packages/sklearn/model_selection/_split.py:684: UserWarning: The least populated class in y has only 1 members, which is less than n_splits=5.\n",
      "  warnings.warn(\n",
      "Params Tuning::  37%|#########8                 | 33/90 [01:38<04:04,  4.29s/it]/Users/csr95/opt/anaconda3/envs/intelygenz-project/lib/python3.9/site-packages/sklearn/model_selection/_split.py:684: UserWarning: The least populated class in y has only 1 members, which is less than n_splits=5.\n",
      "  warnings.warn(\n",
      "Params Tuning::  38%|##########2                | 34/90 [01:39<03:13,  3.45s/it]/Users/csr95/opt/anaconda3/envs/intelygenz-project/lib/python3.9/site-packages/sklearn/model_selection/_split.py:684: UserWarning: The least populated class in y has only 1 members, which is less than n_splits=5.\n",
      "  warnings.warn(\n",
      "Params Tuning::  39%|##########5                | 35/90 [01:42<02:59,  3.26s/it]/Users/csr95/opt/anaconda3/envs/intelygenz-project/lib/python3.9/site-packages/sklearn/model_selection/_split.py:684: UserWarning: The least populated class in y has only 1 members, which is less than n_splits=5.\n",
      "  warnings.warn(\n",
      "Params Tuning::  40%|##########8                | 36/90 [01:49<03:53,  4.32s/it]/Users/csr95/opt/anaconda3/envs/intelygenz-project/lib/python3.9/site-packages/sklearn/model_selection/_split.py:684: UserWarning: The least populated class in y has only 1 members, which is less than n_splits=5.\n",
      "  warnings.warn(\n",
      "Params Tuning::  41%|###########1               | 37/90 [01:51<03:09,  3.57s/it]/Users/csr95/opt/anaconda3/envs/intelygenz-project/lib/python3.9/site-packages/sklearn/model_selection/_split.py:684: UserWarning: The least populated class in y has only 1 members, which is less than n_splits=5.\n",
      "  warnings.warn(\n",
      "Params Tuning::  42%|###########4               | 38/90 [01:54<03:04,  3.55s/it]/Users/csr95/opt/anaconda3/envs/intelygenz-project/lib/python3.9/site-packages/sklearn/model_selection/_split.py:684: UserWarning: The least populated class in y has only 1 members, which is less than n_splits=5.\n",
      "  warnings.warn(\n",
      "Params Tuning::  43%|###########7               | 39/90 [02:03<04:16,  5.04s/it]/Users/csr95/opt/anaconda3/envs/intelygenz-project/lib/python3.9/site-packages/sklearn/model_selection/_split.py:684: UserWarning: The least populated class in y has only 1 members, which is less than n_splits=5.\n",
      "  warnings.warn(\n",
      "Params Tuning::  44%|############               | 40/90 [02:05<03:22,  4.05s/it]/Users/csr95/opt/anaconda3/envs/intelygenz-project/lib/python3.9/site-packages/sklearn/model_selection/_split.py:684: UserWarning: The least populated class in y has only 1 members, which is less than n_splits=5.\n",
      "  warnings.warn(\n",
      "Params Tuning::  46%|############2              | 41/90 [02:08<03:06,  3.82s/it]/Users/csr95/opt/anaconda3/envs/intelygenz-project/lib/python3.9/site-packages/sklearn/model_selection/_split.py:684: UserWarning: The least populated class in y has only 1 members, which is less than n_splits=5.\n",
      "  warnings.warn(\n",
      "Params Tuning::  47%|############6              | 42/90 [02:16<04:06,  5.14s/it]/Users/csr95/opt/anaconda3/envs/intelygenz-project/lib/python3.9/site-packages/sklearn/model_selection/_split.py:684: UserWarning: The least populated class in y has only 1 members, which is less than n_splits=5.\n",
      "  warnings.warn(\n",
      "Params Tuning::  48%|############9              | 43/90 [02:18<03:11,  4.08s/it]/Users/csr95/opt/anaconda3/envs/intelygenz-project/lib/python3.9/site-packages/sklearn/model_selection/_split.py:684: UserWarning: The least populated class in y has only 1 members, which is less than n_splits=5.\n",
      "  warnings.warn(\n",
      "Params Tuning::  49%|#############2             | 44/90 [02:22<03:14,  4.23s/it]/Users/csr95/opt/anaconda3/envs/intelygenz-project/lib/python3.9/site-packages/sklearn/model_selection/_split.py:684: UserWarning: The least populated class in y has only 1 members, which is less than n_splits=5.\n",
      "  warnings.warn(\n",
      "Params Tuning::  50%|#############5             | 45/90 [02:30<03:54,  5.22s/it]/Users/csr95/opt/anaconda3/envs/intelygenz-project/lib/python3.9/site-packages/sklearn/model_selection/_split.py:684: UserWarning: The least populated class in y has only 1 members, which is less than n_splits=5.\n",
      "  warnings.warn(\n",
      "Params Tuning::  51%|#############8             | 46/90 [02:32<03:10,  4.34s/it]/Users/csr95/opt/anaconda3/envs/intelygenz-project/lib/python3.9/site-packages/sklearn/model_selection/_split.py:684: UserWarning: The least populated class in y has only 1 members, which is less than n_splits=5.\n",
      "  warnings.warn(\n",
      "Params Tuning::  52%|##############1            | 47/90 [02:36<03:05,  4.32s/it]/Users/csr95/opt/anaconda3/envs/intelygenz-project/lib/python3.9/site-packages/sklearn/model_selection/_split.py:684: UserWarning: The least populated class in y has only 1 members, which is less than n_splits=5.\n",
      "  warnings.warn(\n",
      "Params Tuning::  53%|##############4            | 48/90 [02:47<04:19,  6.19s/it]/Users/csr95/opt/anaconda3/envs/intelygenz-project/lib/python3.9/site-packages/sklearn/model_selection/_split.py:684: UserWarning: The least populated class in y has only 1 members, which is less than n_splits=5.\n",
      "  warnings.warn(\n",
      "Params Tuning::  54%|##############7            | 49/90 [02:49<03:23,  4.97s/it]/Users/csr95/opt/anaconda3/envs/intelygenz-project/lib/python3.9/site-packages/sklearn/model_selection/_split.py:684: UserWarning: The least populated class in y has only 1 members, which is less than n_splits=5.\n",
      "  warnings.warn(\n",
      "Params Tuning::  56%|###############            | 50/90 [02:53<03:10,  4.76s/it]/Users/csr95/opt/anaconda3/envs/intelygenz-project/lib/python3.9/site-packages/sklearn/model_selection/_split.py:684: UserWarning: The least populated class in y has only 1 members, which is less than n_splits=5.\n",
      "  warnings.warn(\n",
      "Params Tuning::  57%|###############3           | 51/90 [03:04<04:10,  6.44s/it]/Users/csr95/opt/anaconda3/envs/intelygenz-project/lib/python3.9/site-packages/sklearn/model_selection/_split.py:684: UserWarning: The least populated class in y has only 1 members, which is less than n_splits=5.\n",
      "  warnings.warn(\n",
      "Params Tuning::  58%|###############5           | 52/90 [03:06<03:14,  5.11s/it]/Users/csr95/opt/anaconda3/envs/intelygenz-project/lib/python3.9/site-packages/sklearn/model_selection/_split.py:684: UserWarning: The least populated class in y has only 1 members, which is less than n_splits=5.\n",
      "  warnings.warn(\n",
      "Params Tuning::  59%|###############9           | 53/90 [03:10<02:57,  4.79s/it]/Users/csr95/opt/anaconda3/envs/intelygenz-project/lib/python3.9/site-packages/sklearn/model_selection/_split.py:684: UserWarning: The least populated class in y has only 1 members, which is less than n_splits=5.\n",
      "  warnings.warn(\n",
      "Params Tuning::  60%|################2          | 54/90 [03:19<03:45,  6.27s/it]/Users/csr95/opt/anaconda3/envs/intelygenz-project/lib/python3.9/site-packages/sklearn/model_selection/_split.py:684: UserWarning: The least populated class in y has only 1 members, which is less than n_splits=5.\n",
      "  warnings.warn(\n",
      "Params Tuning::  61%|################5          | 55/90 [03:24<03:21,  5.76s/it]/Users/csr95/opt/anaconda3/envs/intelygenz-project/lib/python3.9/site-packages/sklearn/model_selection/_split.py:684: UserWarning: The least populated class in y has only 1 members, which is less than n_splits=5.\n",
      "  warnings.warn(\n",
      "Params Tuning::  62%|################8          | 56/90 [03:30<03:18,  5.83s/it]/Users/csr95/opt/anaconda3/envs/intelygenz-project/lib/python3.9/site-packages/sklearn/model_selection/_split.py:684: UserWarning: The least populated class in y has only 1 members, which is less than n_splits=5.\n",
      "  warnings.warn(\n",
      "Params Tuning::  63%|#################          | 57/90 [03:45<04:42,  8.57s/it]/Users/csr95/opt/anaconda3/envs/intelygenz-project/lib/python3.9/site-packages/sklearn/model_selection/_split.py:684: UserWarning: The least populated class in y has only 1 members, which is less than n_splits=5.\n",
      "  warnings.warn(\n",
      "Params Tuning::  64%|#################4         | 58/90 [03:47<03:33,  6.69s/it]/Users/csr95/opt/anaconda3/envs/intelygenz-project/lib/python3.9/site-packages/sklearn/model_selection/_split.py:684: UserWarning: The least populated class in y has only 1 members, which is less than n_splits=5.\n",
      "  warnings.warn(\n",
      "Params Tuning::  66%|#################7         | 59/90 [03:52<03:06,  6.02s/it]/Users/csr95/opt/anaconda3/envs/intelygenz-project/lib/python3.9/site-packages/sklearn/model_selection/_split.py:684: UserWarning: The least populated class in y has only 1 members, which is less than n_splits=5.\n",
      "  warnings.warn(\n",
      "Params Tuning::  67%|##################         | 60/90 [04:03<03:45,  7.51s/it]/Users/csr95/opt/anaconda3/envs/intelygenz-project/lib/python3.9/site-packages/sklearn/model_selection/_split.py:684: UserWarning: The least populated class in y has only 1 members, which is less than n_splits=5.\n",
      "  warnings.warn(\n",
      "Params Tuning::  68%|##################3        | 61/90 [04:07<03:08,  6.51s/it]/Users/csr95/opt/anaconda3/envs/intelygenz-project/lib/python3.9/site-packages/sklearn/model_selection/_split.py:684: UserWarning: The least populated class in y has only 1 members, which is less than n_splits=5.\n",
      "  warnings.warn(\n",
      "Params Tuning::  69%|##################6        | 62/90 [04:11<02:40,  5.75s/it]/Users/csr95/opt/anaconda3/envs/intelygenz-project/lib/python3.9/site-packages/sklearn/model_selection/_split.py:684: UserWarning: The least populated class in y has only 1 members, which is less than n_splits=5.\n",
      "  warnings.warn(\n",
      "Params Tuning::  70%|##################9        | 63/90 [04:21<03:07,  6.94s/it]/Users/csr95/opt/anaconda3/envs/intelygenz-project/lib/python3.9/site-packages/sklearn/model_selection/_split.py:684: UserWarning: The least populated class in y has only 1 members, which is less than n_splits=5.\n",
      "  warnings.warn(\n",
      "Params Tuning::  71%|###################2       | 64/90 [04:24<02:35,  5.98s/it]/Users/csr95/opt/anaconda3/envs/intelygenz-project/lib/python3.9/site-packages/sklearn/model_selection/_split.py:684: UserWarning: The least populated class in y has only 1 members, which is less than n_splits=5.\n",
      "  warnings.warn(\n",
      "Params Tuning::  72%|###################5       | 65/90 [04:31<02:36,  6.26s/it]/Users/csr95/opt/anaconda3/envs/intelygenz-project/lib/python3.9/site-packages/sklearn/model_selection/_split.py:684: UserWarning: The least populated class in y has only 1 members, which is less than n_splits=5.\n",
      "  warnings.warn(\n",
      "Params Tuning::  73%|###################7       | 66/90 [04:48<03:47,  9.49s/it]/Users/csr95/opt/anaconda3/envs/intelygenz-project/lib/python3.9/site-packages/sklearn/model_selection/_split.py:684: UserWarning: The least populated class in y has only 1 members, which is less than n_splits=5.\n",
      "  warnings.warn(\n",
      "Params Tuning::  74%|####################1      | 67/90 [04:51<02:52,  7.48s/it]/Users/csr95/opt/anaconda3/envs/intelygenz-project/lib/python3.9/site-packages/sklearn/model_selection/_split.py:684: UserWarning: The least populated class in y has only 1 members, which is less than n_splits=5.\n",
      "  warnings.warn(\n",
      "Params Tuning::  76%|####################4      | 68/90 [04:57<02:31,  6.91s/it]/Users/csr95/opt/anaconda3/envs/intelygenz-project/lib/python3.9/site-packages/sklearn/model_selection/_split.py:684: UserWarning: The least populated class in y has only 1 members, which is less than n_splits=5.\n",
      "  warnings.warn(\n",
      "Params Tuning::  77%|####################7      | 69/90 [05:12<03:16,  9.37s/it]/Users/csr95/opt/anaconda3/envs/intelygenz-project/lib/python3.9/site-packages/sklearn/model_selection/_split.py:684: UserWarning: The least populated class in y has only 1 members, which is less than n_splits=5.\n",
      "  warnings.warn(\n",
      "Params Tuning::  78%|#####################      | 70/90 [05:14<02:25,  7.26s/it]/Users/csr95/opt/anaconda3/envs/intelygenz-project/lib/python3.9/site-packages/sklearn/model_selection/_split.py:684: UserWarning: The least populated class in y has only 1 members, which is less than n_splits=5.\n",
      "  warnings.warn(\n",
      "Params Tuning::  79%|#####################3     | 71/90 [05:19<02:02,  6.47s/it]/Users/csr95/opt/anaconda3/envs/intelygenz-project/lib/python3.9/site-packages/sklearn/model_selection/_split.py:684: UserWarning: The least populated class in y has only 1 members, which is less than n_splits=5.\n",
      "  warnings.warn(\n",
      "Params Tuning::  80%|#####################6     | 72/90 [05:30<02:23,  7.99s/it]/Users/csr95/opt/anaconda3/envs/intelygenz-project/lib/python3.9/site-packages/sklearn/model_selection/_split.py:684: UserWarning: The least populated class in y has only 1 members, which is less than n_splits=5.\n",
      "  warnings.warn(\n",
      "Params Tuning::  81%|#####################9     | 73/90 [05:35<01:59,  7.01s/it]/Users/csr95/opt/anaconda3/envs/intelygenz-project/lib/python3.9/site-packages/sklearn/model_selection/_split.py:684: UserWarning: The least populated class in y has only 1 members, which is less than n_splits=5.\n",
      "  warnings.warn(\n",
      "Params Tuning::  82%|######################2    | 74/90 [05:44<02:02,  7.68s/it]/Users/csr95/opt/anaconda3/envs/intelygenz-project/lib/python3.9/site-packages/sklearn/model_selection/_split.py:684: UserWarning: The least populated class in y has only 1 members, which is less than n_splits=5.\n",
      "  warnings.warn(\n",
      "Params Tuning::  83%|######################5    | 75/90 [06:12<03:27, 13.80s/it]/Users/csr95/opt/anaconda3/envs/intelygenz-project/lib/python3.9/site-packages/sklearn/model_selection/_split.py:684: UserWarning: The least populated class in y has only 1 members, which is less than n_splits=5.\n",
      "  warnings.warn(\n",
      "Params Tuning::  84%|######################8    | 76/90 [06:15<02:26, 10.49s/it]/Users/csr95/opt/anaconda3/envs/intelygenz-project/lib/python3.9/site-packages/sklearn/model_selection/_split.py:684: UserWarning: The least populated class in y has only 1 members, which is less than n_splits=5.\n",
      "  warnings.warn(\n",
      "Params Tuning::  86%|#######################    | 77/90 [06:20<01:54,  8.81s/it]/Users/csr95/opt/anaconda3/envs/intelygenz-project/lib/python3.9/site-packages/sklearn/model_selection/_split.py:684: UserWarning: The least populated class in y has only 1 members, which is less than n_splits=5.\n",
      "  warnings.warn(\n",
      "Params Tuning::  87%|#######################4   | 78/90 [06:32<01:59,  9.93s/it]/Users/csr95/opt/anaconda3/envs/intelygenz-project/lib/python3.9/site-packages/sklearn/model_selection/_split.py:684: UserWarning: The least populated class in y has only 1 members, which is less than n_splits=5.\n",
      "  warnings.warn(\n",
      "Params Tuning::  88%|#######################7   | 79/90 [06:34<01:22,  7.49s/it]/Users/csr95/opt/anaconda3/envs/intelygenz-project/lib/python3.9/site-packages/sklearn/model_selection/_split.py:684: UserWarning: The least populated class in y has only 1 members, which is less than n_splits=5.\n",
      "  warnings.warn(\n",
      "Params Tuning::  89%|########################   | 80/90 [06:38<01:02,  6.28s/it]/Users/csr95/opt/anaconda3/envs/intelygenz-project/lib/python3.9/site-packages/sklearn/model_selection/_split.py:684: UserWarning: The least populated class in y has only 1 members, which is less than n_splits=5.\n",
      "  warnings.warn(\n",
      "Params Tuning::  90%|########################3  | 81/90 [06:49<01:11,  7.90s/it]/Users/csr95/opt/anaconda3/envs/intelygenz-project/lib/python3.9/site-packages/sklearn/model_selection/_split.py:684: UserWarning: The least populated class in y has only 1 members, which is less than n_splits=5.\n",
      "  warnings.warn(\n",
      "Params Tuning::  91%|########################5  | 82/90 [06:56<00:59,  7.50s/it]/Users/csr95/opt/anaconda3/envs/intelygenz-project/lib/python3.9/site-packages/sklearn/model_selection/_split.py:684: UserWarning: The least populated class in y has only 1 members, which is less than n_splits=5.\n",
      "  warnings.warn(\n",
      "Params Tuning::  92%|########################9  | 83/90 [07:07<01:00,  8.60s/it]/Users/csr95/opt/anaconda3/envs/intelygenz-project/lib/python3.9/site-packages/sklearn/model_selection/_split.py:684: UserWarning: The least populated class in y has only 1 members, which is less than n_splits=5.\n",
      "  warnings.warn(\n",
      "Params Tuning::  93%|#########################2 | 84/90 [07:36<01:28, 14.78s/it]/Users/csr95/opt/anaconda3/envs/intelygenz-project/lib/python3.9/site-packages/sklearn/model_selection/_split.py:684: UserWarning: The least populated class in y has only 1 members, which is less than n_splits=5.\n",
      "  warnings.warn(\n",
      "Params Tuning::  94%|#########################5 | 85/90 [07:40<00:57, 11.52s/it]/Users/csr95/opt/anaconda3/envs/intelygenz-project/lib/python3.9/site-packages/sklearn/model_selection/_split.py:684: UserWarning: The least populated class in y has only 1 members, which is less than n_splits=5.\n",
      "  warnings.warn(\n",
      "Params Tuning::  96%|#########################8 | 86/90 [07:48<00:41, 10.27s/it]/Users/csr95/opt/anaconda3/envs/intelygenz-project/lib/python3.9/site-packages/sklearn/model_selection/_split.py:684: UserWarning: The least populated class in y has only 1 members, which is less than n_splits=5.\n",
      "  warnings.warn(\n",
      "Params Tuning::  97%|##########################1| 87/90 [08:03<00:35, 11.73s/it]/Users/csr95/opt/anaconda3/envs/intelygenz-project/lib/python3.9/site-packages/sklearn/model_selection/_split.py:684: UserWarning: The least populated class in y has only 1 members, which is less than n_splits=5.\n",
      "  warnings.warn(\n",
      "Params Tuning::  98%|##########################4| 88/90 [08:05<00:17,  8.99s/it]/Users/csr95/opt/anaconda3/envs/intelygenz-project/lib/python3.9/site-packages/sklearn/model_selection/_split.py:684: UserWarning: The least populated class in y has only 1 members, which is less than n_splits=5.\n",
      "  warnings.warn(\n",
      "Params Tuning::  99%|##########################7| 89/90 [08:10<00:07,  7.82s/it]/Users/csr95/opt/anaconda3/envs/intelygenz-project/lib/python3.9/site-packages/sklearn/model_selection/_split.py:684: UserWarning: The least populated class in y has only 1 members, which is less than n_splits=5.\n",
      "  warnings.warn(\n",
      "Params Tuning:: 100%|###########################| 90/90 [08:21<00:00,  5.58s/it]\n"
     ]
    }
   ],
   "source": [
    "df_rmse_by_params = grid_search_CV(X, y, params_GridSearch)"
   ]
  },
  {
   "cell_type": "code",
   "execution_count": 78,
   "id": "ae9d20cf-0edc-487c-aad4-67035d60e6cf",
   "metadata": {
    "scrolled": true,
    "tags": []
   },
   "outputs": [
    {
     "data": {
      "text/plain": [
       "n_estimators         object\n",
       "max_depth            object\n",
       "min_samples_leaf     object\n",
       "max_features         object\n",
       "rmse                float64\n",
       "dtype: object"
      ]
     },
     "execution_count": 78,
     "metadata": {},
     "output_type": "execute_result"
    }
   ],
   "source": [
    "df_rmse_by_params.dtypes"
   ]
  },
  {
   "cell_type": "code",
   "execution_count": 80,
   "id": "fea1160a-f594-4fdc-8f0a-0126eb1d4454",
   "metadata": {},
   "outputs": [],
   "source": [
    "df_rmse_by_params['n_estimators'] = df_rmse_by_params.n_estimators.astype(int)\n",
    "df_rmse_by_params['max_depth'] = df_rmse_by_params.max_depth.astype(int)\n",
    "df_rmse_by_params['min_samples_leaf'] = df_rmse_by_params.min_samples_leaf.astype(int)\n",
    "df_rmse_by_params['max_features'] = df_rmse_by_params.max_features.astype(int)"
   ]
  },
  {
   "cell_type": "code",
   "execution_count": 81,
   "id": "a1f1059d-4897-49b4-993a-8f60cb903a7a",
   "metadata": {},
   "outputs": [
    {
     "data": {
      "text/html": [
       "<div>\n",
       "<style scoped>\n",
       "    .dataframe tbody tr th:only-of-type {\n",
       "        vertical-align: middle;\n",
       "    }\n",
       "\n",
       "    .dataframe tbody tr th {\n",
       "        vertical-align: top;\n",
       "    }\n",
       "\n",
       "    .dataframe thead th {\n",
       "        text-align: right;\n",
       "    }\n",
       "</style>\n",
       "<table border=\"1\" class=\"dataframe\">\n",
       "  <thead>\n",
       "    <tr style=\"text-align: right;\">\n",
       "      <th></th>\n",
       "      <th>n_estimators</th>\n",
       "      <th>max_depth</th>\n",
       "      <th>min_samples_leaf</th>\n",
       "      <th>max_features</th>\n",
       "      <th>rmse</th>\n",
       "    </tr>\n",
       "  </thead>\n",
       "  <tbody>\n",
       "    <tr>\n",
       "      <th>0</th>\n",
       "      <td>100</td>\n",
       "      <td>2</td>\n",
       "      <td>1</td>\n",
       "      <td>1</td>\n",
       "      <td>294.576443</td>\n",
       "    </tr>\n",
       "    <tr>\n",
       "      <th>1</th>\n",
       "      <td>200</td>\n",
       "      <td>2</td>\n",
       "      <td>1</td>\n",
       "      <td>1</td>\n",
       "      <td>294.925897</td>\n",
       "    </tr>\n",
       "    <tr>\n",
       "      <th>2</th>\n",
       "      <td>500</td>\n",
       "      <td>2</td>\n",
       "      <td>1</td>\n",
       "      <td>1</td>\n",
       "      <td>294.958765</td>\n",
       "    </tr>\n",
       "    <tr>\n",
       "      <th>3</th>\n",
       "      <td>100</td>\n",
       "      <td>2</td>\n",
       "      <td>10</td>\n",
       "      <td>1</td>\n",
       "      <td>294.574529</td>\n",
       "    </tr>\n",
       "    <tr>\n",
       "      <th>4</th>\n",
       "      <td>200</td>\n",
       "      <td>2</td>\n",
       "      <td>10</td>\n",
       "      <td>1</td>\n",
       "      <td>294.925632</td>\n",
       "    </tr>\n",
       "  </tbody>\n",
       "</table>\n",
       "</div>"
      ],
      "text/plain": [
       "   n_estimators  max_depth  min_samples_leaf  max_features        rmse\n",
       "0           100          2                 1             1  294.576443\n",
       "1           200          2                 1             1  294.925897\n",
       "2           500          2                 1             1  294.958765\n",
       "3           100          2                10             1  294.574529\n",
       "4           200          2                10             1  294.925632"
      ]
     },
     "execution_count": 81,
     "metadata": {},
     "output_type": "execute_result"
    }
   ],
   "source": [
    "df_rmse_by_params.head()"
   ]
  },
  {
   "cell_type": "code",
   "execution_count": 83,
   "id": "4e3f49a3-4042-44c3-94ce-70ba93714fe3",
   "metadata": {},
   "outputs": [
    {
     "data": {
      "text/plain": [
       "n_estimators        0.003146\n",
       "max_depth          -0.805514\n",
       "min_samples_leaf    0.237544\n",
       "max_features       -0.180496\n",
       "rmse                1.000000\n",
       "Name: rmse, dtype: float64"
      ]
     },
     "execution_count": 83,
     "metadata": {},
     "output_type": "execute_result"
    }
   ],
   "source": [
    "df_rmse_by_params.corr()['rmse']"
   ]
  },
  {
   "cell_type": "code",
   "execution_count": 86,
   "id": "13afc9a9-52d2-473a-9973-eb09ee7686b0",
   "metadata": {},
   "outputs": [
    {
     "data": {
      "text/html": [
       "<div>\n",
       "<style scoped>\n",
       "    .dataframe tbody tr th:only-of-type {\n",
       "        vertical-align: middle;\n",
       "    }\n",
       "\n",
       "    .dataframe tbody tr th {\n",
       "        vertical-align: top;\n",
       "    }\n",
       "\n",
       "    .dataframe thead th {\n",
       "        text-align: right;\n",
       "    }\n",
       "</style>\n",
       "<table border=\"1\" class=\"dataframe\">\n",
       "  <thead>\n",
       "    <tr style=\"text-align: right;\">\n",
       "      <th></th>\n",
       "      <th>n_estimators</th>\n",
       "      <th>max_depth</th>\n",
       "      <th>min_samples_leaf</th>\n",
       "      <th>max_features</th>\n",
       "      <th>rmse</th>\n",
       "    </tr>\n",
       "  </thead>\n",
       "  <tbody>\n",
       "    <tr>\n",
       "      <th>72</th>\n",
       "      <td>100</td>\n",
       "      <td>20</td>\n",
       "      <td>1</td>\n",
       "      <td>1</td>\n",
       "      <td>270.508491</td>\n",
       "    </tr>\n",
       "    <tr>\n",
       "      <th>64</th>\n",
       "      <td>200</td>\n",
       "      <td>14</td>\n",
       "      <td>1</td>\n",
       "      <td>2</td>\n",
       "      <td>270.608165</td>\n",
       "    </tr>\n",
       "    <tr>\n",
       "      <th>83</th>\n",
       "      <td>500</td>\n",
       "      <td>20</td>\n",
       "      <td>1</td>\n",
       "      <td>2</td>\n",
       "      <td>270.621256</td>\n",
       "    </tr>\n",
       "    <tr>\n",
       "      <th>74</th>\n",
       "      <td>500</td>\n",
       "      <td>20</td>\n",
       "      <td>1</td>\n",
       "      <td>1</td>\n",
       "      <td>270.780135</td>\n",
       "    </tr>\n",
       "    <tr>\n",
       "      <th>65</th>\n",
       "      <td>500</td>\n",
       "      <td>14</td>\n",
       "      <td>1</td>\n",
       "      <td>2</td>\n",
       "      <td>270.904166</td>\n",
       "    </tr>\n",
       "    <tr>\n",
       "      <th>73</th>\n",
       "      <td>200</td>\n",
       "      <td>20</td>\n",
       "      <td>1</td>\n",
       "      <td>1</td>\n",
       "      <td>271.083283</td>\n",
       "    </tr>\n",
       "    <tr>\n",
       "      <th>56</th>\n",
       "      <td>500</td>\n",
       "      <td>14</td>\n",
       "      <td>1</td>\n",
       "      <td>1</td>\n",
       "      <td>271.144579</td>\n",
       "    </tr>\n",
       "    <tr>\n",
       "      <th>63</th>\n",
       "      <td>100</td>\n",
       "      <td>14</td>\n",
       "      <td>1</td>\n",
       "      <td>2</td>\n",
       "      <td>271.157648</td>\n",
       "    </tr>\n",
       "    <tr>\n",
       "      <th>81</th>\n",
       "      <td>100</td>\n",
       "      <td>20</td>\n",
       "      <td>1</td>\n",
       "      <td>2</td>\n",
       "      <td>271.229175</td>\n",
       "    </tr>\n",
       "    <tr>\n",
       "      <th>82</th>\n",
       "      <td>200</td>\n",
       "      <td>20</td>\n",
       "      <td>1</td>\n",
       "      <td>2</td>\n",
       "      <td>271.365252</td>\n",
       "    </tr>\n",
       "  </tbody>\n",
       "</table>\n",
       "</div>"
      ],
      "text/plain": [
       "    n_estimators  max_depth  min_samples_leaf  max_features        rmse\n",
       "72           100         20                 1             1  270.508491\n",
       "64           200         14                 1             2  270.608165\n",
       "83           500         20                 1             2  270.621256\n",
       "74           500         20                 1             1  270.780135\n",
       "65           500         14                 1             2  270.904166\n",
       "73           200         20                 1             1  271.083283\n",
       "56           500         14                 1             1  271.144579\n",
       "63           100         14                 1             2  271.157648\n",
       "81           100         20                 1             2  271.229175\n",
       "82           200         20                 1             2  271.365252"
      ]
     },
     "execution_count": 86,
     "metadata": {},
     "output_type": "execute_result"
    }
   ],
   "source": [
    "df_rmse_by_params.sort_values('rmse', ascending=True).head(10)"
   ]
  },
  {
   "cell_type": "code",
   "execution_count": 91,
   "id": "043ae653-0631-4b6b-bed5-ed5a3f66d74f",
   "metadata": {},
   "outputs": [
    {
     "data": {
      "text/html": [
       "<div>\n",
       "<style scoped>\n",
       "    .dataframe tbody tr th:only-of-type {\n",
       "        vertical-align: middle;\n",
       "    }\n",
       "\n",
       "    .dataframe tbody tr th {\n",
       "        vertical-align: top;\n",
       "    }\n",
       "\n",
       "    .dataframe thead th {\n",
       "        text-align: right;\n",
       "    }\n",
       "</style>\n",
       "<table border=\"1\" class=\"dataframe\">\n",
       "  <thead>\n",
       "    <tr style=\"text-align: right;\">\n",
       "      <th></th>\n",
       "      <th>n_estimators</th>\n",
       "      <th>max_depth</th>\n",
       "      <th>min_samples_leaf</th>\n",
       "      <th>max_features</th>\n",
       "      <th>rmse</th>\n",
       "    </tr>\n",
       "  </thead>\n",
       "  <tbody>\n",
       "    <tr>\n",
       "      <th>72</th>\n",
       "      <td>100</td>\n",
       "      <td>20</td>\n",
       "      <td>1</td>\n",
       "      <td>1</td>\n",
       "      <td>270.508491</td>\n",
       "    </tr>\n",
       "  </tbody>\n",
       "</table>\n",
       "</div>"
      ],
      "text/plain": [
       "    n_estimators  max_depth  min_samples_leaf  max_features        rmse\n",
       "72           100         20                 1             1  270.508491"
      ]
     },
     "execution_count": 91,
     "metadata": {},
     "output_type": "execute_result"
    }
   ],
   "source": [
    "best_params = df_rmse_by_params[ df_rmse_by_params.rmse==df_rmse_by_params.rmse.min() ]\n",
    "best_params"
   ]
  },
  {
   "cell_type": "markdown",
   "id": "42232ab2-a7fe-4dcc-95bd-7cb93d6b09fb",
   "metadata": {},
   "source": [
    "None of the configurations is good enough to continue with this approach, that's why we focus on a multi-class classification model (see ETL-multiclass-clf.ipynb)."
   ]
  },
  {
   "cell_type": "code",
   "execution_count": null,
   "id": "0d0c1226-1c33-4d79-9585-c52e59cfa48e",
   "metadata": {},
   "outputs": [],
   "source": []
  }
 ],
 "metadata": {
  "kernelspec": {
   "display_name": "Python 3 (ipykernel)",
   "language": "python",
   "name": "python3"
  },
  "language_info": {
   "codemirror_mode": {
    "name": "ipython",
    "version": 3
   },
   "file_extension": ".py",
   "mimetype": "text/x-python",
   "name": "python",
   "nbconvert_exporter": "python",
   "pygments_lexer": "ipython3",
   "version": "3.9.15"
  }
 },
 "nbformat": 4,
 "nbformat_minor": 5
}
