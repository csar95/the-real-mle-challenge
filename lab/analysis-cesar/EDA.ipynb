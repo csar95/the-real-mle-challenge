{
 "cells": [
  {
   "cell_type": "code",
   "execution_count": 1,
   "id": "a9a32d83-ace2-4003-a9a2-7ab63f873f84",
   "metadata": {},
   "outputs": [],
   "source": [
    "import pandas as pd\n",
    "pd.set_option('display.max_columns', 150)\n",
    "#pd.set_option('display.max_colwidth', None)\n",
    "pd.set_option('display.max_rows', None)\n",
    "import numpy as np\n",
    "import re\n",
    "import seaborn as sns\n",
    "import matplotlib.pyplot as plt\n",
    "import plotly.express as px"
   ]
  },
  {
   "cell_type": "markdown",
   "id": "4a58fbc6-17bf-447c-83c8-92cb48f15cd1",
   "metadata": {},
   "source": [
    "# Load data"
   ]
  },
  {
   "cell_type": "code",
   "execution_count": 2,
   "id": "0423caa1-6d87-44af-b764-fcae17bd48a1",
   "metadata": {},
   "outputs": [
    {
     "name": "stdout",
     "output_type": "stream",
     "text": [
      "(38277, 74)\n"
     ]
    },
    {
     "name": "stderr",
     "output_type": "stream",
     "text": [
      "/var/folders/04/_gk1mt7s6yn55gmy80r1kh8r0000gn/T/ipykernel_4253/1847244859.py:1: DtypeWarning: Columns (67) have mixed types. Specify dtype option on import or set low_memory=False.\n",
      "  raw_data = pd.read_csv(\"../../data/raw/listings.csv\")\n"
     ]
    },
    {
     "data": {
      "text/html": [
       "<div>\n",
       "<style scoped>\n",
       "    .dataframe tbody tr th:only-of-type {\n",
       "        vertical-align: middle;\n",
       "    }\n",
       "\n",
       "    .dataframe tbody tr th {\n",
       "        vertical-align: top;\n",
       "    }\n",
       "\n",
       "    .dataframe thead th {\n",
       "        text-align: right;\n",
       "    }\n",
       "</style>\n",
       "<table border=\"1\" class=\"dataframe\">\n",
       "  <thead>\n",
       "    <tr style=\"text-align: right;\">\n",
       "      <th></th>\n",
       "      <th>id</th>\n",
       "      <th>listing_url</th>\n",
       "      <th>scrape_id</th>\n",
       "      <th>last_scraped</th>\n",
       "      <th>name</th>\n",
       "      <th>description</th>\n",
       "      <th>neighborhood_overview</th>\n",
       "      <th>picture_url</th>\n",
       "      <th>host_id</th>\n",
       "      <th>host_url</th>\n",
       "      <th>host_name</th>\n",
       "      <th>host_since</th>\n",
       "      <th>host_location</th>\n",
       "      <th>host_about</th>\n",
       "      <th>host_response_time</th>\n",
       "      <th>host_response_rate</th>\n",
       "      <th>host_acceptance_rate</th>\n",
       "      <th>host_is_superhost</th>\n",
       "      <th>host_thumbnail_url</th>\n",
       "      <th>host_picture_url</th>\n",
       "      <th>host_neighbourhood</th>\n",
       "      <th>host_listings_count</th>\n",
       "      <th>host_total_listings_count</th>\n",
       "      <th>host_verifications</th>\n",
       "      <th>host_has_profile_pic</th>\n",
       "      <th>host_identity_verified</th>\n",
       "      <th>neighbourhood</th>\n",
       "      <th>neighbourhood_cleansed</th>\n",
       "      <th>neighbourhood_group_cleansed</th>\n",
       "      <th>latitude</th>\n",
       "      <th>longitude</th>\n",
       "      <th>property_type</th>\n",
       "      <th>room_type</th>\n",
       "      <th>accommodates</th>\n",
       "      <th>bathrooms</th>\n",
       "      <th>bathrooms_text</th>\n",
       "      <th>bedrooms</th>\n",
       "      <th>beds</th>\n",
       "      <th>amenities</th>\n",
       "      <th>price</th>\n",
       "      <th>minimum_nights</th>\n",
       "      <th>maximum_nights</th>\n",
       "      <th>minimum_minimum_nights</th>\n",
       "      <th>maximum_minimum_nights</th>\n",
       "      <th>minimum_maximum_nights</th>\n",
       "      <th>maximum_maximum_nights</th>\n",
       "      <th>minimum_nights_avg_ntm</th>\n",
       "      <th>maximum_nights_avg_ntm</th>\n",
       "      <th>calendar_updated</th>\n",
       "      <th>has_availability</th>\n",
       "      <th>availability_30</th>\n",
       "      <th>availability_60</th>\n",
       "      <th>availability_90</th>\n",
       "      <th>availability_365</th>\n",
       "      <th>calendar_last_scraped</th>\n",
       "      <th>number_of_reviews</th>\n",
       "      <th>number_of_reviews_ltm</th>\n",
       "      <th>number_of_reviews_l30d</th>\n",
       "      <th>first_review</th>\n",
       "      <th>last_review</th>\n",
       "      <th>review_scores_rating</th>\n",
       "      <th>review_scores_accuracy</th>\n",
       "      <th>review_scores_cleanliness</th>\n",
       "      <th>review_scores_checkin</th>\n",
       "      <th>review_scores_communication</th>\n",
       "      <th>review_scores_location</th>\n",
       "      <th>review_scores_value</th>\n",
       "      <th>license</th>\n",
       "      <th>instant_bookable</th>\n",
       "      <th>calculated_host_listings_count</th>\n",
       "      <th>calculated_host_listings_count_entire_homes</th>\n",
       "      <th>calculated_host_listings_count_private_rooms</th>\n",
       "      <th>calculated_host_listings_count_shared_rooms</th>\n",
       "      <th>reviews_per_month</th>\n",
       "    </tr>\n",
       "  </thead>\n",
       "  <tbody>\n",
       "    <tr>\n",
       "      <th>0</th>\n",
       "      <td>2595</td>\n",
       "      <td>https://www.airbnb.com/rooms/2595</td>\n",
       "      <td>20211204143024</td>\n",
       "      <td>2021-12-05</td>\n",
       "      <td>Skylit Midtown Castle</td>\n",
       "      <td>Beautiful, spacious skylit studio in the heart...</td>\n",
       "      <td>Centrally located in the heart of Manhattan ju...</td>\n",
       "      <td>https://a0.muscache.com/pictures/f0813a11-40b2...</td>\n",
       "      <td>2845</td>\n",
       "      <td>https://www.airbnb.com/users/show/2845</td>\n",
       "      <td>Jennifer</td>\n",
       "      <td>2008-09-09</td>\n",
       "      <td>New York, New York, United States</td>\n",
       "      <td>A New Yorker since 2000! My passion is creatin...</td>\n",
       "      <td>within a day</td>\n",
       "      <td>80%</td>\n",
       "      <td>17%</td>\n",
       "      <td>f</td>\n",
       "      <td>https://a0.muscache.com/im/pictures/user/50fc5...</td>\n",
       "      <td>https://a0.muscache.com/im/pictures/user/50fc5...</td>\n",
       "      <td>Midtown</td>\n",
       "      <td>8.0</td>\n",
       "      <td>8.0</td>\n",
       "      <td>['email', 'phone', 'reviews', 'offline_governm...</td>\n",
       "      <td>t</td>\n",
       "      <td>t</td>\n",
       "      <td>New York, United States</td>\n",
       "      <td>Midtown</td>\n",
       "      <td>Manhattan</td>\n",
       "      <td>40.75356</td>\n",
       "      <td>-73.98559</td>\n",
       "      <td>Entire rental unit</td>\n",
       "      <td>Entire home/apt</td>\n",
       "      <td>1</td>\n",
       "      <td>NaN</td>\n",
       "      <td>1 bath</td>\n",
       "      <td>NaN</td>\n",
       "      <td>1.0</td>\n",
       "      <td>[\"Extra pillows and blankets\", \"Baking sheet\",...</td>\n",
       "      <td>$150.00</td>\n",
       "      <td>30</td>\n",
       "      <td>1125</td>\n",
       "      <td>30.0</td>\n",
       "      <td>30.0</td>\n",
       "      <td>1125.0</td>\n",
       "      <td>1125.0</td>\n",
       "      <td>30.0</td>\n",
       "      <td>1125.0</td>\n",
       "      <td>NaN</td>\n",
       "      <td>t</td>\n",
       "      <td>3</td>\n",
       "      <td>33</td>\n",
       "      <td>63</td>\n",
       "      <td>338</td>\n",
       "      <td>2021-12-05</td>\n",
       "      <td>48</td>\n",
       "      <td>0</td>\n",
       "      <td>0</td>\n",
       "      <td>2009-11-21</td>\n",
       "      <td>2019-11-04</td>\n",
       "      <td>4.70</td>\n",
       "      <td>4.72</td>\n",
       "      <td>4.62</td>\n",
       "      <td>4.76</td>\n",
       "      <td>4.79</td>\n",
       "      <td>4.86</td>\n",
       "      <td>4.41</td>\n",
       "      <td>NaN</td>\n",
       "      <td>f</td>\n",
       "      <td>3</td>\n",
       "      <td>3</td>\n",
       "      <td>0</td>\n",
       "      <td>0</td>\n",
       "      <td>0.33</td>\n",
       "    </tr>\n",
       "    <tr>\n",
       "      <th>1</th>\n",
       "      <td>3831</td>\n",
       "      <td>https://www.airbnb.com/rooms/3831</td>\n",
       "      <td>20211204143024</td>\n",
       "      <td>2021-12-05</td>\n",
       "      <td>Whole flr w/private bdrm, bath &amp; kitchen(pls r...</td>\n",
       "      <td>Enjoy 500 s.f. top floor in 1899 brownstone, w...</td>\n",
       "      <td>Just the right mix of urban center and local n...</td>\n",
       "      <td>https://a0.muscache.com/pictures/e49999c2-9fd5...</td>\n",
       "      <td>4869</td>\n",
       "      <td>https://www.airbnb.com/users/show/4869</td>\n",
       "      <td>LisaRoxanne</td>\n",
       "      <td>2008-12-07</td>\n",
       "      <td>New York, New York, United States</td>\n",
       "      <td>Laid-back Native New Yorker (formerly bi-coast...</td>\n",
       "      <td>a few days or more</td>\n",
       "      <td>9%</td>\n",
       "      <td>69%</td>\n",
       "      <td>f</td>\n",
       "      <td>https://a0.muscache.com/im/users/4869/profile_...</td>\n",
       "      <td>https://a0.muscache.com/im/users/4869/profile_...</td>\n",
       "      <td>Clinton Hill</td>\n",
       "      <td>1.0</td>\n",
       "      <td>1.0</td>\n",
       "      <td>['email', 'phone', 'reviews', 'offline_governm...</td>\n",
       "      <td>t</td>\n",
       "      <td>t</td>\n",
       "      <td>Brooklyn, New York, United States</td>\n",
       "      <td>Bedford-Stuyvesant</td>\n",
       "      <td>Brooklyn</td>\n",
       "      <td>40.68494</td>\n",
       "      <td>-73.95765</td>\n",
       "      <td>Entire guest suite</td>\n",
       "      <td>Entire home/apt</td>\n",
       "      <td>3</td>\n",
       "      <td>NaN</td>\n",
       "      <td>1 bath</td>\n",
       "      <td>1.0</td>\n",
       "      <td>3.0</td>\n",
       "      <td>[\"Extra pillows and blankets\", \"Luggage dropof...</td>\n",
       "      <td>$75.00</td>\n",
       "      <td>1</td>\n",
       "      <td>730</td>\n",
       "      <td>1.0</td>\n",
       "      <td>1.0</td>\n",
       "      <td>730.0</td>\n",
       "      <td>730.0</td>\n",
       "      <td>1.0</td>\n",
       "      <td>730.0</td>\n",
       "      <td>NaN</td>\n",
       "      <td>t</td>\n",
       "      <td>3</td>\n",
       "      <td>6</td>\n",
       "      <td>18</td>\n",
       "      <td>194</td>\n",
       "      <td>2021-12-05</td>\n",
       "      <td>409</td>\n",
       "      <td>32</td>\n",
       "      <td>0</td>\n",
       "      <td>2015-01-05</td>\n",
       "      <td>2021-10-22</td>\n",
       "      <td>4.45</td>\n",
       "      <td>4.58</td>\n",
       "      <td>4.49</td>\n",
       "      <td>4.78</td>\n",
       "      <td>4.80</td>\n",
       "      <td>4.71</td>\n",
       "      <td>4.64</td>\n",
       "      <td>NaN</td>\n",
       "      <td>f</td>\n",
       "      <td>1</td>\n",
       "      <td>1</td>\n",
       "      <td>0</td>\n",
       "      <td>0</td>\n",
       "      <td>4.86</td>\n",
       "    </tr>\n",
       "    <tr>\n",
       "      <th>2</th>\n",
       "      <td>5121</td>\n",
       "      <td>https://www.airbnb.com/rooms/5121</td>\n",
       "      <td>20211204143024</td>\n",
       "      <td>2021-12-05</td>\n",
       "      <td>BlissArtsSpace!</td>\n",
       "      <td>&lt;b&gt;The space&lt;/b&gt;&lt;br /&gt;HELLO EVERYONE AND THANK...</td>\n",
       "      <td>NaN</td>\n",
       "      <td>https://a0.muscache.com/pictures/2090980c-b68e...</td>\n",
       "      <td>7356</td>\n",
       "      <td>https://www.airbnb.com/users/show/7356</td>\n",
       "      <td>Garon</td>\n",
       "      <td>2009-02-03</td>\n",
       "      <td>New York, New York, United States</td>\n",
       "      <td>I am an artist(painter, filmmaker) and curato...</td>\n",
       "      <td>within an hour</td>\n",
       "      <td>100%</td>\n",
       "      <td>100%</td>\n",
       "      <td>f</td>\n",
       "      <td>https://a0.muscache.com/im/pictures/user/72a61...</td>\n",
       "      <td>https://a0.muscache.com/im/pictures/user/72a61...</td>\n",
       "      <td>Bedford-Stuyvesant</td>\n",
       "      <td>1.0</td>\n",
       "      <td>1.0</td>\n",
       "      <td>['email', 'phone', 'facebook', 'reviews', 'off...</td>\n",
       "      <td>t</td>\n",
       "      <td>t</td>\n",
       "      <td>NaN</td>\n",
       "      <td>Bedford-Stuyvesant</td>\n",
       "      <td>Brooklyn</td>\n",
       "      <td>40.68535</td>\n",
       "      <td>-73.95512</td>\n",
       "      <td>Private room in rental unit</td>\n",
       "      <td>Private room</td>\n",
       "      <td>2</td>\n",
       "      <td>NaN</td>\n",
       "      <td>NaN</td>\n",
       "      <td>1.0</td>\n",
       "      <td>1.0</td>\n",
       "      <td>[\"Kitchen\", \"Long term stays allowed\", \"Wifi\",...</td>\n",
       "      <td>$60.00</td>\n",
       "      <td>30</td>\n",
       "      <td>730</td>\n",
       "      <td>30.0</td>\n",
       "      <td>30.0</td>\n",
       "      <td>730.0</td>\n",
       "      <td>730.0</td>\n",
       "      <td>30.0</td>\n",
       "      <td>730.0</td>\n",
       "      <td>NaN</td>\n",
       "      <td>t</td>\n",
       "      <td>30</td>\n",
       "      <td>60</td>\n",
       "      <td>90</td>\n",
       "      <td>365</td>\n",
       "      <td>2021-12-05</td>\n",
       "      <td>50</td>\n",
       "      <td>0</td>\n",
       "      <td>0</td>\n",
       "      <td>2014-01-22</td>\n",
       "      <td>2016-06-05</td>\n",
       "      <td>4.52</td>\n",
       "      <td>4.22</td>\n",
       "      <td>4.09</td>\n",
       "      <td>4.91</td>\n",
       "      <td>4.91</td>\n",
       "      <td>4.47</td>\n",
       "      <td>4.52</td>\n",
       "      <td>NaN</td>\n",
       "      <td>f</td>\n",
       "      <td>2</td>\n",
       "      <td>0</td>\n",
       "      <td>2</td>\n",
       "      <td>0</td>\n",
       "      <td>0.52</td>\n",
       "    </tr>\n",
       "  </tbody>\n",
       "</table>\n",
       "</div>"
      ],
      "text/plain": [
       "     id                        listing_url       scrape_id last_scraped  \\\n",
       "0  2595  https://www.airbnb.com/rooms/2595  20211204143024   2021-12-05   \n",
       "1  3831  https://www.airbnb.com/rooms/3831  20211204143024   2021-12-05   \n",
       "2  5121  https://www.airbnb.com/rooms/5121  20211204143024   2021-12-05   \n",
       "\n",
       "                                                name  \\\n",
       "0                              Skylit Midtown Castle   \n",
       "1  Whole flr w/private bdrm, bath & kitchen(pls r...   \n",
       "2                                    BlissArtsSpace!   \n",
       "\n",
       "                                         description  \\\n",
       "0  Beautiful, spacious skylit studio in the heart...   \n",
       "1  Enjoy 500 s.f. top floor in 1899 brownstone, w...   \n",
       "2  <b>The space</b><br />HELLO EVERYONE AND THANK...   \n",
       "\n",
       "                               neighborhood_overview  \\\n",
       "0  Centrally located in the heart of Manhattan ju...   \n",
       "1  Just the right mix of urban center and local n...   \n",
       "2                                                NaN   \n",
       "\n",
       "                                         picture_url  host_id  \\\n",
       "0  https://a0.muscache.com/pictures/f0813a11-40b2...     2845   \n",
       "1  https://a0.muscache.com/pictures/e49999c2-9fd5...     4869   \n",
       "2  https://a0.muscache.com/pictures/2090980c-b68e...     7356   \n",
       "\n",
       "                                 host_url    host_name  host_since  \\\n",
       "0  https://www.airbnb.com/users/show/2845     Jennifer  2008-09-09   \n",
       "1  https://www.airbnb.com/users/show/4869  LisaRoxanne  2008-12-07   \n",
       "2  https://www.airbnb.com/users/show/7356        Garon  2009-02-03   \n",
       "\n",
       "                       host_location  \\\n",
       "0  New York, New York, United States   \n",
       "1  New York, New York, United States   \n",
       "2  New York, New York, United States   \n",
       "\n",
       "                                          host_about  host_response_time  \\\n",
       "0  A New Yorker since 2000! My passion is creatin...        within a day   \n",
       "1  Laid-back Native New Yorker (formerly bi-coast...  a few days or more   \n",
       "2   I am an artist(painter, filmmaker) and curato...      within an hour   \n",
       "\n",
       "  host_response_rate host_acceptance_rate host_is_superhost  \\\n",
       "0                80%                  17%                 f   \n",
       "1                 9%                  69%                 f   \n",
       "2               100%                 100%                 f   \n",
       "\n",
       "                                  host_thumbnail_url  \\\n",
       "0  https://a0.muscache.com/im/pictures/user/50fc5...   \n",
       "1  https://a0.muscache.com/im/users/4869/profile_...   \n",
       "2  https://a0.muscache.com/im/pictures/user/72a61...   \n",
       "\n",
       "                                    host_picture_url  host_neighbourhood  \\\n",
       "0  https://a0.muscache.com/im/pictures/user/50fc5...             Midtown   \n",
       "1  https://a0.muscache.com/im/users/4869/profile_...        Clinton Hill   \n",
       "2  https://a0.muscache.com/im/pictures/user/72a61...  Bedford-Stuyvesant   \n",
       "\n",
       "   host_listings_count  host_total_listings_count  \\\n",
       "0                  8.0                        8.0   \n",
       "1                  1.0                        1.0   \n",
       "2                  1.0                        1.0   \n",
       "\n",
       "                                  host_verifications host_has_profile_pic  \\\n",
       "0  ['email', 'phone', 'reviews', 'offline_governm...                    t   \n",
       "1  ['email', 'phone', 'reviews', 'offline_governm...                    t   \n",
       "2  ['email', 'phone', 'facebook', 'reviews', 'off...                    t   \n",
       "\n",
       "  host_identity_verified                      neighbourhood  \\\n",
       "0                      t            New York, United States   \n",
       "1                      t  Brooklyn, New York, United States   \n",
       "2                      t                                NaN   \n",
       "\n",
       "  neighbourhood_cleansed neighbourhood_group_cleansed  latitude  longitude  \\\n",
       "0                Midtown                    Manhattan  40.75356  -73.98559   \n",
       "1     Bedford-Stuyvesant                     Brooklyn  40.68494  -73.95765   \n",
       "2     Bedford-Stuyvesant                     Brooklyn  40.68535  -73.95512   \n",
       "\n",
       "                 property_type        room_type  accommodates  bathrooms  \\\n",
       "0           Entire rental unit  Entire home/apt             1        NaN   \n",
       "1           Entire guest suite  Entire home/apt             3        NaN   \n",
       "2  Private room in rental unit     Private room             2        NaN   \n",
       "\n",
       "  bathrooms_text  bedrooms  beds  \\\n",
       "0         1 bath       NaN   1.0   \n",
       "1         1 bath       1.0   3.0   \n",
       "2            NaN       1.0   1.0   \n",
       "\n",
       "                                           amenities    price  minimum_nights  \\\n",
       "0  [\"Extra pillows and blankets\", \"Baking sheet\",...  $150.00              30   \n",
       "1  [\"Extra pillows and blankets\", \"Luggage dropof...   $75.00               1   \n",
       "2  [\"Kitchen\", \"Long term stays allowed\", \"Wifi\",...   $60.00              30   \n",
       "\n",
       "   maximum_nights  minimum_minimum_nights  maximum_minimum_nights  \\\n",
       "0            1125                    30.0                    30.0   \n",
       "1             730                     1.0                     1.0   \n",
       "2             730                    30.0                    30.0   \n",
       "\n",
       "   minimum_maximum_nights  maximum_maximum_nights  minimum_nights_avg_ntm  \\\n",
       "0                  1125.0                  1125.0                    30.0   \n",
       "1                   730.0                   730.0                     1.0   \n",
       "2                   730.0                   730.0                    30.0   \n",
       "\n",
       "   maximum_nights_avg_ntm  calendar_updated has_availability  availability_30  \\\n",
       "0                  1125.0               NaN                t                3   \n",
       "1                   730.0               NaN                t                3   \n",
       "2                   730.0               NaN                t               30   \n",
       "\n",
       "   availability_60  availability_90  availability_365 calendar_last_scraped  \\\n",
       "0               33               63               338            2021-12-05   \n",
       "1                6               18               194            2021-12-05   \n",
       "2               60               90               365            2021-12-05   \n",
       "\n",
       "   number_of_reviews  number_of_reviews_ltm  number_of_reviews_l30d  \\\n",
       "0                 48                      0                       0   \n",
       "1                409                     32                       0   \n",
       "2                 50                      0                       0   \n",
       "\n",
       "  first_review last_review  review_scores_rating  review_scores_accuracy  \\\n",
       "0   2009-11-21  2019-11-04                  4.70                    4.72   \n",
       "1   2015-01-05  2021-10-22                  4.45                    4.58   \n",
       "2   2014-01-22  2016-06-05                  4.52                    4.22   \n",
       "\n",
       "   review_scores_cleanliness  review_scores_checkin  \\\n",
       "0                       4.62                   4.76   \n",
       "1                       4.49                   4.78   \n",
       "2                       4.09                   4.91   \n",
       "\n",
       "   review_scores_communication  review_scores_location  review_scores_value  \\\n",
       "0                         4.79                    4.86                 4.41   \n",
       "1                         4.80                    4.71                 4.64   \n",
       "2                         4.91                    4.47                 4.52   \n",
       "\n",
       "  license instant_bookable  calculated_host_listings_count  \\\n",
       "0     NaN                f                               3   \n",
       "1     NaN                f                               1   \n",
       "2     NaN                f                               2   \n",
       "\n",
       "   calculated_host_listings_count_entire_homes  \\\n",
       "0                                            3   \n",
       "1                                            1   \n",
       "2                                            0   \n",
       "\n",
       "   calculated_host_listings_count_private_rooms  \\\n",
       "0                                             0   \n",
       "1                                             0   \n",
       "2                                             2   \n",
       "\n",
       "   calculated_host_listings_count_shared_rooms  reviews_per_month  \n",
       "0                                            0               0.33  \n",
       "1                                            0               4.86  \n",
       "2                                            0               0.52  "
      ]
     },
     "execution_count": 2,
     "metadata": {},
     "output_type": "execute_result"
    }
   ],
   "source": [
    "raw_data = pd.read_csv(\"../../data/raw/listings.csv\")\n",
    "print(raw_data.shape)\n",
    "raw_data.head(3)"
   ]
  },
  {
   "cell_type": "markdown",
   "id": "5bb17683-ae23-4ed9-9739-f2ee61934724",
   "metadata": {},
   "source": [
    "# Exploratory data analysis"
   ]
  },
  {
   "cell_type": "code",
   "execution_count": 3,
   "id": "ef018cc3-4e1e-4c18-98bb-c46dc8d41d98",
   "metadata": {
    "scrolled": true,
    "tags": []
   },
   "outputs": [
    {
     "data": {
      "text/plain": [
       "id                                                int64\n",
       "listing_url                                      object\n",
       "scrape_id                                         int64\n",
       "last_scraped                                     object\n",
       "name                                             object\n",
       "description                                      object\n",
       "neighborhood_overview                            object\n",
       "picture_url                                      object\n",
       "host_id                                           int64\n",
       "host_url                                         object\n",
       "host_name                                        object\n",
       "host_since                                       object\n",
       "host_location                                    object\n",
       "host_about                                       object\n",
       "host_response_time                               object\n",
       "host_response_rate                               object\n",
       "host_acceptance_rate                             object\n",
       "host_is_superhost                                object\n",
       "host_thumbnail_url                               object\n",
       "host_picture_url                                 object\n",
       "host_neighbourhood                               object\n",
       "host_listings_count                             float64\n",
       "host_total_listings_count                       float64\n",
       "host_verifications                               object\n",
       "host_has_profile_pic                             object\n",
       "host_identity_verified                           object\n",
       "neighbourhood                                    object\n",
       "neighbourhood_cleansed                           object\n",
       "neighbourhood_group_cleansed                     object\n",
       "latitude                                        float64\n",
       "longitude                                       float64\n",
       "property_type                                    object\n",
       "room_type                                        object\n",
       "accommodates                                      int64\n",
       "bathrooms                                       float64\n",
       "bathrooms_text                                   object\n",
       "bedrooms                                        float64\n",
       "beds                                            float64\n",
       "amenities                                        object\n",
       "price                                            object\n",
       "minimum_nights                                    int64\n",
       "maximum_nights                                    int64\n",
       "minimum_minimum_nights                          float64\n",
       "maximum_minimum_nights                          float64\n",
       "minimum_maximum_nights                          float64\n",
       "maximum_maximum_nights                          float64\n",
       "minimum_nights_avg_ntm                          float64\n",
       "maximum_nights_avg_ntm                          float64\n",
       "calendar_updated                                float64\n",
       "has_availability                                 object\n",
       "availability_30                                   int64\n",
       "availability_60                                   int64\n",
       "availability_90                                   int64\n",
       "availability_365                                  int64\n",
       "calendar_last_scraped                            object\n",
       "number_of_reviews                                 int64\n",
       "number_of_reviews_ltm                             int64\n",
       "number_of_reviews_l30d                            int64\n",
       "first_review                                     object\n",
       "last_review                                      object\n",
       "review_scores_rating                            float64\n",
       "review_scores_accuracy                          float64\n",
       "review_scores_cleanliness                       float64\n",
       "review_scores_checkin                           float64\n",
       "review_scores_communication                     float64\n",
       "review_scores_location                          float64\n",
       "review_scores_value                             float64\n",
       "license                                          object\n",
       "instant_bookable                                 object\n",
       "calculated_host_listings_count                    int64\n",
       "calculated_host_listings_count_entire_homes       int64\n",
       "calculated_host_listings_count_private_rooms      int64\n",
       "calculated_host_listings_count_shared_rooms       int64\n",
       "reviews_per_month                               float64\n",
       "dtype: object"
      ]
     },
     "execution_count": 3,
     "metadata": {},
     "output_type": "execute_result"
    }
   ],
   "source": [
    "raw_data.dtypes"
   ]
  },
  {
   "cell_type": "markdown",
   "id": "12487cb7-3507-454a-ad78-d361b20428e8",
   "metadata": {},
   "source": [
    "## Missing values"
   ]
  },
  {
   "cell_type": "code",
   "execution_count": 4,
   "id": "be382366-1832-4428-87dc-119034315f46",
   "metadata": {
    "scrolled": true,
    "tags": []
   },
   "outputs": [
    {
     "data": {
      "text/html": [
       "<div>\n",
       "<style scoped>\n",
       "    .dataframe tbody tr th:only-of-type {\n",
       "        vertical-align: middle;\n",
       "    }\n",
       "\n",
       "    .dataframe tbody tr th {\n",
       "        vertical-align: top;\n",
       "    }\n",
       "\n",
       "    .dataframe thead th {\n",
       "        text-align: right;\n",
       "    }\n",
       "</style>\n",
       "<table border=\"1\" class=\"dataframe\">\n",
       "  <thead>\n",
       "    <tr style=\"text-align: right;\">\n",
       "      <th></th>\n",
       "      <th>N_NAN</th>\n",
       "      <th>PERCENTAGE_NAN</th>\n",
       "    </tr>\n",
       "  </thead>\n",
       "  <tbody>\n",
       "    <tr>\n",
       "      <th>bathrooms</th>\n",
       "      <td>38277</td>\n",
       "      <td>100.00</td>\n",
       "    </tr>\n",
       "    <tr>\n",
       "      <th>calendar_updated</th>\n",
       "      <td>38277</td>\n",
       "      <td>100.00</td>\n",
       "    </tr>\n",
       "    <tr>\n",
       "      <th>license</th>\n",
       "      <td>38276</td>\n",
       "      <td>100.00</td>\n",
       "    </tr>\n",
       "    <tr>\n",
       "      <th>host_response_time</th>\n",
       "      <td>17193</td>\n",
       "      <td>44.92</td>\n",
       "    </tr>\n",
       "    <tr>\n",
       "      <th>host_response_rate</th>\n",
       "      <td>17193</td>\n",
       "      <td>44.92</td>\n",
       "    </tr>\n",
       "    <tr>\n",
       "      <th>host_acceptance_rate</th>\n",
       "      <td>16486</td>\n",
       "      <td>43.07</td>\n",
       "    </tr>\n",
       "    <tr>\n",
       "      <th>host_about</th>\n",
       "      <td>16149</td>\n",
       "      <td>42.19</td>\n",
       "    </tr>\n",
       "    <tr>\n",
       "      <th>neighborhood_overview</th>\n",
       "      <td>15627</td>\n",
       "      <td>40.83</td>\n",
       "    </tr>\n",
       "    <tr>\n",
       "      <th>neighbourhood</th>\n",
       "      <td>15626</td>\n",
       "      <td>40.82</td>\n",
       "    </tr>\n",
       "    <tr>\n",
       "      <th>review_scores_value</th>\n",
       "      <td>10127</td>\n",
       "      <td>26.46</td>\n",
       "    </tr>\n",
       "    <tr>\n",
       "      <th>review_scores_location</th>\n",
       "      <td>10126</td>\n",
       "      <td>26.45</td>\n",
       "    </tr>\n",
       "    <tr>\n",
       "      <th>review_scores_checkin</th>\n",
       "      <td>10123</td>\n",
       "      <td>26.45</td>\n",
       "    </tr>\n",
       "    <tr>\n",
       "      <th>review_scores_accuracy</th>\n",
       "      <td>10116</td>\n",
       "      <td>26.43</td>\n",
       "    </tr>\n",
       "    <tr>\n",
       "      <th>review_scores_communication</th>\n",
       "      <td>10112</td>\n",
       "      <td>26.42</td>\n",
       "    </tr>\n",
       "    <tr>\n",
       "      <th>review_scores_cleanliness</th>\n",
       "      <td>10105</td>\n",
       "      <td>26.40</td>\n",
       "    </tr>\n",
       "    <tr>\n",
       "      <th>first_review</th>\n",
       "      <td>9504</td>\n",
       "      <td>24.83</td>\n",
       "    </tr>\n",
       "    <tr>\n",
       "      <th>last_review</th>\n",
       "      <td>9504</td>\n",
       "      <td>24.83</td>\n",
       "    </tr>\n",
       "    <tr>\n",
       "      <th>review_scores_rating</th>\n",
       "      <td>9504</td>\n",
       "      <td>24.83</td>\n",
       "    </tr>\n",
       "    <tr>\n",
       "      <th>reviews_per_month</th>\n",
       "      <td>9504</td>\n",
       "      <td>24.83</td>\n",
       "    </tr>\n",
       "    <tr>\n",
       "      <th>host_neighbourhood</th>\n",
       "      <td>7464</td>\n",
       "      <td>19.50</td>\n",
       "    </tr>\n",
       "    <tr>\n",
       "      <th>bedrooms</th>\n",
       "      <td>3975</td>\n",
       "      <td>10.38</td>\n",
       "    </tr>\n",
       "    <tr>\n",
       "      <th>beds</th>\n",
       "      <td>2405</td>\n",
       "      <td>6.28</td>\n",
       "    </tr>\n",
       "    <tr>\n",
       "      <th>description</th>\n",
       "      <td>1192</td>\n",
       "      <td>3.11</td>\n",
       "    </tr>\n",
       "    <tr>\n",
       "      <th>host_location</th>\n",
       "      <td>137</td>\n",
       "      <td>0.36</td>\n",
       "    </tr>\n",
       "    <tr>\n",
       "      <th>bathrooms_text</th>\n",
       "      <td>107</td>\n",
       "      <td>0.28</td>\n",
       "    </tr>\n",
       "    <tr>\n",
       "      <th>host_name</th>\n",
       "      <td>34</td>\n",
       "      <td>0.09</td>\n",
       "    </tr>\n",
       "    <tr>\n",
       "      <th>host_since</th>\n",
       "      <td>34</td>\n",
       "      <td>0.09</td>\n",
       "    </tr>\n",
       "    <tr>\n",
       "      <th>host_is_superhost</th>\n",
       "      <td>34</td>\n",
       "      <td>0.09</td>\n",
       "    </tr>\n",
       "    <tr>\n",
       "      <th>host_thumbnail_url</th>\n",
       "      <td>34</td>\n",
       "      <td>0.09</td>\n",
       "    </tr>\n",
       "    <tr>\n",
       "      <th>host_picture_url</th>\n",
       "      <td>34</td>\n",
       "      <td>0.09</td>\n",
       "    </tr>\n",
       "    <tr>\n",
       "      <th>host_listings_count</th>\n",
       "      <td>34</td>\n",
       "      <td>0.09</td>\n",
       "    </tr>\n",
       "    <tr>\n",
       "      <th>host_total_listings_count</th>\n",
       "      <td>34</td>\n",
       "      <td>0.09</td>\n",
       "    </tr>\n",
       "    <tr>\n",
       "      <th>host_has_profile_pic</th>\n",
       "      <td>34</td>\n",
       "      <td>0.09</td>\n",
       "    </tr>\n",
       "    <tr>\n",
       "      <th>host_identity_verified</th>\n",
       "      <td>34</td>\n",
       "      <td>0.09</td>\n",
       "    </tr>\n",
       "    <tr>\n",
       "      <th>minimum_minimum_nights</th>\n",
       "      <td>18</td>\n",
       "      <td>0.05</td>\n",
       "    </tr>\n",
       "    <tr>\n",
       "      <th>maximum_minimum_nights</th>\n",
       "      <td>18</td>\n",
       "      <td>0.05</td>\n",
       "    </tr>\n",
       "    <tr>\n",
       "      <th>minimum_maximum_nights</th>\n",
       "      <td>18</td>\n",
       "      <td>0.05</td>\n",
       "    </tr>\n",
       "    <tr>\n",
       "      <th>maximum_maximum_nights</th>\n",
       "      <td>18</td>\n",
       "      <td>0.05</td>\n",
       "    </tr>\n",
       "    <tr>\n",
       "      <th>minimum_nights_avg_ntm</th>\n",
       "      <td>18</td>\n",
       "      <td>0.05</td>\n",
       "    </tr>\n",
       "    <tr>\n",
       "      <th>maximum_nights_avg_ntm</th>\n",
       "      <td>18</td>\n",
       "      <td>0.05</td>\n",
       "    </tr>\n",
       "    <tr>\n",
       "      <th>name</th>\n",
       "      <td>13</td>\n",
       "      <td>0.03</td>\n",
       "    </tr>\n",
       "    <tr>\n",
       "      <th>id</th>\n",
       "      <td>0</td>\n",
       "      <td>0.00</td>\n",
       "    </tr>\n",
       "    <tr>\n",
       "      <th>listing_url</th>\n",
       "      <td>0</td>\n",
       "      <td>0.00</td>\n",
       "    </tr>\n",
       "    <tr>\n",
       "      <th>scrape_id</th>\n",
       "      <td>0</td>\n",
       "      <td>0.00</td>\n",
       "    </tr>\n",
       "    <tr>\n",
       "      <th>last_scraped</th>\n",
       "      <td>0</td>\n",
       "      <td>0.00</td>\n",
       "    </tr>\n",
       "    <tr>\n",
       "      <th>picture_url</th>\n",
       "      <td>0</td>\n",
       "      <td>0.00</td>\n",
       "    </tr>\n",
       "    <tr>\n",
       "      <th>host_id</th>\n",
       "      <td>0</td>\n",
       "      <td>0.00</td>\n",
       "    </tr>\n",
       "    <tr>\n",
       "      <th>host_url</th>\n",
       "      <td>0</td>\n",
       "      <td>0.00</td>\n",
       "    </tr>\n",
       "    <tr>\n",
       "      <th>host_verifications</th>\n",
       "      <td>0</td>\n",
       "      <td>0.00</td>\n",
       "    </tr>\n",
       "    <tr>\n",
       "      <th>neighbourhood_cleansed</th>\n",
       "      <td>0</td>\n",
       "      <td>0.00</td>\n",
       "    </tr>\n",
       "    <tr>\n",
       "      <th>neighbourhood_group_cleansed</th>\n",
       "      <td>0</td>\n",
       "      <td>0.00</td>\n",
       "    </tr>\n",
       "    <tr>\n",
       "      <th>latitude</th>\n",
       "      <td>0</td>\n",
       "      <td>0.00</td>\n",
       "    </tr>\n",
       "    <tr>\n",
       "      <th>longitude</th>\n",
       "      <td>0</td>\n",
       "      <td>0.00</td>\n",
       "    </tr>\n",
       "    <tr>\n",
       "      <th>property_type</th>\n",
       "      <td>0</td>\n",
       "      <td>0.00</td>\n",
       "    </tr>\n",
       "    <tr>\n",
       "      <th>room_type</th>\n",
       "      <td>0</td>\n",
       "      <td>0.00</td>\n",
       "    </tr>\n",
       "    <tr>\n",
       "      <th>accommodates</th>\n",
       "      <td>0</td>\n",
       "      <td>0.00</td>\n",
       "    </tr>\n",
       "    <tr>\n",
       "      <th>amenities</th>\n",
       "      <td>0</td>\n",
       "      <td>0.00</td>\n",
       "    </tr>\n",
       "    <tr>\n",
       "      <th>price</th>\n",
       "      <td>0</td>\n",
       "      <td>0.00</td>\n",
       "    </tr>\n",
       "    <tr>\n",
       "      <th>minimum_nights</th>\n",
       "      <td>0</td>\n",
       "      <td>0.00</td>\n",
       "    </tr>\n",
       "    <tr>\n",
       "      <th>maximum_nights</th>\n",
       "      <td>0</td>\n",
       "      <td>0.00</td>\n",
       "    </tr>\n",
       "    <tr>\n",
       "      <th>has_availability</th>\n",
       "      <td>0</td>\n",
       "      <td>0.00</td>\n",
       "    </tr>\n",
       "    <tr>\n",
       "      <th>availability_30</th>\n",
       "      <td>0</td>\n",
       "      <td>0.00</td>\n",
       "    </tr>\n",
       "    <tr>\n",
       "      <th>availability_60</th>\n",
       "      <td>0</td>\n",
       "      <td>0.00</td>\n",
       "    </tr>\n",
       "    <tr>\n",
       "      <th>availability_90</th>\n",
       "      <td>0</td>\n",
       "      <td>0.00</td>\n",
       "    </tr>\n",
       "    <tr>\n",
       "      <th>availability_365</th>\n",
       "      <td>0</td>\n",
       "      <td>0.00</td>\n",
       "    </tr>\n",
       "    <tr>\n",
       "      <th>calendar_last_scraped</th>\n",
       "      <td>0</td>\n",
       "      <td>0.00</td>\n",
       "    </tr>\n",
       "    <tr>\n",
       "      <th>number_of_reviews</th>\n",
       "      <td>0</td>\n",
       "      <td>0.00</td>\n",
       "    </tr>\n",
       "    <tr>\n",
       "      <th>number_of_reviews_ltm</th>\n",
       "      <td>0</td>\n",
       "      <td>0.00</td>\n",
       "    </tr>\n",
       "    <tr>\n",
       "      <th>number_of_reviews_l30d</th>\n",
       "      <td>0</td>\n",
       "      <td>0.00</td>\n",
       "    </tr>\n",
       "    <tr>\n",
       "      <th>instant_bookable</th>\n",
       "      <td>0</td>\n",
       "      <td>0.00</td>\n",
       "    </tr>\n",
       "    <tr>\n",
       "      <th>calculated_host_listings_count</th>\n",
       "      <td>0</td>\n",
       "      <td>0.00</td>\n",
       "    </tr>\n",
       "    <tr>\n",
       "      <th>calculated_host_listings_count_entire_homes</th>\n",
       "      <td>0</td>\n",
       "      <td>0.00</td>\n",
       "    </tr>\n",
       "    <tr>\n",
       "      <th>calculated_host_listings_count_private_rooms</th>\n",
       "      <td>0</td>\n",
       "      <td>0.00</td>\n",
       "    </tr>\n",
       "    <tr>\n",
       "      <th>calculated_host_listings_count_shared_rooms</th>\n",
       "      <td>0</td>\n",
       "      <td>0.00</td>\n",
       "    </tr>\n",
       "  </tbody>\n",
       "</table>\n",
       "</div>"
      ],
      "text/plain": [
       "                                              N_NAN  PERCENTAGE_NAN\n",
       "bathrooms                                     38277          100.00\n",
       "calendar_updated                              38277          100.00\n",
       "license                                       38276          100.00\n",
       "host_response_time                            17193           44.92\n",
       "host_response_rate                            17193           44.92\n",
       "host_acceptance_rate                          16486           43.07\n",
       "host_about                                    16149           42.19\n",
       "neighborhood_overview                         15627           40.83\n",
       "neighbourhood                                 15626           40.82\n",
       "review_scores_value                           10127           26.46\n",
       "review_scores_location                        10126           26.45\n",
       "review_scores_checkin                         10123           26.45\n",
       "review_scores_accuracy                        10116           26.43\n",
       "review_scores_communication                   10112           26.42\n",
       "review_scores_cleanliness                     10105           26.40\n",
       "first_review                                   9504           24.83\n",
       "last_review                                    9504           24.83\n",
       "review_scores_rating                           9504           24.83\n",
       "reviews_per_month                              9504           24.83\n",
       "host_neighbourhood                             7464           19.50\n",
       "bedrooms                                       3975           10.38\n",
       "beds                                           2405            6.28\n",
       "description                                    1192            3.11\n",
       "host_location                                   137            0.36\n",
       "bathrooms_text                                  107            0.28\n",
       "host_name                                        34            0.09\n",
       "host_since                                       34            0.09\n",
       "host_is_superhost                                34            0.09\n",
       "host_thumbnail_url                               34            0.09\n",
       "host_picture_url                                 34            0.09\n",
       "host_listings_count                              34            0.09\n",
       "host_total_listings_count                        34            0.09\n",
       "host_has_profile_pic                             34            0.09\n",
       "host_identity_verified                           34            0.09\n",
       "minimum_minimum_nights                           18            0.05\n",
       "maximum_minimum_nights                           18            0.05\n",
       "minimum_maximum_nights                           18            0.05\n",
       "maximum_maximum_nights                           18            0.05\n",
       "minimum_nights_avg_ntm                           18            0.05\n",
       "maximum_nights_avg_ntm                           18            0.05\n",
       "name                                             13            0.03\n",
       "id                                                0            0.00\n",
       "listing_url                                       0            0.00\n",
       "scrape_id                                         0            0.00\n",
       "last_scraped                                      0            0.00\n",
       "picture_url                                       0            0.00\n",
       "host_id                                           0            0.00\n",
       "host_url                                          0            0.00\n",
       "host_verifications                                0            0.00\n",
       "neighbourhood_cleansed                            0            0.00\n",
       "neighbourhood_group_cleansed                      0            0.00\n",
       "latitude                                          0            0.00\n",
       "longitude                                         0            0.00\n",
       "property_type                                     0            0.00\n",
       "room_type                                         0            0.00\n",
       "accommodates                                      0            0.00\n",
       "amenities                                         0            0.00\n",
       "price                                             0            0.00\n",
       "minimum_nights                                    0            0.00\n",
       "maximum_nights                                    0            0.00\n",
       "has_availability                                  0            0.00\n",
       "availability_30                                   0            0.00\n",
       "availability_60                                   0            0.00\n",
       "availability_90                                   0            0.00\n",
       "availability_365                                  0            0.00\n",
       "calendar_last_scraped                             0            0.00\n",
       "number_of_reviews                                 0            0.00\n",
       "number_of_reviews_ltm                             0            0.00\n",
       "number_of_reviews_l30d                            0            0.00\n",
       "instant_bookable                                  0            0.00\n",
       "calculated_host_listings_count                    0            0.00\n",
       "calculated_host_listings_count_entire_homes       0            0.00\n",
       "calculated_host_listings_count_private_rooms      0            0.00\n",
       "calculated_host_listings_count_shared_rooms       0            0.00"
      ]
     },
     "execution_count": 4,
     "metadata": {},
     "output_type": "execute_result"
    }
   ],
   "source": [
    "raw_data.isna().sum().to_frame().merge(round((raw_data.isna().sum() / len(raw_data))*100, 2).to_frame(),\n",
    "                                   left_index=True, right_index=True, how='outer' ).\\\n",
    "    rename(columns={'0_x':'N_NAN', '0_y':'PERCENTAGE_NAN'}).\\\n",
    "    sort_values(['PERCENTAGE_NAN','N_NAN'], ascending=False)"
   ]
  },
  {
   "cell_type": "markdown",
   "id": "5ead5c8d-cf34-45d6-9434-b3cf8209c7d4",
   "metadata": {},
   "source": [
    "`bathrooms`, `calendar_updated` and `license` are empty (or mostly empty) columns, which makes them non-informative."
   ]
  },
  {
   "cell_type": "markdown",
   "id": "c04caa0c-80e9-4540-a0c6-fed773c204dd",
   "metadata": {},
   "source": [
    "## Columns with a unique value"
   ]
  },
  {
   "cell_type": "code",
   "execution_count": 5,
   "id": "cddb282d-8c11-4b51-9dba-3f531732d9bd",
   "metadata": {
    "scrolled": true,
    "tags": []
   },
   "outputs": [
    {
     "data": {
      "text/plain": [
       "id                                              38277\n",
       "listing_url                                     38277\n",
       "scrape_id                                           1\n",
       "last_scraped                                        2\n",
       "name                                            36871\n",
       "description                                     34134\n",
       "neighborhood_overview                           18617\n",
       "picture_url                                     37148\n",
       "host_id                                         25904\n",
       "host_url                                        25904\n",
       "host_name                                        9124\n",
       "host_since                                       4290\n",
       "host_location                                    1748\n",
       "host_about                                      14424\n",
       "host_response_time                                  5\n",
       "host_response_rate                                 89\n",
       "host_acceptance_rate                              102\n",
       "host_is_superhost                                   3\n",
       "host_thumbnail_url                              25687\n",
       "host_picture_url                                25687\n",
       "host_neighbourhood                                485\n",
       "host_listings_count                                91\n",
       "host_total_listings_count                          91\n",
       "host_verifications                                526\n",
       "host_has_profile_pic                                3\n",
       "host_identity_verified                              3\n",
       "neighbourhood                                     208\n",
       "neighbourhood_cleansed                            222\n",
       "neighbourhood_group_cleansed                        5\n",
       "latitude                                        17983\n",
       "longitude                                       14780\n",
       "property_type                                      78\n",
       "room_type                                           4\n",
       "accommodates                                       17\n",
       "bathrooms                                           1\n",
       "bathrooms_text                                     31\n",
       "bedrooms                                           15\n",
       "beds                                               19\n",
       "amenities                                       31740\n",
       "price                                             949\n",
       "minimum_nights                                    123\n",
       "maximum_nights                                    271\n",
       "minimum_minimum_nights                            125\n",
       "maximum_minimum_nights                            130\n",
       "minimum_maximum_nights                            232\n",
       "maximum_maximum_nights                            232\n",
       "minimum_nights_avg_ntm                            424\n",
       "maximum_nights_avg_ntm                            528\n",
       "calendar_updated                                    1\n",
       "has_availability                                    2\n",
       "availability_30                                    31\n",
       "availability_60                                    61\n",
       "availability_90                                    91\n",
       "availability_365                                  366\n",
       "calendar_last_scraped                               2\n",
       "number_of_reviews                                 421\n",
       "number_of_reviews_ltm                             143\n",
       "number_of_reviews_l30d                             29\n",
       "first_review                                     3172\n",
       "last_review                                      2561\n",
       "review_scores_rating                              157\n",
       "review_scores_accuracy                            163\n",
       "review_scores_cleanliness                         197\n",
       "review_scores_checkin                             136\n",
       "review_scores_communication                       143\n",
       "review_scores_location                            154\n",
       "review_scores_value                               165\n",
       "license                                             2\n",
       "instant_bookable                                    2\n",
       "calculated_host_listings_count                     60\n",
       "calculated_host_listings_count_entire_homes        45\n",
       "calculated_host_listings_count_private_rooms       47\n",
       "calculated_host_listings_count_shared_rooms         9\n",
       "reviews_per_month                                1362\n",
       "dtype: int64"
      ]
     },
     "execution_count": 5,
     "metadata": {},
     "output_type": "execute_result"
    }
   ],
   "source": [
    "raw_data.nunique(dropna=False)"
   ]
  },
  {
   "cell_type": "markdown",
   "id": "a3143452-0265-4a00-bcd9-9e6f29a724c5",
   "metadata": {},
   "source": [
    "- Every row in raw_data has the same `scrape_id` so this columns does not provide any value.\n",
    "- Columns `id` and `listing_url` don't have duplicates."
   ]
  },
  {
   "cell_type": "markdown",
   "id": "096b8a12-0fc2-46fa-b45c-b1a4bb6c68bd",
   "metadata": {},
   "source": [
    "## Columns subset\n",
    "\n",
    "To adjust to the expected input for the API we are going to select a subset of the columns."
   ]
  },
  {
   "cell_type": "code",
   "execution_count": 6,
   "id": "b0ef2d15-e650-4d67-8470-0bfb54fb4813",
   "metadata": {},
   "outputs": [],
   "source": [
    "data = raw_data[['id','accommodates','room_type','beds','bedrooms','bathrooms_text','neighbourhood_group_cleansed','amenities','latitude','longitude','price']].copy()"
   ]
  },
  {
   "cell_type": "markdown",
   "id": "26c788b0-5a27-4dd3-ab1f-1179846f1ab1",
   "metadata": {},
   "source": [
    "## Univariate analysis"
   ]
  },
  {
   "cell_type": "markdown",
   "id": "171ece79-7d90-409e-8f77-76ec28df8fb3",
   "metadata": {},
   "source": [
    "### Price / target"
   ]
  },
  {
   "cell_type": "code",
   "execution_count": 7,
   "id": "18167dcf-48b0-4388-95cc-fbf19873a2d1",
   "metadata": {},
   "outputs": [
    {
     "data": {
      "text/plain": [
       "(True, True)"
      ]
     },
     "execution_count": 7,
     "metadata": {},
     "output_type": "execute_result"
    }
   ],
   "source": [
    "data.price.str.startswith('$').all(), data.price.str.endswith('.00').all()"
   ]
  },
  {
   "cell_type": "markdown",
   "id": "cefdfaca-8053-4108-b0e8-21282f02b78e",
   "metadata": {},
   "source": [
    "Since all values starts with '$' and have no decimals we can remove this parts and convert the column type to integer."
   ]
  },
  {
   "cell_type": "code",
   "execution_count": 8,
   "id": "30607627-213b-497d-993a-3ef776d9a2a9",
   "metadata": {},
   "outputs": [],
   "source": [
    "data['price_processed'] = data.price.str[1:-3].str.replace(',','').astype(int)"
   ]
  },
  {
   "cell_type": "code",
   "execution_count": 9,
   "id": "f9b1e48d-38b3-49b7-acf1-e748d6bfbef9",
   "metadata": {},
   "outputs": [
    {
     "data": {
      "text/plain": [
       "count    38277.000000\n",
       "mean       170.858714\n",
       "std        305.100271\n",
       "min          0.000000\n",
       "25%         70.000000\n",
       "50%        114.000000\n",
       "75%        189.000000\n",
       "max      10000.000000\n",
       "Name: price_processed, dtype: float64"
      ]
     },
     "execution_count": 9,
     "metadata": {},
     "output_type": "execute_result"
    }
   ],
   "source": [
    "data.price_processed.describe()"
   ]
  },
  {
   "cell_type": "code",
   "execution_count": 10,
   "id": "3454f396-f471-48eb-bb62-b853ff5137fa",
   "metadata": {},
   "outputs": [
    {
     "data": {
      "image/png": "[encoded data removed]",
      "text/plain": [
       "<Figure size 1200x400 with 2 Axes>"
      ]
     },
     "metadata": {},
     "output_type": "display_data"
    }
   ],
   "source": [
    "# Plot price distribution\n",
    "\n",
    "fig, axs = plt.subplots(ncols=2, nrows=1, figsize=(12, 4))\n",
    "sns.histplot(data.price_processed, ax=axs[0]).autoscale(enable=True, axis='x', tight=True)\n",
    "q5, q95 = data.price_processed.quantile([0.05,0.95]).values\n",
    "sns.histplot(data[ (data.price_processed>=q5) & (data.price_processed<=q95) ]['price_processed'], ax=axs[1]).autoscale(enable=True, axis='x', tight=True)"
   ]
  },
  {
   "cell_type": "markdown",
   "id": "e47b24a0-41df-4074-896b-34bf4ac9b3bc",
   "metadata": {},
   "source": [
    "The price distribution is right skewed. 95% of all values are below $450."
   ]
  },
  {
   "cell_type": "code",
   "execution_count": 11,
   "id": "9e596e7e-5452-4d1f-ad80-7263aa745005",
   "metadata": {},
   "outputs": [],
   "source": [
    "data.drop(columns=['price'], inplace=True)\n",
    "data.rename(columns={'price_processed':'price'}, inplace=True)"
   ]
  },
  {
   "cell_type": "markdown",
   "id": "27e187f1-5297-4bb5-af85-ae390ae1437b",
   "metadata": {},
   "source": [
    "### accommodates\n",
    "\n",
    "It refers to the amount of people that the house can accommodate."
   ]
  },
  {
   "cell_type": "code",
   "execution_count": 12,
   "id": "9d34d423-df2e-40d7-800e-81cf775ee034",
   "metadata": {},
   "outputs": [
    {
     "data": {
      "text/plain": [
       "2     17486\n",
       "1      6579\n",
       "4      5863\n",
       "3      3695\n",
       "6      1738\n",
       "5      1514\n",
       "8       515\n",
       "7       345\n",
       "10      178\n",
       "16      118\n",
       "12       98\n",
       "9        57\n",
       "11       26\n",
       "0        21\n",
       "13       18\n",
       "14       15\n",
       "15       11\n",
       "Name: accommodates, dtype: int64"
      ]
     },
     "execution_count": 12,
     "metadata": {},
     "output_type": "execute_result"
    }
   ],
   "source": [
    "data.accommodates.value_counts()"
   ]
  },
  {
   "cell_type": "code",
   "execution_count": 13,
   "id": "3f1a515a-6e9c-45b6-8999-21bdba3b192e",
   "metadata": {},
   "outputs": [
    {
     "data": {
      "text/plain": [
       "count    38277.000000\n",
       "mean         2.792094\n",
       "std          1.869736\n",
       "min          0.000000\n",
       "25%          2.000000\n",
       "50%          2.000000\n",
       "75%          4.000000\n",
       "max         16.000000\n",
       "Name: accommodates, dtype: float64"
      ]
     },
     "execution_count": 13,
     "metadata": {},
     "output_type": "execute_result"
    }
   ],
   "source": [
    "data.accommodates.describe()"
   ]
  },
  {
   "cell_type": "markdown",
   "id": "5104e097-68f5-40e4-ba16-2ceee8a21665",
   "metadata": {},
   "source": [
    "### room_type"
   ]
  },
  {
   "cell_type": "code",
   "execution_count": 14,
   "id": "173fc9a8-beb2-44cf-b9e3-6d0eb75cf124",
   "metadata": {},
   "outputs": [
    {
     "data": {
      "text/plain": [
       "Entire home/apt    20397\n",
       "Private room       17098\n",
       "Shared room          572\n",
       "Hotel room           210\n",
       "Name: room_type, dtype: int64"
      ]
     },
     "execution_count": 14,
     "metadata": {},
     "output_type": "execute_result"
    }
   ],
   "source": [
    "data.room_type.value_counts(dropna=False)"
   ]
  },
  {
   "cell_type": "markdown",
   "id": "f61cc5d3-5810-4821-aed7-267127adb3a6",
   "metadata": {},
   "source": [
    "### beds"
   ]
  },
  {
   "cell_type": "code",
   "execution_count": 15,
   "id": "16800c93-dd00-4eb9-a9b3-686f546068f1",
   "metadata": {},
   "outputs": [
    {
     "data": {
      "text/plain": [
       "1.0     23132\n",
       "2.0      7932\n",
       "3.0      2801\n",
       "NaN      2405\n",
       "4.0      1196\n",
       "5.0       408\n",
       "6.0       208\n",
       "7.0        82\n",
       "8.0        48\n",
       "9.0        22\n",
       "12.0       13\n",
       "10.0       12\n",
       "11.0        7\n",
       "16.0        4\n",
       "13.0        3\n",
       "24.0        1\n",
       "18.0        1\n",
       "21.0        1\n",
       "17.0        1\n",
       "Name: beds, dtype: int64"
      ]
     },
     "execution_count": 15,
     "metadata": {},
     "output_type": "execute_result"
    }
   ],
   "source": [
    "data.beds.value_counts(dropna=False)"
   ]
  },
  {
   "cell_type": "markdown",
   "id": "bc974f64-668f-4196-b12d-8129442cd998",
   "metadata": {},
   "source": [
    "### bedrooms"
   ]
  },
  {
   "cell_type": "code",
   "execution_count": 16,
   "id": "30ebdf4b-1d1a-4035-b9b3-2af022e81340",
   "metadata": {},
   "outputs": [
    {
     "data": {
      "text/plain": [
       "1.0     26531\n",
       "2.0      5371\n",
       "NaN      3975\n",
       "3.0      1761\n",
       "4.0       474\n",
       "5.0       108\n",
       "6.0        32\n",
       "8.0         9\n",
       "7.0         8\n",
       "9.0         3\n",
       "10.0        1\n",
       "11.0        1\n",
       "13.0        1\n",
       "12.0        1\n",
       "16.0        1\n",
       "Name: bedrooms, dtype: int64"
      ]
     },
     "execution_count": 16,
     "metadata": {},
     "output_type": "execute_result"
    }
   ],
   "source": [
    "data.bedrooms.value_counts(dropna=False)"
   ]
  },
  {
   "cell_type": "markdown",
   "id": "7d976090-ee13-422f-8abd-5e0521cf393b",
   "metadata": {},
   "source": [
    "### bathrooms_text\n",
    "\n",
    "We have to extract the number of bathrooms from this column."
   ]
  },
  {
   "cell_type": "code",
   "execution_count": 17,
   "id": "5fc6b558-8684-441b-b7bb-cb34de94c76e",
   "metadata": {},
   "outputs": [
    {
     "data": {
      "text/plain": [
       "1 bath               19697\n",
       "1 shared bath         9497\n",
       "1 private bath        2758\n",
       "2 baths               2201\n",
       "2 shared baths        1128\n",
       "1.5 baths             1039\n",
       "1.5 shared baths       713\n",
       "2.5 baths              307\n",
       "3 baths                185\n",
       "0 shared baths         142\n",
       "NaN                    107\n",
       "2.5 shared baths        98\n",
       "3 shared baths          94\n",
       "3.5 baths               79\n",
       "4 baths                 58\n",
       "0 baths                 43\n",
       "Half-bath               40\n",
       "4.5 baths               21\n",
       "Shared half-bath        15\n",
       "4 shared baths          11\n",
       "Private half-bath       11\n",
       "5 baths                 11\n",
       "5.5 baths                5\n",
       "6 baths                  5\n",
       "8 baths                  3\n",
       "3.5 shared baths         2\n",
       "7.5 baths                2\n",
       "6 shared baths           2\n",
       "4.5 shared baths         1\n",
       "6.5 baths                1\n",
       "7 baths                  1\n",
       "Name: bathrooms_text, dtype: int64"
      ]
     },
     "execution_count": 17,
     "metadata": {},
     "output_type": "execute_result"
    }
   ],
   "source": [
    "data.bathrooms_text.value_counts(dropna=False)"
   ]
  },
  {
   "cell_type": "markdown",
   "id": "14d19cd3-291e-4565-b2e6-2fca3623f95b",
   "metadata": {},
   "source": [
    "A half-bath is a small bathroom that typically only includes a sink and a toilet, but no shower or bathtub. We could consider this as a quantity of 0.5 baths."
   ]
  },
  {
   "cell_type": "code",
   "execution_count": 18,
   "id": "f66270c6-c286-43a7-83f6-af9da3666d4c",
   "metadata": {},
   "outputs": [],
   "source": [
    "def extract_num_baths(text):\n",
    "    found_groups = [group for group in re.findall(\"(\\d*\\.?\\d*).*\", str(text)) if group!='']\n",
    "    if found_groups:\n",
    "        return float(found_groups[0])\n",
    "    elif pd.isna(text) or text is None:\n",
    "        return np.nan\n",
    "    # Special cases\n",
    "    elif \"half-bath\" in text.lower():\n",
    "        return 0.5\n",
    "    else:  # In case there were any cases like this\n",
    "        return 1"
   ]
  },
  {
   "cell_type": "code",
   "execution_count": 19,
   "id": "2580023e-ba1d-47c8-add6-31e3286a04e4",
   "metadata": {},
   "outputs": [
    {
     "data": {
      "text/plain": [
       "count    38170.000000\n",
       "mean         1.151585\n",
       "std          0.436290\n",
       "min          0.000000\n",
       "25%          1.000000\n",
       "50%          1.000000\n",
       "75%          1.000000\n",
       "max          8.000000\n",
       "Name: bathrooms, dtype: float64"
      ]
     },
     "execution_count": 19,
     "metadata": {},
     "output_type": "execute_result"
    }
   ],
   "source": [
    "data['bathrooms'] = data.bathrooms_text.apply(extract_num_baths)\n",
    "data.bathrooms.describe()"
   ]
  },
  {
   "cell_type": "code",
   "execution_count": 20,
   "id": "819e2e72-4b41-4c4c-af22-fbec8714fa24",
   "metadata": {},
   "outputs": [
    {
     "data": {
      "text/plain": [
       "1.0    31952\n",
       "2.0     3329\n",
       "1.5     1752\n",
       "2.5      405\n",
       "3.0      279\n",
       "0.0      185\n",
       "NaN      107\n",
       "3.5       81\n",
       "4.0       69\n",
       "0.5       66\n",
       "4.5       22\n",
       "5.0       11\n",
       "6.0        7\n",
       "5.5        5\n",
       "8.0        3\n",
       "7.5        2\n",
       "6.5        1\n",
       "7.0        1\n",
       "Name: bathrooms, dtype: int64"
      ]
     },
     "execution_count": 20,
     "metadata": {},
     "output_type": "execute_result"
    }
   ],
   "source": [
    "data.bathrooms.value_counts(dropna=False)"
   ]
  },
  {
   "cell_type": "code",
   "execution_count": 21,
   "id": "d148d54a-1248-4dac-8b29-2dc87cd302a0",
   "metadata": {},
   "outputs": [],
   "source": [
    "data.drop(columns=['bathrooms_text'], inplace=True)"
   ]
  },
  {
   "cell_type": "markdown",
   "id": "5f8855b1-5369-4096-9935-9607c5319ed6",
   "metadata": {},
   "source": [
    "### neighbourhood_group_cleansed\n",
    "\n",
    "It seems to represent the most popular parts of New York where house can be grouped."
   ]
  },
  {
   "cell_type": "code",
   "execution_count": 22,
   "id": "34f7980a-6ba5-4059-a105-4d62c56f1d51",
   "metadata": {},
   "outputs": [
    {
     "data": {
      "text/plain": [
       "Manhattan        16781\n",
       "Brooklyn         14716\n",
       "Queens            5323\n",
       "Bronx             1104\n",
       "Staten Island      353\n",
       "Name: neighbourhood_group_cleansed, dtype: int64"
      ]
     },
     "execution_count": 22,
     "metadata": {},
     "output_type": "execute_result"
    }
   ],
   "source": [
    "raw_data.neighbourhood_group_cleansed.value_counts(dropna=False)"
   ]
  },
  {
   "cell_type": "markdown",
   "id": "4e5503fd-94c8-4034-bb5c-ff60ad512e1e",
   "metadata": {},
   "source": [
    "If we were interested in more detailed information we could also be extract the neighbourhood from the column `neighbourhood`.\n",
    "\n",
    "#### neighbourhood"
   ]
  },
  {
   "cell_type": "code",
   "execution_count": 23,
   "id": "22ca555a-083f-4167-9361-213d9ca0d839",
   "metadata": {},
   "outputs": [
    {
     "data": {
      "text/plain": [
       "NaN                                          15626\n",
       "New York, United States                       9301\n",
       "Brooklyn, New York, United States             8696\n",
       "Queens, New York, United States               2840\n",
       "Bronx, New York, United States                 387\n",
       "Brooklyn , New York, United States             264\n",
       "The Bronx, New York, United States             239\n",
       "Staten Island, New York, United States         212\n",
       "Astoria, New York, United States                56\n",
       "Long Island City, New York, United States       46\n",
       "Name: neighbourhood, dtype: int64"
      ]
     },
     "execution_count": 23,
     "metadata": {},
     "output_type": "execute_result"
    }
   ],
   "source": [
    "raw_data.neighbourhood.value_counts(dropna=False).head(10)"
   ]
  },
  {
   "cell_type": "code",
   "execution_count": 24,
   "id": "475d23d8-a071-40bc-a4c5-ba7ed0de0106",
   "metadata": {},
   "outputs": [
    {
     "data": {
      "text/plain": [
       "Jamaica , ny, United States                   1\n",
       " Crown Heights,NY, New York, United States    1\n",
       "Corona , New York, United States              1\n",
       "Flush, New York, United States                1\n",
       "Yonkers, New York, United States              1\n",
       "Name: neighbourhood, dtype: int64"
      ]
     },
     "execution_count": 24,
     "metadata": {},
     "output_type": "execute_result"
    }
   ],
   "source": [
    "raw_data.neighbourhood.value_counts(dropna=False).tail()"
   ]
  },
  {
   "cell_type": "code",
   "execution_count": 25,
   "id": "96a61493-0b6b-41a1-8dec-0748ee0e8a7a",
   "metadata": {},
   "outputs": [
    {
     "data": {
      "text/plain": [
       "United States    22649\n",
       "NaN              15626\n",
       "Argentina            1\n",
       "France               1\n",
       "Name: neighbourhood, dtype: int64"
      ]
     },
     "execution_count": 25,
     "metadata": {},
     "output_type": "execute_result"
    }
   ],
   "source": [
    "raw_data.neighbourhood.str.split(', ').str[-1].value_counts(dropna=False)"
   ]
  },
  {
   "cell_type": "markdown",
   "id": "7778d5f5-3d87-426b-b142-a25e6eebc08f",
   "metadata": {},
   "source": [
    "It's probable that these values can be manually written. For example, the houses from Argentina and France are obvious errors."
   ]
  },
  {
   "cell_type": "code",
   "execution_count": 26,
   "id": "be641bf8-556e-4f67-bd47-923b25a29e12",
   "metadata": {
    "scrolled": true,
    "tags": []
   },
   "outputs": [
    {
     "data": {
      "text/plain": [
       "NaN                            15626\n",
       "New York                        9306\n",
       "Brooklyn                        8699\n",
       "Queens                          2843\n",
       "Bronx                            388\n",
       "Brooklyn                         265\n",
       "The Bronx                        239\n",
       "Staten Island                    212\n",
       "Astoria                           59\n",
       "Long Island City                  47\n",
       "Flushing                          36\n",
       "Manhattan                         27\n",
       "Bronx                             26\n",
       "Woodside                          23\n",
       "New York                          19\n",
       "Flushing                          18\n",
       "Queens                            17\n",
       "Astoria                           17\n",
       "NEW YORK                          16\n",
       "Elmhurst                          13\n",
       "New York City                     13\n",
       "Jamaica                           11\n",
       "Ridgewood                         11\n",
       "Elmhurst                          10\n",
       "Sunnyside                         10\n",
       "Staten Island                     10\n",
       "East Elmhurst                      9\n",
       "brooklyn                           9\n",
       "Woodside                           8\n",
       "Jackson Heights                    8\n",
       "Clinton Hill Brooklyn              6\n",
       "Ridgewood                          6\n",
       "East Elmhurst                      6\n",
       "Jamaica                            6\n",
       "flushing                           6\n",
       "Rego Park                          6\n",
       "Springfield Gardens                6\n",
       "Rockaway Beach                     5\n",
       "Richmond Hill                      5\n",
       "Queens Village                     4\n",
       "Arverne                            4\n",
       "NY                                 4\n",
       "纽约市                                4\n",
       "Woodhaven                          4\n",
       "Saint Albans                       4\n",
       "Far Rockaway                       4\n",
       "New york                           4\n",
       "Woodhaven                          4\n",
       "Sunnyside                          4\n",
       "Williamsburg                       4\n",
       "bronx                              4\n",
       "Forest Hills                       3\n",
       "Glendale                           3\n",
       "United States                      3\n",
       "Corona                             3\n",
       "Long Island city                   3\n",
       "Long Island                        3\n",
       "Ozone Park                         3\n",
       "New York City                      3\n",
       "Jackson Heights                    3\n",
       "Bayside                            3\n",
       "Rosedale                           3\n",
       "LIC                                3\n",
       "Laurelton                          3\n",
       "Bushwick Brooklyn                  3\n",
       "Fresh Meadows                      3\n",
       "BROOKLYN                           2\n",
       "LONG ISLAND CITY                   2\n",
       "Queens Village                     2\n",
       "Riverdale                          2\n",
       "Bushwick                           2\n",
       "Howard Beach                       2\n",
       "Mount Vernon                       2\n",
       "Richmond Hill                      2\n",
       "纽约                                 2\n",
       "Briarwood                          2\n",
       "South Richmond Hill                2\n",
       "Park Slope                         2\n",
       "Glendale                           2\n",
       "Floral Park                        2\n",
       "new york                           2\n",
       "Middle Village                     2\n",
       "Jackson heights                    2\n",
       "Fresh Meadows                      2\n",
       "Maspeth                            2\n",
       "astoria                            2\n",
       "BROOKLYN                           2\n",
       "Middle village                     1\n",
       "Saint Albans                       1\n",
       "bronx                              1\n",
       "Fort Greene                        1\n",
       " East Elmhurst                     1\n",
       "Scottsdale                         1\n",
       "Broklyn                            1\n",
       "The Bronx (Riverdale)              1\n",
       "Queens-Rego Park                   1\n",
       " Astoria                           1\n",
       "North Bronx (Wakefield)            1\n",
       "Brooklyn Heights                   1\n",
       "South Ozone Park                   1\n",
       "woodside                           1\n",
       "Lawrence                           1\n",
       "Corona queens                      1\n",
       "Flushing or east Elmhurst          1\n",
       "Rego Park                          1\n",
       "New York,Manhattan                 1\n",
       "Maspeth                            1\n",
       " Springfield Gardens               1\n",
       "Long Island city                   1\n",
       "Bushwick Brooklyn                  1\n",
       "Jamaica queens                     1\n",
       "Rosedale                           1\n",
       "Forest hills                       1\n",
       "NYC                                1\n",
       "Laurelton                          1\n",
       "forest hills                       1\n",
       "South ozone park                   1\n",
       "Forest Hill                        1\n",
       "New York - Sunnyside               1\n",
       " Forest Hills                      1\n",
       "Little neck                        1\n",
       "Queens village                     1\n",
       "Greenpoint Brooklyn                1\n",
       "Elmont                             1\n",
       "WOODSIDE                           1\n",
       "Williamsburg                       1\n",
       "Montbel                            1\n",
       "Nueva York                         1\n",
       " Crown Heights,NY                  1\n",
       "Long island city                   1\n",
       "Fresh meadows                      1\n",
       "flushing                           1\n",
       "Rockaway beach                     1\n",
       "MIDDLE VILLAGE                     1\n",
       "Gravesend Brooklyn                 1\n",
       "New York city                      1\n",
       "Astoria Queens                     1\n",
       "Jackson heights                    1\n",
       "Richmond hill                      1\n",
       "SUNNYSIDE                          1\n",
       "East elmhurst                      1\n",
       "RIVERDALE                          1\n",
       "Flushing /Kew Gardens Hills        1\n",
       "queens                             1\n",
       "Jackson  hights                    1\n",
       "forest hills/corona                1\n",
       "New-York                           1\n",
       "Brooklyn.                          1\n",
       "ASTORIA                            1\n",
       "Greenpoint                         1\n",
       "Harlem                             1\n",
       "NY                                 1\n",
       "Kew Gardens                        1\n",
       "Kips Bay                           1\n",
       "Parkchester                        1\n",
       "Manhattan                          1\n",
       "Newyork                            1\n",
       "Kew Gardens                        1\n",
       "Oakland Gardens                    1\n",
       "East Elmhurst or Flushing          1\n",
       "west new york                      1\n",
       "Springfield gardens                1\n",
       "St. Albans                         1\n",
       "Astoria Queens                     1\n",
       "Bronx New York                     1\n",
       "Pomona                             1\n",
       "Staten island                      1\n",
       "East elmhurst                      1\n",
       "elmhurst Queens                    1\n",
       "Brookly                            1\n",
       "FOREST HILLS                       1\n",
       "Hollis                             1\n",
       "Springfield Gardens                1\n",
       "8425 Elmhurst avenue               1\n",
       "Cambria heights                    1\n",
       "Forest hills                       1\n",
       "Bushwick                           1\n",
       "ozone park queens                  1\n",
       "Corona                             1\n",
       "Flush                              1\n",
       "Rockaway Beach                     1\n",
       "Yonkers                            1\n",
       "Name: neighbourhood, dtype: int64"
      ]
     },
     "execution_count": 26,
     "metadata": {},
     "output_type": "execute_result"
    }
   ],
   "source": [
    "raw_data.neighbourhood.str.split(', ').str[0].value_counts(dropna=False)"
   ]
  },
  {
   "cell_type": "code",
   "execution_count": 27,
   "id": "42ad9777-f563-471a-8a8f-4d2b887c22de",
   "metadata": {
    "scrolled": true,
    "tags": []
   },
   "outputs": [
    {
     "data": {
      "text/plain": [
       "specific_neighbourhood\n",
       " Astoria                                                                [Queens]\n",
       " Crown Heights,NY                                                     [Brooklyn]\n",
       " East Elmhurst                                                          [Queens]\n",
       " Forest Hills                                                           [Queens]\n",
       " Springfield Gardens                                                    [Queens]\n",
       "8425 Elmhurst avenue                                                    [Queens]\n",
       "ASTORIA                                                                 [Queens]\n",
       "Arverne                                                                 [Queens]\n",
       "Astoria                                                                 [Queens]\n",
       "Astoria                                                                 [Queens]\n",
       "Astoria Queens                                                          [Queens]\n",
       "Astoria Queens                                                          [Queens]\n",
       "BROOKLYN                                                              [Brooklyn]\n",
       "BROOKLYN                                                              [Brooklyn]\n",
       "Bayside                                                                 [Queens]\n",
       "Briarwood                                                               [Queens]\n",
       "Broklyn                                                               [Brooklyn]\n",
       "Bronx                                                         [Bronx, Manhattan]\n",
       "Bronx                                                                    [Bronx]\n",
       "Bronx New York                                                           [Bronx]\n",
       "Brookly                                                               [Brooklyn]\n",
       "Brooklyn                                                      [Brooklyn, Queens]\n",
       "Brooklyn                                                              [Brooklyn]\n",
       "Brooklyn Heights                                                      [Brooklyn]\n",
       "Brooklyn.                                                             [Brooklyn]\n",
       "Bushwick                                                              [Brooklyn]\n",
       "Bushwick                                                              [Brooklyn]\n",
       "Bushwick Brooklyn                                                     [Brooklyn]\n",
       "Bushwick Brooklyn                                                     [Brooklyn]\n",
       "Cambria heights                                                         [Queens]\n",
       "Clinton Hill Brooklyn                                                 [Brooklyn]\n",
       "Corona                                                                  [Queens]\n",
       "Corona                                                                  [Queens]\n",
       "Corona queens                                                           [Queens]\n",
       "East Elmhurst                                                           [Queens]\n",
       "East Elmhurst                                                           [Queens]\n",
       "East Elmhurst or Flushing                                               [Queens]\n",
       "East elmhurst                                                           [Queens]\n",
       "East elmhurst                                                           [Queens]\n",
       "Elmhurst                                                                [Queens]\n",
       "Elmhurst                                                                [Queens]\n",
       "Elmont                                                                  [Queens]\n",
       "FOREST HILLS                                                            [Queens]\n",
       "Far Rockaway                                                            [Queens]\n",
       "Floral Park                                                             [Queens]\n",
       "Flush                                                                   [Queens]\n",
       "Flushing                                                                [Queens]\n",
       "Flushing                                                                [Queens]\n",
       "Flushing /Kew Gardens Hills                                             [Queens]\n",
       "Flushing or east Elmhurst                                               [Queens]\n",
       "Forest Hill                                                             [Queens]\n",
       "Forest Hills                                                            [Queens]\n",
       "Forest hills                                                            [Queens]\n",
       "Forest hills                                                            [Queens]\n",
       "Fort Greene                                                           [Brooklyn]\n",
       "Fresh Meadows                                                           [Queens]\n",
       "Fresh Meadows                                                           [Queens]\n",
       "Fresh meadows                                                           [Queens]\n",
       "Glendale                                                                [Queens]\n",
       "Glendale                                                                [Queens]\n",
       "Gravesend Brooklyn                                                    [Brooklyn]\n",
       "Greenpoint                                                            [Brooklyn]\n",
       "Greenpoint Brooklyn                                                   [Brooklyn]\n",
       "Harlem                                                               [Manhattan]\n",
       "Hollis                                                                  [Queens]\n",
       "Howard Beach                                                            [Queens]\n",
       "Jackson  hights                                                         [Queens]\n",
       "Jackson Heights                                                         [Queens]\n",
       "Jackson Heights                                                         [Queens]\n",
       "Jackson heights                                                         [Queens]\n",
       "Jackson heights                                                         [Queens]\n",
       "Jamaica                                                                 [Queens]\n",
       "Jamaica                                                                 [Queens]\n",
       "Jamaica queens                                                          [Queens]\n",
       "Kew Gardens                                                             [Queens]\n",
       "Kew Gardens                                                             [Queens]\n",
       "Kips Bay                                                             [Manhattan]\n",
       "LIC                                                                     [Queens]\n",
       "LONG ISLAND CITY                                                        [Queens]\n",
       "Laurelton                                                               [Queens]\n",
       "Laurelton                                                               [Queens]\n",
       "Lawrence                                                                [Queens]\n",
       "Little neck                                                             [Queens]\n",
       "Long Island                                                             [Queens]\n",
       "Long Island City                                                        [Queens]\n",
       "Long Island city                                                        [Queens]\n",
       "Long Island city                                                        [Queens]\n",
       "Long island city                                                        [Queens]\n",
       "MIDDLE VILLAGE                                                          [Queens]\n",
       "Manhattan                                                            [Manhattan]\n",
       "Manhattan                                                            [Manhattan]\n",
       "Maspeth                                                                 [Queens]\n",
       "Maspeth                                                                 [Queens]\n",
       "Middle Village                                                          [Queens]\n",
       "Middle village                                                          [Queens]\n",
       "Montbel                                                              [Manhattan]\n",
       "Mount Vernon                                                             [Bronx]\n",
       "NEW YORK                                                             [Manhattan]\n",
       "NY                                                         [Manhattan, Brooklyn]\n",
       "NY                                                                   [Manhattan]\n",
       "NYC                                                                  [Manhattan]\n",
       "New York                       [Manhattan, Brooklyn, Queens, Bronx, Staten Is...\n",
       "New York                                           [Queens, Brooklyn, Manhattan]\n",
       "New York - Sunnyside                                                    [Queens]\n",
       "New York City                                      [Brooklyn, Manhattan, Queens]\n",
       "New York City                                                 [Brooklyn, Queens]\n",
       "New York city                                                        [Manhattan]\n",
       "New York,Manhattan                                                   [Manhattan]\n",
       "New york                                                   [Brooklyn, Manhattan]\n",
       "New-York                                                             [Manhattan]\n",
       "Newyork                                                                 [Queens]\n",
       "North Bronx (Wakefield)                                                  [Bronx]\n",
       "Nueva York                                                              [Queens]\n",
       "Oakland Gardens                                                         [Queens]\n",
       "Ozone Park                                                              [Queens]\n",
       "Park Slope                                                            [Brooklyn]\n",
       "Parkchester                                                              [Bronx]\n",
       "Pomona                                                                  [Queens]\n",
       "Queens                                                        [Queens, Brooklyn]\n",
       "Queens                                                                  [Queens]\n",
       "Queens Village                                                          [Queens]\n",
       "Queens Village                                                          [Queens]\n",
       "Queens village                                                          [Queens]\n",
       "Queens-Rego Park                                                        [Queens]\n",
       "RIVERDALE                                                                [Bronx]\n",
       "Rego Park                                                               [Queens]\n",
       "Rego Park                                                               [Queens]\n",
       "Richmond Hill                                                           [Queens]\n",
       "Richmond Hill                                                           [Queens]\n",
       "Richmond hill                                                           [Queens]\n",
       "Ridgewood                                                     [Brooklyn, Queens]\n",
       "Ridgewood                                                               [Queens]\n",
       "Riverdale                                                                [Bronx]\n",
       "Rockaway Beach                                                          [Queens]\n",
       "Rockaway Beach                                                          [Queens]\n",
       "Rockaway beach                                                          [Queens]\n",
       "Rosedale                                                                [Queens]\n",
       "Rosedale                                                                [Queens]\n",
       "SUNNYSIDE                                                               [Queens]\n",
       "Saint Albans                                                            [Queens]\n",
       "Saint Albans                                                            [Queens]\n",
       "Scottsdale                                                           [Manhattan]\n",
       "South Ozone Park                                                        [Queens]\n",
       "South Richmond Hill                                                     [Queens]\n",
       "South ozone park                                                        [Queens]\n",
       "Springfield Gardens                                                     [Queens]\n",
       "Springfield Gardens                                                     [Queens]\n",
       "Springfield gardens                                                     [Queens]\n",
       "St. Albans                                                              [Queens]\n",
       "Staten Island                                                    [Staten Island]\n",
       "Staten Island                                                    [Staten Island]\n",
       "Staten island                                                    [Staten Island]\n",
       "Sunnyside                                                               [Queens]\n",
       "Sunnyside                                                               [Queens]\n",
       "The Bronx                                                                [Bronx]\n",
       "The Bronx (Riverdale)                                                    [Bronx]\n",
       "United States                                       [Manhattan, Brooklyn, Bronx]\n",
       "WOODSIDE                                                                [Queens]\n",
       "Williamsburg                                                          [Brooklyn]\n",
       "Williamsburg                                                          [Brooklyn]\n",
       "Woodhaven                                                               [Queens]\n",
       "Woodhaven                                                               [Queens]\n",
       "Woodside                                                                [Queens]\n",
       "Woodside                                                                [Queens]\n",
       "Yonkers                                                                  [Bronx]\n",
       "astoria                                                                 [Queens]\n",
       "bronx                                                                    [Bronx]\n",
       "bronx                                                                    [Bronx]\n",
       "brooklyn                                                              [Brooklyn]\n",
       "elmhurst Queens                                                         [Queens]\n",
       "flushing                                                                [Queens]\n",
       "flushing                                                                [Queens]\n",
       "forest hills                                                            [Queens]\n",
       "forest hills/corona                                                     [Queens]\n",
       "new york                                                     [Queens, Manhattan]\n",
       "ozone park queens                                                       [Queens]\n",
       "queens                                                                  [Queens]\n",
       "west new york                                                        [Manhattan]\n",
       "woodside                                                                [Queens]\n",
       "纽约                                                                      [Queens]\n",
       "纽约市                                                                     [Queens]\n",
       "Name: neighbourhood_group_cleansed, dtype: object"
      ]
     },
     "execution_count": 27,
     "metadata": {},
     "output_type": "execute_result"
    }
   ],
   "source": [
    "raw_data['specific_neighbourhood'] = raw_data.neighbourhood.str.split(', ').str[0]\n",
    "raw_data.groupby('specific_neighbourhood')['neighbourhood_group_cleansed'].unique()"
   ]
  },
  {
   "cell_type": "code",
   "execution_count": 28,
   "id": "af86af13-3dcf-4dd8-9bf2-439dfa8177ff",
   "metadata": {},
   "outputs": [],
   "source": [
    "data.rename(columns={'neighbourhood_group_cleansed':'neighbourhood'}, inplace=True)"
   ]
  },
  {
   "cell_type": "markdown",
   "id": "f8a6c3fa-3fe9-4212-9623-535efca9e8d9",
   "metadata": {},
   "source": [
    "### amenities\n",
    "\n",
    "We are only interested in TV, elevator and internet."
   ]
  },
  {
   "cell_type": "code",
   "execution_count": 29,
   "id": "ab957a36-0ee7-42c2-a3eb-bf11b0fdb973",
   "metadata": {},
   "outputs": [
    {
     "data": {
      "text/plain": [
       "0    [\"Extra pillows and blankets\", \"Baking sheet\",...\n",
       "1    [\"Extra pillows and blankets\", \"Luggage dropof...\n",
       "2    [\"Kitchen\", \"Long term stays allowed\", \"Wifi\",...\n",
       "3    [\"Kitchen\", \"BBQ grill\", \"Cable TV\", \"Carbon m...\n",
       "4    [\"Room-darkening shades\", \"Lock on bedroom doo...\n",
       "Name: amenities, dtype: object"
      ]
     },
     "execution_count": 29,
     "metadata": {},
     "output_type": "execute_result"
    }
   ],
   "source": [
    "data.amenities.head()"
   ]
  },
  {
   "cell_type": "code",
   "execution_count": 30,
   "id": "1a7f0972-2754-4b07-9ce8-655c5017dd1c",
   "metadata": {},
   "outputs": [
    {
     "data": {
      "text/plain": [
       "37303"
      ]
     },
     "execution_count": 30,
     "metadata": {},
     "output_type": "execute_result"
    }
   ],
   "source": [
    "data.amenities.str.lower().str.contains('wifi').sum()"
   ]
  },
  {
   "cell_type": "code",
   "execution_count": 31,
   "id": "565070ec-f4db-4ca6-9c4b-f96fa69d3471",
   "metadata": {},
   "outputs": [
    {
     "data": {
      "text/plain": [
       "27882"
      ]
     },
     "execution_count": 31,
     "metadata": {},
     "output_type": "execute_result"
    }
   ],
   "source": [
    "data.amenities.str.lower().str.contains('tv').sum()"
   ]
  },
  {
   "cell_type": "code",
   "execution_count": 32,
   "id": "86122dbf-ce2d-4953-b5bd-a4681f1d21dd",
   "metadata": {},
   "outputs": [
    {
     "data": {
      "text/plain": [
       "9100"
      ]
     },
     "execution_count": 32,
     "metadata": {},
     "output_type": "execute_result"
    }
   ],
   "source": [
    "data.amenities.str.lower().str.contains('elevator').sum()"
   ]
  },
  {
   "cell_type": "code",
   "execution_count": 33,
   "id": "54f8faf5-b292-4c3a-8044-efa9d68acade",
   "metadata": {},
   "outputs": [],
   "source": [
    "def find_amenities(lst):\n",
    "    return pd.Series([int('tv' in lst.lower()), int('elevator' in lst.lower()), int('wifi' in lst.lower())])"
   ]
  },
  {
   "cell_type": "code",
   "execution_count": 34,
   "id": "13b3ac85-cb22-4e3f-bb91-19d0ca1ceab1",
   "metadata": {},
   "outputs": [],
   "source": [
    "data[['tv','elevator','internet']] = data.amenities.apply(find_amenities)"
   ]
  },
  {
   "cell_type": "code",
   "execution_count": 35,
   "id": "e2bad1b8-e884-4886-88a5-225a38d23d15",
   "metadata": {},
   "outputs": [
    {
     "data": {
      "text/plain": [
       "tv          27882\n",
       "elevator     9100\n",
       "internet    37303\n",
       "dtype: int64"
      ]
     },
     "execution_count": 35,
     "metadata": {},
     "output_type": "execute_result"
    }
   ],
   "source": [
    "data[['tv','elevator','internet']].sum()"
   ]
  },
  {
   "cell_type": "code",
   "execution_count": 36,
   "id": "6116c5bd-6ffa-49c9-a712-594fabdd6044",
   "metadata": {},
   "outputs": [],
   "source": [
    "data.drop(columns=['amenities'], inplace=True)"
   ]
  },
  {
   "cell_type": "markdown",
   "id": "c1781735-71ea-46ce-bd10-7d2b89e04ee4",
   "metadata": {},
   "source": [
    "### latitude"
   ]
  },
  {
   "cell_type": "code",
   "execution_count": 37,
   "id": "ff5ea13c-d7cb-4f2a-b031-83deecc78c6a",
   "metadata": {},
   "outputs": [
    {
     "data": {
      "text/plain": [
       "count    38277.000000\n",
       "mean        40.729206\n",
       "std          0.055752\n",
       "min         40.504560\n",
       "25%         40.689260\n",
       "50%         40.725180\n",
       "75%         40.762680\n",
       "max         40.914020\n",
       "Name: latitude, dtype: float64"
      ]
     },
     "execution_count": 37,
     "metadata": {},
     "output_type": "execute_result"
    }
   ],
   "source": [
    "data.latitude.describe()"
   ]
  },
  {
   "cell_type": "code",
   "execution_count": 38,
   "id": "b87ac46a-926a-4a7c-a7a5-5fe44b89ddaa",
   "metadata": {},
   "outputs": [
    {
     "data": {
      "image/png": "[encoded data removed]",
      "text/plain": [
       "<Figure size 640x480 with 1 Axes>"
      ]
     },
     "metadata": {},
     "output_type": "display_data"
    }
   ],
   "source": [
    "sns.histplot(data.latitude);"
   ]
  },
  {
   "cell_type": "markdown",
   "id": "eeb71e53-7365-4be5-a48f-f0a15a008ed7",
   "metadata": {},
   "source": [
    "### longitude"
   ]
  },
  {
   "cell_type": "code",
   "execution_count": 39,
   "id": "9aa4de12-c932-41a9-afb8-95ddade568a9",
   "metadata": {},
   "outputs": [
    {
     "data": {
      "text/plain": [
       "count    38277.000000\n",
       "mean       -73.948967\n",
       "std          0.050759\n",
       "min        -74.249840\n",
       "25%        -73.983270\n",
       "50%        -73.954770\n",
       "75%        -73.930430\n",
       "max        -73.710870\n",
       "Name: longitude, dtype: float64"
      ]
     },
     "execution_count": 39,
     "metadata": {},
     "output_type": "execute_result"
    }
   ],
   "source": [
    "data.longitude.describe()"
   ]
  },
  {
   "cell_type": "code",
   "execution_count": 40,
   "id": "fe640e6c-ab3e-43b2-8f5b-c8e04a7d8f33",
   "metadata": {},
   "outputs": [
    {
     "data": {
      "image/png": "[encoded data removed]",
      "text/plain": [
       "<Figure size 640x480 with 1 Axes>"
      ]
     },
     "metadata": {},
     "output_type": "display_data"
    }
   ],
   "source": [
    "sns.histplot(data.longitude);"
   ]
  },
  {
   "cell_type": "code",
   "execution_count": 41,
   "id": "d743c158-bdd9-4931-9e2b-362a1258d5ab",
   "metadata": {},
   "outputs": [
    {
     "data": {
      "text/html": [
       "<div>\n",
       "<style scoped>\n",
       "    .dataframe tbody tr th:only-of-type {\n",
       "        vertical-align: middle;\n",
       "    }\n",
       "\n",
       "    .dataframe tbody tr th {\n",
       "        vertical-align: top;\n",
       "    }\n",
       "\n",
       "    .dataframe thead th {\n",
       "        text-align: right;\n",
       "    }\n",
       "</style>\n",
       "<table border=\"1\" class=\"dataframe\">\n",
       "  <thead>\n",
       "    <tr style=\"text-align: right;\">\n",
       "      <th></th>\n",
       "      <th>id</th>\n",
       "      <th>accommodates</th>\n",
       "      <th>room_type</th>\n",
       "      <th>beds</th>\n",
       "      <th>bedrooms</th>\n",
       "      <th>neighbourhood</th>\n",
       "      <th>latitude</th>\n",
       "      <th>longitude</th>\n",
       "      <th>price</th>\n",
       "      <th>bathrooms</th>\n",
       "      <th>tv</th>\n",
       "      <th>elevator</th>\n",
       "      <th>internet</th>\n",
       "    </tr>\n",
       "  </thead>\n",
       "  <tbody>\n",
       "    <tr>\n",
       "      <th>27265</th>\n",
       "      <td>44613638</td>\n",
       "      <td>1</td>\n",
       "      <td>Private room</td>\n",
       "      <td>1.0</td>\n",
       "      <td>1.0</td>\n",
       "      <td>Manhattan</td>\n",
       "      <td>40.82598</td>\n",
       "      <td>-73.94374</td>\n",
       "      <td>50</td>\n",
       "      <td>1.0</td>\n",
       "      <td>1</td>\n",
       "      <td>0</td>\n",
       "      <td>1</td>\n",
       "    </tr>\n",
       "    <tr>\n",
       "      <th>17217</th>\n",
       "      <td>27314650</td>\n",
       "      <td>2</td>\n",
       "      <td>Private room</td>\n",
       "      <td>1.0</td>\n",
       "      <td>1.0</td>\n",
       "      <td>Queens</td>\n",
       "      <td>40.75770</td>\n",
       "      <td>-73.81925</td>\n",
       "      <td>95</td>\n",
       "      <td>1.0</td>\n",
       "      <td>0</td>\n",
       "      <td>0</td>\n",
       "      <td>1</td>\n",
       "    </tr>\n",
       "    <tr>\n",
       "      <th>34703</th>\n",
       "      <td>51955986</td>\n",
       "      <td>2</td>\n",
       "      <td>Private room</td>\n",
       "      <td>1.0</td>\n",
       "      <td>1.0</td>\n",
       "      <td>Brooklyn</td>\n",
       "      <td>40.69264</td>\n",
       "      <td>-73.91171</td>\n",
       "      <td>54</td>\n",
       "      <td>1.0</td>\n",
       "      <td>1</td>\n",
       "      <td>0</td>\n",
       "      <td>1</td>\n",
       "    </tr>\n",
       "  </tbody>\n",
       "</table>\n",
       "</div>"
      ],
      "text/plain": [
       "             id  accommodates     room_type  beds  bedrooms neighbourhood  \\\n",
       "27265  44613638             1  Private room   1.0       1.0     Manhattan   \n",
       "17217  27314650             2  Private room   1.0       1.0        Queens   \n",
       "34703  51955986             2  Private room   1.0       1.0      Brooklyn   \n",
       "\n",
       "       latitude  longitude  price  bathrooms  tv  elevator  internet  \n",
       "27265  40.82598  -73.94374     50        1.0   1         0         1  \n",
       "17217  40.75770  -73.81925     95        1.0   0         0         1  \n",
       "34703  40.69264  -73.91171     54        1.0   1         0         1  "
      ]
     },
     "execution_count": 41,
     "metadata": {},
     "output_type": "execute_result"
    }
   ],
   "source": [
    "data.sample(3)"
   ]
  },
  {
   "cell_type": "markdown",
   "id": "c84aaae3-c185-462a-9fcc-629303b2fa0d",
   "metadata": {},
   "source": [
    "## Multivariate analysis"
   ]
  },
  {
   "cell_type": "code",
   "execution_count": 42,
   "id": "b09fdbc5-af1f-4416-bee9-66fb49149740",
   "metadata": {},
   "outputs": [
    {
     "data": {
      "text/html": [
       "<style type=\"text/css\">\n",
       "#T_f88f1_row0_col0, #T_f88f1_row1_col1, #T_f88f1_row2_col2, #T_f88f1_row3_col3, #T_f88f1_row4_col4, #T_f88f1_row5_col5, #T_f88f1_row6_col6, #T_f88f1_row7_col7, #T_f88f1_row8_col8, #T_f88f1_row9_col9, #T_f88f1_row10_col10 {\n",
       "  background-color: #ff0000;\n",
       "  color: #f1f1f1;\n",
       "}\n",
       "#T_f88f1_row0_col1, #T_f88f1_row0_col2, #T_f88f1_row1_col0, #T_f88f1_row2_col0, #T_f88f1_row2_col5, #T_f88f1_row4_col8, #T_f88f1_row5_col2, #T_f88f1_row7_col10, #T_f88f1_row8_col4, #T_f88f1_row10_col7 {\n",
       "  background-color: #fff6f6;\n",
       "  color: #000000;\n",
       "}\n",
       "#T_f88f1_row0_col3, #T_f88f1_row0_col7, #T_f88f1_row3_col0, #T_f88f1_row7_col0, #T_f88f1_row7_col8, #T_f88f1_row8_col7 {\n",
       "  background-color: #fff2f2;\n",
       "  color: #000000;\n",
       "}\n",
       "#T_f88f1_row0_col4, #T_f88f1_row2_col10, #T_f88f1_row3_col5, #T_f88f1_row3_col10, #T_f88f1_row4_col0, #T_f88f1_row5_col3, #T_f88f1_row10_col2, #T_f88f1_row10_col3 {\n",
       "  background-color: #fffcfc;\n",
       "  color: #000000;\n",
       "}\n",
       "#T_f88f1_row0_col5, #T_f88f1_row5_col0, #T_f88f1_row8_col9, #T_f88f1_row9_col8 {\n",
       "  background-color: #ffe8e8;\n",
       "  color: #000000;\n",
       "}\n",
       "#T_f88f1_row0_col6, #T_f88f1_row6_col0 {\n",
       "  background-color: #fff4f4;\n",
       "  color: #000000;\n",
       "}\n",
       "#T_f88f1_row0_col8, #T_f88f1_row8_col0 {\n",
       "  background-color: #ffeeee;\n",
       "  color: #000000;\n",
       "}\n",
       "#T_f88f1_row0_col9, #T_f88f1_row3_col4, #T_f88f1_row4_col3, #T_f88f1_row9_col0 {\n",
       "  background-color: #ececff;\n",
       "  color: #000000;\n",
       "}\n",
       "#T_f88f1_row0_col10, #T_f88f1_row1_col5, #T_f88f1_row5_col1, #T_f88f1_row9_col10, #T_f88f1_row10_col0, #T_f88f1_row10_col9 {\n",
       "  background-color: #fffefe;\n",
       "  color: #000000;\n",
       "}\n",
       "#T_f88f1_row1_col2, #T_f88f1_row2_col1 {\n",
       "  background-color: #ff3a3a;\n",
       "  color: #f1f1f1;\n",
       "}\n",
       "#T_f88f1_row1_col3, #T_f88f1_row3_col1 {\n",
       "  background-color: #ff4444;\n",
       "  color: #f1f1f1;\n",
       "}\n",
       "#T_f88f1_row1_col4, #T_f88f1_row4_col1 {\n",
       "  background-color: #f2f2ff;\n",
       "  color: #000000;\n",
       "}\n",
       "#T_f88f1_row1_col6, #T_f88f1_row6_col1 {\n",
       "  background-color: #ffb0b0;\n",
       "  color: #000000;\n",
       "}\n",
       "#T_f88f1_row1_col7, #T_f88f1_row7_col1 {\n",
       "  background-color: #ffa2a2;\n",
       "  color: #000000;\n",
       "}\n",
       "#T_f88f1_row1_col8, #T_f88f1_row8_col1 {\n",
       "  background-color: #ffcaca;\n",
       "  color: #000000;\n",
       "}\n",
       "#T_f88f1_row1_col9, #T_f88f1_row4_col10, #T_f88f1_row6_col10, #T_f88f1_row9_col1, #T_f88f1_row10_col4, #T_f88f1_row10_col6 {\n",
       "  background-color: #fcfcff;\n",
       "  color: #000000;\n",
       "}\n",
       "#T_f88f1_row1_col10, #T_f88f1_row4_col6, #T_f88f1_row6_col4, #T_f88f1_row10_col1 {\n",
       "  background-color: #fff8f8;\n",
       "  color: #000000;\n",
       "}\n",
       "#T_f88f1_row2_col3, #T_f88f1_row3_col2 {\n",
       "  background-color: #ff3c3c;\n",
       "  color: #f1f1f1;\n",
       "}\n",
       "#T_f88f1_row2_col4, #T_f88f1_row4_col2 {\n",
       "  background-color: #f0f0ff;\n",
       "  color: #000000;\n",
       "}\n",
       "#T_f88f1_row2_col6, #T_f88f1_row6_col2 {\n",
       "  background-color: #ffc2c2;\n",
       "  color: #000000;\n",
       "}\n",
       "#T_f88f1_row2_col7, #T_f88f1_row7_col2 {\n",
       "  background-color: #ff9898;\n",
       "  color: #000000;\n",
       "}\n",
       "#T_f88f1_row2_col8, #T_f88f1_row8_col2 {\n",
       "  background-color: #ffd4d4;\n",
       "  color: #000000;\n",
       "}\n",
       "#T_f88f1_row2_col9, #T_f88f1_row3_col9, #T_f88f1_row9_col2, #T_f88f1_row9_col3 {\n",
       "  background-color: #eeeeff;\n",
       "  color: #000000;\n",
       "}\n",
       "#T_f88f1_row3_col6, #T_f88f1_row6_col3 {\n",
       "  background-color: #ffbcbc;\n",
       "  color: #000000;\n",
       "}\n",
       "#T_f88f1_row3_col7, #T_f88f1_row7_col3 {\n",
       "  background-color: #ff8686;\n",
       "  color: #f1f1f1;\n",
       "}\n",
       "#T_f88f1_row3_col8, #T_f88f1_row8_col3 {\n",
       "  background-color: #ffdada;\n",
       "  color: #000000;\n",
       "}\n",
       "#T_f88f1_row4_col5, #T_f88f1_row5_col4 {\n",
       "  background-color: #fff0f0;\n",
       "  color: #000000;\n",
       "}\n",
       "#T_f88f1_row4_col7, #T_f88f1_row7_col4 {\n",
       "  background-color: #f4f4ff;\n",
       "  color: #000000;\n",
       "}\n",
       "#T_f88f1_row4_col9, #T_f88f1_row9_col4 {\n",
       "  background-color: #ffd0d0;\n",
       "  color: #000000;\n",
       "}\n",
       "#T_f88f1_row5_col6, #T_f88f1_row6_col5 {\n",
       "  background-color: #e2e2ff;\n",
       "  color: #000000;\n",
       "}\n",
       "#T_f88f1_row5_col7, #T_f88f1_row5_col10, #T_f88f1_row7_col5, #T_f88f1_row10_col5 {\n",
       "  background-color: #fefeff;\n",
       "  color: #000000;\n",
       "}\n",
       "#T_f88f1_row5_col8, #T_f88f1_row8_col5 {\n",
       "  background-color: #f6f6ff;\n",
       "  color: #000000;\n",
       "}\n",
       "#T_f88f1_row5_col9, #T_f88f1_row9_col5 {\n",
       "  background-color: #d0d0ff;\n",
       "  color: #000000;\n",
       "}\n",
       "#T_f88f1_row6_col7, #T_f88f1_row7_col6 {\n",
       "  background-color: #ffc8c8;\n",
       "  color: #000000;\n",
       "}\n",
       "#T_f88f1_row6_col8, #T_f88f1_row8_col6 {\n",
       "  background-color: #ffe2e2;\n",
       "  color: #000000;\n",
       "}\n",
       "#T_f88f1_row6_col9, #T_f88f1_row9_col6 {\n",
       "  background-color: #ffe6e6;\n",
       "  color: #000000;\n",
       "}\n",
       "#T_f88f1_row7_col9, #T_f88f1_row9_col7 {\n",
       "  background-color: #fafaff;\n",
       "  color: #000000;\n",
       "}\n",
       "#T_f88f1_row8_col10, #T_f88f1_row10_col8 {\n",
       "  background-color: #ffdcdc;\n",
       "  color: #000000;\n",
       "}\n",
       "</style>\n",
       "<table id=\"T_f88f1\">\n",
       "  <thead>\n",
       "    <tr>\n",
       "      <th class=\"blank level0\" >&nbsp;</th>\n",
       "      <th id=\"T_f88f1_level0_col0\" class=\"col_heading level0 col0\" >id</th>\n",
       "      <th id=\"T_f88f1_level0_col1\" class=\"col_heading level0 col1\" >accommodates</th>\n",
       "      <th id=\"T_f88f1_level0_col2\" class=\"col_heading level0 col2\" >beds</th>\n",
       "      <th id=\"T_f88f1_level0_col3\" class=\"col_heading level0 col3\" >bedrooms</th>\n",
       "      <th id=\"T_f88f1_level0_col4\" class=\"col_heading level0 col4\" >latitude</th>\n",
       "      <th id=\"T_f88f1_level0_col5\" class=\"col_heading level0 col5\" >longitude</th>\n",
       "      <th id=\"T_f88f1_level0_col6\" class=\"col_heading level0 col6\" >price</th>\n",
       "      <th id=\"T_f88f1_level0_col7\" class=\"col_heading level0 col7\" >bathrooms</th>\n",
       "      <th id=\"T_f88f1_level0_col8\" class=\"col_heading level0 col8\" >tv</th>\n",
       "      <th id=\"T_f88f1_level0_col9\" class=\"col_heading level0 col9\" >elevator</th>\n",
       "      <th id=\"T_f88f1_level0_col10\" class=\"col_heading level0 col10\" >internet</th>\n",
       "    </tr>\n",
       "  </thead>\n",
       "  <tbody>\n",
       "    <tr>\n",
       "      <th id=\"T_f88f1_level0_row0\" class=\"row_heading level0 row0\" >id</th>\n",
       "      <td id=\"T_f88f1_row0_col0\" class=\"data row0 col0\" >1.000000</td>\n",
       "      <td id=\"T_f88f1_row0_col1\" class=\"data row0 col1\" >0.035401</td>\n",
       "      <td id=\"T_f88f1_row0_col2\" class=\"data row0 col2\" >0.034231</td>\n",
       "      <td id=\"T_f88f1_row0_col3\" class=\"data row0 col3\" >0.047429</td>\n",
       "      <td id=\"T_f88f1_row0_col4\" class=\"data row0 col4\" >0.010001</td>\n",
       "      <td id=\"T_f88f1_row0_col5\" class=\"data row0 col5\" >0.087080</td>\n",
       "      <td id=\"T_f88f1_row0_col6\" class=\"data row0 col6\" >0.042559</td>\n",
       "      <td id=\"T_f88f1_row0_col7\" class=\"data row0 col7\" >0.051039</td>\n",
       "      <td id=\"T_f88f1_row0_col8\" class=\"data row0 col8\" >0.070294</td>\n",
       "      <td id=\"T_f88f1_row0_col9\" class=\"data row0 col9\" >-0.071167</td>\n",
       "      <td id=\"T_f88f1_row0_col10\" class=\"data row0 col10\" >0.005100</td>\n",
       "    </tr>\n",
       "    <tr>\n",
       "      <th id=\"T_f88f1_level0_row1\" class=\"row_heading level0 row1\" >accommodates</th>\n",
       "      <td id=\"T_f88f1_row1_col0\" class=\"data row1 col0\" >0.035401</td>\n",
       "      <td id=\"T_f88f1_row1_col1\" class=\"data row1 col1\" >1.000000</td>\n",
       "      <td id=\"T_f88f1_row1_col2\" class=\"data row1 col2\" >0.766824</td>\n",
       "      <td id=\"T_f88f1_row1_col3\" class=\"data row1 col3\" >0.733944</td>\n",
       "      <td id=\"T_f88f1_row1_col4\" class=\"data row1 col4\" >-0.047451</td>\n",
       "      <td id=\"T_f88f1_row1_col5\" class=\"data row1 col5\" >0.003738</td>\n",
       "      <td id=\"T_f88f1_row1_col6\" class=\"data row1 col6\" >0.308026</td>\n",
       "      <td id=\"T_f88f1_row1_col7\" class=\"data row1 col7\" >0.365709</td>\n",
       "      <td id=\"T_f88f1_row1_col8\" class=\"data row1 col8\" >0.206021</td>\n",
       "      <td id=\"T_f88f1_row1_col9\" class=\"data row1 col9\" >-0.014543</td>\n",
       "      <td id=\"T_f88f1_row1_col10\" class=\"data row1 col10\" >0.024445</td>\n",
       "    </tr>\n",
       "    <tr>\n",
       "      <th id=\"T_f88f1_level0_row2\" class=\"row_heading level0 row2\" >beds</th>\n",
       "      <td id=\"T_f88f1_row2_col0\" class=\"data row2 col0\" >0.034231</td>\n",
       "      <td id=\"T_f88f1_row2_col1\" class=\"data row2 col1\" >0.766824</td>\n",
       "      <td id=\"T_f88f1_row2_col2\" class=\"data row2 col2\" >1.000000</td>\n",
       "      <td id=\"T_f88f1_row2_col3\" class=\"data row2 col3\" >0.760881</td>\n",
       "      <td id=\"T_f88f1_row2_col4\" class=\"data row2 col4\" >-0.055936</td>\n",
       "      <td id=\"T_f88f1_row2_col5\" class=\"data row2 col5\" >0.032408</td>\n",
       "      <td id=\"T_f88f1_row2_col6\" class=\"data row2 col6\" >0.241752</td>\n",
       "      <td id=\"T_f88f1_row2_col7\" class=\"data row2 col7\" >0.400439</td>\n",
       "      <td id=\"T_f88f1_row2_col8\" class=\"data row2 col8\" >0.166299</td>\n",
       "      <td id=\"T_f88f1_row2_col9\" class=\"data row2 col9\" >-0.062732</td>\n",
       "      <td id=\"T_f88f1_row2_col10\" class=\"data row2 col10\" >0.013289</td>\n",
       "    </tr>\n",
       "    <tr>\n",
       "      <th id=\"T_f88f1_level0_row3\" class=\"row_heading level0 row3\" >bedrooms</th>\n",
       "      <td id=\"T_f88f1_row3_col0\" class=\"data row3 col0\" >0.047429</td>\n",
       "      <td id=\"T_f88f1_row3_col1\" class=\"data row3 col1\" >0.733944</td>\n",
       "      <td id=\"T_f88f1_row3_col2\" class=\"data row3 col2\" >0.760881</td>\n",
       "      <td id=\"T_f88f1_row3_col3\" class=\"data row3 col3\" >1.000000</td>\n",
       "      <td id=\"T_f88f1_row3_col4\" class=\"data row3 col4\" >-0.074426</td>\n",
       "      <td id=\"T_f88f1_row3_col5\" class=\"data row3 col5\" >0.007866</td>\n",
       "      <td id=\"T_f88f1_row3_col6\" class=\"data row3 col6\" >0.261992</td>\n",
       "      <td id=\"T_f88f1_row3_col7\" class=\"data row3 col7\" >0.476334</td>\n",
       "      <td id=\"T_f88f1_row3_col8\" class=\"data row3 col8\" >0.145083</td>\n",
       "      <td id=\"T_f88f1_row3_col9\" class=\"data row3 col9\" >-0.063660</td>\n",
       "      <td id=\"T_f88f1_row3_col10\" class=\"data row3 col10\" >0.014403</td>\n",
       "    </tr>\n",
       "    <tr>\n",
       "      <th id=\"T_f88f1_level0_row4\" class=\"row_heading level0 row4\" >latitude</th>\n",
       "      <td id=\"T_f88f1_row4_col0\" class=\"data row4 col0\" >0.010001</td>\n",
       "      <td id=\"T_f88f1_row4_col1\" class=\"data row4 col1\" >-0.047451</td>\n",
       "      <td id=\"T_f88f1_row4_col2\" class=\"data row4 col2\" >-0.055936</td>\n",
       "      <td id=\"T_f88f1_row4_col3\" class=\"data row4 col3\" >-0.074426</td>\n",
       "      <td id=\"T_f88f1_row4_col4\" class=\"data row4 col4\" >1.000000</td>\n",
       "      <td id=\"T_f88f1_row4_col5\" class=\"data row4 col5\" >0.057180</td>\n",
       "      <td id=\"T_f88f1_row4_col6\" class=\"data row4 col6\" >0.027341</td>\n",
       "      <td id=\"T_f88f1_row4_col7\" class=\"data row4 col7\" >-0.041971</td>\n",
       "      <td id=\"T_f88f1_row4_col8\" class=\"data row4 col8\" >0.035750</td>\n",
       "      <td id=\"T_f88f1_row4_col9\" class=\"data row4 col9\" >0.184387</td>\n",
       "      <td id=\"T_f88f1_row4_col10\" class=\"data row4 col10\" >-0.014624</td>\n",
       "    </tr>\n",
       "    <tr>\n",
       "      <th id=\"T_f88f1_level0_row5\" class=\"row_heading level0 row5\" >longitude</th>\n",
       "      <td id=\"T_f88f1_row5_col0\" class=\"data row5 col0\" >0.087080</td>\n",
       "      <td id=\"T_f88f1_row5_col1\" class=\"data row5 col1\" >0.003738</td>\n",
       "      <td id=\"T_f88f1_row5_col2\" class=\"data row5 col2\" >0.032408</td>\n",
       "      <td id=\"T_f88f1_row5_col3\" class=\"data row5 col3\" >0.007866</td>\n",
       "      <td id=\"T_f88f1_row5_col4\" class=\"data row5 col4\" >0.057180</td>\n",
       "      <td id=\"T_f88f1_row5_col5\" class=\"data row5 col5\" >1.000000</td>\n",
       "      <td id=\"T_f88f1_row5_col6\" class=\"data row5 col6\" >-0.114842</td>\n",
       "      <td id=\"T_f88f1_row5_col7\" class=\"data row5 col7\" >-0.001286</td>\n",
       "      <td id=\"T_f88f1_row5_col8\" class=\"data row5 col8\" >-0.035962</td>\n",
       "      <td id=\"T_f88f1_row5_col9\" class=\"data row5 col9\" >-0.182266</td>\n",
       "      <td id=\"T_f88f1_row5_col10\" class=\"data row5 col10\" >-0.001514</td>\n",
       "    </tr>\n",
       "    <tr>\n",
       "      <th id=\"T_f88f1_level0_row6\" class=\"row_heading level0 row6\" >price</th>\n",
       "      <td id=\"T_f88f1_row6_col0\" class=\"data row6 col0\" >0.042559</td>\n",
       "      <td id=\"T_f88f1_row6_col1\" class=\"data row6 col1\" >0.308026</td>\n",
       "      <td id=\"T_f88f1_row6_col2\" class=\"data row6 col2\" >0.241752</td>\n",
       "      <td id=\"T_f88f1_row6_col3\" class=\"data row6 col3\" >0.261992</td>\n",
       "      <td id=\"T_f88f1_row6_col4\" class=\"data row6 col4\" >0.027341</td>\n",
       "      <td id=\"T_f88f1_row6_col5\" class=\"data row6 col5\" >-0.114842</td>\n",
       "      <td id=\"T_f88f1_row6_col6\" class=\"data row6 col6\" >1.000000</td>\n",
       "      <td id=\"T_f88f1_row6_col7\" class=\"data row6 col7\" >0.216024</td>\n",
       "      <td id=\"T_f88f1_row6_col8\" class=\"data row6 col8\" >0.114454</td>\n",
       "      <td id=\"T_f88f1_row6_col9\" class=\"data row6 col9\" >0.096208</td>\n",
       "      <td id=\"T_f88f1_row6_col10\" class=\"data row6 col10\" >-0.009919</td>\n",
       "    </tr>\n",
       "    <tr>\n",
       "      <th id=\"T_f88f1_level0_row7\" class=\"row_heading level0 row7\" >bathrooms</th>\n",
       "      <td id=\"T_f88f1_row7_col0\" class=\"data row7 col0\" >0.051039</td>\n",
       "      <td id=\"T_f88f1_row7_col1\" class=\"data row7 col1\" >0.365709</td>\n",
       "      <td id=\"T_f88f1_row7_col2\" class=\"data row7 col2\" >0.400439</td>\n",
       "      <td id=\"T_f88f1_row7_col3\" class=\"data row7 col3\" >0.476334</td>\n",
       "      <td id=\"T_f88f1_row7_col4\" class=\"data row7 col4\" >-0.041971</td>\n",
       "      <td id=\"T_f88f1_row7_col5\" class=\"data row7 col5\" >-0.001286</td>\n",
       "      <td id=\"T_f88f1_row7_col6\" class=\"data row7 col6\" >0.216024</td>\n",
       "      <td id=\"T_f88f1_row7_col7\" class=\"data row7 col7\" >1.000000</td>\n",
       "      <td id=\"T_f88f1_row7_col8\" class=\"data row7 col8\" >0.051700</td>\n",
       "      <td id=\"T_f88f1_row7_col9\" class=\"data row7 col9\" >-0.022859</td>\n",
       "      <td id=\"T_f88f1_row7_col10\" class=\"data row7 col10\" >0.039010</td>\n",
       "    </tr>\n",
       "    <tr>\n",
       "      <th id=\"T_f88f1_level0_row8\" class=\"row_heading level0 row8\" >tv</th>\n",
       "      <td id=\"T_f88f1_row8_col0\" class=\"data row8 col0\" >0.070294</td>\n",
       "      <td id=\"T_f88f1_row8_col1\" class=\"data row8 col1\" >0.206021</td>\n",
       "      <td id=\"T_f88f1_row8_col2\" class=\"data row8 col2\" >0.166299</td>\n",
       "      <td id=\"T_f88f1_row8_col3\" class=\"data row8 col3\" >0.145083</td>\n",
       "      <td id=\"T_f88f1_row8_col4\" class=\"data row8 col4\" >0.035750</td>\n",
       "      <td id=\"T_f88f1_row8_col5\" class=\"data row8 col5\" >-0.035962</td>\n",
       "      <td id=\"T_f88f1_row8_col6\" class=\"data row8 col6\" >0.114454</td>\n",
       "      <td id=\"T_f88f1_row8_col7\" class=\"data row8 col7\" >0.051700</td>\n",
       "      <td id=\"T_f88f1_row8_col8\" class=\"data row8 col8\" >1.000000</td>\n",
       "      <td id=\"T_f88f1_row8_col9\" class=\"data row8 col9\" >0.087386</td>\n",
       "      <td id=\"T_f88f1_row8_col10\" class=\"data row8 col10\" >0.140058</td>\n",
       "    </tr>\n",
       "    <tr>\n",
       "      <th id=\"T_f88f1_level0_row9\" class=\"row_heading level0 row9\" >elevator</th>\n",
       "      <td id=\"T_f88f1_row9_col0\" class=\"data row9 col0\" >-0.071167</td>\n",
       "      <td id=\"T_f88f1_row9_col1\" class=\"data row9 col1\" >-0.014543</td>\n",
       "      <td id=\"T_f88f1_row9_col2\" class=\"data row9 col2\" >-0.062732</td>\n",
       "      <td id=\"T_f88f1_row9_col3\" class=\"data row9 col3\" >-0.063660</td>\n",
       "      <td id=\"T_f88f1_row9_col4\" class=\"data row9 col4\" >0.184387</td>\n",
       "      <td id=\"T_f88f1_row9_col5\" class=\"data row9 col5\" >-0.182266</td>\n",
       "      <td id=\"T_f88f1_row9_col6\" class=\"data row9 col6\" >0.096208</td>\n",
       "      <td id=\"T_f88f1_row9_col7\" class=\"data row9 col7\" >-0.022859</td>\n",
       "      <td id=\"T_f88f1_row9_col8\" class=\"data row9 col8\" >0.087386</td>\n",
       "      <td id=\"T_f88f1_row9_col9\" class=\"data row9 col9\" >1.000000</td>\n",
       "      <td id=\"T_f88f1_row9_col10\" class=\"data row9 col10\" >0.005674</td>\n",
       "    </tr>\n",
       "    <tr>\n",
       "      <th id=\"T_f88f1_level0_row10\" class=\"row_heading level0 row10\" >internet</th>\n",
       "      <td id=\"T_f88f1_row10_col0\" class=\"data row10 col0\" >0.005100</td>\n",
       "      <td id=\"T_f88f1_row10_col1\" class=\"data row10 col1\" >0.024445</td>\n",
       "      <td id=\"T_f88f1_row10_col2\" class=\"data row10 col2\" >0.013289</td>\n",
       "      <td id=\"T_f88f1_row10_col3\" class=\"data row10 col3\" >0.014403</td>\n",
       "      <td id=\"T_f88f1_row10_col4\" class=\"data row10 col4\" >-0.014624</td>\n",
       "      <td id=\"T_f88f1_row10_col5\" class=\"data row10 col5\" >-0.001514</td>\n",
       "      <td id=\"T_f88f1_row10_col6\" class=\"data row10 col6\" >-0.009919</td>\n",
       "      <td id=\"T_f88f1_row10_col7\" class=\"data row10 col7\" >0.039010</td>\n",
       "      <td id=\"T_f88f1_row10_col8\" class=\"data row10 col8\" >0.140058</td>\n",
       "      <td id=\"T_f88f1_row10_col9\" class=\"data row10 col9\" >0.005674</td>\n",
       "      <td id=\"T_f88f1_row10_col10\" class=\"data row10 col10\" >1.000000</td>\n",
       "    </tr>\n",
       "  </tbody>\n",
       "</table>\n"
      ],
      "text/plain": [
       "<pandas.io.formats.style.Styler at 0x7fa295be6640>"
      ]
     },
     "execution_count": 42,
     "metadata": {},
     "output_type": "execute_result"
    }
   ],
   "source": [
    "data.corr(numeric_only=True).style.background_gradient('bwr', vmin=-1, vmax=1)"
   ]
  },
  {
   "cell_type": "markdown",
   "id": "737d8bad-d982-4352-9658-7d1158ed3031",
   "metadata": {},
   "source": [
    "`accommodates`, `beds` and `bedrooms` are very correlated. For an approach that involves a linear model we should discard two of them to avoid multicollinearity."
   ]
  },
  {
   "cell_type": "code",
   "execution_count": 43,
   "id": "f94c6f10-2c53-4ba0-84b8-2832aabc1d41",
   "metadata": {},
   "outputs": [
    {
     "data": {
      "text/plain": [
       "id                  0\n",
       "accommodates        0\n",
       "room_type           0\n",
       "beds             2405\n",
       "bedrooms         3975\n",
       "neighbourhood       0\n",
       "latitude            0\n",
       "longitude           0\n",
       "price               0\n",
       "bathrooms         107\n",
       "tv                  0\n",
       "elevator            0\n",
       "internet            0\n",
       "dtype: int64"
      ]
     },
     "execution_count": 43,
     "metadata": {},
     "output_type": "execute_result"
    }
   ],
   "source": [
    "data.isna().sum()"
   ]
  },
  {
   "cell_type": "code",
   "execution_count": 44,
   "id": "bf8bf725-3af8-4fda-bd48-1026d33264eb",
   "metadata": {},
   "outputs": [
    {
     "data": {
      "text/plain": [
       "42"
      ]
     },
     "execution_count": 44,
     "metadata": {},
     "output_type": "execute_result"
    }
   ],
   "source": [
    "(data.bedrooms.isna() & data.bathrooms.isna()).sum()"
   ]
  },
  {
   "cell_type": "code",
   "execution_count": 45,
   "id": "3cae685f-18a0-4fb5-ad25-93fc653d39d5",
   "metadata": {
    "scrolled": true,
    "tags": []
   },
   "outputs": [
    {
     "data": {
      "text/html": [
       "<div>\n",
       "<style scoped>\n",
       "    .dataframe tbody tr th:only-of-type {\n",
       "        vertical-align: middle;\n",
       "    }\n",
       "\n",
       "    .dataframe tbody tr th {\n",
       "        vertical-align: top;\n",
       "    }\n",
       "\n",
       "    .dataframe thead tr th {\n",
       "        text-align: left;\n",
       "    }\n",
       "\n",
       "    .dataframe thead tr:last-of-type th {\n",
       "        text-align: right;\n",
       "    }\n",
       "</style>\n",
       "<table border=\"1\" class=\"dataframe\">\n",
       "  <thead>\n",
       "    <tr>\n",
       "      <th></th>\n",
       "      <th colspan=\"3\" halign=\"left\">bathrooms</th>\n",
       "    </tr>\n",
       "    <tr>\n",
       "      <th></th>\n",
       "      <th>mean</th>\n",
       "      <th>median</th>\n",
       "      <th>mode</th>\n",
       "    </tr>\n",
       "    <tr>\n",
       "      <th>bedrooms</th>\n",
       "      <th></th>\n",
       "      <th></th>\n",
       "      <th></th>\n",
       "    </tr>\n",
       "  </thead>\n",
       "  <tbody>\n",
       "    <tr>\n",
       "      <th>1.0</th>\n",
       "      <td>1.090615</td>\n",
       "      <td>1.0</td>\n",
       "      <td>1.0</td>\n",
       "    </tr>\n",
       "    <tr>\n",
       "      <th>2.0</th>\n",
       "      <td>1.239009</td>\n",
       "      <td>1.0</td>\n",
       "      <td>1.0</td>\n",
       "    </tr>\n",
       "    <tr>\n",
       "      <th>3.0</th>\n",
       "      <td>1.641681</td>\n",
       "      <td>1.5</td>\n",
       "      <td>1.0</td>\n",
       "    </tr>\n",
       "    <tr>\n",
       "      <th>4.0</th>\n",
       "      <td>2.234177</td>\n",
       "      <td>2.0</td>\n",
       "      <td>2.0</td>\n",
       "    </tr>\n",
       "    <tr>\n",
       "      <th>5.0</th>\n",
       "      <td>2.787037</td>\n",
       "      <td>2.5</td>\n",
       "      <td>2.0</td>\n",
       "    </tr>\n",
       "    <tr>\n",
       "      <th>6.0</th>\n",
       "      <td>3.312500</td>\n",
       "      <td>3.0</td>\n",
       "      <td>2.0</td>\n",
       "    </tr>\n",
       "    <tr>\n",
       "      <th>7.0</th>\n",
       "      <td>4.187500</td>\n",
       "      <td>4.0</td>\n",
       "      <td>4.0</td>\n",
       "    </tr>\n",
       "    <tr>\n",
       "      <th>8.0</th>\n",
       "      <td>4.833333</td>\n",
       "      <td>4.0</td>\n",
       "      <td>4.0</td>\n",
       "    </tr>\n",
       "    <tr>\n",
       "      <th>9.0</th>\n",
       "      <td>5.500000</td>\n",
       "      <td>6.0</td>\n",
       "      <td>[4.0, 6.0, 6.5]</td>\n",
       "    </tr>\n",
       "    <tr>\n",
       "      <th>10.0</th>\n",
       "      <td>6.000000</td>\n",
       "      <td>6.0</td>\n",
       "      <td>6.0</td>\n",
       "    </tr>\n",
       "    <tr>\n",
       "      <th>11.0</th>\n",
       "      <td>2.000000</td>\n",
       "      <td>2.0</td>\n",
       "      <td>2.0</td>\n",
       "    </tr>\n",
       "    <tr>\n",
       "      <th>12.0</th>\n",
       "      <td>5.000000</td>\n",
       "      <td>5.0</td>\n",
       "      <td>5.0</td>\n",
       "    </tr>\n",
       "    <tr>\n",
       "      <th>13.0</th>\n",
       "      <td>7.500000</td>\n",
       "      <td>7.5</td>\n",
       "      <td>7.5</td>\n",
       "    </tr>\n",
       "    <tr>\n",
       "      <th>16.0</th>\n",
       "      <td>1.000000</td>\n",
       "      <td>1.0</td>\n",
       "      <td>1.0</td>\n",
       "    </tr>\n",
       "  </tbody>\n",
       "</table>\n",
       "</div>"
      ],
      "text/plain": [
       "         bathrooms                        \n",
       "              mean median             mode\n",
       "bedrooms                                  \n",
       "1.0       1.090615    1.0              1.0\n",
       "2.0       1.239009    1.0              1.0\n",
       "3.0       1.641681    1.5              1.0\n",
       "4.0       2.234177    2.0              2.0\n",
       "5.0       2.787037    2.5              2.0\n",
       "6.0       3.312500    3.0              2.0\n",
       "7.0       4.187500    4.0              4.0\n",
       "8.0       4.833333    4.0              4.0\n",
       "9.0       5.500000    6.0  [4.0, 6.0, 6.5]\n",
       "10.0      6.000000    6.0              6.0\n",
       "11.0      2.000000    2.0              2.0\n",
       "12.0      5.000000    5.0              5.0\n",
       "13.0      7.500000    7.5              7.5\n",
       "16.0      1.000000    1.0              1.0"
      ]
     },
     "execution_count": 45,
     "metadata": {},
     "output_type": "execute_result"
    }
   ],
   "source": [
    "data.groupby('bedrooms').agg({'bathrooms':['mean','median',pd.Series.mode]})"
   ]
  },
  {
   "cell_type": "code",
   "execution_count": 46,
   "id": "85aeedd9-a02a-4cb4-9c59-aa63f10c478f",
   "metadata": {
    "scrolled": true,
    "tags": []
   },
   "outputs": [
    {
     "data": {
      "text/html": [
       "<div>\n",
       "<style scoped>\n",
       "    .dataframe tbody tr th:only-of-type {\n",
       "        vertical-align: middle;\n",
       "    }\n",
       "\n",
       "    .dataframe tbody tr th {\n",
       "        vertical-align: top;\n",
       "    }\n",
       "\n",
       "    .dataframe thead tr th {\n",
       "        text-align: left;\n",
       "    }\n",
       "\n",
       "    .dataframe thead tr:last-of-type th {\n",
       "        text-align: right;\n",
       "    }\n",
       "</style>\n",
       "<table border=\"1\" class=\"dataframe\">\n",
       "  <thead>\n",
       "    <tr>\n",
       "      <th></th>\n",
       "      <th colspan=\"2\" halign=\"left\">bathrooms</th>\n",
       "    </tr>\n",
       "    <tr>\n",
       "      <th></th>\n",
       "      <th>mean</th>\n",
       "      <th>median</th>\n",
       "    </tr>\n",
       "    <tr>\n",
       "      <th>accommodates</th>\n",
       "      <th></th>\n",
       "      <th></th>\n",
       "    </tr>\n",
       "  </thead>\n",
       "  <tbody>\n",
       "    <tr>\n",
       "      <th>0</th>\n",
       "      <td>NaN</td>\n",
       "      <td>NaN</td>\n",
       "    </tr>\n",
       "    <tr>\n",
       "      <th>1</th>\n",
       "      <td>1.122007</td>\n",
       "      <td>1.0</td>\n",
       "    </tr>\n",
       "    <tr>\n",
       "      <th>2</th>\n",
       "      <td>1.082607</td>\n",
       "      <td>1.0</td>\n",
       "    </tr>\n",
       "    <tr>\n",
       "      <th>3</th>\n",
       "      <td>1.051598</td>\n",
       "      <td>1.0</td>\n",
       "    </tr>\n",
       "    <tr>\n",
       "      <th>4</th>\n",
       "      <td>1.138803</td>\n",
       "      <td>1.0</td>\n",
       "    </tr>\n",
       "    <tr>\n",
       "      <th>5</th>\n",
       "      <td>1.294974</td>\n",
       "      <td>1.0</td>\n",
       "    </tr>\n",
       "    <tr>\n",
       "      <th>6</th>\n",
       "      <td>1.474928</td>\n",
       "      <td>1.0</td>\n",
       "    </tr>\n",
       "    <tr>\n",
       "      <th>7</th>\n",
       "      <td>1.588406</td>\n",
       "      <td>1.5</td>\n",
       "    </tr>\n",
       "    <tr>\n",
       "      <th>8</th>\n",
       "      <td>1.787379</td>\n",
       "      <td>2.0</td>\n",
       "    </tr>\n",
       "    <tr>\n",
       "      <th>9</th>\n",
       "      <td>2.070175</td>\n",
       "      <td>2.0</td>\n",
       "    </tr>\n",
       "    <tr>\n",
       "      <th>10</th>\n",
       "      <td>2.058989</td>\n",
       "      <td>2.0</td>\n",
       "    </tr>\n",
       "    <tr>\n",
       "      <th>11</th>\n",
       "      <td>1.961538</td>\n",
       "      <td>2.0</td>\n",
       "    </tr>\n",
       "    <tr>\n",
       "      <th>12</th>\n",
       "      <td>2.520408</td>\n",
       "      <td>2.0</td>\n",
       "    </tr>\n",
       "    <tr>\n",
       "      <th>13</th>\n",
       "      <td>2.111111</td>\n",
       "      <td>2.0</td>\n",
       "    </tr>\n",
       "    <tr>\n",
       "      <th>14</th>\n",
       "      <td>3.166667</td>\n",
       "      <td>3.0</td>\n",
       "    </tr>\n",
       "    <tr>\n",
       "      <th>15</th>\n",
       "      <td>1.954545</td>\n",
       "      <td>2.0</td>\n",
       "    </tr>\n",
       "    <tr>\n",
       "      <th>16</th>\n",
       "      <td>2.517094</td>\n",
       "      <td>2.0</td>\n",
       "    </tr>\n",
       "  </tbody>\n",
       "</table>\n",
       "</div>"
      ],
      "text/plain": [
       "             bathrooms       \n",
       "                  mean median\n",
       "accommodates                 \n",
       "0                  NaN    NaN\n",
       "1             1.122007    1.0\n",
       "2             1.082607    1.0\n",
       "3             1.051598    1.0\n",
       "4             1.138803    1.0\n",
       "5             1.294974    1.0\n",
       "6             1.474928    1.0\n",
       "7             1.588406    1.5\n",
       "8             1.787379    2.0\n",
       "9             2.070175    2.0\n",
       "10            2.058989    2.0\n",
       "11            1.961538    2.0\n",
       "12            2.520408    2.0\n",
       "13            2.111111    2.0\n",
       "14            3.166667    3.0\n",
       "15            1.954545    2.0\n",
       "16            2.517094    2.0"
      ]
     },
     "execution_count": 46,
     "metadata": {},
     "output_type": "execute_result"
    }
   ],
   "source": [
    "data.groupby('accommodates').agg({'bathrooms':['mean','median']})"
   ]
  },
  {
   "cell_type": "markdown",
   "id": "a17f535c-8ea4-4868-ab3b-370896008a51",
   "metadata": {},
   "source": [
    "We can use the median number of bathrooms by number of bedrooms to impute missing values in `bathrooms`. For cases where `bedrooms` is also NaN we can use `accommodates` and use the median number of bathrooms as well."
   ]
  },
  {
   "cell_type": "markdown",
   "id": "f1ca3f19-2d07-48a9-b8d1-91d5e0c46bbe",
   "metadata": {},
   "source": [
    "## Multivariate analysis"
   ]
  },
  {
   "cell_type": "markdown",
   "id": "a02d4afd-91ba-455c-ae53-e1671bfd585f",
   "metadata": {},
   "source": [
    "### Listings spatial distribution in New York"
   ]
  },
  {
   "cell_type": "code",
   "execution_count": 47,
   "id": "6674f755-ba00-4151-9e14-171c1092c04c",
   "metadata": {},
   "outputs": [
    {
     "data": {
      "image/png": "[encoded data removed]",
      "text/plain": [
       "<Figure size 600x600 with 3 Axes>"
      ]
     },
     "metadata": {},
     "output_type": "display_data"
    }
   ],
   "source": [
    "sns.jointplot(data, x='longitude', y='latitude', kind='hex');"
   ]
  },
  {
   "cell_type": "code",
   "execution_count": 48,
   "id": "167b6ece-feb0-410a-9b18-2feb58db6aae",
   "metadata": {},
   "outputs": [
    {
     "data": {
      "text/plain": [
       "Hotel room    36\n",
       "Name: room_type, dtype: int64"
      ]
     },
     "execution_count": 48,
     "metadata": {},
     "output_type": "execute_result"
    }
   ],
   "source": [
    "data.loc[data.price==0, 'room_type'].value_counts()"
   ]
  },
  {
   "cell_type": "markdown",
   "id": "4bc2ca4a-1989-469d-bde6-96462a51a079",
   "metadata": {},
   "source": [
    "It's interesting that all listings with price equals 0 are hotel rooms. It's possible that the post includes a link to the actual website where we can book the accommodation."
   ]
  },
  {
   "cell_type": "code",
   "execution_count": 49,
   "id": "98cd8648-381b-4722-acb2-b18c0d5e236e",
   "metadata": {
    "scrolled": true,
    "tags": []
   },
   "outputs": [
    {
     "data": {
      "text/html": [
       "<div>\n",
       "<style scoped>\n",
       "    .dataframe tbody tr th:only-of-type {\n",
       "        vertical-align: middle;\n",
       "    }\n",
       "\n",
       "    .dataframe tbody tr th {\n",
       "        vertical-align: top;\n",
       "    }\n",
       "\n",
       "    .dataframe thead tr th {\n",
       "        text-align: left;\n",
       "    }\n",
       "\n",
       "    .dataframe thead tr:last-of-type th {\n",
       "        text-align: right;\n",
       "    }\n",
       "</style>\n",
       "<table border=\"1\" class=\"dataframe\">\n",
       "  <thead>\n",
       "    <tr>\n",
       "      <th></th>\n",
       "      <th colspan=\"5\" halign=\"left\">price</th>\n",
       "    </tr>\n",
       "    <tr>\n",
       "      <th></th>\n",
       "      <th>count</th>\n",
       "      <th>mean</th>\n",
       "      <th>median</th>\n",
       "      <th>min</th>\n",
       "      <th>max</th>\n",
       "    </tr>\n",
       "    <tr>\n",
       "      <th>accommodates</th>\n",
       "      <th></th>\n",
       "      <th></th>\n",
       "      <th></th>\n",
       "      <th></th>\n",
       "      <th></th>\n",
       "    </tr>\n",
       "  </thead>\n",
       "  <tbody>\n",
       "    <tr>\n",
       "      <th>0</th>\n",
       "      <td>21</td>\n",
       "      <td>0.000000</td>\n",
       "      <td>0.0</td>\n",
       "      <td>0</td>\n",
       "      <td>0</td>\n",
       "    </tr>\n",
       "    <tr>\n",
       "      <th>1</th>\n",
       "      <td>6579</td>\n",
       "      <td>85.035872</td>\n",
       "      <td>60.0</td>\n",
       "      <td>10</td>\n",
       "      <td>10000</td>\n",
       "    </tr>\n",
       "    <tr>\n",
       "      <th>2</th>\n",
       "      <td>17486</td>\n",
       "      <td>137.490049</td>\n",
       "      <td>99.0</td>\n",
       "      <td>0</td>\n",
       "      <td>10000</td>\n",
       "    </tr>\n",
       "    <tr>\n",
       "      <th>3</th>\n",
       "      <td>3695</td>\n",
       "      <td>164.631394</td>\n",
       "      <td>135.0</td>\n",
       "      <td>22</td>\n",
       "      <td>3500</td>\n",
       "    </tr>\n",
       "    <tr>\n",
       "      <th>4</th>\n",
       "      <td>5863</td>\n",
       "      <td>228.120246</td>\n",
       "      <td>165.0</td>\n",
       "      <td>0</td>\n",
       "      <td>10000</td>\n",
       "    </tr>\n",
       "    <tr>\n",
       "      <th>5</th>\n",
       "      <td>1514</td>\n",
       "      <td>253.144650</td>\n",
       "      <td>199.0</td>\n",
       "      <td>0</td>\n",
       "      <td>6143</td>\n",
       "    </tr>\n",
       "    <tr>\n",
       "      <th>6</th>\n",
       "      <td>1738</td>\n",
       "      <td>309.179517</td>\n",
       "      <td>226.0</td>\n",
       "      <td>0</td>\n",
       "      <td>6000</td>\n",
       "    </tr>\n",
       "    <tr>\n",
       "      <th>7</th>\n",
       "      <td>345</td>\n",
       "      <td>374.573913</td>\n",
       "      <td>257.0</td>\n",
       "      <td>60</td>\n",
       "      <td>6500</td>\n",
       "    </tr>\n",
       "    <tr>\n",
       "      <th>8</th>\n",
       "      <td>515</td>\n",
       "      <td>405.648544</td>\n",
       "      <td>299.0</td>\n",
       "      <td>50</td>\n",
       "      <td>2500</td>\n",
       "    </tr>\n",
       "    <tr>\n",
       "      <th>9</th>\n",
       "      <td>57</td>\n",
       "      <td>577.631579</td>\n",
       "      <td>349.0</td>\n",
       "      <td>107</td>\n",
       "      <td>3000</td>\n",
       "    </tr>\n",
       "    <tr>\n",
       "      <th>10</th>\n",
       "      <td>178</td>\n",
       "      <td>555.696629</td>\n",
       "      <td>377.0</td>\n",
       "      <td>49</td>\n",
       "      <td>3557</td>\n",
       "    </tr>\n",
       "    <tr>\n",
       "      <th>11</th>\n",
       "      <td>26</td>\n",
       "      <td>462.115385</td>\n",
       "      <td>357.0</td>\n",
       "      <td>122</td>\n",
       "      <td>1236</td>\n",
       "    </tr>\n",
       "    <tr>\n",
       "      <th>12</th>\n",
       "      <td>98</td>\n",
       "      <td>700.561224</td>\n",
       "      <td>500.0</td>\n",
       "      <td>54</td>\n",
       "      <td>3119</td>\n",
       "    </tr>\n",
       "    <tr>\n",
       "      <th>13</th>\n",
       "      <td>18</td>\n",
       "      <td>632.055556</td>\n",
       "      <td>513.0</td>\n",
       "      <td>198</td>\n",
       "      <td>1600</td>\n",
       "    </tr>\n",
       "    <tr>\n",
       "      <th>14</th>\n",
       "      <td>15</td>\n",
       "      <td>695.800000</td>\n",
       "      <td>550.0</td>\n",
       "      <td>82</td>\n",
       "      <td>1950</td>\n",
       "    </tr>\n",
       "    <tr>\n",
       "      <th>15</th>\n",
       "      <td>11</td>\n",
       "      <td>773.545455</td>\n",
       "      <td>610.0</td>\n",
       "      <td>274</td>\n",
       "      <td>1981</td>\n",
       "    </tr>\n",
       "    <tr>\n",
       "      <th>16</th>\n",
       "      <td>118</td>\n",
       "      <td>1093.144068</td>\n",
       "      <td>756.5</td>\n",
       "      <td>66</td>\n",
       "      <td>5250</td>\n",
       "    </tr>\n",
       "  </tbody>\n",
       "</table>\n",
       "</div>"
      ],
      "text/plain": [
       "              price                                \n",
       "              count         mean median  min    max\n",
       "accommodates                                       \n",
       "0                21     0.000000    0.0    0      0\n",
       "1              6579    85.035872   60.0   10  10000\n",
       "2             17486   137.490049   99.0    0  10000\n",
       "3              3695   164.631394  135.0   22   3500\n",
       "4              5863   228.120246  165.0    0  10000\n",
       "5              1514   253.144650  199.0    0   6143\n",
       "6              1738   309.179517  226.0    0   6000\n",
       "7               345   374.573913  257.0   60   6500\n",
       "8               515   405.648544  299.0   50   2500\n",
       "9                57   577.631579  349.0  107   3000\n",
       "10              178   555.696629  377.0   49   3557\n",
       "11               26   462.115385  357.0  122   1236\n",
       "12               98   700.561224  500.0   54   3119\n",
       "13               18   632.055556  513.0  198   1600\n",
       "14               15   695.800000  550.0   82   1950\n",
       "15               11   773.545455  610.0  274   1981\n",
       "16              118  1093.144068  756.5   66   5250"
      ]
     },
     "execution_count": 49,
     "metadata": {},
     "output_type": "execute_result"
    }
   ],
   "source": [
    "data.groupby('accommodates').agg({'price':['count','mean','median','min','max']})"
   ]
  },
  {
   "cell_type": "markdown",
   "id": "c56726ff-7658-4fd6-beaf-6ae4f6964883",
   "metadata": {},
   "source": [
    "### Analysis of the proportion of houses by price bin for each number of accommodates\n",
    "\n",
    "We could define 4 bins for the price based on the quantiles 33, 66 and 95."
   ]
  },
  {
   "cell_type": "code",
   "execution_count": 86,
   "id": "d1fb7342-d789-4c28-ab6d-497fafc05674",
   "metadata": {},
   "outputs": [],
   "source": [
    "quantiles = data.price.quantile([0.33, 0.66, 0.95]).values\n",
    "bins = np.append( np.insert(quantiles, 0, 0), data.price.max() )\n",
    "data['price_binarized'] = pd.cut(data.price, bins, include_lowest=True, labels=['Low','Mid','High','Luxury'])"
   ]
  },
  {
   "cell_type": "code",
   "execution_count": 96,
   "id": "05cde35f-a3de-4884-b69e-3f240ed3c3d4",
   "metadata": {},
   "outputs": [
    {
     "data": {
      "application/vnd.plotly.v1+json": {
       "config": {
        "plotlyServerURL": "https://plot.ly"
       },
       "data": [
        {
         "alignmentgroup": "True",
         "customdata": [
          [
           "Low"
          ],
          [
           "Low"
          ],
          [
           "Low"
          ],
          [
           "Low"
          ],
          [
           "Low"
          ],
          [
           "Low"
          ],
          [
           "Low"
          ],
          [
           "Low"
          ],
          [
           "Low"
          ],
          [
           "Low"
          ],
          [
           "Low"
          ],
          [
           "Low"
          ],
          [
           "Low"
          ],
          [
           "Low"
          ],
          [
           "Low"
          ],
          [
           "Low"
          ],
          [
           "Low"
          ]
         ],
         "hovertemplate": "Proporción=%{y}<extra></extra>",
         "legendgroup": "Low",
         "marker": {
          "color": "#636efa",
          "pattern": {
           "shape": ""
          }
         },
         "name": "Low",
         "offsetgroup": "Low",
         "orientation": "v",
         "showlegend": true,
         "textposition": "auto",
         "type": "bar",
         "x": [
          0,
          1,
          2,
          3,
          4,
          5,
          6,
          7,
          8,
          9,
          10,
          11,
          12,
          13,
          14,
          15,
          16
         ],
         "xaxis": "x",
         "y": [
          21,
          4847,
          6815,
          536,
          418,
          45,
          41,
          3,
          15,
          0,
          2,
          0,
          1,
          0,
          0,
          0,
          1
         ],
         "yaxis": "y"
        },
        {
         "alignmentgroup": "True",
         "customdata": [
          [
           "Mid"
          ],
          [
           "Mid"
          ],
          [
           "Mid"
          ],
          [
           "Mid"
          ],
          [
           "Mid"
          ],
          [
           "Mid"
          ],
          [
           "Mid"
          ],
          [
           "Mid"
          ],
          [
           "Mid"
          ],
          [
           "Mid"
          ],
          [
           "Mid"
          ],
          [
           "Mid"
          ],
          [
           "Mid"
          ],
          [
           "Mid"
          ],
          [
           "Mid"
          ],
          [
           "Mid"
          ],
          [
           "Mid"
          ]
         ],
         "hovertemplate": "Proporción=%{y}<extra></extra>",
         "legendgroup": "Mid",
         "marker": {
          "color": "#EF553B",
          "pattern": {
           "shape": ""
          }
         },
         "name": "Mid",
         "offsetgroup": "Mid",
         "orientation": "v",
         "showlegend": true,
         "textposition": "auto",
         "type": "bar",
         "x": [
          0,
          1,
          2,
          3,
          4,
          5,
          6,
          7,
          8,
          9,
          10,
          11,
          12,
          13,
          14,
          15,
          16
         ],
         "xaxis": "x",
         "y": [
          0,
          1385,
          6348,
          1692,
          2225,
          451,
          356,
          40,
          61,
          6,
          7,
          3,
          8,
          0,
          2,
          0,
          3
         ],
         "yaxis": "y"
        },
        {
         "alignmentgroup": "True",
         "customdata": [
          [
           "High"
          ],
          [
           "High"
          ],
          [
           "High"
          ],
          [
           "High"
          ],
          [
           "High"
          ],
          [
           "High"
          ],
          [
           "High"
          ],
          [
           "High"
          ],
          [
           "High"
          ],
          [
           "High"
          ],
          [
           "High"
          ],
          [
           "High"
          ],
          [
           "High"
          ],
          [
           "High"
          ],
          [
           "High"
          ],
          [
           "High"
          ],
          [
           "High"
          ]
         ],
         "hovertemplate": "Proporción=%{y}<extra></extra>",
         "legendgroup": "High",
         "marker": {
          "color": "#00cc96",
          "pattern": {
           "shape": ""
          }
         },
         "name": "High",
         "offsetgroup": "High",
         "orientation": "v",
         "showlegend": true,
         "textposition": "auto",
         "type": "bar",
         "x": [
          0,
          1,
          2,
          3,
          4,
          5,
          6,
          7,
          8,
          9,
          10,
          11,
          12,
          13,
          14,
          15,
          16
         ],
         "xaxis": "x",
         "y": [
          0,
          277,
          3933,
          1376,
          2778,
          866,
          1084,
          232,
          288,
          32,
          90,
          14,
          33,
          6,
          4,
          4,
          24
         ],
         "yaxis": "y"
        },
        {
         "alignmentgroup": "True",
         "customdata": [
          [
           "Luxury"
          ],
          [
           "Luxury"
          ],
          [
           "Luxury"
          ],
          [
           "Luxury"
          ],
          [
           "Luxury"
          ],
          [
           "Luxury"
          ],
          [
           "Luxury"
          ],
          [
           "Luxury"
          ],
          [
           "Luxury"
          ],
          [
           "Luxury"
          ],
          [
           "Luxury"
          ],
          [
           "Luxury"
          ],
          [
           "Luxury"
          ],
          [
           "Luxury"
          ],
          [
           "Luxury"
          ],
          [
           "Luxury"
          ],
          [
           "Luxury"
          ]
         ],
         "hovertemplate": "Proporción=%{y}<extra></extra>",
         "legendgroup": "Luxury",
         "marker": {
          "color": "#ab63fa",
          "pattern": {
           "shape": ""
          }
         },
         "name": "Luxury",
         "offsetgroup": "Luxury",
         "orientation": "v",
         "showlegend": true,
         "textposition": "auto",
         "type": "bar",
         "x": [
          0,
          1,
          2,
          3,
          4,
          5,
          6,
          7,
          8,
          9,
          10,
          11,
          12,
          13,
          14,
          15,
          16
         ],
         "xaxis": "x",
         "y": [
          0,
          70,
          390,
          91,
          442,
          152,
          257,
          70,
          151,
          19,
          79,
          9,
          56,
          12,
          9,
          7,
          90
         ],
         "yaxis": "y"
        }
       ],
       "layout": {
        "autosize": true,
        "barmode": "relative",
        "barnorm": "percent",
        "hovermode": "closest",
        "legend": {
         "title": {
          "text": "Price bins:"
         },
         "tracegroupgap": 0
        },
        "margin": {
         "b": 50,
         "l": 70,
         "r": 140,
         "t": 50
        },
        "plot_bgcolor": "white",
        "template": {
         "data": {
          "bar": [
           {
            "error_x": {
             "color": "#2a3f5f"
            },
            "error_y": {
             "color": "#2a3f5f"
            },
            "marker": {
             "line": {
              "color": "#E5ECF6",
              "width": 0.5
             },
             "pattern": {
              "fillmode": "overlay",
              "size": 10,
              "solidity": 0.2
             }
            },
            "type": "bar"
           }
          ],
          "barpolar": [
           {
            "marker": {
             "line": {
              "color": "#E5ECF6",
              "width": 0.5
             },
             "pattern": {
              "fillmode": "overlay",
              "size": 10,
              "solidity": 0.2
             }
            },
            "type": "barpolar"
           }
          ],
          "carpet": [
           {
            "aaxis": {
             "endlinecolor": "#2a3f5f",
             "gridcolor": "white",
             "linecolor": "white",
             "minorgridcolor": "white",
             "startlinecolor": "#2a3f5f"
            },
            "baxis": {
             "endlinecolor": "#2a3f5f",
             "gridcolor": "white",
             "linecolor": "white",
             "minorgridcolor": "white",
             "startlinecolor": "#2a3f5f"
            },
            "type": "carpet"
           }
          ],
          "choropleth": [
           {
            "colorbar": {
             "outlinewidth": 0,
             "ticks": ""
            },
            "type": "choropleth"
           }
          ],
          "contour": [
           {
            "colorbar": {
             "outlinewidth": 0,
             "ticks": ""
            },
            "colorscale": [
             [
              0,
              "#0d0887"
             ],
             [
              0.1111111111111111,
              "#46039f"
             ],
             [
              0.2222222222222222,
              "#7201a8"
             ],
             [
              0.3333333333333333,
              "#9c179e"
             ],
             [
              0.4444444444444444,
              "#bd3786"
             ],
             [
              0.5555555555555556,
              "#d8576b"
             ],
             [
              0.6666666666666666,
              "#ed7953"
             ],
             [
              0.7777777777777778,
              "#fb9f3a"
             ],
             [
              0.8888888888888888,
              "#fdca26"
             ],
             [
              1,
              "#f0f921"
             ]
            ],
            "type": "contour"
           }
          ],
          "contourcarpet": [
           {
            "colorbar": {
             "outlinewidth": 0,
             "ticks": ""
            },
            "type": "contourcarpet"
           }
          ],
          "heatmap": [
           {
            "colorbar": {
             "outlinewidth": 0,
             "ticks": ""
            },
            "colorscale": [
             [
              0,
              "#0d0887"
             ],
             [
              0.1111111111111111,
              "#46039f"
             ],
             [
              0.2222222222222222,
              "#7201a8"
             ],
             [
              0.3333333333333333,
              "#9c179e"
             ],
             [
              0.4444444444444444,
              "#bd3786"
             ],
             [
              0.5555555555555556,
              "#d8576b"
             ],
             [
              0.6666666666666666,
              "#ed7953"
             ],
             [
              0.7777777777777778,
              "#fb9f3a"
             ],
             [
              0.8888888888888888,
              "#fdca26"
             ],
             [
              1,
              "#f0f921"
             ]
            ],
            "type": "heatmap"
           }
          ],
          "heatmapgl": [
           {
            "colorbar": {
             "outlinewidth": 0,
             "ticks": ""
            },
            "colorscale": [
             [
              0,
              "#0d0887"
             ],
             [
              0.1111111111111111,
              "#46039f"
             ],
             [
              0.2222222222222222,
              "#7201a8"
             ],
             [
              0.3333333333333333,
              "#9c179e"
             ],
             [
              0.4444444444444444,
              "#bd3786"
             ],
             [
              0.5555555555555556,
              "#d8576b"
             ],
             [
              0.6666666666666666,
              "#ed7953"
             ],
             [
              0.7777777777777778,
              "#fb9f3a"
             ],
             [
              0.8888888888888888,
              "#fdca26"
             ],
             [
              1,
              "#f0f921"
             ]
            ],
            "type": "heatmapgl"
           }
          ],
          "histogram": [
           {
            "marker": {
             "pattern": {
              "fillmode": "overlay",
              "size": 10,
              "solidity": 0.2
             }
            },
            "type": "histogram"
           }
          ],
          "histogram2d": [
           {
            "colorbar": {
             "outlinewidth": 0,
             "ticks": ""
            },
            "colorscale": [
             [
              0,
              "#0d0887"
             ],
             [
              0.1111111111111111,
              "#46039f"
             ],
             [
              0.2222222222222222,
              "#7201a8"
             ],
             [
              0.3333333333333333,
              "#9c179e"
             ],
             [
              0.4444444444444444,
              "#bd3786"
             ],
             [
              0.5555555555555556,
              "#d8576b"
             ],
             [
              0.6666666666666666,
              "#ed7953"
             ],
             [
              0.7777777777777778,
              "#fb9f3a"
             ],
             [
              0.8888888888888888,
              "#fdca26"
             ],
             [
              1,
              "#f0f921"
             ]
            ],
            "type": "histogram2d"
           }
          ],
          "histogram2dcontour": [
           {
            "colorbar": {
             "outlinewidth": 0,
             "ticks": ""
            },
            "colorscale": [
             [
              0,
              "#0d0887"
             ],
             [
              0.1111111111111111,
              "#46039f"
             ],
             [
              0.2222222222222222,
              "#7201a8"
             ],
             [
              0.3333333333333333,
              "#9c179e"
             ],
             [
              0.4444444444444444,
              "#bd3786"
             ],
             [
              0.5555555555555556,
              "#d8576b"
             ],
             [
              0.6666666666666666,
              "#ed7953"
             ],
             [
              0.7777777777777778,
              "#fb9f3a"
             ],
             [
              0.8888888888888888,
              "#fdca26"
             ],
             [
              1,
              "#f0f921"
             ]
            ],
            "type": "histogram2dcontour"
           }
          ],
          "mesh3d": [
           {
            "colorbar": {
             "outlinewidth": 0,
             "ticks": ""
            },
            "type": "mesh3d"
           }
          ],
          "parcoords": [
           {
            "line": {
             "colorbar": {
              "outlinewidth": 0,
              "ticks": ""
             }
            },
            "type": "parcoords"
           }
          ],
          "pie": [
           {
            "automargin": true,
            "type": "pie"
           }
          ],
          "scatter": [
           {
            "fillpattern": {
             "fillmode": "overlay",
             "size": 10,
             "solidity": 0.2
            },
            "type": "scatter"
           }
          ],
          "scatter3d": [
           {
            "line": {
             "colorbar": {
              "outlinewidth": 0,
              "ticks": ""
             }
            },
            "marker": {
             "colorbar": {
              "outlinewidth": 0,
              "ticks": ""
             }
            },
            "type": "scatter3d"
           }
          ],
          "scattercarpet": [
           {
            "marker": {
             "colorbar": {
              "outlinewidth": 0,
              "ticks": ""
             }
            },
            "type": "scattercarpet"
           }
          ],
          "scattergeo": [
           {
            "marker": {
             "colorbar": {
              "outlinewidth": 0,
              "ticks": ""
             }
            },
            "type": "scattergeo"
           }
          ],
          "scattergl": [
           {
            "marker": {
             "colorbar": {
              "outlinewidth": 0,
              "ticks": ""
             }
            },
            "type": "scattergl"
           }
          ],
          "scattermapbox": [
           {
            "marker": {
             "colorbar": {
              "outlinewidth": 0,
              "ticks": ""
             }
            },
            "type": "scattermapbox"
           }
          ],
          "scatterpolar": [
           {
            "marker": {
             "colorbar": {
              "outlinewidth": 0,
              "ticks": ""
             }
            },
            "type": "scatterpolar"
           }
          ],
          "scatterpolargl": [
           {
            "marker": {
             "colorbar": {
              "outlinewidth": 0,
              "ticks": ""
             }
            },
            "type": "scatterpolargl"
           }
          ],
          "scatterternary": [
           {
            "marker": {
             "colorbar": {
              "outlinewidth": 0,
              "ticks": ""
             }
            },
            "type": "scatterternary"
           }
          ],
          "surface": [
           {
            "colorbar": {
             "outlinewidth": 0,
             "ticks": ""
            },
            "colorscale": [
             [
              0,
              "#0d0887"
             ],
             [
              0.1111111111111111,
              "#46039f"
             ],
             [
              0.2222222222222222,
              "#7201a8"
             ],
             [
              0.3333333333333333,
              "#9c179e"
             ],
             [
              0.4444444444444444,
              "#bd3786"
             ],
             [
              0.5555555555555556,
              "#d8576b"
             ],
             [
              0.6666666666666666,
              "#ed7953"
             ],
             [
              0.7777777777777778,
              "#fb9f3a"
             ],
             [
              0.8888888888888888,
              "#fdca26"
             ],
             [
              1,
              "#f0f921"
             ]
            ],
            "type": "surface"
           }
          ],
          "table": [
           {
            "cells": {
             "fill": {
              "color": "#EBF0F8"
             },
             "line": {
              "color": "white"
             }
            },
            "header": {
             "fill": {
              "color": "#C8D4E3"
             },
             "line": {
              "color": "white"
             }
            },
            "type": "table"
           }
          ]
         },
         "layout": {
          "annotationdefaults": {
           "arrowcolor": "#2a3f5f",
           "arrowhead": 0,
           "arrowwidth": 1
          },
          "autotypenumbers": "strict",
          "coloraxis": {
           "colorbar": {
            "outlinewidth": 0,
            "ticks": ""
           }
          },
          "colorscale": {
           "diverging": [
            [
             0,
             "#8e0152"
            ],
            [
             0.1,
             "#c51b7d"
            ],
            [
             0.2,
             "#de77ae"
            ],
            [
             0.3,
             "#f1b6da"
            ],
            [
             0.4,
             "#fde0ef"
            ],
            [
             0.5,
             "#f7f7f7"
            ],
            [
             0.6,
             "#e6f5d0"
            ],
            [
             0.7,
             "#b8e186"
            ],
            [
             0.8,
             "#7fbc41"
            ],
            [
             0.9,
             "#4d9221"
            ],
            [
             1,
             "#276419"
            ]
           ],
           "sequential": [
            [
             0,
             "#0d0887"
            ],
            [
             0.1111111111111111,
             "#46039f"
            ],
            [
             0.2222222222222222,
             "#7201a8"
            ],
            [
             0.3333333333333333,
             "#9c179e"
            ],
            [
             0.4444444444444444,
             "#bd3786"
            ],
            [
             0.5555555555555556,
             "#d8576b"
            ],
            [
             0.6666666666666666,
             "#ed7953"
            ],
            [
             0.7777777777777778,
             "#fb9f3a"
            ],
            [
             0.8888888888888888,
             "#fdca26"
            ],
            [
             1,
             "#f0f921"
            ]
           ],
           "sequentialminus": [
            [
             0,
             "#0d0887"
            ],
            [
             0.1111111111111111,
             "#46039f"
            ],
            [
             0.2222222222222222,
             "#7201a8"
            ],
            [
             0.3333333333333333,
             "#9c179e"
            ],
            [
             0.4444444444444444,
             "#bd3786"
            ],
            [
             0.5555555555555556,
             "#d8576b"
            ],
            [
             0.6666666666666666,
             "#ed7953"
            ],
            [
             0.7777777777777778,
             "#fb9f3a"
            ],
            [
             0.8888888888888888,
             "#fdca26"
            ],
            [
             1,
             "#f0f921"
            ]
           ]
          },
          "colorway": [
           "#636efa",
           "#EF553B",
           "#00cc96",
           "#ab63fa",
           "#FFA15A",
           "#19d3f3",
           "#FF6692",
           "#B6E880",
           "#FF97FF",
           "#FECB52"
          ],
          "font": {
           "color": "#2a3f5f"
          },
          "geo": {
           "bgcolor": "white",
           "lakecolor": "white",
           "landcolor": "#E5ECF6",
           "showlakes": true,
           "showland": true,
           "subunitcolor": "white"
          },
          "hoverlabel": {
           "align": "left"
          },
          "hovermode": "closest",
          "mapbox": {
           "style": "light"
          },
          "paper_bgcolor": "white",
          "plot_bgcolor": "#E5ECF6",
          "polar": {
           "angularaxis": {
            "gridcolor": "white",
            "linecolor": "white",
            "ticks": ""
           },
           "bgcolor": "#E5ECF6",
           "radialaxis": {
            "gridcolor": "white",
            "linecolor": "white",
            "ticks": ""
           }
          },
          "scene": {
           "xaxis": {
            "backgroundcolor": "#E5ECF6",
            "gridcolor": "white",
            "gridwidth": 2,
            "linecolor": "white",
            "showbackground": true,
            "ticks": "",
            "zerolinecolor": "white"
           },
           "yaxis": {
            "backgroundcolor": "#E5ECF6",
            "gridcolor": "white",
            "gridwidth": 2,
            "linecolor": "white",
            "showbackground": true,
            "ticks": "",
            "zerolinecolor": "white"
           },
           "zaxis": {
            "backgroundcolor": "#E5ECF6",
            "gridcolor": "white",
            "gridwidth": 2,
            "linecolor": "white",
            "showbackground": true,
            "ticks": "",
            "zerolinecolor": "white"
           }
          },
          "shapedefaults": {
           "line": {
            "color": "#2a3f5f"
           }
          },
          "ternary": {
           "aaxis": {
            "gridcolor": "white",
            "linecolor": "white",
            "ticks": ""
           },
           "baxis": {
            "gridcolor": "white",
            "linecolor": "white",
            "ticks": ""
           },
           "bgcolor": "#E5ECF6",
           "caxis": {
            "gridcolor": "white",
            "linecolor": "white",
            "ticks": ""
           }
          },
          "title": {
           "x": 0.05
          },
          "xaxis": {
           "automargin": true,
           "gridcolor": "white",
           "linecolor": "white",
           "ticks": "",
           "title": {
            "standoff": 15
           },
           "zerolinecolor": "white",
           "zerolinewidth": 2
          },
          "yaxis": {
           "automargin": true,
           "gridcolor": "white",
           "linecolor": "white",
           "ticks": "",
           "title": {
            "standoff": 15
           },
           "zerolinecolor": "white",
           "zerolinewidth": 2
          }
         }
        },
        "title": {
         "text": "Proportion of houses by price bin for each number of accommodates",
         "x": 0.5
        },
        "xaxis": {
         "anchor": "y",
         "autorange": true,
         "domain": [
          0,
          1
         ],
         "range": [
          -0.5,
          16.5
         ],
         "showgrid": false,
         "title": {
          "text": "accommodates"
         },
         "type": "linear"
        },
        "yaxis": {
         "anchor": "x",
         "autorange": true,
         "domain": [
          0,
          1
         ],
         "gridcolor": "#d1d1d1",
         "gridwidth": 1.2,
         "range": [
          0,
          105.26315789473686
         ],
         "showgrid": true,
         "title": {
          "text": "Proporción"
         },
         "type": "linear"
        }
       }
      },
      "image/png": "[encoded data removed]",
      "text/html": [
       "<div>                            <div id=\"e9a10815-8ea2-4521-ba00-e2335a88d7e8\" class=\"plotly-graph-div\" style=\"height:525px; width:100%;\"></div>            <script type=\"text/javascript\">                require([\"plotly\"], function(Plotly) {                    window.PLOTLYENV=window.PLOTLYENV || {};                                    if (document.getElementById(\"e9a10815-8ea2-4521-ba00-e2335a88d7e8\")) {                    Plotly.newPlot(                        \"e9a10815-8ea2-4521-ba00-e2335a88d7e8\",                        [{\"alignmentgroup\":\"True\",\"customdata\":[[\"Low\"],[\"Low\"],[\"Low\"],[\"Low\"],[\"Low\"],[\"Low\"],[\"Low\"],[\"Low\"],[\"Low\"],[\"Low\"],[\"Low\"],[\"Low\"],[\"Low\"],[\"Low\"],[\"Low\"],[\"Low\"],[\"Low\"]],\"hovertemplate\":\"Proporci\\u00f3n=%{y}<extra></extra>\",\"legendgroup\":\"Low\",\"marker\":{\"color\":\"#636efa\",\"pattern\":{\"shape\":\"\"}},\"name\":\"Low\",\"offsetgroup\":\"Low\",\"orientation\":\"v\",\"showlegend\":true,\"textposition\":\"auto\",\"x\":[0,1,2,3,4,5,6,7,8,9,10,11,12,13,14,15,16],\"xaxis\":\"x\",\"y\":[21,4847,6815,536,418,45,41,3,15,0,2,0,1,0,0,0,1],\"yaxis\":\"y\",\"type\":\"bar\"},{\"alignmentgroup\":\"True\",\"customdata\":[[\"Mid\"],[\"Mid\"],[\"Mid\"],[\"Mid\"],[\"Mid\"],[\"Mid\"],[\"Mid\"],[\"Mid\"],[\"Mid\"],[\"Mid\"],[\"Mid\"],[\"Mid\"],[\"Mid\"],[\"Mid\"],[\"Mid\"],[\"Mid\"],[\"Mid\"]],\"hovertemplate\":\"Proporci\\u00f3n=%{y}<extra></extra>\",\"legendgroup\":\"Mid\",\"marker\":{\"color\":\"#EF553B\",\"pattern\":{\"shape\":\"\"}},\"name\":\"Mid\",\"offsetgroup\":\"Mid\",\"orientation\":\"v\",\"showlegend\":true,\"textposition\":\"auto\",\"x\":[0,1,2,3,4,5,6,7,8,9,10,11,12,13,14,15,16],\"xaxis\":\"x\",\"y\":[0,1385,6348,1692,2225,451,356,40,61,6,7,3,8,0,2,0,3],\"yaxis\":\"y\",\"type\":\"bar\"},{\"alignmentgroup\":\"True\",\"customdata\":[[\"High\"],[\"High\"],[\"High\"],[\"High\"],[\"High\"],[\"High\"],[\"High\"],[\"High\"],[\"High\"],[\"High\"],[\"High\"],[\"High\"],[\"High\"],[\"High\"],[\"High\"],[\"High\"],[\"High\"]],\"hovertemplate\":\"Proporci\\u00f3n=%{y}<extra></extra>\",\"legendgroup\":\"High\",\"marker\":{\"color\":\"#00cc96\",\"pattern\":{\"shape\":\"\"}},\"name\":\"High\",\"offsetgroup\":\"High\",\"orientation\":\"v\",\"showlegend\":true,\"textposition\":\"auto\",\"x\":[0,1,2,3,4,5,6,7,8,9,10,11,12,13,14,15,16],\"xaxis\":\"x\",\"y\":[0,277,3933,1376,2778,866,1084,232,288,32,90,14,33,6,4,4,24],\"yaxis\":\"y\",\"type\":\"bar\"},{\"alignmentgroup\":\"True\",\"customdata\":[[\"Luxury\"],[\"Luxury\"],[\"Luxury\"],[\"Luxury\"],[\"Luxury\"],[\"Luxury\"],[\"Luxury\"],[\"Luxury\"],[\"Luxury\"],[\"Luxury\"],[\"Luxury\"],[\"Luxury\"],[\"Luxury\"],[\"Luxury\"],[\"Luxury\"],[\"Luxury\"],[\"Luxury\"]],\"hovertemplate\":\"Proporci\\u00f3n=%{y}<extra></extra>\",\"legendgroup\":\"Luxury\",\"marker\":{\"color\":\"#ab63fa\",\"pattern\":{\"shape\":\"\"}},\"name\":\"Luxury\",\"offsetgroup\":\"Luxury\",\"orientation\":\"v\",\"showlegend\":true,\"textposition\":\"auto\",\"x\":[0,1,2,3,4,5,6,7,8,9,10,11,12,13,14,15,16],\"xaxis\":\"x\",\"y\":[0,70,390,91,442,152,257,70,151,19,79,9,56,12,9,7,90],\"yaxis\":\"y\",\"type\":\"bar\"}],                        {\"template\":{\"data\":{\"histogram2dcontour\":[{\"type\":\"histogram2dcontour\",\"colorbar\":{\"outlinewidth\":0,\"ticks\":\"\"},\"colorscale\":[[0.0,\"#0d0887\"],[0.1111111111111111,\"#46039f\"],[0.2222222222222222,\"#7201a8\"],[0.3333333333333333,\"#9c179e\"],[0.4444444444444444,\"#bd3786\"],[0.5555555555555556,\"#d8576b\"],[0.6666666666666666,\"#ed7953\"],[0.7777777777777778,\"#fb9f3a\"],[0.8888888888888888,\"#fdca26\"],[1.0,\"#f0f921\"]]}],\"choropleth\":[{\"type\":\"choropleth\",\"colorbar\":{\"outlinewidth\":0,\"ticks\":\"\"}}],\"histogram2d\":[{\"type\":\"histogram2d\",\"colorbar\":{\"outlinewidth\":0,\"ticks\":\"\"},\"colorscale\":[[0.0,\"#0d0887\"],[0.1111111111111111,\"#46039f\"],[0.2222222222222222,\"#7201a8\"],[0.3333333333333333,\"#9c179e\"],[0.4444444444444444,\"#bd3786\"],[0.5555555555555556,\"#d8576b\"],[0.6666666666666666,\"#ed7953\"],[0.7777777777777778,\"#fb9f3a\"],[0.8888888888888888,\"#fdca26\"],[1.0,\"#f0f921\"]]}],\"heatmap\":[{\"type\":\"heatmap\",\"colorbar\":{\"outlinewidth\":0,\"ticks\":\"\"},\"colorscale\":[[0.0,\"#0d0887\"],[0.1111111111111111,\"#46039f\"],[0.2222222222222222,\"#7201a8\"],[0.3333333333333333,\"#9c179e\"],[0.4444444444444444,\"#bd3786\"],[0.5555555555555556,\"#d8576b\"],[0.6666666666666666,\"#ed7953\"],[0.7777777777777778,\"#fb9f3a\"],[0.8888888888888888,\"#fdca26\"],[1.0,\"#f0f921\"]]}],\"heatmapgl\":[{\"type\":\"heatmapgl\",\"colorbar\":{\"outlinewidth\":0,\"ticks\":\"\"},\"colorscale\":[[0.0,\"#0d0887\"],[0.1111111111111111,\"#46039f\"],[0.2222222222222222,\"#7201a8\"],[0.3333333333333333,\"#9c179e\"],[0.4444444444444444,\"#bd3786\"],[0.5555555555555556,\"#d8576b\"],[0.6666666666666666,\"#ed7953\"],[0.7777777777777778,\"#fb9f3a\"],[0.8888888888888888,\"#fdca26\"],[1.0,\"#f0f921\"]]}],\"contourcarpet\":[{\"type\":\"contourcarpet\",\"colorbar\":{\"outlinewidth\":0,\"ticks\":\"\"}}],\"contour\":[{\"type\":\"contour\",\"colorbar\":{\"outlinewidth\":0,\"ticks\":\"\"},\"colorscale\":[[0.0,\"#0d0887\"],[0.1111111111111111,\"#46039f\"],[0.2222222222222222,\"#7201a8\"],[0.3333333333333333,\"#9c179e\"],[0.4444444444444444,\"#bd3786\"],[0.5555555555555556,\"#d8576b\"],[0.6666666666666666,\"#ed7953\"],[0.7777777777777778,\"#fb9f3a\"],[0.8888888888888888,\"#fdca26\"],[1.0,\"#f0f921\"]]}],\"surface\":[{\"type\":\"surface\",\"colorbar\":{\"outlinewidth\":0,\"ticks\":\"\"},\"colorscale\":[[0.0,\"#0d0887\"],[0.1111111111111111,\"#46039f\"],[0.2222222222222222,\"#7201a8\"],[0.3333333333333333,\"#9c179e\"],[0.4444444444444444,\"#bd3786\"],[0.5555555555555556,\"#d8576b\"],[0.6666666666666666,\"#ed7953\"],[0.7777777777777778,\"#fb9f3a\"],[0.8888888888888888,\"#fdca26\"],[1.0,\"#f0f921\"]]}],\"mesh3d\":[{\"type\":\"mesh3d\",\"colorbar\":{\"outlinewidth\":0,\"ticks\":\"\"}}],\"scatter\":[{\"fillpattern\":{\"fillmode\":\"overlay\",\"size\":10,\"solidity\":0.2},\"type\":\"scatter\"}],\"parcoords\":[{\"type\":\"parcoords\",\"line\":{\"colorbar\":{\"outlinewidth\":0,\"ticks\":\"\"}}}],\"scatterpolargl\":[{\"type\":\"scatterpolargl\",\"marker\":{\"colorbar\":{\"outlinewidth\":0,\"ticks\":\"\"}}}],\"bar\":[{\"error_x\":{\"color\":\"#2a3f5f\"},\"error_y\":{\"color\":\"#2a3f5f\"},\"marker\":{\"line\":{\"color\":\"#E5ECF6\",\"width\":0.5},\"pattern\":{\"fillmode\":\"overlay\",\"size\":10,\"solidity\":0.2}},\"type\":\"bar\"}],\"scattergeo\":[{\"type\":\"scattergeo\",\"marker\":{\"colorbar\":{\"outlinewidth\":0,\"ticks\":\"\"}}}],\"scatterpolar\":[{\"type\":\"scatterpolar\",\"marker\":{\"colorbar\":{\"outlinewidth\":0,\"ticks\":\"\"}}}],\"histogram\":[{\"marker\":{\"pattern\":{\"fillmode\":\"overlay\",\"size\":10,\"solidity\":0.2}},\"type\":\"histogram\"}],\"scattergl\":[{\"type\":\"scattergl\",\"marker\":{\"colorbar\":{\"outlinewidth\":0,\"ticks\":\"\"}}}],\"scatter3d\":[{\"type\":\"scatter3d\",\"line\":{\"colorbar\":{\"outlinewidth\":0,\"ticks\":\"\"}},\"marker\":{\"colorbar\":{\"outlinewidth\":0,\"ticks\":\"\"}}}],\"scattermapbox\":[{\"type\":\"scattermapbox\",\"marker\":{\"colorbar\":{\"outlinewidth\":0,\"ticks\":\"\"}}}],\"scatterternary\":[{\"type\":\"scatterternary\",\"marker\":{\"colorbar\":{\"outlinewidth\":0,\"ticks\":\"\"}}}],\"scattercarpet\":[{\"type\":\"scattercarpet\",\"marker\":{\"colorbar\":{\"outlinewidth\":0,\"ticks\":\"\"}}}],\"carpet\":[{\"aaxis\":{\"endlinecolor\":\"#2a3f5f\",\"gridcolor\":\"white\",\"linecolor\":\"white\",\"minorgridcolor\":\"white\",\"startlinecolor\":\"#2a3f5f\"},\"baxis\":{\"endlinecolor\":\"#2a3f5f\",\"gridcolor\":\"white\",\"linecolor\":\"white\",\"minorgridcolor\":\"white\",\"startlinecolor\":\"#2a3f5f\"},\"type\":\"carpet\"}],\"table\":[{\"cells\":{\"fill\":{\"color\":\"#EBF0F8\"},\"line\":{\"color\":\"white\"}},\"header\":{\"fill\":{\"color\":\"#C8D4E3\"},\"line\":{\"color\":\"white\"}},\"type\":\"table\"}],\"barpolar\":[{\"marker\":{\"line\":{\"color\":\"#E5ECF6\",\"width\":0.5},\"pattern\":{\"fillmode\":\"overlay\",\"size\":10,\"solidity\":0.2}},\"type\":\"barpolar\"}],\"pie\":[{\"automargin\":true,\"type\":\"pie\"}]},\"layout\":{\"autotypenumbers\":\"strict\",\"colorway\":[\"#636efa\",\"#EF553B\",\"#00cc96\",\"#ab63fa\",\"#FFA15A\",\"#19d3f3\",\"#FF6692\",\"#B6E880\",\"#FF97FF\",\"#FECB52\"],\"font\":{\"color\":\"#2a3f5f\"},\"hovermode\":\"closest\",\"hoverlabel\":{\"align\":\"left\"},\"paper_bgcolor\":\"white\",\"plot_bgcolor\":\"#E5ECF6\",\"polar\":{\"bgcolor\":\"#E5ECF6\",\"angularaxis\":{\"gridcolor\":\"white\",\"linecolor\":\"white\",\"ticks\":\"\"},\"radialaxis\":{\"gridcolor\":\"white\",\"linecolor\":\"white\",\"ticks\":\"\"}},\"ternary\":{\"bgcolor\":\"#E5ECF6\",\"aaxis\":{\"gridcolor\":\"white\",\"linecolor\":\"white\",\"ticks\":\"\"},\"baxis\":{\"gridcolor\":\"white\",\"linecolor\":\"white\",\"ticks\":\"\"},\"caxis\":{\"gridcolor\":\"white\",\"linecolor\":\"white\",\"ticks\":\"\"}},\"coloraxis\":{\"colorbar\":{\"outlinewidth\":0,\"ticks\":\"\"}},\"colorscale\":{\"sequential\":[[0.0,\"#0d0887\"],[0.1111111111111111,\"#46039f\"],[0.2222222222222222,\"#7201a8\"],[0.3333333333333333,\"#9c179e\"],[0.4444444444444444,\"#bd3786\"],[0.5555555555555556,\"#d8576b\"],[0.6666666666666666,\"#ed7953\"],[0.7777777777777778,\"#fb9f3a\"],[0.8888888888888888,\"#fdca26\"],[1.0,\"#f0f921\"]],\"sequentialminus\":[[0.0,\"#0d0887\"],[0.1111111111111111,\"#46039f\"],[0.2222222222222222,\"#7201a8\"],[0.3333333333333333,\"#9c179e\"],[0.4444444444444444,\"#bd3786\"],[0.5555555555555556,\"#d8576b\"],[0.6666666666666666,\"#ed7953\"],[0.7777777777777778,\"#fb9f3a\"],[0.8888888888888888,\"#fdca26\"],[1.0,\"#f0f921\"]],\"diverging\":[[0,\"#8e0152\"],[0.1,\"#c51b7d\"],[0.2,\"#de77ae\"],[0.3,\"#f1b6da\"],[0.4,\"#fde0ef\"],[0.5,\"#f7f7f7\"],[0.6,\"#e6f5d0\"],[0.7,\"#b8e186\"],[0.8,\"#7fbc41\"],[0.9,\"#4d9221\"],[1,\"#276419\"]]},\"xaxis\":{\"gridcolor\":\"white\",\"linecolor\":\"white\",\"ticks\":\"\",\"title\":{\"standoff\":15},\"zerolinecolor\":\"white\",\"automargin\":true,\"zerolinewidth\":2},\"yaxis\":{\"gridcolor\":\"white\",\"linecolor\":\"white\",\"ticks\":\"\",\"title\":{\"standoff\":15},\"zerolinecolor\":\"white\",\"automargin\":true,\"zerolinewidth\":2},\"scene\":{\"xaxis\":{\"backgroundcolor\":\"#E5ECF6\",\"gridcolor\":\"white\",\"linecolor\":\"white\",\"showbackground\":true,\"ticks\":\"\",\"zerolinecolor\":\"white\",\"gridwidth\":2},\"yaxis\":{\"backgroundcolor\":\"#E5ECF6\",\"gridcolor\":\"white\",\"linecolor\":\"white\",\"showbackground\":true,\"ticks\":\"\",\"zerolinecolor\":\"white\",\"gridwidth\":2},\"zaxis\":{\"backgroundcolor\":\"#E5ECF6\",\"gridcolor\":\"white\",\"linecolor\":\"white\",\"showbackground\":true,\"ticks\":\"\",\"zerolinecolor\":\"white\",\"gridwidth\":2}},\"shapedefaults\":{\"line\":{\"color\":\"#2a3f5f\"}},\"annotationdefaults\":{\"arrowcolor\":\"#2a3f5f\",\"arrowhead\":0,\"arrowwidth\":1},\"geo\":{\"bgcolor\":\"white\",\"landcolor\":\"#E5ECF6\",\"subunitcolor\":\"white\",\"showland\":true,\"showlakes\":true,\"lakecolor\":\"white\"},\"title\":{\"x\":0.05},\"mapbox\":{\"style\":\"light\"}}},\"xaxis\":{\"anchor\":\"y\",\"domain\":[0.0,1.0],\"title\":{\"text\":\"accommodates\"},\"showgrid\":false},\"yaxis\":{\"anchor\":\"x\",\"domain\":[0.0,1.0],\"title\":{\"text\":\"Proporci\\u00f3n\"},\"showgrid\":true,\"gridwidth\":1.2,\"gridcolor\":\"#d1d1d1\"},\"legend\":{\"title\":{\"text\":\"Price bins:\"},\"tracegroupgap\":0},\"margin\":{\"t\":50,\"l\":70,\"r\":140,\"b\":50},\"barmode\":\"relative\",\"title\":{\"text\":\"Proportion of houses by price bin for each number of accommodates\",\"x\":0.5},\"plot_bgcolor\":\"white\",\"hovermode\":\"closest\",\"barnorm\":\"percent\"},                        {\"responsive\": true}                    ).then(function(){\n",
       "                            \n",
       "var gd = document.getElementById('e9a10815-8ea2-4521-ba00-e2335a88d7e8');\n",
       "var x = new MutationObserver(function (mutations, observer) {{\n",
       "        var display = window.getComputedStyle(gd).display;\n",
       "        if (!display || display === 'none') {{\n",
       "            console.log([gd, 'removed!']);\n",
       "            Plotly.purge(gd);\n",
       "            observer.disconnect();\n",
       "        }}\n",
       "}});\n",
       "\n",
       "// Listen for the removal of the full notebook cells\n",
       "var notebookContainer = gd.closest('#notebook-container');\n",
       "if (notebookContainer) {{\n",
       "    x.observe(notebookContainer, {childList: true});\n",
       "}}\n",
       "\n",
       "// Listen for the clearing of the current output cell\n",
       "var outputEl = gd.closest('.output');\n",
       "if (outputEl) {{\n",
       "    x.observe(outputEl, {childList: true});\n",
       "}}\n",
       "\n",
       "                        })                };                });            </script>        </div>"
      ]
     },
     "metadata": {},
     "output_type": "display_data"
    }
   ],
   "source": [
    "df = data.groupby(['accommodates','price_binarized'])['id'].count().reset_index().rename(columns={'id':'Count'})\n",
    "df['Sort_col'] = df['price_binarized'].apply(lambda bbin : {'Low':1,'Mid':2,'High':3,'Luxury':4}[bbin])\n",
    "df.sort_values(['accommodates','Sort_col'], inplace=True)\n",
    "\n",
    "fig = px.bar(df, x=\"accommodates\", y=\"Count\", color=\"price_binarized\", hover_data={'accommodates':False, 'price_binarized':False}, labels={\"Count\": \"Proporción\"})\n",
    "fig.update_layout(plot_bgcolor='white',\n",
    "                  hovermode=\"closest\",\n",
    "                  legend={'title_text':'Price bins:'},\n",
    "                  title={'text': 'Proportion of houses by price bin for each number of accommodates', 'x': 0.5},\n",
    "                  margin={'l':70, 'r':140, 't':50, 'b':50},\n",
    "                  barnorm='percent')\n",
    "fig.update_xaxes(showgrid=False)\n",
    "fig.update_yaxes(showgrid=True, gridwidth=1.2, gridcolor='#d1d1d1')\n",
    "fig.show()"
   ]
  },
  {
   "cell_type": "markdown",
   "id": "0a22bea2-3e60-4497-b9a7-754d9e0c892f",
   "metadata": {},
   "source": [
    "We get the expected result. As the number of accommodates get bigger the proportion of low prices decreases and the high and luxury prices increase. We could group together the values in the ranges 8-11 and 12-16 if we were to define categories for this variable."
   ]
  },
  {
   "cell_type": "markdown",
   "id": "70767e95-eeef-403e-bff1-73d732d621ef",
   "metadata": {},
   "source": [
    "### Analysis of the proportion of houses by price bin for each number of bathrooms"
   ]
  },
  {
   "cell_type": "code",
   "execution_count": 99,
   "id": "ca749f2b-059a-4b01-8cea-2b66b64d1b2a",
   "metadata": {},
   "outputs": [
    {
     "data": {
      "application/vnd.plotly.v1+json": {
       "config": {
        "plotlyServerURL": "https://plot.ly"
       },
       "data": [
        {
         "alignmentgroup": "True",
         "customdata": [
          [
           "Low"
          ],
          [
           "Low"
          ],
          [
           "Low"
          ],
          [
           "Low"
          ],
          [
           "Low"
          ],
          [
           "Low"
          ],
          [
           "Low"
          ],
          [
           "Low"
          ],
          [
           "Low"
          ],
          [
           "Low"
          ],
          [
           "Low"
          ],
          [
           "Low"
          ],
          [
           "Low"
          ],
          [
           "Low"
          ],
          [
           "Low"
          ],
          [
           "Low"
          ],
          [
           "Low"
          ]
         ],
         "hovertemplate": "Proporción=%{y}<extra></extra>",
         "legendgroup": "Low",
         "marker": {
          "color": "#636efa",
          "pattern": {
           "shape": ""
          }
         },
         "name": "Low",
         "offsetgroup": "Low",
         "orientation": "v",
         "showlegend": true,
         "textposition": "auto",
         "type": "bar",
         "x": [
          0,
          0.5,
          1,
          1.5,
          2,
          2.5,
          3,
          3.5,
          4,
          4.5,
          5,
          5.5,
          6,
          6.5,
          7,
          7.5,
          8
         ],
         "xaxis": "x",
         "y": [
          96,
          25,
          10489,
          752,
          1119,
          95,
          94,
          2,
          17,
          0,
          0,
          0,
          0,
          0,
          0,
          0,
          0
         ],
         "yaxis": "y"
        },
        {
         "alignmentgroup": "True",
         "customdata": [
          [
           "Mid"
          ],
          [
           "Mid"
          ],
          [
           "Mid"
          ],
          [
           "Mid"
          ],
          [
           "Mid"
          ],
          [
           "Mid"
          ],
          [
           "Mid"
          ],
          [
           "Mid"
          ],
          [
           "Mid"
          ],
          [
           "Mid"
          ],
          [
           "Mid"
          ],
          [
           "Mid"
          ],
          [
           "Mid"
          ],
          [
           "Mid"
          ],
          [
           "Mid"
          ],
          [
           "Mid"
          ],
          [
           "Mid"
          ]
         ],
         "hovertemplate": "Proporción=%{y}<extra></extra>",
         "legendgroup": "Mid",
         "marker": {
          "color": "#EF553B",
          "pattern": {
           "shape": ""
          }
         },
         "name": "Mid",
         "offsetgroup": "Mid",
         "orientation": "v",
         "showlegend": true,
         "textposition": "auto",
         "type": "bar",
         "x": [
          0,
          0.5,
          1,
          1.5,
          2,
          2.5,
          3,
          3.5,
          4,
          4.5,
          5,
          5.5,
          6,
          6.5,
          7,
          7.5,
          8
         ],
         "xaxis": "x",
         "y": [
          68,
          27,
          11494,
          403,
          509,
          30,
          28,
          0,
          0,
          1,
          0,
          0,
          2,
          0,
          0,
          0,
          0
         ],
         "yaxis": "y"
        },
        {
         "alignmentgroup": "True",
         "customdata": [
          [
           "High"
          ],
          [
           "High"
          ],
          [
           "High"
          ],
          [
           "High"
          ],
          [
           "High"
          ],
          [
           "High"
          ],
          [
           "High"
          ],
          [
           "High"
          ],
          [
           "High"
          ],
          [
           "High"
          ],
          [
           "High"
          ],
          [
           "High"
          ],
          [
           "High"
          ],
          [
           "High"
          ],
          [
           "High"
          ],
          [
           "High"
          ],
          [
           "High"
          ]
         ],
         "hovertemplate": "Proporción=%{y}<extra></extra>",
         "legendgroup": "High",
         "marker": {
          "color": "#00cc96",
          "pattern": {
           "shape": ""
          }
         },
         "name": "High",
         "offsetgroup": "High",
         "orientation": "v",
         "showlegend": true,
         "textposition": "auto",
         "type": "bar",
         "x": [
          0,
          0.5,
          1,
          1.5,
          2,
          2.5,
          3,
          3.5,
          4,
          4.5,
          5,
          5.5,
          6,
          6.5,
          7,
          7.5,
          8
         ],
         "xaxis": "x",
         "y": [
          16,
          8,
          9031,
          493,
          1217,
          160,
          61,
          18,
          11,
          4,
          1,
          0,
          0,
          0,
          0,
          1,
          0
         ],
         "yaxis": "y"
        },
        {
         "alignmentgroup": "True",
         "customdata": [
          [
           "Luxury"
          ],
          [
           "Luxury"
          ],
          [
           "Luxury"
          ],
          [
           "Luxury"
          ],
          [
           "Luxury"
          ],
          [
           "Luxury"
          ],
          [
           "Luxury"
          ],
          [
           "Luxury"
          ],
          [
           "Luxury"
          ],
          [
           "Luxury"
          ],
          [
           "Luxury"
          ],
          [
           "Luxury"
          ],
          [
           "Luxury"
          ],
          [
           "Luxury"
          ],
          [
           "Luxury"
          ],
          [
           "Luxury"
          ],
          [
           "Luxury"
          ]
         ],
         "hovertemplate": "Proporción=%{y}<extra></extra>",
         "legendgroup": "Luxury",
         "marker": {
          "color": "#ab63fa",
          "pattern": {
           "shape": ""
          }
         },
         "name": "Luxury",
         "offsetgroup": "Luxury",
         "orientation": "v",
         "showlegend": true,
         "textposition": "auto",
         "type": "bar",
         "x": [
          0,
          0.5,
          1,
          1.5,
          2,
          2.5,
          3,
          3.5,
          4,
          4.5,
          5,
          5.5,
          6,
          6.5,
          7,
          7.5,
          8
         ],
         "xaxis": "x",
         "y": [
          5,
          6,
          938,
          104,
          484,
          120,
          96,
          61,
          41,
          17,
          10,
          5,
          5,
          1,
          1,
          1,
          3
         ],
         "yaxis": "y"
        }
       ],
       "layout": {
        "autosize": true,
        "barmode": "relative",
        "barnorm": "percent",
        "hovermode": "closest",
        "legend": {
         "title": {
          "text": "Price bins:"
         },
         "tracegroupgap": 0
        },
        "margin": {
         "b": 50,
         "l": 70,
         "r": 140,
         "t": 50
        },
        "plot_bgcolor": "white",
        "template": {
         "data": {
          "bar": [
           {
            "error_x": {
             "color": "#2a3f5f"
            },
            "error_y": {
             "color": "#2a3f5f"
            },
            "marker": {
             "line": {
              "color": "#E5ECF6",
              "width": 0.5
             },
             "pattern": {
              "fillmode": "overlay",
              "size": 10,
              "solidity": 0.2
             }
            },
            "type": "bar"
           }
          ],
          "barpolar": [
           {
            "marker": {
             "line": {
              "color": "#E5ECF6",
              "width": 0.5
             },
             "pattern": {
              "fillmode": "overlay",
              "size": 10,
              "solidity": 0.2
             }
            },
            "type": "barpolar"
           }
          ],
          "carpet": [
           {
            "aaxis": {
             "endlinecolor": "#2a3f5f",
             "gridcolor": "white",
             "linecolor": "white",
             "minorgridcolor": "white",
             "startlinecolor": "#2a3f5f"
            },
            "baxis": {
             "endlinecolor": "#2a3f5f",
             "gridcolor": "white",
             "linecolor": "white",
             "minorgridcolor": "white",
             "startlinecolor": "#2a3f5f"
            },
            "type": "carpet"
           }
          ],
          "choropleth": [
           {
            "colorbar": {
             "outlinewidth": 0,
             "ticks": ""
            },
            "type": "choropleth"
           }
          ],
          "contour": [
           {
            "colorbar": {
             "outlinewidth": 0,
             "ticks": ""
            },
            "colorscale": [
             [
              0,
              "#0d0887"
             ],
             [
              0.1111111111111111,
              "#46039f"
             ],
             [
              0.2222222222222222,
              "#7201a8"
             ],
             [
              0.3333333333333333,
              "#9c179e"
             ],
             [
              0.4444444444444444,
              "#bd3786"
             ],
             [
              0.5555555555555556,
              "#d8576b"
             ],
             [
              0.6666666666666666,
              "#ed7953"
             ],
             [
              0.7777777777777778,
              "#fb9f3a"
             ],
             [
              0.8888888888888888,
              "#fdca26"
             ],
             [
              1,
              "#f0f921"
             ]
            ],
            "type": "contour"
           }
          ],
          "contourcarpet": [
           {
            "colorbar": {
             "outlinewidth": 0,
             "ticks": ""
            },
            "type": "contourcarpet"
           }
          ],
          "heatmap": [
           {
            "colorbar": {
             "outlinewidth": 0,
             "ticks": ""
            },
            "colorscale": [
             [
              0,
              "#0d0887"
             ],
             [
              0.1111111111111111,
              "#46039f"
             ],
             [
              0.2222222222222222,
              "#7201a8"
             ],
             [
              0.3333333333333333,
              "#9c179e"
             ],
             [
              0.4444444444444444,
              "#bd3786"
             ],
             [
              0.5555555555555556,
              "#d8576b"
             ],
             [
              0.6666666666666666,
              "#ed7953"
             ],
             [
              0.7777777777777778,
              "#fb9f3a"
             ],
             [
              0.8888888888888888,
              "#fdca26"
             ],
             [
              1,
              "#f0f921"
             ]
            ],
            "type": "heatmap"
           }
          ],
          "heatmapgl": [
           {
            "colorbar": {
             "outlinewidth": 0,
             "ticks": ""
            },
            "colorscale": [
             [
              0,
              "#0d0887"
             ],
             [
              0.1111111111111111,
              "#46039f"
             ],
             [
              0.2222222222222222,
              "#7201a8"
             ],
             [
              0.3333333333333333,
              "#9c179e"
             ],
             [
              0.4444444444444444,
              "#bd3786"
             ],
             [
              0.5555555555555556,
              "#d8576b"
             ],
             [
              0.6666666666666666,
              "#ed7953"
             ],
             [
              0.7777777777777778,
              "#fb9f3a"
             ],
             [
              0.8888888888888888,
              "#fdca26"
             ],
             [
              1,
              "#f0f921"
             ]
            ],
            "type": "heatmapgl"
           }
          ],
          "histogram": [
           {
            "marker": {
             "pattern": {
              "fillmode": "overlay",
              "size": 10,
              "solidity": 0.2
             }
            },
            "type": "histogram"
           }
          ],
          "histogram2d": [
           {
            "colorbar": {
             "outlinewidth": 0,
             "ticks": ""
            },
            "colorscale": [
             [
              0,
              "#0d0887"
             ],
             [
              0.1111111111111111,
              "#46039f"
             ],
             [
              0.2222222222222222,
              "#7201a8"
             ],
             [
              0.3333333333333333,
              "#9c179e"
             ],
             [
              0.4444444444444444,
              "#bd3786"
             ],
             [
              0.5555555555555556,
              "#d8576b"
             ],
             [
              0.6666666666666666,
              "#ed7953"
             ],
             [
              0.7777777777777778,
              "#fb9f3a"
             ],
             [
              0.8888888888888888,
              "#fdca26"
             ],
             [
              1,
              "#f0f921"
             ]
            ],
            "type": "histogram2d"
           }
          ],
          "histogram2dcontour": [
           {
            "colorbar": {
             "outlinewidth": 0,
             "ticks": ""
            },
            "colorscale": [
             [
              0,
              "#0d0887"
             ],
             [
              0.1111111111111111,
              "#46039f"
             ],
             [
              0.2222222222222222,
              "#7201a8"
             ],
             [
              0.3333333333333333,
              "#9c179e"
             ],
             [
              0.4444444444444444,
              "#bd3786"
             ],
             [
              0.5555555555555556,
              "#d8576b"
             ],
             [
              0.6666666666666666,
              "#ed7953"
             ],
             [
              0.7777777777777778,
              "#fb9f3a"
             ],
             [
              0.8888888888888888,
              "#fdca26"
             ],
             [
              1,
              "#f0f921"
             ]
            ],
            "type": "histogram2dcontour"
           }
          ],
          "mesh3d": [
           {
            "colorbar": {
             "outlinewidth": 0,
             "ticks": ""
            },
            "type": "mesh3d"
           }
          ],
          "parcoords": [
           {
            "line": {
             "colorbar": {
              "outlinewidth": 0,
              "ticks": ""
             }
            },
            "type": "parcoords"
           }
          ],
          "pie": [
           {
            "automargin": true,
            "type": "pie"
           }
          ],
          "scatter": [
           {
            "fillpattern": {
             "fillmode": "overlay",
             "size": 10,
             "solidity": 0.2
            },
            "type": "scatter"
           }
          ],
          "scatter3d": [
           {
            "line": {
             "colorbar": {
              "outlinewidth": 0,
              "ticks": ""
             }
            },
            "marker": {
             "colorbar": {
              "outlinewidth": 0,
              "ticks": ""
             }
            },
            "type": "scatter3d"
           }
          ],
          "scattercarpet": [
           {
            "marker": {
             "colorbar": {
              "outlinewidth": 0,
              "ticks": ""
             }
            },
            "type": "scattercarpet"
           }
          ],
          "scattergeo": [
           {
            "marker": {
             "colorbar": {
              "outlinewidth": 0,
              "ticks": ""
             }
            },
            "type": "scattergeo"
           }
          ],
          "scattergl": [
           {
            "marker": {
             "colorbar": {
              "outlinewidth": 0,
              "ticks": ""
             }
            },
            "type": "scattergl"
           }
          ],
          "scattermapbox": [
           {
            "marker": {
             "colorbar": {
              "outlinewidth": 0,
              "ticks": ""
             }
            },
            "type": "scattermapbox"
           }
          ],
          "scatterpolar": [
           {
            "marker": {
             "colorbar": {
              "outlinewidth": 0,
              "ticks": ""
             }
            },
            "type": "scatterpolar"
           }
          ],
          "scatterpolargl": [
           {
            "marker": {
             "colorbar": {
              "outlinewidth": 0,
              "ticks": ""
             }
            },
            "type": "scatterpolargl"
           }
          ],
          "scatterternary": [
           {
            "marker": {
             "colorbar": {
              "outlinewidth": 0,
              "ticks": ""
             }
            },
            "type": "scatterternary"
           }
          ],
          "surface": [
           {
            "colorbar": {
             "outlinewidth": 0,
             "ticks": ""
            },
            "colorscale": [
             [
              0,
              "#0d0887"
             ],
             [
              0.1111111111111111,
              "#46039f"
             ],
             [
              0.2222222222222222,
              "#7201a8"
             ],
             [
              0.3333333333333333,
              "#9c179e"
             ],
             [
              0.4444444444444444,
              "#bd3786"
             ],
             [
              0.5555555555555556,
              "#d8576b"
             ],
             [
              0.6666666666666666,
              "#ed7953"
             ],
             [
              0.7777777777777778,
              "#fb9f3a"
             ],
             [
              0.8888888888888888,
              "#fdca26"
             ],
             [
              1,
              "#f0f921"
             ]
            ],
            "type": "surface"
           }
          ],
          "table": [
           {
            "cells": {
             "fill": {
              "color": "#EBF0F8"
             },
             "line": {
              "color": "white"
             }
            },
            "header": {
             "fill": {
              "color": "#C8D4E3"
             },
             "line": {
              "color": "white"
             }
            },
            "type": "table"
           }
          ]
         },
         "layout": {
          "annotationdefaults": {
           "arrowcolor": "#2a3f5f",
           "arrowhead": 0,
           "arrowwidth": 1
          },
          "autotypenumbers": "strict",
          "coloraxis": {
           "colorbar": {
            "outlinewidth": 0,
            "ticks": ""
           }
          },
          "colorscale": {
           "diverging": [
            [
             0,
             "#8e0152"
            ],
            [
             0.1,
             "#c51b7d"
            ],
            [
             0.2,
             "#de77ae"
            ],
            [
             0.3,
             "#f1b6da"
            ],
            [
             0.4,
             "#fde0ef"
            ],
            [
             0.5,
             "#f7f7f7"
            ],
            [
             0.6,
             "#e6f5d0"
            ],
            [
             0.7,
             "#b8e186"
            ],
            [
             0.8,
             "#7fbc41"
            ],
            [
             0.9,
             "#4d9221"
            ],
            [
             1,
             "#276419"
            ]
           ],
           "sequential": [
            [
             0,
             "#0d0887"
            ],
            [
             0.1111111111111111,
             "#46039f"
            ],
            [
             0.2222222222222222,
             "#7201a8"
            ],
            [
             0.3333333333333333,
             "#9c179e"
            ],
            [
             0.4444444444444444,
             "#bd3786"
            ],
            [
             0.5555555555555556,
             "#d8576b"
            ],
            [
             0.6666666666666666,
             "#ed7953"
            ],
            [
             0.7777777777777778,
             "#fb9f3a"
            ],
            [
             0.8888888888888888,
             "#fdca26"
            ],
            [
             1,
             "#f0f921"
            ]
           ],
           "sequentialminus": [
            [
             0,
             "#0d0887"
            ],
            [
             0.1111111111111111,
             "#46039f"
            ],
            [
             0.2222222222222222,
             "#7201a8"
            ],
            [
             0.3333333333333333,
             "#9c179e"
            ],
            [
             0.4444444444444444,
             "#bd3786"
            ],
            [
             0.5555555555555556,
             "#d8576b"
            ],
            [
             0.6666666666666666,
             "#ed7953"
            ],
            [
             0.7777777777777778,
             "#fb9f3a"
            ],
            [
             0.8888888888888888,
             "#fdca26"
            ],
            [
             1,
             "#f0f921"
            ]
           ]
          },
          "colorway": [
           "#636efa",
           "#EF553B",
           "#00cc96",
           "#ab63fa",
           "#FFA15A",
           "#19d3f3",
           "#FF6692",
           "#B6E880",
           "#FF97FF",
           "#FECB52"
          ],
          "font": {
           "color": "#2a3f5f"
          },
          "geo": {
           "bgcolor": "white",
           "lakecolor": "white",
           "landcolor": "#E5ECF6",
           "showlakes": true,
           "showland": true,
           "subunitcolor": "white"
          },
          "hoverlabel": {
           "align": "left"
          },
          "hovermode": "closest",
          "mapbox": {
           "style": "light"
          },
          "paper_bgcolor": "white",
          "plot_bgcolor": "#E5ECF6",
          "polar": {
           "angularaxis": {
            "gridcolor": "white",
            "linecolor": "white",
            "ticks": ""
           },
           "bgcolor": "#E5ECF6",
           "radialaxis": {
            "gridcolor": "white",
            "linecolor": "white",
            "ticks": ""
           }
          },
          "scene": {
           "xaxis": {
            "backgroundcolor": "#E5ECF6",
            "gridcolor": "white",
            "gridwidth": 2,
            "linecolor": "white",
            "showbackground": true,
            "ticks": "",
            "zerolinecolor": "white"
           },
           "yaxis": {
            "backgroundcolor": "#E5ECF6",
            "gridcolor": "white",
            "gridwidth": 2,
            "linecolor": "white",
            "showbackground": true,
            "ticks": "",
            "zerolinecolor": "white"
           },
           "zaxis": {
            "backgroundcolor": "#E5ECF6",
            "gridcolor": "white",
            "gridwidth": 2,
            "linecolor": "white",
            "showbackground": true,
            "ticks": "",
            "zerolinecolor": "white"
           }
          },
          "shapedefaults": {
           "line": {
            "color": "#2a3f5f"
           }
          },
          "ternary": {
           "aaxis": {
            "gridcolor": "white",
            "linecolor": "white",
            "ticks": ""
           },
           "baxis": {
            "gridcolor": "white",
            "linecolor": "white",
            "ticks": ""
           },
           "bgcolor": "#E5ECF6",
           "caxis": {
            "gridcolor": "white",
            "linecolor": "white",
            "ticks": ""
           }
          },
          "title": {
           "x": 0.05
          },
          "xaxis": {
           "automargin": true,
           "gridcolor": "white",
           "linecolor": "white",
           "ticks": "",
           "title": {
            "standoff": 15
           },
           "zerolinecolor": "white",
           "zerolinewidth": 2
          },
          "yaxis": {
           "automargin": true,
           "gridcolor": "white",
           "linecolor": "white",
           "ticks": "",
           "title": {
            "standoff": 15
           },
           "zerolinecolor": "white",
           "zerolinewidth": 2
          }
         }
        },
        "title": {
         "text": "Proportion of houses by price bin for each number of bathrooms",
         "x": 0.5
        },
        "xaxis": {
         "anchor": "y",
         "autorange": true,
         "domain": [
          0,
          1
         ],
         "range": [
          -0.25,
          8.25
         ],
         "showgrid": false,
         "title": {
          "text": "bathrooms"
         },
         "type": "linear"
        },
        "yaxis": {
         "anchor": "x",
         "autorange": true,
         "domain": [
          0,
          1
         ],
         "gridcolor": "#d1d1d1",
         "gridwidth": 1.2,
         "range": [
          0,
          105.26315789473686
         ],
         "showgrid": true,
         "title": {
          "text": "Proporción"
         },
         "type": "linear"
        }
       }
      },
      "image/png": "[encoded data removed]",
      "text/html": [
       "<div>                            <div id=\"918ed4e6-b610-41e7-ab59-09fd6e2f9376\" class=\"plotly-graph-div\" style=\"height:525px; width:100%;\"></div>            <script type=\"text/javascript\">                require([\"plotly\"], function(Plotly) {                    window.PLOTLYENV=window.PLOTLYENV || {};                                    if (document.getElementById(\"918ed4e6-b610-41e7-ab59-09fd6e2f9376\")) {                    Plotly.newPlot(                        \"918ed4e6-b610-41e7-ab59-09fd6e2f9376\",                        [{\"alignmentgroup\":\"True\",\"customdata\":[[\"Low\"],[\"Low\"],[\"Low\"],[\"Low\"],[\"Low\"],[\"Low\"],[\"Low\"],[\"Low\"],[\"Low\"],[\"Low\"],[\"Low\"],[\"Low\"],[\"Low\"],[\"Low\"],[\"Low\"],[\"Low\"],[\"Low\"]],\"hovertemplate\":\"Proporci\\u00f3n=%{y}<extra></extra>\",\"legendgroup\":\"Low\",\"marker\":{\"color\":\"#636efa\",\"pattern\":{\"shape\":\"\"}},\"name\":\"Low\",\"offsetgroup\":\"Low\",\"orientation\":\"v\",\"showlegend\":true,\"textposition\":\"auto\",\"x\":[0.0,0.5,1.0,1.5,2.0,2.5,3.0,3.5,4.0,4.5,5.0,5.5,6.0,6.5,7.0,7.5,8.0],\"xaxis\":\"x\",\"y\":[96,25,10489,752,1119,95,94,2,17,0,0,0,0,0,0,0,0],\"yaxis\":\"y\",\"type\":\"bar\"},{\"alignmentgroup\":\"True\",\"customdata\":[[\"Mid\"],[\"Mid\"],[\"Mid\"],[\"Mid\"],[\"Mid\"],[\"Mid\"],[\"Mid\"],[\"Mid\"],[\"Mid\"],[\"Mid\"],[\"Mid\"],[\"Mid\"],[\"Mid\"],[\"Mid\"],[\"Mid\"],[\"Mid\"],[\"Mid\"]],\"hovertemplate\":\"Proporci\\u00f3n=%{y}<extra></extra>\",\"legendgroup\":\"Mid\",\"marker\":{\"color\":\"#EF553B\",\"pattern\":{\"shape\":\"\"}},\"name\":\"Mid\",\"offsetgroup\":\"Mid\",\"orientation\":\"v\",\"showlegend\":true,\"textposition\":\"auto\",\"x\":[0.0,0.5,1.0,1.5,2.0,2.5,3.0,3.5,4.0,4.5,5.0,5.5,6.0,6.5,7.0,7.5,8.0],\"xaxis\":\"x\",\"y\":[68,27,11494,403,509,30,28,0,0,1,0,0,2,0,0,0,0],\"yaxis\":\"y\",\"type\":\"bar\"},{\"alignmentgroup\":\"True\",\"customdata\":[[\"High\"],[\"High\"],[\"High\"],[\"High\"],[\"High\"],[\"High\"],[\"High\"],[\"High\"],[\"High\"],[\"High\"],[\"High\"],[\"High\"],[\"High\"],[\"High\"],[\"High\"],[\"High\"],[\"High\"]],\"hovertemplate\":\"Proporci\\u00f3n=%{y}<extra></extra>\",\"legendgroup\":\"High\",\"marker\":{\"color\":\"#00cc96\",\"pattern\":{\"shape\":\"\"}},\"name\":\"High\",\"offsetgroup\":\"High\",\"orientation\":\"v\",\"showlegend\":true,\"textposition\":\"auto\",\"x\":[0.0,0.5,1.0,1.5,2.0,2.5,3.0,3.5,4.0,4.5,5.0,5.5,6.0,6.5,7.0,7.5,8.0],\"xaxis\":\"x\",\"y\":[16,8,9031,493,1217,160,61,18,11,4,1,0,0,0,0,1,0],\"yaxis\":\"y\",\"type\":\"bar\"},{\"alignmentgroup\":\"True\",\"customdata\":[[\"Luxury\"],[\"Luxury\"],[\"Luxury\"],[\"Luxury\"],[\"Luxury\"],[\"Luxury\"],[\"Luxury\"],[\"Luxury\"],[\"Luxury\"],[\"Luxury\"],[\"Luxury\"],[\"Luxury\"],[\"Luxury\"],[\"Luxury\"],[\"Luxury\"],[\"Luxury\"],[\"Luxury\"]],\"hovertemplate\":\"Proporci\\u00f3n=%{y}<extra></extra>\",\"legendgroup\":\"Luxury\",\"marker\":{\"color\":\"#ab63fa\",\"pattern\":{\"shape\":\"\"}},\"name\":\"Luxury\",\"offsetgroup\":\"Luxury\",\"orientation\":\"v\",\"showlegend\":true,\"textposition\":\"auto\",\"x\":[0.0,0.5,1.0,1.5,2.0,2.5,3.0,3.5,4.0,4.5,5.0,5.5,6.0,6.5,7.0,7.5,8.0],\"xaxis\":\"x\",\"y\":[5,6,938,104,484,120,96,61,41,17,10,5,5,1,1,1,3],\"yaxis\":\"y\",\"type\":\"bar\"}],                        {\"template\":{\"data\":{\"histogram2dcontour\":[{\"type\":\"histogram2dcontour\",\"colorbar\":{\"outlinewidth\":0,\"ticks\":\"\"},\"colorscale\":[[0.0,\"#0d0887\"],[0.1111111111111111,\"#46039f\"],[0.2222222222222222,\"#7201a8\"],[0.3333333333333333,\"#9c179e\"],[0.4444444444444444,\"#bd3786\"],[0.5555555555555556,\"#d8576b\"],[0.6666666666666666,\"#ed7953\"],[0.7777777777777778,\"#fb9f3a\"],[0.8888888888888888,\"#fdca26\"],[1.0,\"#f0f921\"]]}],\"choropleth\":[{\"type\":\"choropleth\",\"colorbar\":{\"outlinewidth\":0,\"ticks\":\"\"}}],\"histogram2d\":[{\"type\":\"histogram2d\",\"colorbar\":{\"outlinewidth\":0,\"ticks\":\"\"},\"colorscale\":[[0.0,\"#0d0887\"],[0.1111111111111111,\"#46039f\"],[0.2222222222222222,\"#7201a8\"],[0.3333333333333333,\"#9c179e\"],[0.4444444444444444,\"#bd3786\"],[0.5555555555555556,\"#d8576b\"],[0.6666666666666666,\"#ed7953\"],[0.7777777777777778,\"#fb9f3a\"],[0.8888888888888888,\"#fdca26\"],[1.0,\"#f0f921\"]]}],\"heatmap\":[{\"type\":\"heatmap\",\"colorbar\":{\"outlinewidth\":0,\"ticks\":\"\"},\"colorscale\":[[0.0,\"#0d0887\"],[0.1111111111111111,\"#46039f\"],[0.2222222222222222,\"#7201a8\"],[0.3333333333333333,\"#9c179e\"],[0.4444444444444444,\"#bd3786\"],[0.5555555555555556,\"#d8576b\"],[0.6666666666666666,\"#ed7953\"],[0.7777777777777778,\"#fb9f3a\"],[0.8888888888888888,\"#fdca26\"],[1.0,\"#f0f921\"]]}],\"heatmapgl\":[{\"type\":\"heatmapgl\",\"colorbar\":{\"outlinewidth\":0,\"ticks\":\"\"},\"colorscale\":[[0.0,\"#0d0887\"],[0.1111111111111111,\"#46039f\"],[0.2222222222222222,\"#7201a8\"],[0.3333333333333333,\"#9c179e\"],[0.4444444444444444,\"#bd3786\"],[0.5555555555555556,\"#d8576b\"],[0.6666666666666666,\"#ed7953\"],[0.7777777777777778,\"#fb9f3a\"],[0.8888888888888888,\"#fdca26\"],[1.0,\"#f0f921\"]]}],\"contourcarpet\":[{\"type\":\"contourcarpet\",\"colorbar\":{\"outlinewidth\":0,\"ticks\":\"\"}}],\"contour\":[{\"type\":\"contour\",\"colorbar\":{\"outlinewidth\":0,\"ticks\":\"\"},\"colorscale\":[[0.0,\"#0d0887\"],[0.1111111111111111,\"#46039f\"],[0.2222222222222222,\"#7201a8\"],[0.3333333333333333,\"#9c179e\"],[0.4444444444444444,\"#bd3786\"],[0.5555555555555556,\"#d8576b\"],[0.6666666666666666,\"#ed7953\"],[0.7777777777777778,\"#fb9f3a\"],[0.8888888888888888,\"#fdca26\"],[1.0,\"#f0f921\"]]}],\"surface\":[{\"type\":\"surface\",\"colorbar\":{\"outlinewidth\":0,\"ticks\":\"\"},\"colorscale\":[[0.0,\"#0d0887\"],[0.1111111111111111,\"#46039f\"],[0.2222222222222222,\"#7201a8\"],[0.3333333333333333,\"#9c179e\"],[0.4444444444444444,\"#bd3786\"],[0.5555555555555556,\"#d8576b\"],[0.6666666666666666,\"#ed7953\"],[0.7777777777777778,\"#fb9f3a\"],[0.8888888888888888,\"#fdca26\"],[1.0,\"#f0f921\"]]}],\"mesh3d\":[{\"type\":\"mesh3d\",\"colorbar\":{\"outlinewidth\":0,\"ticks\":\"\"}}],\"scatter\":[{\"fillpattern\":{\"fillmode\":\"overlay\",\"size\":10,\"solidity\":0.2},\"type\":\"scatter\"}],\"parcoords\":[{\"type\":\"parcoords\",\"line\":{\"colorbar\":{\"outlinewidth\":0,\"ticks\":\"\"}}}],\"scatterpolargl\":[{\"type\":\"scatterpolargl\",\"marker\":{\"colorbar\":{\"outlinewidth\":0,\"ticks\":\"\"}}}],\"bar\":[{\"error_x\":{\"color\":\"#2a3f5f\"},\"error_y\":{\"color\":\"#2a3f5f\"},\"marker\":{\"line\":{\"color\":\"#E5ECF6\",\"width\":0.5},\"pattern\":{\"fillmode\":\"overlay\",\"size\":10,\"solidity\":0.2}},\"type\":\"bar\"}],\"scattergeo\":[{\"type\":\"scattergeo\",\"marker\":{\"colorbar\":{\"outlinewidth\":0,\"ticks\":\"\"}}}],\"scatterpolar\":[{\"type\":\"scatterpolar\",\"marker\":{\"colorbar\":{\"outlinewidth\":0,\"ticks\":\"\"}}}],\"histogram\":[{\"marker\":{\"pattern\":{\"fillmode\":\"overlay\",\"size\":10,\"solidity\":0.2}},\"type\":\"histogram\"}],\"scattergl\":[{\"type\":\"scattergl\",\"marker\":{\"colorbar\":{\"outlinewidth\":0,\"ticks\":\"\"}}}],\"scatter3d\":[{\"type\":\"scatter3d\",\"line\":{\"colorbar\":{\"outlinewidth\":0,\"ticks\":\"\"}},\"marker\":{\"colorbar\":{\"outlinewidth\":0,\"ticks\":\"\"}}}],\"scattermapbox\":[{\"type\":\"scattermapbox\",\"marker\":{\"colorbar\":{\"outlinewidth\":0,\"ticks\":\"\"}}}],\"scatterternary\":[{\"type\":\"scatterternary\",\"marker\":{\"colorbar\":{\"outlinewidth\":0,\"ticks\":\"\"}}}],\"scattercarpet\":[{\"type\":\"scattercarpet\",\"marker\":{\"colorbar\":{\"outlinewidth\":0,\"ticks\":\"\"}}}],\"carpet\":[{\"aaxis\":{\"endlinecolor\":\"#2a3f5f\",\"gridcolor\":\"white\",\"linecolor\":\"white\",\"minorgridcolor\":\"white\",\"startlinecolor\":\"#2a3f5f\"},\"baxis\":{\"endlinecolor\":\"#2a3f5f\",\"gridcolor\":\"white\",\"linecolor\":\"white\",\"minorgridcolor\":\"white\",\"startlinecolor\":\"#2a3f5f\"},\"type\":\"carpet\"}],\"table\":[{\"cells\":{\"fill\":{\"color\":\"#EBF0F8\"},\"line\":{\"color\":\"white\"}},\"header\":{\"fill\":{\"color\":\"#C8D4E3\"},\"line\":{\"color\":\"white\"}},\"type\":\"table\"}],\"barpolar\":[{\"marker\":{\"line\":{\"color\":\"#E5ECF6\",\"width\":0.5},\"pattern\":{\"fillmode\":\"overlay\",\"size\":10,\"solidity\":0.2}},\"type\":\"barpolar\"}],\"pie\":[{\"automargin\":true,\"type\":\"pie\"}]},\"layout\":{\"autotypenumbers\":\"strict\",\"colorway\":[\"#636efa\",\"#EF553B\",\"#00cc96\",\"#ab63fa\",\"#FFA15A\",\"#19d3f3\",\"#FF6692\",\"#B6E880\",\"#FF97FF\",\"#FECB52\"],\"font\":{\"color\":\"#2a3f5f\"},\"hovermode\":\"closest\",\"hoverlabel\":{\"align\":\"left\"},\"paper_bgcolor\":\"white\",\"plot_bgcolor\":\"#E5ECF6\",\"polar\":{\"bgcolor\":\"#E5ECF6\",\"angularaxis\":{\"gridcolor\":\"white\",\"linecolor\":\"white\",\"ticks\":\"\"},\"radialaxis\":{\"gridcolor\":\"white\",\"linecolor\":\"white\",\"ticks\":\"\"}},\"ternary\":{\"bgcolor\":\"#E5ECF6\",\"aaxis\":{\"gridcolor\":\"white\",\"linecolor\":\"white\",\"ticks\":\"\"},\"baxis\":{\"gridcolor\":\"white\",\"linecolor\":\"white\",\"ticks\":\"\"},\"caxis\":{\"gridcolor\":\"white\",\"linecolor\":\"white\",\"ticks\":\"\"}},\"coloraxis\":{\"colorbar\":{\"outlinewidth\":0,\"ticks\":\"\"}},\"colorscale\":{\"sequential\":[[0.0,\"#0d0887\"],[0.1111111111111111,\"#46039f\"],[0.2222222222222222,\"#7201a8\"],[0.3333333333333333,\"#9c179e\"],[0.4444444444444444,\"#bd3786\"],[0.5555555555555556,\"#d8576b\"],[0.6666666666666666,\"#ed7953\"],[0.7777777777777778,\"#fb9f3a\"],[0.8888888888888888,\"#fdca26\"],[1.0,\"#f0f921\"]],\"sequentialminus\":[[0.0,\"#0d0887\"],[0.1111111111111111,\"#46039f\"],[0.2222222222222222,\"#7201a8\"],[0.3333333333333333,\"#9c179e\"],[0.4444444444444444,\"#bd3786\"],[0.5555555555555556,\"#d8576b\"],[0.6666666666666666,\"#ed7953\"],[0.7777777777777778,\"#fb9f3a\"],[0.8888888888888888,\"#fdca26\"],[1.0,\"#f0f921\"]],\"diverging\":[[0,\"#8e0152\"],[0.1,\"#c51b7d\"],[0.2,\"#de77ae\"],[0.3,\"#f1b6da\"],[0.4,\"#fde0ef\"],[0.5,\"#f7f7f7\"],[0.6,\"#e6f5d0\"],[0.7,\"#b8e186\"],[0.8,\"#7fbc41\"],[0.9,\"#4d9221\"],[1,\"#276419\"]]},\"xaxis\":{\"gridcolor\":\"white\",\"linecolor\":\"white\",\"ticks\":\"\",\"title\":{\"standoff\":15},\"zerolinecolor\":\"white\",\"automargin\":true,\"zerolinewidth\":2},\"yaxis\":{\"gridcolor\":\"white\",\"linecolor\":\"white\",\"ticks\":\"\",\"title\":{\"standoff\":15},\"zerolinecolor\":\"white\",\"automargin\":true,\"zerolinewidth\":2},\"scene\":{\"xaxis\":{\"backgroundcolor\":\"#E5ECF6\",\"gridcolor\":\"white\",\"linecolor\":\"white\",\"showbackground\":true,\"ticks\":\"\",\"zerolinecolor\":\"white\",\"gridwidth\":2},\"yaxis\":{\"backgroundcolor\":\"#E5ECF6\",\"gridcolor\":\"white\",\"linecolor\":\"white\",\"showbackground\":true,\"ticks\":\"\",\"zerolinecolor\":\"white\",\"gridwidth\":2},\"zaxis\":{\"backgroundcolor\":\"#E5ECF6\",\"gridcolor\":\"white\",\"linecolor\":\"white\",\"showbackground\":true,\"ticks\":\"\",\"zerolinecolor\":\"white\",\"gridwidth\":2}},\"shapedefaults\":{\"line\":{\"color\":\"#2a3f5f\"}},\"annotationdefaults\":{\"arrowcolor\":\"#2a3f5f\",\"arrowhead\":0,\"arrowwidth\":1},\"geo\":{\"bgcolor\":\"white\",\"landcolor\":\"#E5ECF6\",\"subunitcolor\":\"white\",\"showland\":true,\"showlakes\":true,\"lakecolor\":\"white\"},\"title\":{\"x\":0.05},\"mapbox\":{\"style\":\"light\"}}},\"xaxis\":{\"anchor\":\"y\",\"domain\":[0.0,1.0],\"title\":{\"text\":\"bathrooms\"},\"showgrid\":false},\"yaxis\":{\"anchor\":\"x\",\"domain\":[0.0,1.0],\"title\":{\"text\":\"Proporci\\u00f3n\"},\"showgrid\":true,\"gridwidth\":1.2,\"gridcolor\":\"#d1d1d1\"},\"legend\":{\"title\":{\"text\":\"Price bins:\"},\"tracegroupgap\":0},\"margin\":{\"t\":50,\"l\":70,\"r\":140,\"b\":50},\"barmode\":\"relative\",\"title\":{\"text\":\"Proportion of houses by price bin for each number of bathrooms\",\"x\":0.5},\"plot_bgcolor\":\"white\",\"hovermode\":\"closest\",\"barnorm\":\"percent\"},                        {\"responsive\": true}                    ).then(function(){\n",
       "                            \n",
       "var gd = document.getElementById('918ed4e6-b610-41e7-ab59-09fd6e2f9376');\n",
       "var x = new MutationObserver(function (mutations, observer) {{\n",
       "        var display = window.getComputedStyle(gd).display;\n",
       "        if (!display || display === 'none') {{\n",
       "            console.log([gd, 'removed!']);\n",
       "            Plotly.purge(gd);\n",
       "            observer.disconnect();\n",
       "        }}\n",
       "}});\n",
       "\n",
       "// Listen for the removal of the full notebook cells\n",
       "var notebookContainer = gd.closest('#notebook-container');\n",
       "if (notebookContainer) {{\n",
       "    x.observe(notebookContainer, {childList: true});\n",
       "}}\n",
       "\n",
       "// Listen for the clearing of the current output cell\n",
       "var outputEl = gd.closest('.output');\n",
       "if (outputEl) {{\n",
       "    x.observe(outputEl, {childList: true});\n",
       "}}\n",
       "\n",
       "                        })                };                });            </script>        </div>"
      ]
     },
     "metadata": {},
     "output_type": "display_data"
    }
   ],
   "source": [
    "df = data.groupby(['bathrooms','price_binarized'])['id'].count().reset_index().rename(columns={'id':'Count'})\n",
    "df['Sort_col'] = df['price_binarized'].apply(lambda bbin : {'Low':1,'Mid':2,'High':3,'Luxury':4}[bbin])\n",
    "df.sort_values(['bathrooms','Sort_col'], inplace=True)\n",
    "\n",
    "fig = px.bar(df, x=\"bathrooms\", y=\"Count\", color=\"price_binarized\", hover_data={'bathrooms':False, 'price_binarized':False}, labels={\"Count\": \"Proporción\"})\n",
    "fig.update_layout(plot_bgcolor='white',\n",
    "                  hovermode=\"closest\",\n",
    "                  legend={'title_text':'Price bins:'},\n",
    "                  title={'text': 'Proportion of houses by price bin for each number of bathrooms', 'x': 0.5},\n",
    "                  margin={'l':70, 'r':140, 't':50, 'b':50},\n",
    "                  barnorm='percent')\n",
    "fig.update_xaxes(showgrid=False)\n",
    "fig.update_yaxes(showgrid=True, gridwidth=1.2, gridcolor='#d1d1d1')\n",
    "fig.show()"
   ]
  },
  {
   "cell_type": "markdown",
   "id": "93617f6f-8513-4d3f-adad-bf00dbe1713a",
   "metadata": {},
   "source": [
    "After repeating the same procedure with the number of bathrooms, it could be reasonable to group together the values greater than 4 in the same category."
   ]
  },
  {
   "cell_type": "markdown",
   "id": "21307f92-8c2e-4df9-87c3-0f1d512a9acd",
   "metadata": {},
   "source": [
    "### Relationship between price and neighbourhood"
   ]
  },
  {
   "cell_type": "code",
   "execution_count": 116,
   "id": "fc681f6f-a8dd-43af-aa9a-856c4dbc3e7d",
   "metadata": {},
   "outputs": [
    {
     "data": {
      "text/html": [
       "<div>\n",
       "<style scoped>\n",
       "    .dataframe tbody tr th:only-of-type {\n",
       "        vertical-align: middle;\n",
       "    }\n",
       "\n",
       "    .dataframe tbody tr th {\n",
       "        vertical-align: top;\n",
       "    }\n",
       "\n",
       "    .dataframe thead tr th {\n",
       "        text-align: left;\n",
       "    }\n",
       "\n",
       "    .dataframe thead tr:last-of-type th {\n",
       "        text-align: right;\n",
       "    }\n",
       "</style>\n",
       "<table border=\"1\" class=\"dataframe\">\n",
       "  <thead>\n",
       "    <tr>\n",
       "      <th></th>\n",
       "      <th colspan=\"3\" halign=\"left\">price</th>\n",
       "    </tr>\n",
       "    <tr>\n",
       "      <th></th>\n",
       "      <th>mean</th>\n",
       "      <th>median</th>\n",
       "      <th>count</th>\n",
       "    </tr>\n",
       "    <tr>\n",
       "      <th>neighbourhood</th>\n",
       "      <th></th>\n",
       "      <th></th>\n",
       "      <th></th>\n",
       "    </tr>\n",
       "  </thead>\n",
       "  <tbody>\n",
       "    <tr>\n",
       "      <th>Bronx</th>\n",
       "      <td>106.381341</td>\n",
       "      <td>75.0</td>\n",
       "      <td>1104</td>\n",
       "    </tr>\n",
       "    <tr>\n",
       "      <th>Brooklyn</th>\n",
       "      <td>136.775007</td>\n",
       "      <td>99.0</td>\n",
       "      <td>14716</td>\n",
       "    </tr>\n",
       "    <tr>\n",
       "      <th>Manhattan</th>\n",
       "      <td>222.681902</td>\n",
       "      <td>150.0</td>\n",
       "      <td>16781</td>\n",
       "    </tr>\n",
       "    <tr>\n",
       "      <th>Queens</th>\n",
       "      <td>118.773248</td>\n",
       "      <td>77.0</td>\n",
       "      <td>5323</td>\n",
       "    </tr>\n",
       "    <tr>\n",
       "      <th>Staten Island</th>\n",
       "      <td>115.235127</td>\n",
       "      <td>88.0</td>\n",
       "      <td>353</td>\n",
       "    </tr>\n",
       "  </tbody>\n",
       "</table>\n",
       "</div>"
      ],
      "text/plain": [
       "                    price              \n",
       "                     mean median  count\n",
       "neighbourhood                          \n",
       "Bronx          106.381341   75.0   1104\n",
       "Brooklyn       136.775007   99.0  14716\n",
       "Manhattan      222.681902  150.0  16781\n",
       "Queens         118.773248   77.0   5323\n",
       "Staten Island  115.235127   88.0    353"
      ]
     },
     "execution_count": 116,
     "metadata": {},
     "output_type": "execute_result"
    }
   ],
   "source": [
    "data.groupby('neighbourhood').agg({'price':['mean','median','count']})"
   ]
  },
  {
   "cell_type": "code",
   "execution_count": 109,
   "id": "737f7d78-42b3-49ee-973e-42e97d83837b",
   "metadata": {},
   "outputs": [
    {
     "data": {
      "image/png": "[encoded data removed]",
      "text/plain": [
       "<Figure size 1000x500 with 1 Axes>"
      ]
     },
     "metadata": {},
     "output_type": "display_data"
    }
   ],
   "source": [
    "q5, q95 = data.price.quantile([0.05,0.95]).values\n",
    "_, ax = plt.subplots(figsize=(10,5))\n",
    "sns.histplot(data[(data.price>=q5) & (data.price<=q95)], x='price', hue='neighbourhood', multiple='stack').autoscale(enable=True, axis='x', tight=True);"
   ]
  },
  {
   "cell_type": "code",
   "execution_count": 110,
   "id": "d43e68ff-052e-4e08-a801-8475ebd46fbb",
   "metadata": {},
   "outputs": [
    {
     "data": {
      "application/vnd.plotly.v1+json": {
       "config": {
        "plotlyServerURL": "https://plot.ly"
       },
       "data": [
        {
         "alignmentgroup": "True",
         "customdata": [
          [
           "Low"
          ],
          [
           "Low"
          ],
          [
           "Low"
          ],
          [
           "Low"
          ],
          [
           "Low"
          ]
         ],
         "hovertemplate": "Proporción=%{y}<extra></extra>",
         "legendgroup": "Low",
         "marker": {
          "color": "#636efa",
          "pattern": {
           "shape": ""
          }
         },
         "name": "Low",
         "offsetgroup": "Low",
         "orientation": "v",
         "showlegend": true,
         "textposition": "auto",
         "type": "bar",
         "x": [
          "Bronx",
          "Brooklyn",
          "Manhattan",
          "Queens",
          "Staten Island"
         ],
         "xaxis": "x",
         "y": [
          600,
          6020,
          3095,
          2864,
          166
         ],
         "yaxis": "y"
        },
        {
         "alignmentgroup": "True",
         "customdata": [
          [
           "Mid"
          ],
          [
           "Mid"
          ],
          [
           "Mid"
          ],
          [
           "Mid"
          ],
          [
           "Mid"
          ]
         ],
         "hovertemplate": "Proporción=%{y}<extra></extra>",
         "legendgroup": "Mid",
         "marker": {
          "color": "#EF553B",
          "pattern": {
           "shape": ""
          }
         },
         "name": "Mid",
         "offsetgroup": "Mid",
         "orientation": "v",
         "showlegend": true,
         "textposition": "auto",
         "type": "bar",
         "x": [
          "Bronx",
          "Brooklyn",
          "Manhattan",
          "Queens",
          "Staten Island"
         ],
         "xaxis": "x",
         "y": [
          314,
          4830,
          5783,
          1525,
          135
         ],
         "yaxis": "y"
        },
        {
         "alignmentgroup": "True",
         "customdata": [
          [
           "High"
          ],
          [
           "High"
          ],
          [
           "High"
          ],
          [
           "High"
          ],
          [
           "High"
          ]
         ],
         "hovertemplate": "Proporción=%{y}<extra></extra>",
         "legendgroup": "High",
         "marker": {
          "color": "#00cc96",
          "pattern": {
           "shape": ""
          }
         },
         "name": "High",
         "offsetgroup": "High",
         "orientation": "v",
         "showlegend": true,
         "textposition": "auto",
         "type": "bar",
         "x": [
          "Bronx",
          "Brooklyn",
          "Manhattan",
          "Queens",
          "Staten Island"
         ],
         "xaxis": "x",
         "y": [
          180,
          3470,
          6524,
          824,
          43
         ],
         "yaxis": "y"
        },
        {
         "alignmentgroup": "True",
         "customdata": [
          [
           "Luxury"
          ],
          [
           "Luxury"
          ],
          [
           "Luxury"
          ],
          [
           "Luxury"
          ],
          [
           "Luxury"
          ]
         ],
         "hovertemplate": "Proporción=%{y}<extra></extra>",
         "legendgroup": "Luxury",
         "marker": {
          "color": "#ab63fa",
          "pattern": {
           "shape": ""
          }
         },
         "name": "Luxury",
         "offsetgroup": "Luxury",
         "orientation": "v",
         "showlegend": true,
         "textposition": "auto",
         "type": "bar",
         "x": [
          "Bronx",
          "Brooklyn",
          "Manhattan",
          "Queens",
          "Staten Island"
         ],
         "xaxis": "x",
         "y": [
          10,
          396,
          1379,
          110,
          9
         ],
         "yaxis": "y"
        }
       ],
       "layout": {
        "autosize": true,
        "barmode": "relative",
        "barnorm": "percent",
        "hovermode": "closest",
        "legend": {
         "title": {
          "text": "Price bins:"
         },
         "tracegroupgap": 0
        },
        "margin": {
         "b": 50,
         "l": 70,
         "r": 140,
         "t": 50
        },
        "plot_bgcolor": "white",
        "template": {
         "data": {
          "bar": [
           {
            "error_x": {
             "color": "#2a3f5f"
            },
            "error_y": {
             "color": "#2a3f5f"
            },
            "marker": {
             "line": {
              "color": "#E5ECF6",
              "width": 0.5
             },
             "pattern": {
              "fillmode": "overlay",
              "size": 10,
              "solidity": 0.2
             }
            },
            "type": "bar"
           }
          ],
          "barpolar": [
           {
            "marker": {
             "line": {
              "color": "#E5ECF6",
              "width": 0.5
             },
             "pattern": {
              "fillmode": "overlay",
              "size": 10,
              "solidity": 0.2
             }
            },
            "type": "barpolar"
           }
          ],
          "carpet": [
           {
            "aaxis": {
             "endlinecolor": "#2a3f5f",
             "gridcolor": "white",
             "linecolor": "white",
             "minorgridcolor": "white",
             "startlinecolor": "#2a3f5f"
            },
            "baxis": {
             "endlinecolor": "#2a3f5f",
             "gridcolor": "white",
             "linecolor": "white",
             "minorgridcolor": "white",
             "startlinecolor": "#2a3f5f"
            },
            "type": "carpet"
           }
          ],
          "choropleth": [
           {
            "colorbar": {
             "outlinewidth": 0,
             "ticks": ""
            },
            "type": "choropleth"
           }
          ],
          "contour": [
           {
            "colorbar": {
             "outlinewidth": 0,
             "ticks": ""
            },
            "colorscale": [
             [
              0,
              "#0d0887"
             ],
             [
              0.1111111111111111,
              "#46039f"
             ],
             [
              0.2222222222222222,
              "#7201a8"
             ],
             [
              0.3333333333333333,
              "#9c179e"
             ],
             [
              0.4444444444444444,
              "#bd3786"
             ],
             [
              0.5555555555555556,
              "#d8576b"
             ],
             [
              0.6666666666666666,
              "#ed7953"
             ],
             [
              0.7777777777777778,
              "#fb9f3a"
             ],
             [
              0.8888888888888888,
              "#fdca26"
             ],
             [
              1,
              "#f0f921"
             ]
            ],
            "type": "contour"
           }
          ],
          "contourcarpet": [
           {
            "colorbar": {
             "outlinewidth": 0,
             "ticks": ""
            },
            "type": "contourcarpet"
           }
          ],
          "heatmap": [
           {
            "colorbar": {
             "outlinewidth": 0,
             "ticks": ""
            },
            "colorscale": [
             [
              0,
              "#0d0887"
             ],
             [
              0.1111111111111111,
              "#46039f"
             ],
             [
              0.2222222222222222,
              "#7201a8"
             ],
             [
              0.3333333333333333,
              "#9c179e"
             ],
             [
              0.4444444444444444,
              "#bd3786"
             ],
             [
              0.5555555555555556,
              "#d8576b"
             ],
             [
              0.6666666666666666,
              "#ed7953"
             ],
             [
              0.7777777777777778,
              "#fb9f3a"
             ],
             [
              0.8888888888888888,
              "#fdca26"
             ],
             [
              1,
              "#f0f921"
             ]
            ],
            "type": "heatmap"
           }
          ],
          "heatmapgl": [
           {
            "colorbar": {
             "outlinewidth": 0,
             "ticks": ""
            },
            "colorscale": [
             [
              0,
              "#0d0887"
             ],
             [
              0.1111111111111111,
              "#46039f"
             ],
             [
              0.2222222222222222,
              "#7201a8"
             ],
             [
              0.3333333333333333,
              "#9c179e"
             ],
             [
              0.4444444444444444,
              "#bd3786"
             ],
             [
              0.5555555555555556,
              "#d8576b"
             ],
             [
              0.6666666666666666,
              "#ed7953"
             ],
             [
              0.7777777777777778,
              "#fb9f3a"
             ],
             [
              0.8888888888888888,
              "#fdca26"
             ],
             [
              1,
              "#f0f921"
             ]
            ],
            "type": "heatmapgl"
           }
          ],
          "histogram": [
           {
            "marker": {
             "pattern": {
              "fillmode": "overlay",
              "size": 10,
              "solidity": 0.2
             }
            },
            "type": "histogram"
           }
          ],
          "histogram2d": [
           {
            "colorbar": {
             "outlinewidth": 0,
             "ticks": ""
            },
            "colorscale": [
             [
              0,
              "#0d0887"
             ],
             [
              0.1111111111111111,
              "#46039f"
             ],
             [
              0.2222222222222222,
              "#7201a8"
             ],
             [
              0.3333333333333333,
              "#9c179e"
             ],
             [
              0.4444444444444444,
              "#bd3786"
             ],
             [
              0.5555555555555556,
              "#d8576b"
             ],
             [
              0.6666666666666666,
              "#ed7953"
             ],
             [
              0.7777777777777778,
              "#fb9f3a"
             ],
             [
              0.8888888888888888,
              "#fdca26"
             ],
             [
              1,
              "#f0f921"
             ]
            ],
            "type": "histogram2d"
           }
          ],
          "histogram2dcontour": [
           {
            "colorbar": {
             "outlinewidth": 0,
             "ticks": ""
            },
            "colorscale": [
             [
              0,
              "#0d0887"
             ],
             [
              0.1111111111111111,
              "#46039f"
             ],
             [
              0.2222222222222222,
              "#7201a8"
             ],
             [
              0.3333333333333333,
              "#9c179e"
             ],
             [
              0.4444444444444444,
              "#bd3786"
             ],
             [
              0.5555555555555556,
              "#d8576b"
             ],
             [
              0.6666666666666666,
              "#ed7953"
             ],
             [
              0.7777777777777778,
              "#fb9f3a"
             ],
             [
              0.8888888888888888,
              "#fdca26"
             ],
             [
              1,
              "#f0f921"
             ]
            ],
            "type": "histogram2dcontour"
           }
          ],
          "mesh3d": [
           {
            "colorbar": {
             "outlinewidth": 0,
             "ticks": ""
            },
            "type": "mesh3d"
           }
          ],
          "parcoords": [
           {
            "line": {
             "colorbar": {
              "outlinewidth": 0,
              "ticks": ""
             }
            },
            "type": "parcoords"
           }
          ],
          "pie": [
           {
            "automargin": true,
            "type": "pie"
           }
          ],
          "scatter": [
           {
            "fillpattern": {
             "fillmode": "overlay",
             "size": 10,
             "solidity": 0.2
            },
            "type": "scatter"
           }
          ],
          "scatter3d": [
           {
            "line": {
             "colorbar": {
              "outlinewidth": 0,
              "ticks": ""
             }
            },
            "marker": {
             "colorbar": {
              "outlinewidth": 0,
              "ticks": ""
             }
            },
            "type": "scatter3d"
           }
          ],
          "scattercarpet": [
           {
            "marker": {
             "colorbar": {
              "outlinewidth": 0,
              "ticks": ""
             }
            },
            "type": "scattercarpet"
           }
          ],
          "scattergeo": [
           {
            "marker": {
             "colorbar": {
              "outlinewidth": 0,
              "ticks": ""
             }
            },
            "type": "scattergeo"
           }
          ],
          "scattergl": [
           {
            "marker": {
             "colorbar": {
              "outlinewidth": 0,
              "ticks": ""
             }
            },
            "type": "scattergl"
           }
          ],
          "scattermapbox": [
           {
            "marker": {
             "colorbar": {
              "outlinewidth": 0,
              "ticks": ""
             }
            },
            "type": "scattermapbox"
           }
          ],
          "scatterpolar": [
           {
            "marker": {
             "colorbar": {
              "outlinewidth": 0,
              "ticks": ""
             }
            },
            "type": "scatterpolar"
           }
          ],
          "scatterpolargl": [
           {
            "marker": {
             "colorbar": {
              "outlinewidth": 0,
              "ticks": ""
             }
            },
            "type": "scatterpolargl"
           }
          ],
          "scatterternary": [
           {
            "marker": {
             "colorbar": {
              "outlinewidth": 0,
              "ticks": ""
             }
            },
            "type": "scatterternary"
           }
          ],
          "surface": [
           {
            "colorbar": {
             "outlinewidth": 0,
             "ticks": ""
            },
            "colorscale": [
             [
              0,
              "#0d0887"
             ],
             [
              0.1111111111111111,
              "#46039f"
             ],
             [
              0.2222222222222222,
              "#7201a8"
             ],
             [
              0.3333333333333333,
              "#9c179e"
             ],
             [
              0.4444444444444444,
              "#bd3786"
             ],
             [
              0.5555555555555556,
              "#d8576b"
             ],
             [
              0.6666666666666666,
              "#ed7953"
             ],
             [
              0.7777777777777778,
              "#fb9f3a"
             ],
             [
              0.8888888888888888,
              "#fdca26"
             ],
             [
              1,
              "#f0f921"
             ]
            ],
            "type": "surface"
           }
          ],
          "table": [
           {
            "cells": {
             "fill": {
              "color": "#EBF0F8"
             },
             "line": {
              "color": "white"
             }
            },
            "header": {
             "fill": {
              "color": "#C8D4E3"
             },
             "line": {
              "color": "white"
             }
            },
            "type": "table"
           }
          ]
         },
         "layout": {
          "annotationdefaults": {
           "arrowcolor": "#2a3f5f",
           "arrowhead": 0,
           "arrowwidth": 1
          },
          "autotypenumbers": "strict",
          "coloraxis": {
           "colorbar": {
            "outlinewidth": 0,
            "ticks": ""
           }
          },
          "colorscale": {
           "diverging": [
            [
             0,
             "#8e0152"
            ],
            [
             0.1,
             "#c51b7d"
            ],
            [
             0.2,
             "#de77ae"
            ],
            [
             0.3,
             "#f1b6da"
            ],
            [
             0.4,
             "#fde0ef"
            ],
            [
             0.5,
             "#f7f7f7"
            ],
            [
             0.6,
             "#e6f5d0"
            ],
            [
             0.7,
             "#b8e186"
            ],
            [
             0.8,
             "#7fbc41"
            ],
            [
             0.9,
             "#4d9221"
            ],
            [
             1,
             "#276419"
            ]
           ],
           "sequential": [
            [
             0,
             "#0d0887"
            ],
            [
             0.1111111111111111,
             "#46039f"
            ],
            [
             0.2222222222222222,
             "#7201a8"
            ],
            [
             0.3333333333333333,
             "#9c179e"
            ],
            [
             0.4444444444444444,
             "#bd3786"
            ],
            [
             0.5555555555555556,
             "#d8576b"
            ],
            [
             0.6666666666666666,
             "#ed7953"
            ],
            [
             0.7777777777777778,
             "#fb9f3a"
            ],
            [
             0.8888888888888888,
             "#fdca26"
            ],
            [
             1,
             "#f0f921"
            ]
           ],
           "sequentialminus": [
            [
             0,
             "#0d0887"
            ],
            [
             0.1111111111111111,
             "#46039f"
            ],
            [
             0.2222222222222222,
             "#7201a8"
            ],
            [
             0.3333333333333333,
             "#9c179e"
            ],
            [
             0.4444444444444444,
             "#bd3786"
            ],
            [
             0.5555555555555556,
             "#d8576b"
            ],
            [
             0.6666666666666666,
             "#ed7953"
            ],
            [
             0.7777777777777778,
             "#fb9f3a"
            ],
            [
             0.8888888888888888,
             "#fdca26"
            ],
            [
             1,
             "#f0f921"
            ]
           ]
          },
          "colorway": [
           "#636efa",
           "#EF553B",
           "#00cc96",
           "#ab63fa",
           "#FFA15A",
           "#19d3f3",
           "#FF6692",
           "#B6E880",
           "#FF97FF",
           "#FECB52"
          ],
          "font": {
           "color": "#2a3f5f"
          },
          "geo": {
           "bgcolor": "white",
           "lakecolor": "white",
           "landcolor": "#E5ECF6",
           "showlakes": true,
           "showland": true,
           "subunitcolor": "white"
          },
          "hoverlabel": {
           "align": "left"
          },
          "hovermode": "closest",
          "mapbox": {
           "style": "light"
          },
          "paper_bgcolor": "white",
          "plot_bgcolor": "#E5ECF6",
          "polar": {
           "angularaxis": {
            "gridcolor": "white",
            "linecolor": "white",
            "ticks": ""
           },
           "bgcolor": "#E5ECF6",
           "radialaxis": {
            "gridcolor": "white",
            "linecolor": "white",
            "ticks": ""
           }
          },
          "scene": {
           "xaxis": {
            "backgroundcolor": "#E5ECF6",
            "gridcolor": "white",
            "gridwidth": 2,
            "linecolor": "white",
            "showbackground": true,
            "ticks": "",
            "zerolinecolor": "white"
           },
           "yaxis": {
            "backgroundcolor": "#E5ECF6",
            "gridcolor": "white",
            "gridwidth": 2,
            "linecolor": "white",
            "showbackground": true,
            "ticks": "",
            "zerolinecolor": "white"
           },
           "zaxis": {
            "backgroundcolor": "#E5ECF6",
            "gridcolor": "white",
            "gridwidth": 2,
            "linecolor": "white",
            "showbackground": true,
            "ticks": "",
            "zerolinecolor": "white"
           }
          },
          "shapedefaults": {
           "line": {
            "color": "#2a3f5f"
           }
          },
          "ternary": {
           "aaxis": {
            "gridcolor": "white",
            "linecolor": "white",
            "ticks": ""
           },
           "baxis": {
            "gridcolor": "white",
            "linecolor": "white",
            "ticks": ""
           },
           "bgcolor": "#E5ECF6",
           "caxis": {
            "gridcolor": "white",
            "linecolor": "white",
            "ticks": ""
           }
          },
          "title": {
           "x": 0.05
          },
          "xaxis": {
           "automargin": true,
           "gridcolor": "white",
           "linecolor": "white",
           "ticks": "",
           "title": {
            "standoff": 15
           },
           "zerolinecolor": "white",
           "zerolinewidth": 2
          },
          "yaxis": {
           "automargin": true,
           "gridcolor": "white",
           "linecolor": "white",
           "ticks": "",
           "title": {
            "standoff": 15
           },
           "zerolinecolor": "white",
           "zerolinewidth": 2
          }
         }
        },
        "title": {
         "text": "Proportion of houses by price bin for each number of neighbourhood",
         "x": 0.5
        },
        "xaxis": {
         "anchor": "y",
         "autorange": true,
         "domain": [
          0,
          1
         ],
         "range": [
          -0.5,
          4.5
         ],
         "showgrid": false,
         "title": {
          "text": "neighbourhood"
         },
         "type": "category"
        },
        "yaxis": {
         "anchor": "x",
         "autorange": true,
         "domain": [
          0,
          1
         ],
         "gridcolor": "#d1d1d1",
         "gridwidth": 1.2,
         "range": [
          0,
          105.26315789473685
         ],
         "showgrid": true,
         "title": {
          "text": "Proporción"
         },
         "type": "linear"
        }
       }
      },
      "image/png": "[encoded data removed]",
      "text/html": [
       "<div>                            <div id=\"25709e99-fd0e-42c8-9d5c-b72c1025ccbf\" class=\"plotly-graph-div\" style=\"height:525px; width:100%;\"></div>            <script type=\"text/javascript\">                require([\"plotly\"], function(Plotly) {                    window.PLOTLYENV=window.PLOTLYENV || {};                                    if (document.getElementById(\"25709e99-fd0e-42c8-9d5c-b72c1025ccbf\")) {                    Plotly.newPlot(                        \"25709e99-fd0e-42c8-9d5c-b72c1025ccbf\",                        [{\"alignmentgroup\":\"True\",\"customdata\":[[\"Low\"],[\"Low\"],[\"Low\"],[\"Low\"],[\"Low\"]],\"hovertemplate\":\"Proporci\\u00f3n=%{y}<extra></extra>\",\"legendgroup\":\"Low\",\"marker\":{\"color\":\"#636efa\",\"pattern\":{\"shape\":\"\"}},\"name\":\"Low\",\"offsetgroup\":\"Low\",\"orientation\":\"v\",\"showlegend\":true,\"textposition\":\"auto\",\"x\":[\"Bronx\",\"Brooklyn\",\"Manhattan\",\"Queens\",\"Staten Island\"],\"xaxis\":\"x\",\"y\":[600,6020,3095,2864,166],\"yaxis\":\"y\",\"type\":\"bar\"},{\"alignmentgroup\":\"True\",\"customdata\":[[\"Mid\"],[\"Mid\"],[\"Mid\"],[\"Mid\"],[\"Mid\"]],\"hovertemplate\":\"Proporci\\u00f3n=%{y}<extra></extra>\",\"legendgroup\":\"Mid\",\"marker\":{\"color\":\"#EF553B\",\"pattern\":{\"shape\":\"\"}},\"name\":\"Mid\",\"offsetgroup\":\"Mid\",\"orientation\":\"v\",\"showlegend\":true,\"textposition\":\"auto\",\"x\":[\"Bronx\",\"Brooklyn\",\"Manhattan\",\"Queens\",\"Staten Island\"],\"xaxis\":\"x\",\"y\":[314,4830,5783,1525,135],\"yaxis\":\"y\",\"type\":\"bar\"},{\"alignmentgroup\":\"True\",\"customdata\":[[\"High\"],[\"High\"],[\"High\"],[\"High\"],[\"High\"]],\"hovertemplate\":\"Proporci\\u00f3n=%{y}<extra></extra>\",\"legendgroup\":\"High\",\"marker\":{\"color\":\"#00cc96\",\"pattern\":{\"shape\":\"\"}},\"name\":\"High\",\"offsetgroup\":\"High\",\"orientation\":\"v\",\"showlegend\":true,\"textposition\":\"auto\",\"x\":[\"Bronx\",\"Brooklyn\",\"Manhattan\",\"Queens\",\"Staten Island\"],\"xaxis\":\"x\",\"y\":[180,3470,6524,824,43],\"yaxis\":\"y\",\"type\":\"bar\"},{\"alignmentgroup\":\"True\",\"customdata\":[[\"Luxury\"],[\"Luxury\"],[\"Luxury\"],[\"Luxury\"],[\"Luxury\"]],\"hovertemplate\":\"Proporci\\u00f3n=%{y}<extra></extra>\",\"legendgroup\":\"Luxury\",\"marker\":{\"color\":\"#ab63fa\",\"pattern\":{\"shape\":\"\"}},\"name\":\"Luxury\",\"offsetgroup\":\"Luxury\",\"orientation\":\"v\",\"showlegend\":true,\"textposition\":\"auto\",\"x\":[\"Bronx\",\"Brooklyn\",\"Manhattan\",\"Queens\",\"Staten Island\"],\"xaxis\":\"x\",\"y\":[10,396,1379,110,9],\"yaxis\":\"y\",\"type\":\"bar\"}],                        {\"template\":{\"data\":{\"histogram2dcontour\":[{\"type\":\"histogram2dcontour\",\"colorbar\":{\"outlinewidth\":0,\"ticks\":\"\"},\"colorscale\":[[0.0,\"#0d0887\"],[0.1111111111111111,\"#46039f\"],[0.2222222222222222,\"#7201a8\"],[0.3333333333333333,\"#9c179e\"],[0.4444444444444444,\"#bd3786\"],[0.5555555555555556,\"#d8576b\"],[0.6666666666666666,\"#ed7953\"],[0.7777777777777778,\"#fb9f3a\"],[0.8888888888888888,\"#fdca26\"],[1.0,\"#f0f921\"]]}],\"choropleth\":[{\"type\":\"choropleth\",\"colorbar\":{\"outlinewidth\":0,\"ticks\":\"\"}}],\"histogram2d\":[{\"type\":\"histogram2d\",\"colorbar\":{\"outlinewidth\":0,\"ticks\":\"\"},\"colorscale\":[[0.0,\"#0d0887\"],[0.1111111111111111,\"#46039f\"],[0.2222222222222222,\"#7201a8\"],[0.3333333333333333,\"#9c179e\"],[0.4444444444444444,\"#bd3786\"],[0.5555555555555556,\"#d8576b\"],[0.6666666666666666,\"#ed7953\"],[0.7777777777777778,\"#fb9f3a\"],[0.8888888888888888,\"#fdca26\"],[1.0,\"#f0f921\"]]}],\"heatmap\":[{\"type\":\"heatmap\",\"colorbar\":{\"outlinewidth\":0,\"ticks\":\"\"},\"colorscale\":[[0.0,\"#0d0887\"],[0.1111111111111111,\"#46039f\"],[0.2222222222222222,\"#7201a8\"],[0.3333333333333333,\"#9c179e\"],[0.4444444444444444,\"#bd3786\"],[0.5555555555555556,\"#d8576b\"],[0.6666666666666666,\"#ed7953\"],[0.7777777777777778,\"#fb9f3a\"],[0.8888888888888888,\"#fdca26\"],[1.0,\"#f0f921\"]]}],\"heatmapgl\":[{\"type\":\"heatmapgl\",\"colorbar\":{\"outlinewidth\":0,\"ticks\":\"\"},\"colorscale\":[[0.0,\"#0d0887\"],[0.1111111111111111,\"#46039f\"],[0.2222222222222222,\"#7201a8\"],[0.3333333333333333,\"#9c179e\"],[0.4444444444444444,\"#bd3786\"],[0.5555555555555556,\"#d8576b\"],[0.6666666666666666,\"#ed7953\"],[0.7777777777777778,\"#fb9f3a\"],[0.8888888888888888,\"#fdca26\"],[1.0,\"#f0f921\"]]}],\"contourcarpet\":[{\"type\":\"contourcarpet\",\"colorbar\":{\"outlinewidth\":0,\"ticks\":\"\"}}],\"contour\":[{\"type\":\"contour\",\"colorbar\":{\"outlinewidth\":0,\"ticks\":\"\"},\"colorscale\":[[0.0,\"#0d0887\"],[0.1111111111111111,\"#46039f\"],[0.2222222222222222,\"#7201a8\"],[0.3333333333333333,\"#9c179e\"],[0.4444444444444444,\"#bd3786\"],[0.5555555555555556,\"#d8576b\"],[0.6666666666666666,\"#ed7953\"],[0.7777777777777778,\"#fb9f3a\"],[0.8888888888888888,\"#fdca26\"],[1.0,\"#f0f921\"]]}],\"surface\":[{\"type\":\"surface\",\"colorbar\":{\"outlinewidth\":0,\"ticks\":\"\"},\"colorscale\":[[0.0,\"#0d0887\"],[0.1111111111111111,\"#46039f\"],[0.2222222222222222,\"#7201a8\"],[0.3333333333333333,\"#9c179e\"],[0.4444444444444444,\"#bd3786\"],[0.5555555555555556,\"#d8576b\"],[0.6666666666666666,\"#ed7953\"],[0.7777777777777778,\"#fb9f3a\"],[0.8888888888888888,\"#fdca26\"],[1.0,\"#f0f921\"]]}],\"mesh3d\":[{\"type\":\"mesh3d\",\"colorbar\":{\"outlinewidth\":0,\"ticks\":\"\"}}],\"scatter\":[{\"fillpattern\":{\"fillmode\":\"overlay\",\"size\":10,\"solidity\":0.2},\"type\":\"scatter\"}],\"parcoords\":[{\"type\":\"parcoords\",\"line\":{\"colorbar\":{\"outlinewidth\":0,\"ticks\":\"\"}}}],\"scatterpolargl\":[{\"type\":\"scatterpolargl\",\"marker\":{\"colorbar\":{\"outlinewidth\":0,\"ticks\":\"\"}}}],\"bar\":[{\"error_x\":{\"color\":\"#2a3f5f\"},\"error_y\":{\"color\":\"#2a3f5f\"},\"marker\":{\"line\":{\"color\":\"#E5ECF6\",\"width\":0.5},\"pattern\":{\"fillmode\":\"overlay\",\"size\":10,\"solidity\":0.2}},\"type\":\"bar\"}],\"scattergeo\":[{\"type\":\"scattergeo\",\"marker\":{\"colorbar\":{\"outlinewidth\":0,\"ticks\":\"\"}}}],\"scatterpolar\":[{\"type\":\"scatterpolar\",\"marker\":{\"colorbar\":{\"outlinewidth\":0,\"ticks\":\"\"}}}],\"histogram\":[{\"marker\":{\"pattern\":{\"fillmode\":\"overlay\",\"size\":10,\"solidity\":0.2}},\"type\":\"histogram\"}],\"scattergl\":[{\"type\":\"scattergl\",\"marker\":{\"colorbar\":{\"outlinewidth\":0,\"ticks\":\"\"}}}],\"scatter3d\":[{\"type\":\"scatter3d\",\"line\":{\"colorbar\":{\"outlinewidth\":0,\"ticks\":\"\"}},\"marker\":{\"colorbar\":{\"outlinewidth\":0,\"ticks\":\"\"}}}],\"scattermapbox\":[{\"type\":\"scattermapbox\",\"marker\":{\"colorbar\":{\"outlinewidth\":0,\"ticks\":\"\"}}}],\"scatterternary\":[{\"type\":\"scatterternary\",\"marker\":{\"colorbar\":{\"outlinewidth\":0,\"ticks\":\"\"}}}],\"scattercarpet\":[{\"type\":\"scattercarpet\",\"marker\":{\"colorbar\":{\"outlinewidth\":0,\"ticks\":\"\"}}}],\"carpet\":[{\"aaxis\":{\"endlinecolor\":\"#2a3f5f\",\"gridcolor\":\"white\",\"linecolor\":\"white\",\"minorgridcolor\":\"white\",\"startlinecolor\":\"#2a3f5f\"},\"baxis\":{\"endlinecolor\":\"#2a3f5f\",\"gridcolor\":\"white\",\"linecolor\":\"white\",\"minorgridcolor\":\"white\",\"startlinecolor\":\"#2a3f5f\"},\"type\":\"carpet\"}],\"table\":[{\"cells\":{\"fill\":{\"color\":\"#EBF0F8\"},\"line\":{\"color\":\"white\"}},\"header\":{\"fill\":{\"color\":\"#C8D4E3\"},\"line\":{\"color\":\"white\"}},\"type\":\"table\"}],\"barpolar\":[{\"marker\":{\"line\":{\"color\":\"#E5ECF6\",\"width\":0.5},\"pattern\":{\"fillmode\":\"overlay\",\"size\":10,\"solidity\":0.2}},\"type\":\"barpolar\"}],\"pie\":[{\"automargin\":true,\"type\":\"pie\"}]},\"layout\":{\"autotypenumbers\":\"strict\",\"colorway\":[\"#636efa\",\"#EF553B\",\"#00cc96\",\"#ab63fa\",\"#FFA15A\",\"#19d3f3\",\"#FF6692\",\"#B6E880\",\"#FF97FF\",\"#FECB52\"],\"font\":{\"color\":\"#2a3f5f\"},\"hovermode\":\"closest\",\"hoverlabel\":{\"align\":\"left\"},\"paper_bgcolor\":\"white\",\"plot_bgcolor\":\"#E5ECF6\",\"polar\":{\"bgcolor\":\"#E5ECF6\",\"angularaxis\":{\"gridcolor\":\"white\",\"linecolor\":\"white\",\"ticks\":\"\"},\"radialaxis\":{\"gridcolor\":\"white\",\"linecolor\":\"white\",\"ticks\":\"\"}},\"ternary\":{\"bgcolor\":\"#E5ECF6\",\"aaxis\":{\"gridcolor\":\"white\",\"linecolor\":\"white\",\"ticks\":\"\"},\"baxis\":{\"gridcolor\":\"white\",\"linecolor\":\"white\",\"ticks\":\"\"},\"caxis\":{\"gridcolor\":\"white\",\"linecolor\":\"white\",\"ticks\":\"\"}},\"coloraxis\":{\"colorbar\":{\"outlinewidth\":0,\"ticks\":\"\"}},\"colorscale\":{\"sequential\":[[0.0,\"#0d0887\"],[0.1111111111111111,\"#46039f\"],[0.2222222222222222,\"#7201a8\"],[0.3333333333333333,\"#9c179e\"],[0.4444444444444444,\"#bd3786\"],[0.5555555555555556,\"#d8576b\"],[0.6666666666666666,\"#ed7953\"],[0.7777777777777778,\"#fb9f3a\"],[0.8888888888888888,\"#fdca26\"],[1.0,\"#f0f921\"]],\"sequentialminus\":[[0.0,\"#0d0887\"],[0.1111111111111111,\"#46039f\"],[0.2222222222222222,\"#7201a8\"],[0.3333333333333333,\"#9c179e\"],[0.4444444444444444,\"#bd3786\"],[0.5555555555555556,\"#d8576b\"],[0.6666666666666666,\"#ed7953\"],[0.7777777777777778,\"#fb9f3a\"],[0.8888888888888888,\"#fdca26\"],[1.0,\"#f0f921\"]],\"diverging\":[[0,\"#8e0152\"],[0.1,\"#c51b7d\"],[0.2,\"#de77ae\"],[0.3,\"#f1b6da\"],[0.4,\"#fde0ef\"],[0.5,\"#f7f7f7\"],[0.6,\"#e6f5d0\"],[0.7,\"#b8e186\"],[0.8,\"#7fbc41\"],[0.9,\"#4d9221\"],[1,\"#276419\"]]},\"xaxis\":{\"gridcolor\":\"white\",\"linecolor\":\"white\",\"ticks\":\"\",\"title\":{\"standoff\":15},\"zerolinecolor\":\"white\",\"automargin\":true,\"zerolinewidth\":2},\"yaxis\":{\"gridcolor\":\"white\",\"linecolor\":\"white\",\"ticks\":\"\",\"title\":{\"standoff\":15},\"zerolinecolor\":\"white\",\"automargin\":true,\"zerolinewidth\":2},\"scene\":{\"xaxis\":{\"backgroundcolor\":\"#E5ECF6\",\"gridcolor\":\"white\",\"linecolor\":\"white\",\"showbackground\":true,\"ticks\":\"\",\"zerolinecolor\":\"white\",\"gridwidth\":2},\"yaxis\":{\"backgroundcolor\":\"#E5ECF6\",\"gridcolor\":\"white\",\"linecolor\":\"white\",\"showbackground\":true,\"ticks\":\"\",\"zerolinecolor\":\"white\",\"gridwidth\":2},\"zaxis\":{\"backgroundcolor\":\"#E5ECF6\",\"gridcolor\":\"white\",\"linecolor\":\"white\",\"showbackground\":true,\"ticks\":\"\",\"zerolinecolor\":\"white\",\"gridwidth\":2}},\"shapedefaults\":{\"line\":{\"color\":\"#2a3f5f\"}},\"annotationdefaults\":{\"arrowcolor\":\"#2a3f5f\",\"arrowhead\":0,\"arrowwidth\":1},\"geo\":{\"bgcolor\":\"white\",\"landcolor\":\"#E5ECF6\",\"subunitcolor\":\"white\",\"showland\":true,\"showlakes\":true,\"lakecolor\":\"white\"},\"title\":{\"x\":0.05},\"mapbox\":{\"style\":\"light\"}}},\"xaxis\":{\"anchor\":\"y\",\"domain\":[0.0,1.0],\"title\":{\"text\":\"neighbourhood\"},\"showgrid\":false},\"yaxis\":{\"anchor\":\"x\",\"domain\":[0.0,1.0],\"title\":{\"text\":\"Proporci\\u00f3n\"},\"showgrid\":true,\"gridwidth\":1.2,\"gridcolor\":\"#d1d1d1\"},\"legend\":{\"title\":{\"text\":\"Price bins:\"},\"tracegroupgap\":0},\"margin\":{\"t\":50,\"l\":70,\"r\":140,\"b\":50},\"barmode\":\"relative\",\"title\":{\"text\":\"Proportion of houses by price bin for each number of neighbourhood\",\"x\":0.5},\"plot_bgcolor\":\"white\",\"hovermode\":\"closest\",\"barnorm\":\"percent\"},                        {\"responsive\": true}                    ).then(function(){\n",
       "                            \n",
       "var gd = document.getElementById('25709e99-fd0e-42c8-9d5c-b72c1025ccbf');\n",
       "var x = new MutationObserver(function (mutations, observer) {{\n",
       "        var display = window.getComputedStyle(gd).display;\n",
       "        if (!display || display === 'none') {{\n",
       "            console.log([gd, 'removed!']);\n",
       "            Plotly.purge(gd);\n",
       "            observer.disconnect();\n",
       "        }}\n",
       "}});\n",
       "\n",
       "// Listen for the removal of the full notebook cells\n",
       "var notebookContainer = gd.closest('#notebook-container');\n",
       "if (notebookContainer) {{\n",
       "    x.observe(notebookContainer, {childList: true});\n",
       "}}\n",
       "\n",
       "// Listen for the clearing of the current output cell\n",
       "var outputEl = gd.closest('.output');\n",
       "if (outputEl) {{\n",
       "    x.observe(outputEl, {childList: true});\n",
       "}}\n",
       "\n",
       "                        })                };                });            </script>        </div>"
      ]
     },
     "metadata": {},
     "output_type": "display_data"
    }
   ],
   "source": [
    "df = data.groupby(['neighbourhood','price_binarized'])['id'].count().reset_index().rename(columns={'id':'Count'})\n",
    "df['Sort_col'] = df['price_binarized'].apply(lambda bbin : {'Low':1,'Mid':2,'High':3,'Luxury':4}[bbin])\n",
    "df.sort_values(['neighbourhood','Sort_col'], inplace=True)\n",
    "\n",
    "fig = px.bar(df, x=\"neighbourhood\", y=\"Count\", color=\"price_binarized\", hover_data={'neighbourhood':False, 'price_binarized':False}, labels={\"Count\": \"Proporción\"})\n",
    "fig.update_layout(plot_bgcolor='white',\n",
    "                  hovermode=\"closest\",\n",
    "                  legend={'title_text':'Price bins:'},\n",
    "                  title={'text': 'Proportion of houses by price bin for each number of neighbourhood', 'x': 0.5},\n",
    "                  margin={'l':70, 'r':140, 't':50, 'b':50},\n",
    "                  barnorm='percent')\n",
    "fig.update_xaxes(showgrid=False)\n",
    "fig.update_yaxes(showgrid=True, gridwidth=1.2, gridcolor='#d1d1d1')\n",
    "fig.show()"
   ]
  },
  {
   "cell_type": "markdown",
   "id": "c0ce78e3-c08c-4bb4-83d7-9e7861c886e4",
   "metadata": {},
   "source": [
    "The proportion of houses of each price bin is quite similar in every neighbourhood, only in Manhattan half of the listings have a high or luxury price. We could group together neighbourhoods Bronx, Queens and Staten Island because of this analysis and the fact that they are the least frequent neighbourhood in our data."
   ]
  },
  {
   "cell_type": "markdown",
   "id": "bf2f492a-9ab0-41cd-9b9d-ce1451be8f8a",
   "metadata": {},
   "source": [
    "### Relationship between price and room_type"
   ]
  },
  {
   "cell_type": "code",
   "execution_count": 115,
   "id": "078bec9a-a811-4241-9eee-badc22999d0d",
   "metadata": {},
   "outputs": [
    {
     "data": {
      "text/html": [
       "<div>\n",
       "<style scoped>\n",
       "    .dataframe tbody tr th:only-of-type {\n",
       "        vertical-align: middle;\n",
       "    }\n",
       "\n",
       "    .dataframe tbody tr th {\n",
       "        vertical-align: top;\n",
       "    }\n",
       "\n",
       "    .dataframe thead tr th {\n",
       "        text-align: left;\n",
       "    }\n",
       "\n",
       "    .dataframe thead tr:last-of-type th {\n",
       "        text-align: right;\n",
       "    }\n",
       "</style>\n",
       "<table border=\"1\" class=\"dataframe\">\n",
       "  <thead>\n",
       "    <tr>\n",
       "      <th></th>\n",
       "      <th colspan=\"3\" halign=\"left\">price</th>\n",
       "    </tr>\n",
       "    <tr>\n",
       "      <th></th>\n",
       "      <th>mean</th>\n",
       "      <th>median</th>\n",
       "      <th>count</th>\n",
       "    </tr>\n",
       "    <tr>\n",
       "      <th>room_type</th>\n",
       "      <th></th>\n",
       "      <th></th>\n",
       "      <th></th>\n",
       "    </tr>\n",
       "  </thead>\n",
       "  <tbody>\n",
       "    <tr>\n",
       "      <th>Entire home/apt</th>\n",
       "      <td>220.462813</td>\n",
       "      <td>160.0</td>\n",
       "      <td>20397</td>\n",
       "    </tr>\n",
       "    <tr>\n",
       "      <th>Hotel room</th>\n",
       "      <td>381.138095</td>\n",
       "      <td>277.5</td>\n",
       "      <td>210</td>\n",
       "    </tr>\n",
       "    <tr>\n",
       "      <th>Private room</th>\n",
       "      <td>109.655632</td>\n",
       "      <td>70.0</td>\n",
       "      <td>17098</td>\n",
       "    </tr>\n",
       "    <tr>\n",
       "      <th>Shared room</th>\n",
       "      <td>154.279720</td>\n",
       "      <td>55.0</td>\n",
       "      <td>572</td>\n",
       "    </tr>\n",
       "  </tbody>\n",
       "</table>\n",
       "</div>"
      ],
      "text/plain": [
       "                      price              \n",
       "                       mean median  count\n",
       "room_type                                \n",
       "Entire home/apt  220.462813  160.0  20397\n",
       "Hotel room       381.138095  277.5    210\n",
       "Private room     109.655632   70.0  17098\n",
       "Shared room      154.279720   55.0    572"
      ]
     },
     "execution_count": 115,
     "metadata": {},
     "output_type": "execute_result"
    }
   ],
   "source": [
    "data.groupby('room_type').agg({'price':['mean','median','count']})"
   ]
  },
  {
   "cell_type": "code",
   "execution_count": 111,
   "id": "a40e7717-64a1-4a4b-ac74-9b3649001849",
   "metadata": {},
   "outputs": [
    {
     "data": {
      "image/png": "[encoded data removed]",
      "text/plain": [
       "<Figure size 1000x500 with 1 Axes>"
      ]
     },
     "metadata": {},
     "output_type": "display_data"
    }
   ],
   "source": [
    "q5, q95 = data.price.quantile([0.05,0.95]).values\n",
    "_, ax = plt.subplots(figsize=(10,5))\n",
    "sns.histplot(data[(data.price>=q5) & (data.price<=q95)], x='price', hue='room_type', multiple='stack').autoscale(enable=True, axis='x', tight=True);"
   ]
  },
  {
   "cell_type": "code",
   "execution_count": 112,
   "id": "50996251-9eef-41e0-9138-9c61264e0aa3",
   "metadata": {},
   "outputs": [
    {
     "data": {
      "application/vnd.plotly.v1+json": {
       "config": {
        "plotlyServerURL": "https://plot.ly"
       },
       "data": [
        {
         "alignmentgroup": "True",
         "customdata": [
          [
           "Low"
          ],
          [
           "Low"
          ],
          [
           "Low"
          ],
          [
           "Low"
          ]
         ],
         "hovertemplate": "Proporción=%{y}<extra></extra>",
         "legendgroup": "Low",
         "marker": {
          "color": "#636efa",
          "pattern": {
           "shape": ""
          }
         },
         "name": "Low",
         "offsetgroup": "Low",
         "orientation": "v",
         "showlegend": true,
         "textposition": "auto",
         "type": "bar",
         "x": [
          "Entire home/apt",
          "Hotel room",
          "Private room",
          "Shared room"
         ],
         "xaxis": "x",
         "y": [
          1399,
          36,
          10919,
          391
         ],
         "yaxis": "y"
        },
        {
         "alignmentgroup": "True",
         "customdata": [
          [
           "Mid"
          ],
          [
           "Mid"
          ],
          [
           "Mid"
          ],
          [
           "Mid"
          ]
         ],
         "hovertemplate": "Proporción=%{y}<extra></extra>",
         "legendgroup": "Mid",
         "marker": {
          "color": "#EF553B",
          "pattern": {
           "shape": ""
          }
         },
         "name": "Mid",
         "offsetgroup": "Mid",
         "orientation": "v",
         "showlegend": true,
         "textposition": "auto",
         "type": "bar",
         "x": [
          "Entire home/apt",
          "Hotel room",
          "Private room",
          "Shared room"
         ],
         "xaxis": "x",
         "y": [
          8139,
          16,
          4318,
          114
         ],
         "yaxis": "y"
        },
        {
         "alignmentgroup": "True",
         "customdata": [
          [
           "High"
          ],
          [
           "High"
          ],
          [
           "High"
          ],
          [
           "High"
          ]
         ],
         "hovertemplate": "Proporción=%{y}<extra></extra>",
         "legendgroup": "High",
         "marker": {
          "color": "#00cc96",
          "pattern": {
           "shape": ""
          }
         },
         "name": "High",
         "offsetgroup": "High",
         "orientation": "v",
         "showlegend": true,
         "textposition": "auto",
         "type": "bar",
         "x": [
          "Entire home/apt",
          "Hotel room",
          "Private room",
          "Shared room"
         ],
         "xaxis": "x",
         "y": [
          9472,
          93,
          1428,
          48
         ],
         "yaxis": "y"
        },
        {
         "alignmentgroup": "True",
         "customdata": [
          [
           "Luxury"
          ],
          [
           "Luxury"
          ],
          [
           "Luxury"
          ],
          [
           "Luxury"
          ]
         ],
         "hovertemplate": "Proporción=%{y}<extra></extra>",
         "legendgroup": "Luxury",
         "marker": {
          "color": "#ab63fa",
          "pattern": {
           "shape": ""
          }
         },
         "name": "Luxury",
         "offsetgroup": "Luxury",
         "orientation": "v",
         "showlegend": true,
         "textposition": "auto",
         "type": "bar",
         "x": [
          "Entire home/apt",
          "Hotel room",
          "Private room",
          "Shared room"
         ],
         "xaxis": "x",
         "y": [
          1387,
          65,
          433,
          19
         ],
         "yaxis": "y"
        }
       ],
       "layout": {
        "autosize": true,
        "barmode": "relative",
        "barnorm": "percent",
        "hovermode": "closest",
        "legend": {
         "title": {
          "text": "Price bins:"
         },
         "tracegroupgap": 0
        },
        "margin": {
         "b": 50,
         "l": 70,
         "r": 140,
         "t": 50
        },
        "plot_bgcolor": "white",
        "template": {
         "data": {
          "bar": [
           {
            "error_x": {
             "color": "#2a3f5f"
            },
            "error_y": {
             "color": "#2a3f5f"
            },
            "marker": {
             "line": {
              "color": "#E5ECF6",
              "width": 0.5
             },
             "pattern": {
              "fillmode": "overlay",
              "size": 10,
              "solidity": 0.2
             }
            },
            "type": "bar"
           }
          ],
          "barpolar": [
           {
            "marker": {
             "line": {
              "color": "#E5ECF6",
              "width": 0.5
             },
             "pattern": {
              "fillmode": "overlay",
              "size": 10,
              "solidity": 0.2
             }
            },
            "type": "barpolar"
           }
          ],
          "carpet": [
           {
            "aaxis": {
             "endlinecolor": "#2a3f5f",
             "gridcolor": "white",
             "linecolor": "white",
             "minorgridcolor": "white",
             "startlinecolor": "#2a3f5f"
            },
            "baxis": {
             "endlinecolor": "#2a3f5f",
             "gridcolor": "white",
             "linecolor": "white",
             "minorgridcolor": "white",
             "startlinecolor": "#2a3f5f"
            },
            "type": "carpet"
           }
          ],
          "choropleth": [
           {
            "colorbar": {
             "outlinewidth": 0,
             "ticks": ""
            },
            "type": "choropleth"
           }
          ],
          "contour": [
           {
            "colorbar": {
             "outlinewidth": 0,
             "ticks": ""
            },
            "colorscale": [
             [
              0,
              "#0d0887"
             ],
             [
              0.1111111111111111,
              "#46039f"
             ],
             [
              0.2222222222222222,
              "#7201a8"
             ],
             [
              0.3333333333333333,
              "#9c179e"
             ],
             [
              0.4444444444444444,
              "#bd3786"
             ],
             [
              0.5555555555555556,
              "#d8576b"
             ],
             [
              0.6666666666666666,
              "#ed7953"
             ],
             [
              0.7777777777777778,
              "#fb9f3a"
             ],
             [
              0.8888888888888888,
              "#fdca26"
             ],
             [
              1,
              "#f0f921"
             ]
            ],
            "type": "contour"
           }
          ],
          "contourcarpet": [
           {
            "colorbar": {
             "outlinewidth": 0,
             "ticks": ""
            },
            "type": "contourcarpet"
           }
          ],
          "heatmap": [
           {
            "colorbar": {
             "outlinewidth": 0,
             "ticks": ""
            },
            "colorscale": [
             [
              0,
              "#0d0887"
             ],
             [
              0.1111111111111111,
              "#46039f"
             ],
             [
              0.2222222222222222,
              "#7201a8"
             ],
             [
              0.3333333333333333,
              "#9c179e"
             ],
             [
              0.4444444444444444,
              "#bd3786"
             ],
             [
              0.5555555555555556,
              "#d8576b"
             ],
             [
              0.6666666666666666,
              "#ed7953"
             ],
             [
              0.7777777777777778,
              "#fb9f3a"
             ],
             [
              0.8888888888888888,
              "#fdca26"
             ],
             [
              1,
              "#f0f921"
             ]
            ],
            "type": "heatmap"
           }
          ],
          "heatmapgl": [
           {
            "colorbar": {
             "outlinewidth": 0,
             "ticks": ""
            },
            "colorscale": [
             [
              0,
              "#0d0887"
             ],
             [
              0.1111111111111111,
              "#46039f"
             ],
             [
              0.2222222222222222,
              "#7201a8"
             ],
             [
              0.3333333333333333,
              "#9c179e"
             ],
             [
              0.4444444444444444,
              "#bd3786"
             ],
             [
              0.5555555555555556,
              "#d8576b"
             ],
             [
              0.6666666666666666,
              "#ed7953"
             ],
             [
              0.7777777777777778,
              "#fb9f3a"
             ],
             [
              0.8888888888888888,
              "#fdca26"
             ],
             [
              1,
              "#f0f921"
             ]
            ],
            "type": "heatmapgl"
           }
          ],
          "histogram": [
           {
            "marker": {
             "pattern": {
              "fillmode": "overlay",
              "size": 10,
              "solidity": 0.2
             }
            },
            "type": "histogram"
           }
          ],
          "histogram2d": [
           {
            "colorbar": {
             "outlinewidth": 0,
             "ticks": ""
            },
            "colorscale": [
             [
              0,
              "#0d0887"
             ],
             [
              0.1111111111111111,
              "#46039f"
             ],
             [
              0.2222222222222222,
              "#7201a8"
             ],
             [
              0.3333333333333333,
              "#9c179e"
             ],
             [
              0.4444444444444444,
              "#bd3786"
             ],
             [
              0.5555555555555556,
              "#d8576b"
             ],
             [
              0.6666666666666666,
              "#ed7953"
             ],
             [
              0.7777777777777778,
              "#fb9f3a"
             ],
             [
              0.8888888888888888,
              "#fdca26"
             ],
             [
              1,
              "#f0f921"
             ]
            ],
            "type": "histogram2d"
           }
          ],
          "histogram2dcontour": [
           {
            "colorbar": {
             "outlinewidth": 0,
             "ticks": ""
            },
            "colorscale": [
             [
              0,
              "#0d0887"
             ],
             [
              0.1111111111111111,
              "#46039f"
             ],
             [
              0.2222222222222222,
              "#7201a8"
             ],
             [
              0.3333333333333333,
              "#9c179e"
             ],
             [
              0.4444444444444444,
              "#bd3786"
             ],
             [
              0.5555555555555556,
              "#d8576b"
             ],
             [
              0.6666666666666666,
              "#ed7953"
             ],
             [
              0.7777777777777778,
              "#fb9f3a"
             ],
             [
              0.8888888888888888,
              "#fdca26"
             ],
             [
              1,
              "#f0f921"
             ]
            ],
            "type": "histogram2dcontour"
           }
          ],
          "mesh3d": [
           {
            "colorbar": {
             "outlinewidth": 0,
             "ticks": ""
            },
            "type": "mesh3d"
           }
          ],
          "parcoords": [
           {
            "line": {
             "colorbar": {
              "outlinewidth": 0,
              "ticks": ""
             }
            },
            "type": "parcoords"
           }
          ],
          "pie": [
           {
            "automargin": true,
            "type": "pie"
           }
          ],
          "scatter": [
           {
            "fillpattern": {
             "fillmode": "overlay",
             "size": 10,
             "solidity": 0.2
            },
            "type": "scatter"
           }
          ],
          "scatter3d": [
           {
            "line": {
             "colorbar": {
              "outlinewidth": 0,
              "ticks": ""
             }
            },
            "marker": {
             "colorbar": {
              "outlinewidth": 0,
              "ticks": ""
             }
            },
            "type": "scatter3d"
           }
          ],
          "scattercarpet": [
           {
            "marker": {
             "colorbar": {
              "outlinewidth": 0,
              "ticks": ""
             }
            },
            "type": "scattercarpet"
           }
          ],
          "scattergeo": [
           {
            "marker": {
             "colorbar": {
              "outlinewidth": 0,
              "ticks": ""
             }
            },
            "type": "scattergeo"
           }
          ],
          "scattergl": [
           {
            "marker": {
             "colorbar": {
              "outlinewidth": 0,
              "ticks": ""
             }
            },
            "type": "scattergl"
           }
          ],
          "scattermapbox": [
           {
            "marker": {
             "colorbar": {
              "outlinewidth": 0,
              "ticks": ""
             }
            },
            "type": "scattermapbox"
           }
          ],
          "scatterpolar": [
           {
            "marker": {
             "colorbar": {
              "outlinewidth": 0,
              "ticks": ""
             }
            },
            "type": "scatterpolar"
           }
          ],
          "scatterpolargl": [
           {
            "marker": {
             "colorbar": {
              "outlinewidth": 0,
              "ticks": ""
             }
            },
            "type": "scatterpolargl"
           }
          ],
          "scatterternary": [
           {
            "marker": {
             "colorbar": {
              "outlinewidth": 0,
              "ticks": ""
             }
            },
            "type": "scatterternary"
           }
          ],
          "surface": [
           {
            "colorbar": {
             "outlinewidth": 0,
             "ticks": ""
            },
            "colorscale": [
             [
              0,
              "#0d0887"
             ],
             [
              0.1111111111111111,
              "#46039f"
             ],
             [
              0.2222222222222222,
              "#7201a8"
             ],
             [
              0.3333333333333333,
              "#9c179e"
             ],
             [
              0.4444444444444444,
              "#bd3786"
             ],
             [
              0.5555555555555556,
              "#d8576b"
             ],
             [
              0.6666666666666666,
              "#ed7953"
             ],
             [
              0.7777777777777778,
              "#fb9f3a"
             ],
             [
              0.8888888888888888,
              "#fdca26"
             ],
             [
              1,
              "#f0f921"
             ]
            ],
            "type": "surface"
           }
          ],
          "table": [
           {
            "cells": {
             "fill": {
              "color": "#EBF0F8"
             },
             "line": {
              "color": "white"
             }
            },
            "header": {
             "fill": {
              "color": "#C8D4E3"
             },
             "line": {
              "color": "white"
             }
            },
            "type": "table"
           }
          ]
         },
         "layout": {
          "annotationdefaults": {
           "arrowcolor": "#2a3f5f",
           "arrowhead": 0,
           "arrowwidth": 1
          },
          "autotypenumbers": "strict",
          "coloraxis": {
           "colorbar": {
            "outlinewidth": 0,
            "ticks": ""
           }
          },
          "colorscale": {
           "diverging": [
            [
             0,
             "#8e0152"
            ],
            [
             0.1,
             "#c51b7d"
            ],
            [
             0.2,
             "#de77ae"
            ],
            [
             0.3,
             "#f1b6da"
            ],
            [
             0.4,
             "#fde0ef"
            ],
            [
             0.5,
             "#f7f7f7"
            ],
            [
             0.6,
             "#e6f5d0"
            ],
            [
             0.7,
             "#b8e186"
            ],
            [
             0.8,
             "#7fbc41"
            ],
            [
             0.9,
             "#4d9221"
            ],
            [
             1,
             "#276419"
            ]
           ],
           "sequential": [
            [
             0,
             "#0d0887"
            ],
            [
             0.1111111111111111,
             "#46039f"
            ],
            [
             0.2222222222222222,
             "#7201a8"
            ],
            [
             0.3333333333333333,
             "#9c179e"
            ],
            [
             0.4444444444444444,
             "#bd3786"
            ],
            [
             0.5555555555555556,
             "#d8576b"
            ],
            [
             0.6666666666666666,
             "#ed7953"
            ],
            [
             0.7777777777777778,
             "#fb9f3a"
            ],
            [
             0.8888888888888888,
             "#fdca26"
            ],
            [
             1,
             "#f0f921"
            ]
           ],
           "sequentialminus": [
            [
             0,
             "#0d0887"
            ],
            [
             0.1111111111111111,
             "#46039f"
            ],
            [
             0.2222222222222222,
             "#7201a8"
            ],
            [
             0.3333333333333333,
             "#9c179e"
            ],
            [
             0.4444444444444444,
             "#bd3786"
            ],
            [
             0.5555555555555556,
             "#d8576b"
            ],
            [
             0.6666666666666666,
             "#ed7953"
            ],
            [
             0.7777777777777778,
             "#fb9f3a"
            ],
            [
             0.8888888888888888,
             "#fdca26"
            ],
            [
             1,
             "#f0f921"
            ]
           ]
          },
          "colorway": [
           "#636efa",
           "#EF553B",
           "#00cc96",
           "#ab63fa",
           "#FFA15A",
           "#19d3f3",
           "#FF6692",
           "#B6E880",
           "#FF97FF",
           "#FECB52"
          ],
          "font": {
           "color": "#2a3f5f"
          },
          "geo": {
           "bgcolor": "white",
           "lakecolor": "white",
           "landcolor": "#E5ECF6",
           "showlakes": true,
           "showland": true,
           "subunitcolor": "white"
          },
          "hoverlabel": {
           "align": "left"
          },
          "hovermode": "closest",
          "mapbox": {
           "style": "light"
          },
          "paper_bgcolor": "white",
          "plot_bgcolor": "#E5ECF6",
          "polar": {
           "angularaxis": {
            "gridcolor": "white",
            "linecolor": "white",
            "ticks": ""
           },
           "bgcolor": "#E5ECF6",
           "radialaxis": {
            "gridcolor": "white",
            "linecolor": "white",
            "ticks": ""
           }
          },
          "scene": {
           "xaxis": {
            "backgroundcolor": "#E5ECF6",
            "gridcolor": "white",
            "gridwidth": 2,
            "linecolor": "white",
            "showbackground": true,
            "ticks": "",
            "zerolinecolor": "white"
           },
           "yaxis": {
            "backgroundcolor": "#E5ECF6",
            "gridcolor": "white",
            "gridwidth": 2,
            "linecolor": "white",
            "showbackground": true,
            "ticks": "",
            "zerolinecolor": "white"
           },
           "zaxis": {
            "backgroundcolor": "#E5ECF6",
            "gridcolor": "white",
            "gridwidth": 2,
            "linecolor": "white",
            "showbackground": true,
            "ticks": "",
            "zerolinecolor": "white"
           }
          },
          "shapedefaults": {
           "line": {
            "color": "#2a3f5f"
           }
          },
          "ternary": {
           "aaxis": {
            "gridcolor": "white",
            "linecolor": "white",
            "ticks": ""
           },
           "baxis": {
            "gridcolor": "white",
            "linecolor": "white",
            "ticks": ""
           },
           "bgcolor": "#E5ECF6",
           "caxis": {
            "gridcolor": "white",
            "linecolor": "white",
            "ticks": ""
           }
          },
          "title": {
           "x": 0.05
          },
          "xaxis": {
           "automargin": true,
           "gridcolor": "white",
           "linecolor": "white",
           "ticks": "",
           "title": {
            "standoff": 15
           },
           "zerolinecolor": "white",
           "zerolinewidth": 2
          },
          "yaxis": {
           "automargin": true,
           "gridcolor": "white",
           "linecolor": "white",
           "ticks": "",
           "title": {
            "standoff": 15
           },
           "zerolinecolor": "white",
           "zerolinewidth": 2
          }
         }
        },
        "title": {
         "text": "Proportion of houses by price bin for each number of room_type",
         "x": 0.5
        },
        "xaxis": {
         "anchor": "y",
         "autorange": true,
         "domain": [
          0,
          1
         ],
         "range": [
          -0.5,
          3.5
         ],
         "showgrid": false,
         "title": {
          "text": "room_type"
         },
         "type": "category"
        },
        "yaxis": {
         "anchor": "x",
         "autorange": true,
         "domain": [
          0,
          1
         ],
         "gridcolor": "#d1d1d1",
         "gridwidth": 1.2,
         "range": [
          0,
          105.26315789473685
         ],
         "showgrid": true,
         "title": {
          "text": "Proporción"
         },
         "type": "linear"
        }
       }
      },
      "image/png": "[encoded data removed]",
      "text/html": [
       "<div>                            <div id=\"37575d27-230c-453d-8cad-cb0f4f0f49d3\" class=\"plotly-graph-div\" style=\"height:525px; width:100%;\"></div>            <script type=\"text/javascript\">                require([\"plotly\"], function(Plotly) {                    window.PLOTLYENV=window.PLOTLYENV || {};                                    if (document.getElementById(\"37575d27-230c-453d-8cad-cb0f4f0f49d3\")) {                    Plotly.newPlot(                        \"37575d27-230c-453d-8cad-cb0f4f0f49d3\",                        [{\"alignmentgroup\":\"True\",\"customdata\":[[\"Low\"],[\"Low\"],[\"Low\"],[\"Low\"]],\"hovertemplate\":\"Proporci\\u00f3n=%{y}<extra></extra>\",\"legendgroup\":\"Low\",\"marker\":{\"color\":\"#636efa\",\"pattern\":{\"shape\":\"\"}},\"name\":\"Low\",\"offsetgroup\":\"Low\",\"orientation\":\"v\",\"showlegend\":true,\"textposition\":\"auto\",\"x\":[\"Entire home/apt\",\"Hotel room\",\"Private room\",\"Shared room\"],\"xaxis\":\"x\",\"y\":[1399,36,10919,391],\"yaxis\":\"y\",\"type\":\"bar\"},{\"alignmentgroup\":\"True\",\"customdata\":[[\"Mid\"],[\"Mid\"],[\"Mid\"],[\"Mid\"]],\"hovertemplate\":\"Proporci\\u00f3n=%{y}<extra></extra>\",\"legendgroup\":\"Mid\",\"marker\":{\"color\":\"#EF553B\",\"pattern\":{\"shape\":\"\"}},\"name\":\"Mid\",\"offsetgroup\":\"Mid\",\"orientation\":\"v\",\"showlegend\":true,\"textposition\":\"auto\",\"x\":[\"Entire home/apt\",\"Hotel room\",\"Private room\",\"Shared room\"],\"xaxis\":\"x\",\"y\":[8139,16,4318,114],\"yaxis\":\"y\",\"type\":\"bar\"},{\"alignmentgroup\":\"True\",\"customdata\":[[\"High\"],[\"High\"],[\"High\"],[\"High\"]],\"hovertemplate\":\"Proporci\\u00f3n=%{y}<extra></extra>\",\"legendgroup\":\"High\",\"marker\":{\"color\":\"#00cc96\",\"pattern\":{\"shape\":\"\"}},\"name\":\"High\",\"offsetgroup\":\"High\",\"orientation\":\"v\",\"showlegend\":true,\"textposition\":\"auto\",\"x\":[\"Entire home/apt\",\"Hotel room\",\"Private room\",\"Shared room\"],\"xaxis\":\"x\",\"y\":[9472,93,1428,48],\"yaxis\":\"y\",\"type\":\"bar\"},{\"alignmentgroup\":\"True\",\"customdata\":[[\"Luxury\"],[\"Luxury\"],[\"Luxury\"],[\"Luxury\"]],\"hovertemplate\":\"Proporci\\u00f3n=%{y}<extra></extra>\",\"legendgroup\":\"Luxury\",\"marker\":{\"color\":\"#ab63fa\",\"pattern\":{\"shape\":\"\"}},\"name\":\"Luxury\",\"offsetgroup\":\"Luxury\",\"orientation\":\"v\",\"showlegend\":true,\"textposition\":\"auto\",\"x\":[\"Entire home/apt\",\"Hotel room\",\"Private room\",\"Shared room\"],\"xaxis\":\"x\",\"y\":[1387,65,433,19],\"yaxis\":\"y\",\"type\":\"bar\"}],                        {\"template\":{\"data\":{\"histogram2dcontour\":[{\"type\":\"histogram2dcontour\",\"colorbar\":{\"outlinewidth\":0,\"ticks\":\"\"},\"colorscale\":[[0.0,\"#0d0887\"],[0.1111111111111111,\"#46039f\"],[0.2222222222222222,\"#7201a8\"],[0.3333333333333333,\"#9c179e\"],[0.4444444444444444,\"#bd3786\"],[0.5555555555555556,\"#d8576b\"],[0.6666666666666666,\"#ed7953\"],[0.7777777777777778,\"#fb9f3a\"],[0.8888888888888888,\"#fdca26\"],[1.0,\"#f0f921\"]]}],\"choropleth\":[{\"type\":\"choropleth\",\"colorbar\":{\"outlinewidth\":0,\"ticks\":\"\"}}],\"histogram2d\":[{\"type\":\"histogram2d\",\"colorbar\":{\"outlinewidth\":0,\"ticks\":\"\"},\"colorscale\":[[0.0,\"#0d0887\"],[0.1111111111111111,\"#46039f\"],[0.2222222222222222,\"#7201a8\"],[0.3333333333333333,\"#9c179e\"],[0.4444444444444444,\"#bd3786\"],[0.5555555555555556,\"#d8576b\"],[0.6666666666666666,\"#ed7953\"],[0.7777777777777778,\"#fb9f3a\"],[0.8888888888888888,\"#fdca26\"],[1.0,\"#f0f921\"]]}],\"heatmap\":[{\"type\":\"heatmap\",\"colorbar\":{\"outlinewidth\":0,\"ticks\":\"\"},\"colorscale\":[[0.0,\"#0d0887\"],[0.1111111111111111,\"#46039f\"],[0.2222222222222222,\"#7201a8\"],[0.3333333333333333,\"#9c179e\"],[0.4444444444444444,\"#bd3786\"],[0.5555555555555556,\"#d8576b\"],[0.6666666666666666,\"#ed7953\"],[0.7777777777777778,\"#fb9f3a\"],[0.8888888888888888,\"#fdca26\"],[1.0,\"#f0f921\"]]}],\"heatmapgl\":[{\"type\":\"heatmapgl\",\"colorbar\":{\"outlinewidth\":0,\"ticks\":\"\"},\"colorscale\":[[0.0,\"#0d0887\"],[0.1111111111111111,\"#46039f\"],[0.2222222222222222,\"#7201a8\"],[0.3333333333333333,\"#9c179e\"],[0.4444444444444444,\"#bd3786\"],[0.5555555555555556,\"#d8576b\"],[0.6666666666666666,\"#ed7953\"],[0.7777777777777778,\"#fb9f3a\"],[0.8888888888888888,\"#fdca26\"],[1.0,\"#f0f921\"]]}],\"contourcarpet\":[{\"type\":\"contourcarpet\",\"colorbar\":{\"outlinewidth\":0,\"ticks\":\"\"}}],\"contour\":[{\"type\":\"contour\",\"colorbar\":{\"outlinewidth\":0,\"ticks\":\"\"},\"colorscale\":[[0.0,\"#0d0887\"],[0.1111111111111111,\"#46039f\"],[0.2222222222222222,\"#7201a8\"],[0.3333333333333333,\"#9c179e\"],[0.4444444444444444,\"#bd3786\"],[0.5555555555555556,\"#d8576b\"],[0.6666666666666666,\"#ed7953\"],[0.7777777777777778,\"#fb9f3a\"],[0.8888888888888888,\"#fdca26\"],[1.0,\"#f0f921\"]]}],\"surface\":[{\"type\":\"surface\",\"colorbar\":{\"outlinewidth\":0,\"ticks\":\"\"},\"colorscale\":[[0.0,\"#0d0887\"],[0.1111111111111111,\"#46039f\"],[0.2222222222222222,\"#7201a8\"],[0.3333333333333333,\"#9c179e\"],[0.4444444444444444,\"#bd3786\"],[0.5555555555555556,\"#d8576b\"],[0.6666666666666666,\"#ed7953\"],[0.7777777777777778,\"#fb9f3a\"],[0.8888888888888888,\"#fdca26\"],[1.0,\"#f0f921\"]]}],\"mesh3d\":[{\"type\":\"mesh3d\",\"colorbar\":{\"outlinewidth\":0,\"ticks\":\"\"}}],\"scatter\":[{\"fillpattern\":{\"fillmode\":\"overlay\",\"size\":10,\"solidity\":0.2},\"type\":\"scatter\"}],\"parcoords\":[{\"type\":\"parcoords\",\"line\":{\"colorbar\":{\"outlinewidth\":0,\"ticks\":\"\"}}}],\"scatterpolargl\":[{\"type\":\"scatterpolargl\",\"marker\":{\"colorbar\":{\"outlinewidth\":0,\"ticks\":\"\"}}}],\"bar\":[{\"error_x\":{\"color\":\"#2a3f5f\"},\"error_y\":{\"color\":\"#2a3f5f\"},\"marker\":{\"line\":{\"color\":\"#E5ECF6\",\"width\":0.5},\"pattern\":{\"fillmode\":\"overlay\",\"size\":10,\"solidity\":0.2}},\"type\":\"bar\"}],\"scattergeo\":[{\"type\":\"scattergeo\",\"marker\":{\"colorbar\":{\"outlinewidth\":0,\"ticks\":\"\"}}}],\"scatterpolar\":[{\"type\":\"scatterpolar\",\"marker\":{\"colorbar\":{\"outlinewidth\":0,\"ticks\":\"\"}}}],\"histogram\":[{\"marker\":{\"pattern\":{\"fillmode\":\"overlay\",\"size\":10,\"solidity\":0.2}},\"type\":\"histogram\"}],\"scattergl\":[{\"type\":\"scattergl\",\"marker\":{\"colorbar\":{\"outlinewidth\":0,\"ticks\":\"\"}}}],\"scatter3d\":[{\"type\":\"scatter3d\",\"line\":{\"colorbar\":{\"outlinewidth\":0,\"ticks\":\"\"}},\"marker\":{\"colorbar\":{\"outlinewidth\":0,\"ticks\":\"\"}}}],\"scattermapbox\":[{\"type\":\"scattermapbox\",\"marker\":{\"colorbar\":{\"outlinewidth\":0,\"ticks\":\"\"}}}],\"scatterternary\":[{\"type\":\"scatterternary\",\"marker\":{\"colorbar\":{\"outlinewidth\":0,\"ticks\":\"\"}}}],\"scattercarpet\":[{\"type\":\"scattercarpet\",\"marker\":{\"colorbar\":{\"outlinewidth\":0,\"ticks\":\"\"}}}],\"carpet\":[{\"aaxis\":{\"endlinecolor\":\"#2a3f5f\",\"gridcolor\":\"white\",\"linecolor\":\"white\",\"minorgridcolor\":\"white\",\"startlinecolor\":\"#2a3f5f\"},\"baxis\":{\"endlinecolor\":\"#2a3f5f\",\"gridcolor\":\"white\",\"linecolor\":\"white\",\"minorgridcolor\":\"white\",\"startlinecolor\":\"#2a3f5f\"},\"type\":\"carpet\"}],\"table\":[{\"cells\":{\"fill\":{\"color\":\"#EBF0F8\"},\"line\":{\"color\":\"white\"}},\"header\":{\"fill\":{\"color\":\"#C8D4E3\"},\"line\":{\"color\":\"white\"}},\"type\":\"table\"}],\"barpolar\":[{\"marker\":{\"line\":{\"color\":\"#E5ECF6\",\"width\":0.5},\"pattern\":{\"fillmode\":\"overlay\",\"size\":10,\"solidity\":0.2}},\"type\":\"barpolar\"}],\"pie\":[{\"automargin\":true,\"type\":\"pie\"}]},\"layout\":{\"autotypenumbers\":\"strict\",\"colorway\":[\"#636efa\",\"#EF553B\",\"#00cc96\",\"#ab63fa\",\"#FFA15A\",\"#19d3f3\",\"#FF6692\",\"#B6E880\",\"#FF97FF\",\"#FECB52\"],\"font\":{\"color\":\"#2a3f5f\"},\"hovermode\":\"closest\",\"hoverlabel\":{\"align\":\"left\"},\"paper_bgcolor\":\"white\",\"plot_bgcolor\":\"#E5ECF6\",\"polar\":{\"bgcolor\":\"#E5ECF6\",\"angularaxis\":{\"gridcolor\":\"white\",\"linecolor\":\"white\",\"ticks\":\"\"},\"radialaxis\":{\"gridcolor\":\"white\",\"linecolor\":\"white\",\"ticks\":\"\"}},\"ternary\":{\"bgcolor\":\"#E5ECF6\",\"aaxis\":{\"gridcolor\":\"white\",\"linecolor\":\"white\",\"ticks\":\"\"},\"baxis\":{\"gridcolor\":\"white\",\"linecolor\":\"white\",\"ticks\":\"\"},\"caxis\":{\"gridcolor\":\"white\",\"linecolor\":\"white\",\"ticks\":\"\"}},\"coloraxis\":{\"colorbar\":{\"outlinewidth\":0,\"ticks\":\"\"}},\"colorscale\":{\"sequential\":[[0.0,\"#0d0887\"],[0.1111111111111111,\"#46039f\"],[0.2222222222222222,\"#7201a8\"],[0.3333333333333333,\"#9c179e\"],[0.4444444444444444,\"#bd3786\"],[0.5555555555555556,\"#d8576b\"],[0.6666666666666666,\"#ed7953\"],[0.7777777777777778,\"#fb9f3a\"],[0.8888888888888888,\"#fdca26\"],[1.0,\"#f0f921\"]],\"sequentialminus\":[[0.0,\"#0d0887\"],[0.1111111111111111,\"#46039f\"],[0.2222222222222222,\"#7201a8\"],[0.3333333333333333,\"#9c179e\"],[0.4444444444444444,\"#bd3786\"],[0.5555555555555556,\"#d8576b\"],[0.6666666666666666,\"#ed7953\"],[0.7777777777777778,\"#fb9f3a\"],[0.8888888888888888,\"#fdca26\"],[1.0,\"#f0f921\"]],\"diverging\":[[0,\"#8e0152\"],[0.1,\"#c51b7d\"],[0.2,\"#de77ae\"],[0.3,\"#f1b6da\"],[0.4,\"#fde0ef\"],[0.5,\"#f7f7f7\"],[0.6,\"#e6f5d0\"],[0.7,\"#b8e186\"],[0.8,\"#7fbc41\"],[0.9,\"#4d9221\"],[1,\"#276419\"]]},\"xaxis\":{\"gridcolor\":\"white\",\"linecolor\":\"white\",\"ticks\":\"\",\"title\":{\"standoff\":15},\"zerolinecolor\":\"white\",\"automargin\":true,\"zerolinewidth\":2},\"yaxis\":{\"gridcolor\":\"white\",\"linecolor\":\"white\",\"ticks\":\"\",\"title\":{\"standoff\":15},\"zerolinecolor\":\"white\",\"automargin\":true,\"zerolinewidth\":2},\"scene\":{\"xaxis\":{\"backgroundcolor\":\"#E5ECF6\",\"gridcolor\":\"white\",\"linecolor\":\"white\",\"showbackground\":true,\"ticks\":\"\",\"zerolinecolor\":\"white\",\"gridwidth\":2},\"yaxis\":{\"backgroundcolor\":\"#E5ECF6\",\"gridcolor\":\"white\",\"linecolor\":\"white\",\"showbackground\":true,\"ticks\":\"\",\"zerolinecolor\":\"white\",\"gridwidth\":2},\"zaxis\":{\"backgroundcolor\":\"#E5ECF6\",\"gridcolor\":\"white\",\"linecolor\":\"white\",\"showbackground\":true,\"ticks\":\"\",\"zerolinecolor\":\"white\",\"gridwidth\":2}},\"shapedefaults\":{\"line\":{\"color\":\"#2a3f5f\"}},\"annotationdefaults\":{\"arrowcolor\":\"#2a3f5f\",\"arrowhead\":0,\"arrowwidth\":1},\"geo\":{\"bgcolor\":\"white\",\"landcolor\":\"#E5ECF6\",\"subunitcolor\":\"white\",\"showland\":true,\"showlakes\":true,\"lakecolor\":\"white\"},\"title\":{\"x\":0.05},\"mapbox\":{\"style\":\"light\"}}},\"xaxis\":{\"anchor\":\"y\",\"domain\":[0.0,1.0],\"title\":{\"text\":\"room_type\"},\"showgrid\":false},\"yaxis\":{\"anchor\":\"x\",\"domain\":[0.0,1.0],\"title\":{\"text\":\"Proporci\\u00f3n\"},\"showgrid\":true,\"gridwidth\":1.2,\"gridcolor\":\"#d1d1d1\"},\"legend\":{\"title\":{\"text\":\"Price bins:\"},\"tracegroupgap\":0},\"margin\":{\"t\":50,\"l\":70,\"r\":140,\"b\":50},\"barmode\":\"relative\",\"title\":{\"text\":\"Proportion of houses by price bin for each number of room_type\",\"x\":0.5},\"plot_bgcolor\":\"white\",\"hovermode\":\"closest\",\"barnorm\":\"percent\"},                        {\"responsive\": true}                    ).then(function(){\n",
       "                            \n",
       "var gd = document.getElementById('37575d27-230c-453d-8cad-cb0f4f0f49d3');\n",
       "var x = new MutationObserver(function (mutations, observer) {{\n",
       "        var display = window.getComputedStyle(gd).display;\n",
       "        if (!display || display === 'none') {{\n",
       "            console.log([gd, 'removed!']);\n",
       "            Plotly.purge(gd);\n",
       "            observer.disconnect();\n",
       "        }}\n",
       "}});\n",
       "\n",
       "// Listen for the removal of the full notebook cells\n",
       "var notebookContainer = gd.closest('#notebook-container');\n",
       "if (notebookContainer) {{\n",
       "    x.observe(notebookContainer, {childList: true});\n",
       "}}\n",
       "\n",
       "// Listen for the clearing of the current output cell\n",
       "var outputEl = gd.closest('.output');\n",
       "if (outputEl) {{\n",
       "    x.observe(outputEl, {childList: true});\n",
       "}}\n",
       "\n",
       "                        })                };                });            </script>        </div>"
      ]
     },
     "metadata": {},
     "output_type": "display_data"
    }
   ],
   "source": [
    "df = data.groupby(['room_type','price_binarized'])['id'].count().reset_index().rename(columns={'id':'Count'})\n",
    "df['Sort_col'] = df['price_binarized'].apply(lambda bbin : {'Low':1,'Mid':2,'High':3,'Luxury':4}[bbin])\n",
    "df.sort_values(['room_type','Sort_col'], inplace=True)\n",
    "\n",
    "fig = px.bar(df, x=\"room_type\", y=\"Count\", color=\"price_binarized\", hover_data={'room_type':False, 'price_binarized':False}, labels={\"Count\": \"Proporción\"})\n",
    "fig.update_layout(plot_bgcolor='white',\n",
    "                  hovermode=\"closest\",\n",
    "                  legend={'title_text':'Price bins:'},\n",
    "                  title={'text': 'Proportion of houses by price bin for each number of room_type', 'x': 0.5},\n",
    "                  margin={'l':70, 'r':140, 't':50, 'b':50},\n",
    "                  barnorm='percent')\n",
    "fig.update_xaxes(showgrid=False)\n",
    "fig.update_yaxes(showgrid=True, gridwidth=1.2, gridcolor='#d1d1d1')\n",
    "fig.show()"
   ]
  },
  {
   "cell_type": "markdown",
   "id": "22b0fd66-68f3-4822-a2cd-94e58056e74f",
   "metadata": {},
   "source": [
    "Categories \"Private room\" and \"Shared room\" are quite similar in terms of the proportion of houses by price bin. We could also group these categories."
   ]
  },
  {
   "cell_type": "code",
   "execution_count": null,
   "id": "8f008050-982b-4fcc-8241-878500c20979",
   "metadata": {},
   "outputs": [],
   "source": []
  }
 ],
 "metadata": {
  "kernelspec": {
   "display_name": "Python 3 (ipykernel)",
   "language": "python",
   "name": "python3"
  },
  "language_info": {
   "codemirror_mode": {
    "name": "ipython",
    "version": 3
   },
   "file_extension": ".py",
   "mimetype": "text/x-python",
   "name": "python",
   "nbconvert_exporter": "python",
   "pygments_lexer": "ipython3",
   "version": "3.9.15"
  }
 },
 "nbformat": 4,
 "nbformat_minor": 5
}
