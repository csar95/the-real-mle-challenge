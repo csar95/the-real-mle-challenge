{
 "cells": [
  {
   "cell_type": "code",
   "execution_count": 1,
   "id": "0396d064-2e9b-4575-8da2-7b00b2d5ad4d",
   "metadata": {},
   "outputs": [],
   "source": [
    "import pandas as pd\n",
    "pd.set_option('display.max_columns', 150)\n",
    "pd.set_option('display.max_rows', None)\n",
    "import numpy as np\n",
    "import re\n",
    "import seaborn as sns\n",
    "import matplotlib.pyplot as plt\n",
    "import warnings\n",
    "warnings.simplefilter(action='ignore', category=FutureWarning)"
   ]
  },
  {
   "cell_type": "markdown",
   "id": "2d500d9b-438d-4a65-a540-f8c713aee10d",
   "metadata": {},
   "source": [
    "# Load data"
   ]
  },
  {
   "cell_type": "code",
   "execution_count": 2,
   "id": "73b76cff-dd29-4e66-a3dc-1ada0e5f0545",
   "metadata": {},
   "outputs": [
    {
     "name": "stdout",
     "output_type": "stream",
     "text": [
      "(38277, 11)\n"
     ]
    },
    {
     "data": {
      "text/html": [
       "<div>\n",
       "<style scoped>\n",
       "    .dataframe tbody tr th:only-of-type {\n",
       "        vertical-align: middle;\n",
       "    }\n",
       "\n",
       "    .dataframe tbody tr th {\n",
       "        vertical-align: top;\n",
       "    }\n",
       "\n",
       "    .dataframe thead th {\n",
       "        text-align: right;\n",
       "    }\n",
       "</style>\n",
       "<table border=\"1\" class=\"dataframe\">\n",
       "  <thead>\n",
       "    <tr style=\"text-align: right;\">\n",
       "      <th></th>\n",
       "      <th>id</th>\n",
       "      <th>neighbourhood_group_cleansed</th>\n",
       "      <th>latitude</th>\n",
       "      <th>longitude</th>\n",
       "      <th>room_type</th>\n",
       "      <th>accommodates</th>\n",
       "      <th>bathrooms_text</th>\n",
       "      <th>bedrooms</th>\n",
       "      <th>beds</th>\n",
       "      <th>amenities</th>\n",
       "      <th>price</th>\n",
       "    </tr>\n",
       "  </thead>\n",
       "  <tbody>\n",
       "    <tr>\n",
       "      <th>0</th>\n",
       "      <td>2595</td>\n",
       "      <td>Manhattan</td>\n",
       "      <td>40.75356</td>\n",
       "      <td>-73.98559</td>\n",
       "      <td>Entire home/apt</td>\n",
       "      <td>1</td>\n",
       "      <td>1 bath</td>\n",
       "      <td>NaN</td>\n",
       "      <td>1.0</td>\n",
       "      <td>[\"Extra pillows and blankets\", \"Baking sheet\",...</td>\n",
       "      <td>$150.00</td>\n",
       "    </tr>\n",
       "    <tr>\n",
       "      <th>1</th>\n",
       "      <td>3831</td>\n",
       "      <td>Brooklyn</td>\n",
       "      <td>40.68494</td>\n",
       "      <td>-73.95765</td>\n",
       "      <td>Entire home/apt</td>\n",
       "      <td>3</td>\n",
       "      <td>1 bath</td>\n",
       "      <td>1.0</td>\n",
       "      <td>3.0</td>\n",
       "      <td>[\"Extra pillows and blankets\", \"Luggage dropof...</td>\n",
       "      <td>$75.00</td>\n",
       "    </tr>\n",
       "    <tr>\n",
       "      <th>2</th>\n",
       "      <td>5121</td>\n",
       "      <td>Brooklyn</td>\n",
       "      <td>40.68535</td>\n",
       "      <td>-73.95512</td>\n",
       "      <td>Private room</td>\n",
       "      <td>2</td>\n",
       "      <td>NaN</td>\n",
       "      <td>1.0</td>\n",
       "      <td>1.0</td>\n",
       "      <td>[\"Kitchen\", \"Long term stays allowed\", \"Wifi\",...</td>\n",
       "      <td>$60.00</td>\n",
       "    </tr>\n",
       "  </tbody>\n",
       "</table>\n",
       "</div>"
      ],
      "text/plain": [
       "     id neighbourhood_group_cleansed  latitude  longitude        room_type  \\\n",
       "0  2595                    Manhattan  40.75356  -73.98559  Entire home/apt   \n",
       "1  3831                     Brooklyn  40.68494  -73.95765  Entire home/apt   \n",
       "2  5121                     Brooklyn  40.68535  -73.95512     Private room   \n",
       "\n",
       "   accommodates bathrooms_text  bedrooms  beds  \\\n",
       "0             1         1 bath       NaN   1.0   \n",
       "1             3         1 bath       1.0   3.0   \n",
       "2             2            NaN       1.0   1.0   \n",
       "\n",
       "                                           amenities    price  \n",
       "0  [\"Extra pillows and blankets\", \"Baking sheet\",...  $150.00  \n",
       "1  [\"Extra pillows and blankets\", \"Luggage dropof...   $75.00  \n",
       "2  [\"Kitchen\", \"Long term stays allowed\", \"Wifi\",...   $60.00  "
      ]
     },
     "execution_count": 2,
     "metadata": {},
     "output_type": "execute_result"
    }
   ],
   "source": [
    "data = pd.read_csv(\"../../data/raw/listings.csv\", usecols=['id','accommodates','room_type','beds','bedrooms','bathrooms_text','neighbourhood_group_cleansed','amenities','latitude','longitude','price'])\n",
    "print(data.shape)\n",
    "data.head(3)"
   ]
  },
  {
   "cell_type": "markdown",
   "id": "0a94f07c-5100-43df-8f17-e769d92bbeec",
   "metadata": {},
   "source": [
    "# Feature engineer, cleaning and transformation"
   ]
  },
  {
   "cell_type": "code",
   "execution_count": 3,
   "id": "84908e61-347d-4827-89fb-5587855356dd",
   "metadata": {},
   "outputs": [],
   "source": [
    "data['price_processed'] = data.price.str[1:-3].str.replace(',','').astype(int)\n",
    "quantiles = data.price_processed.quantile([0.33, 0.66, 0.95]).values\n",
    "bins = np.append( np.insert(quantiles, 0, 0), data.price_processed.max() )\n",
    "data['price'] = pd.cut(data.price_processed, bins, include_lowest=True, labels=[0,1,2,3])  # labels=['Low','Mid','High','Luxury']\n",
    "data.drop(columns=['price_processed'], inplace=True)"
   ]
  },
  {
   "cell_type": "code",
   "execution_count": 4,
   "id": "4188ab02-bfe9-4967-900f-fdd00dbb72c3",
   "metadata": {},
   "outputs": [
    {
     "data": {
      "text/plain": [
       "0    12745\n",
       "1    12587\n",
       "2    11041\n",
       "3     1904\n",
       "Name: price, dtype: int64"
      ]
     },
     "execution_count": 4,
     "metadata": {},
     "output_type": "execute_result"
    }
   ],
   "source": [
    "data.price.value_counts(dropna=False)"
   ]
  },
  {
   "cell_type": "code",
   "execution_count": 5,
   "id": "f66270c6-c286-43a7-83f6-af9da3666d4c",
   "metadata": {},
   "outputs": [],
   "source": [
    "def extract_num_baths(text):\n",
    "    found_groups = [group for group in re.findall(\"(\\d*\\.?\\d*).*\", str(text)) if group!='']\n",
    "    if found_groups:\n",
    "        return float(found_groups[0])\n",
    "    elif pd.isna(text) or text is None:\n",
    "        return np.nan\n",
    "    # Special cases\n",
    "    elif \"half-bath\" in text.lower():\n",
    "        return 0.5\n",
    "    else:  # In case there were any cases like this\n",
    "        return 1\n",
    "    \n",
    "data['bathrooms'] = data.bathrooms_text.apply(extract_num_baths)\n",
    "data.drop(columns=['bathrooms_text'], inplace=True)"
   ]
  },
  {
   "cell_type": "code",
   "execution_count": 6,
   "id": "9c9a09cf-e25a-45ef-8019-f7935b3cc16f",
   "metadata": {},
   "outputs": [],
   "source": [
    "data.rename(columns={'neighbourhood_group_cleansed':'neighbourhood'}, inplace=True)"
   ]
  },
  {
   "cell_type": "code",
   "execution_count": 7,
   "id": "8f6bb17c-3296-4888-9059-244cba84d9c8",
   "metadata": {},
   "outputs": [],
   "source": [
    "def find_amenities(lst):\n",
    "    return pd.Series([int('tv' in lst.lower()), int('elevator' in lst.lower()), int('wifi' in lst.lower())])\n",
    "\n",
    "data[['tv','elevator','internet']] = data.amenities.apply(find_amenities)\n",
    "data.drop(columns=['amenities'], inplace=True)"
   ]
  },
  {
   "cell_type": "markdown",
   "id": "febaafa8-3a54-42c8-935c-f08293c5c003",
   "metadata": {},
   "source": [
    "## Impute missing values"
   ]
  },
  {
   "cell_type": "code",
   "execution_count": 8,
   "id": "38681391-f990-465e-8283-3260823391f2",
   "metadata": {},
   "outputs": [
    {
     "data": {
      "text/plain": [
       "id                  0\n",
       "neighbourhood       0\n",
       "latitude            0\n",
       "longitude           0\n",
       "room_type           0\n",
       "accommodates        0\n",
       "bedrooms         3975\n",
       "beds             2405\n",
       "price               0\n",
       "bathrooms         107\n",
       "tv                  0\n",
       "elevator            0\n",
       "internet            0\n",
       "dtype: int64"
      ]
     },
     "execution_count": 8,
     "metadata": {},
     "output_type": "execute_result"
    }
   ],
   "source": [
    "data.isna().sum()"
   ]
  },
  {
   "cell_type": "code",
   "execution_count": 9,
   "id": "85c7fcf1-92a0-4b04-9410-9b0ae40d23ab",
   "metadata": {},
   "outputs": [
    {
     "data": {
      "text/plain": [
       "0"
      ]
     },
     "execution_count": 9,
     "metadata": {},
     "output_type": "execute_result"
    }
   ],
   "source": [
    "median_num_baths_by_bedrooms = data.groupby('bedrooms')['bathrooms'].median()\n",
    "median_num_baths_by_accommodates = data.groupby('accommodates')['bathrooms'].median().fillna(0)\n",
    "\n",
    "data.loc[data.bathrooms.isna() & data.bedrooms.notna(), 'bathrooms'] = data.loc[data.bathrooms.isna() & data.bedrooms.notna(), 'bedrooms'].apply(lambda n_bedrooms : median_num_baths_by_bedrooms[n_bedrooms])\n",
    "data.loc[data.bathrooms.isna(), 'bathrooms'] = data.loc[data.bathrooms.isna(), 'accommodates'].apply(lambda n_accommodates : median_num_baths_by_accommodates[n_accommodates])\n",
    "\n",
    "data.bathrooms.isna().sum()"
   ]
  },
  {
   "cell_type": "code",
   "execution_count": 10,
   "id": "102975f3-ce12-4777-aca1-ebe1cf8b8e69",
   "metadata": {},
   "outputs": [
    {
     "data": {
      "text/plain": [
       "0"
      ]
     },
     "execution_count": 10,
     "metadata": {},
     "output_type": "execute_result"
    }
   ],
   "source": [
    "median_num_beds_by_bedrooms = data.groupby('bedrooms')['beds'].median()\n",
    "median_num_beds_by_accommodates = data.groupby('accommodates')['beds'].median().fillna(0)\n",
    "\n",
    "data.loc[data.beds.isna() & data.bedrooms.notna(), 'beds'] = data.loc[data.beds.isna() & data.bedrooms.notna(), 'bedrooms'].apply(lambda n_bedrooms : median_num_beds_by_bedrooms[n_bedrooms])\n",
    "data.loc[data.beds.isna(), 'beds'] = data.loc[data.beds.isna(), 'accommodates'].apply(lambda n_accommodates : median_num_beds_by_accommodates[n_accommodates])\n",
    "\n",
    "data.beds.isna().sum()"
   ]
  },
  {
   "cell_type": "code",
   "execution_count": 11,
   "id": "5759a68a-d65b-4c11-84ac-f90388edca0c",
   "metadata": {},
   "outputs": [
    {
     "data": {
      "text/plain": [
       "0"
      ]
     },
     "execution_count": 11,
     "metadata": {},
     "output_type": "execute_result"
    }
   ],
   "source": [
    "median_num_bedrooms_by_accommodates = data.groupby('accommodates')['bedrooms'].median().fillna(0)\n",
    "\n",
    "data.loc[data.bedrooms.isna(), 'bedrooms'] = data.loc[data.bedrooms.isna(), 'accommodates'].apply(lambda n_accommodates : median_num_bedrooms_by_accommodates[n_accommodates])\n",
    "\n",
    "data.bedrooms.isna().sum()"
   ]
  },
  {
   "cell_type": "markdown",
   "id": "423594fe-0ba9-4751-a9f6-dee87a246a0f",
   "metadata": {},
   "source": [
    "## Preprocess categorical variables"
   ]
  },
  {
   "cell_type": "code",
   "execution_count": 12,
   "id": "26676a0a-c274-40cb-b0e5-019809629f39",
   "metadata": {},
   "outputs": [],
   "source": [
    "data.loc[ data.room_type.isin(['Private room','Shared room']), 'room_type' ] = \"Private-Share room\""
   ]
  },
  {
   "cell_type": "code",
   "execution_count": 13,
   "id": "a337e81e-530d-4f1c-a8df-7fb236c5c964",
   "metadata": {},
   "outputs": [],
   "source": [
    "data.loc[ data.neighbourhood.isin(['Bronx','Queens','Staten Island']), 'neighbourhood' ] = \"Bronx-Queens-StatenIsland\""
   ]
  },
  {
   "cell_type": "code",
   "execution_count": 14,
   "id": "520784c1-28ac-4f01-ab60-9a0b3557c269",
   "metadata": {},
   "outputs": [],
   "source": [
    "data.drop(columns=['id'], inplace=True)  # ,'beds','bedrooms'"
   ]
  },
  {
   "cell_type": "code",
   "execution_count": 15,
   "id": "6052c1c7-57e3-4198-9867-a1f6ec567b06",
   "metadata": {},
   "outputs": [],
   "source": [
    "data['neighbourhood'] = data.neighbourhood.astype('category')\n",
    "data['room_type'] = data.room_type.astype('category')"
   ]
  },
  {
   "cell_type": "code",
   "execution_count": 16,
   "id": "7eb220b0-f904-4f3d-b221-6bf490d0c1fa",
   "metadata": {},
   "outputs": [
    {
     "data": {
      "text/html": [
       "<div>\n",
       "<style scoped>\n",
       "    .dataframe tbody tr th:only-of-type {\n",
       "        vertical-align: middle;\n",
       "    }\n",
       "\n",
       "    .dataframe tbody tr th {\n",
       "        vertical-align: top;\n",
       "    }\n",
       "\n",
       "    .dataframe thead th {\n",
       "        text-align: right;\n",
       "    }\n",
       "</style>\n",
       "<table border=\"1\" class=\"dataframe\">\n",
       "  <thead>\n",
       "    <tr style=\"text-align: right;\">\n",
       "      <th></th>\n",
       "      <th>neighbourhood</th>\n",
       "      <th>latitude</th>\n",
       "      <th>longitude</th>\n",
       "      <th>room_type</th>\n",
       "      <th>accommodates</th>\n",
       "      <th>bedrooms</th>\n",
       "      <th>beds</th>\n",
       "      <th>price</th>\n",
       "      <th>bathrooms</th>\n",
       "      <th>tv</th>\n",
       "      <th>elevator</th>\n",
       "      <th>internet</th>\n",
       "    </tr>\n",
       "  </thead>\n",
       "  <tbody>\n",
       "    <tr>\n",
       "      <th>0</th>\n",
       "      <td>Manhattan</td>\n",
       "      <td>40.75356</td>\n",
       "      <td>-73.98559</td>\n",
       "      <td>Entire home/apt</td>\n",
       "      <td>1</td>\n",
       "      <td>1.0</td>\n",
       "      <td>1.0</td>\n",
       "      <td>1</td>\n",
       "      <td>1.0</td>\n",
       "      <td>1</td>\n",
       "      <td>0</td>\n",
       "      <td>1</td>\n",
       "    </tr>\n",
       "    <tr>\n",
       "      <th>1</th>\n",
       "      <td>Brooklyn</td>\n",
       "      <td>40.68494</td>\n",
       "      <td>-73.95765</td>\n",
       "      <td>Entire home/apt</td>\n",
       "      <td>3</td>\n",
       "      <td>1.0</td>\n",
       "      <td>3.0</td>\n",
       "      <td>0</td>\n",
       "      <td>1.0</td>\n",
       "      <td>1</td>\n",
       "      <td>0</td>\n",
       "      <td>1</td>\n",
       "    </tr>\n",
       "    <tr>\n",
       "      <th>2</th>\n",
       "      <td>Brooklyn</td>\n",
       "      <td>40.68535</td>\n",
       "      <td>-73.95512</td>\n",
       "      <td>Private-Share room</td>\n",
       "      <td>2</td>\n",
       "      <td>1.0</td>\n",
       "      <td>1.0</td>\n",
       "      <td>0</td>\n",
       "      <td>1.0</td>\n",
       "      <td>0</td>\n",
       "      <td>0</td>\n",
       "      <td>1</td>\n",
       "    </tr>\n",
       "    <tr>\n",
       "      <th>3</th>\n",
       "      <td>Brooklyn</td>\n",
       "      <td>40.66265</td>\n",
       "      <td>-73.99454</td>\n",
       "      <td>Entire home/apt</td>\n",
       "      <td>4</td>\n",
       "      <td>2.0</td>\n",
       "      <td>2.0</td>\n",
       "      <td>2</td>\n",
       "      <td>1.5</td>\n",
       "      <td>1</td>\n",
       "      <td>0</td>\n",
       "      <td>1</td>\n",
       "    </tr>\n",
       "    <tr>\n",
       "      <th>4</th>\n",
       "      <td>Manhattan</td>\n",
       "      <td>40.76457</td>\n",
       "      <td>-73.98317</td>\n",
       "      <td>Private-Share room</td>\n",
       "      <td>2</td>\n",
       "      <td>1.0</td>\n",
       "      <td>1.0</td>\n",
       "      <td>0</td>\n",
       "      <td>1.0</td>\n",
       "      <td>1</td>\n",
       "      <td>0</td>\n",
       "      <td>1</td>\n",
       "    </tr>\n",
       "  </tbody>\n",
       "</table>\n",
       "</div>"
      ],
      "text/plain": [
       "  neighbourhood  latitude  longitude           room_type  accommodates  \\\n",
       "0     Manhattan  40.75356  -73.98559     Entire home/apt             1   \n",
       "1      Brooklyn  40.68494  -73.95765     Entire home/apt             3   \n",
       "2      Brooklyn  40.68535  -73.95512  Private-Share room             2   \n",
       "3      Brooklyn  40.66265  -73.99454     Entire home/apt             4   \n",
       "4     Manhattan  40.76457  -73.98317  Private-Share room             2   \n",
       "\n",
       "   bedrooms  beds price  bathrooms  tv  elevator  internet  \n",
       "0       1.0   1.0     1        1.0   1         0         1  \n",
       "1       1.0   3.0     0        1.0   1         0         1  \n",
       "2       1.0   1.0     0        1.0   0         0         1  \n",
       "3       2.0   2.0     2        1.5   1         0         1  \n",
       "4       1.0   1.0     0        1.0   1         0         1  "
      ]
     },
     "execution_count": 16,
     "metadata": {},
     "output_type": "execute_result"
    }
   ],
   "source": [
    "data.head()"
   ]
  },
  {
   "cell_type": "markdown",
   "id": "53943f5c-46d7-4464-996f-b1e76b8c0c8e",
   "metadata": {},
   "source": [
    "# Modeling - Gradient boosting trees"
   ]
  },
  {
   "cell_type": "code",
   "execution_count": 17,
   "id": "d278791e-a593-4534-a296-0f79cea4cf9e",
   "metadata": {},
   "outputs": [],
   "source": [
    "from sklearn.model_selection import train_test_split\n",
    "from catboost import CatBoostClassifier\n",
    "from sklearn.utils.class_weight import compute_class_weight\n",
    "from sklearn.metrics import accuracy_score, classification_report, confusion_matrix"
   ]
  },
  {
   "cell_type": "code",
   "execution_count": 18,
   "id": "83d5bd2e-a353-4e36-93f0-87d62cb2f6e7",
   "metadata": {},
   "outputs": [],
   "source": [
    "X = data.drop(columns=['price'])\n",
    "y = data['price']"
   ]
  },
  {
   "cell_type": "code",
   "execution_count": 19,
   "id": "3abe8ffc-1d02-4e86-b652-1dffe20eb1c9",
   "metadata": {},
   "outputs": [
    {
     "data": {
      "text/plain": [
       "((30621, 11), (7656, 11), (30621,), (7656,))"
      ]
     },
     "execution_count": 19,
     "metadata": {},
     "output_type": "execute_result"
    }
   ],
   "source": [
    "X_train, X_test, y_train, y_test = train_test_split(X, y, test_size=0.2, random_state=42)\n",
    "X_train.shape, X_test.shape, y_train.shape, y_test.shape"
   ]
  },
  {
   "cell_type": "markdown",
   "id": "cdff1ded-537b-4fe6-a66d-8dbacf0f2c15",
   "metadata": {
    "jp-MarkdownHeadingCollapsed": true,
    "tags": []
   },
   "source": [
    "## Baseline model"
   ]
  },
  {
   "cell_type": "markdown",
   "id": "ae14e913-e6dc-46cc-8592-ca22dccb98e4",
   "metadata": {},
   "source": [
    "### Training"
   ]
  },
  {
   "cell_type": "code",
   "execution_count": 23,
   "id": "d8182ac6-d1b1-4642-9da1-aba6f125df18",
   "metadata": {
    "scrolled": true,
    "tags": []
   },
   "outputs": [
    {
     "name": "stdout",
     "output_type": "stream",
     "text": [
      "CPU times: user 15.7 s, sys: 180 ms, total: 15.9 s\n",
      "Wall time: 4.96 s\n"
     ]
    }
   ],
   "source": [
    "%%time\n",
    "baseline_model = CatBoostClassifier(n_estimators=200,\n",
    "                                    learning_rate=0.01,\n",
    "                                    max_depth=4,\n",
    "                                    cat_features=['neighbourhood','room_type'],\n",
    "                                    random_state=0, verbose=False)\n",
    "\n",
    "baseline_model = baseline_model.fit(X_train, y_train)"
   ]
  },
  {
   "cell_type": "markdown",
   "id": "ae25f060-51ec-454d-abaa-1f953aa802d3",
   "metadata": {},
   "source": [
    "### Evaluation"
   ]
  },
  {
   "cell_type": "code",
   "execution_count": 24,
   "id": "7cece1da-771f-4d15-84a9-ffa7d437f0a8",
   "metadata": {},
   "outputs": [],
   "source": [
    "y_pred = baseline_model.predict(X_test)"
   ]
  },
  {
   "cell_type": "code",
   "execution_count": 25,
   "id": "28ef662c-d01a-48a4-83ca-3eb2c5479bc5",
   "metadata": {},
   "outputs": [
    {
     "data": {
      "text/plain": [
       "0.6304858934169278"
      ]
     },
     "execution_count": 25,
     "metadata": {},
     "output_type": "execute_result"
    }
   ],
   "source": [
    "accuracy_score(y_test, y_pred)"
   ]
  },
  {
   "cell_type": "code",
   "execution_count": 26,
   "id": "73c073ac-9898-47d9-b25b-b1ad36c0221d",
   "metadata": {},
   "outputs": [
    {
     "name": "stdout",
     "output_type": "stream",
     "text": [
      "              precision    recall  f1-score   support\n",
      "\n",
      "           0       0.73      0.85      0.78      2526\n",
      "           1       0.54      0.46      0.49      2526\n",
      "           2       0.59      0.67      0.63      2230\n",
      "           3       0.96      0.07      0.13       374\n",
      "\n",
      "    accuracy                           0.63      7656\n",
      "   macro avg       0.70      0.51      0.51      7656\n",
      "weighted avg       0.64      0.63      0.61      7656\n",
      "\n"
     ]
    }
   ],
   "source": [
    "print(classification_report(y_test, y_pred))"
   ]
  },
  {
   "cell_type": "code",
   "execution_count": 27,
   "id": "ab770a44",
   "metadata": {
    "tags": []
   },
   "outputs": [
    {
     "data": {
      "image/png": "[encoded data removed]",
      "text/plain": [
       "<Figure size 720x36720 with 1 Axes>"
      ]
     },
     "metadata": {
      "needs_background": "light"
     },
     "output_type": "display_data"
    }
   ],
   "source": [
    "classes = [0, 1, 2, 3]\n",
    "labels = ['low', 'mid', 'high', 'lux']\n",
    "\n",
    "c = confusion_matrix(y_test, y_pred)\n",
    "c = c / c.sum(axis=1).reshape(len(classes), 1)\n",
    "\n",
    "# Plot\n",
    "fig, ax = plt.subplots(figsize=(10,510))\n",
    "sns.heatmap(c, annot=True, cmap='BuGn', square=True, fmt='.2f', annot_kws={'size': 10}, cbar=False)\n",
    "plt.xlabel('Predicted', fontsize=16)\n",
    "plt.ylabel('Real', fontsize=16)\n",
    "plt.xticks(ticks=np.arange(.5, len(classes)), labels=labels, rotation=0, fontsize=12)\n",
    "plt.yticks(ticks=np.arange(.5, len(classes)), labels=labels, rotation=0, fontsize=12)\n",
    "plt.title(\"Simple model\", fontsize=18)\n",
    "\n",
    "plt.show()"
   ]
  },
  {
   "cell_type": "markdown",
   "id": "0ab95335-0dd6-4a1b-b6f0-5359fbb28223",
   "metadata": {
    "jp-MarkdownHeadingCollapsed": true,
    "tags": []
   },
   "source": [
    "## Baseline model with class balancing"
   ]
  },
  {
   "cell_type": "markdown",
   "id": "fa19a831-aa1e-440c-a190-eb16204e8cc0",
   "metadata": {},
   "source": [
    "### Training"
   ]
  },
  {
   "cell_type": "code",
   "execution_count": 28,
   "id": "0e870c04-53bd-4fea-b9a2-d42c7a71cfa6",
   "metadata": {},
   "outputs": [
    {
     "data": {
      "text/plain": [
       "{1: 0.7608836099791273,\n",
       " 2: 0.8688287368062649,\n",
       " 0: 0.7491192876015266,\n",
       " 3: 5.00343137254902}"
      ]
     },
     "execution_count": 28,
     "metadata": {},
     "output_type": "execute_result"
    }
   ],
   "source": [
    "classes = y_train.unique()\n",
    "weights = compute_class_weight(class_weight='balanced', classes=classes, y=y_train)\n",
    "class_weights = dict(zip(classes, weights))\n",
    "class_weights"
   ]
  },
  {
   "cell_type": "code",
   "execution_count": 29,
   "id": "c8278dc0-60f9-4a46-839c-49e9b948e31c",
   "metadata": {
    "scrolled": true,
    "tags": []
   },
   "outputs": [
    {
     "name": "stdout",
     "output_type": "stream",
     "text": [
      "CPU times: user 15.7 s, sys: 181 ms, total: 15.9 s\n",
      "Wall time: 4.93 s\n"
     ]
    }
   ],
   "source": [
    "%%time\n",
    "baseline_model = CatBoostClassifier(n_estimators=200,\n",
    "                                    learning_rate=0.01,\n",
    "                                    max_depth=4,\n",
    "                                    class_weights=class_weights,\n",
    "                                    cat_features=['neighbourhood','room_type'],\n",
    "                                    random_state=0, verbose=False)\n",
    "\n",
    "baseline_model = baseline_model.fit(X_train, y_train)"
   ]
  },
  {
   "cell_type": "markdown",
   "id": "b98e792d-3d99-4075-83aa-c921e44951ff",
   "metadata": {},
   "source": [
    "### Evaluation"
   ]
  },
  {
   "cell_type": "code",
   "execution_count": 30,
   "id": "541034a1-8eaa-4839-a95e-965c4c282ef7",
   "metadata": {},
   "outputs": [],
   "source": [
    "y_pred = baseline_model.predict(X_test)"
   ]
  },
  {
   "cell_type": "code",
   "execution_count": 31,
   "id": "0d680134-b8de-4620-9d39-0ce11dfd0e56",
   "metadata": {},
   "outputs": [
    {
     "data": {
      "text/plain": [
       "0.6000522466039707"
      ]
     },
     "execution_count": 31,
     "metadata": {},
     "output_type": "execute_result"
    }
   ],
   "source": [
    "accuracy_score(y_test, y_pred)"
   ]
  },
  {
   "cell_type": "code",
   "execution_count": 32,
   "id": "2cda0cd4-22c4-4bad-af6d-24c182934f65",
   "metadata": {},
   "outputs": [
    {
     "name": "stdout",
     "output_type": "stream",
     "text": [
      "              precision    recall  f1-score   support\n",
      "\n",
      "           0       0.73      0.84      0.78      2526\n",
      "           1       0.54      0.41      0.47      2526\n",
      "           2       0.57      0.54      0.55      2230\n",
      "           3       0.33      0.63      0.43       374\n",
      "\n",
      "    accuracy                           0.60      7656\n",
      "   macro avg       0.54      0.60      0.56      7656\n",
      "weighted avg       0.60      0.60      0.59      7656\n",
      "\n"
     ]
    }
   ],
   "source": [
    "print(classification_report(y_test, y_pred))"
   ]
  },
  {
   "cell_type": "code",
   "execution_count": 33,
   "id": "d2161916-d037-4859-acca-46662dfa51e0",
   "metadata": {},
   "outputs": [
    {
     "data": {
      "image/png": "[encoded data removed]",
      "text/plain": [
       "<Figure size 360x360 with 1 Axes>"
      ]
     },
     "metadata": {
      "needs_background": "light"
     },
     "output_type": "display_data"
    }
   ],
   "source": [
    "classes = [0, 1, 2, 3]\n",
    "labels = ['Low', 'Mid', 'High', 'Luxury']\n",
    "\n",
    "c = confusion_matrix(y_test, y_pred)\n",
    "c = c / c.sum(axis=1).reshape(len(classes), 1)\n",
    "\n",
    "# Plot\n",
    "fig, ax = plt.subplots(figsize=(5, 5))\n",
    "sns.heatmap(c, annot=True, cmap='BuGn', square=True, fmt='.2f', annot_kws={'size': 10}, cbar=False)\n",
    "plt.xlabel('Predicted', fontsize=14)\n",
    "plt.ylabel('Real', fontsize=14)\n",
    "plt.xticks(ticks=np.arange(.5, len(classes)), labels=labels)\n",
    "plt.yticks(ticks=np.arange(.5, len(classes)), labels=labels)\n",
    "plt.show()"
   ]
  },
  {
   "cell_type": "markdown",
   "id": "fb0a725d-ac1f-4694-b09a-5fad3ed978c5",
   "metadata": {
    "jp-MarkdownHeadingCollapsed": true,
    "tags": []
   },
   "source": [
    "## Cross-validation & Grid search"
   ]
  },
  {
   "cell_type": "code",
   "execution_count": 35,
   "id": "25ff486e-a72b-4074-997c-d136d6a819ca",
   "metadata": {},
   "outputs": [],
   "source": [
    "from sklearn.model_selection import StratifiedKFold, ParameterGrid\n",
    "from tqdm import tqdm"
   ]
  },
  {
   "cell_type": "code",
   "execution_count": 36,
   "id": "1d145a06-2862-4d02-92f1-b6db0744801a",
   "metadata": {},
   "outputs": [
    {
     "data": {
      "text/plain": [
       "{1: 0.7608836099791273,\n",
       " 2: 0.8688287368062649,\n",
       " 0: 0.7491192876015266,\n",
       " 3: 5.00343137254902}"
      ]
     },
     "execution_count": 36,
     "metadata": {},
     "output_type": "execute_result"
    }
   ],
   "source": [
    "classes = y_train.unique()\n",
    "weights = compute_class_weight(class_weight='balanced', classes=classes, y=y_train)\n",
    "class_weights = dict(zip(classes, weights))\n",
    "class_weights"
   ]
  },
  {
   "cell_type": "code",
   "execution_count": 37,
   "id": "e0adf8a8-f9f9-4609-8230-f570663460de",
   "metadata": {},
   "outputs": [],
   "source": [
    "params_GridSearch = {'n_estimators': [200,600],\n",
    "                     'learning_rate': [0.01,0.05,0.1],\n",
    "                     'max_depth': [4,8,12],\n",
    "                     'l2_leaf_reg': [1.5,3,8]}\n",
    "\n",
    "EARLY_STOPPING_ROUNDS = 25"
   ]
  },
  {
   "cell_type": "code",
   "execution_count": 38,
   "id": "4bb4b48b-a612-4a04-9698-47210df6f2ab",
   "metadata": {},
   "outputs": [],
   "source": [
    "def random_forest_cross_val(X, y, params, n_splits=5):\n",
    "    skf = StratifiedKFold(n_splits=n_splits, shuffle=True, random_state=42)\n",
    "    \n",
    "    acc = []\n",
    "    \n",
    "    for train_ind, test_ind in skf.split(X, y):\n",
    "        X_train = X.iloc[train_ind]\n",
    "        y_train = y.iloc[train_ind]\n",
    "        \n",
    "        X_test = X.iloc[test_ind]\n",
    "        y_test = y.iloc[test_ind]\n",
    "        \n",
    "        X_trn, X_val, y_trn, y_val = train_test_split(X_train, y_train, test_size=0.15, random_state=42)\n",
    "        \n",
    "        # print(X_trn.shape, y_trn.shape, X_val.shape, y_val.shape, X_test.shape, y_test.shape)\n",
    "        \n",
    "        model = CatBoostClassifier(n_estimators=params['n_estimators'],\n",
    "                                   learning_rate=params['learning_rate'],\n",
    "                                   max_depth=params['max_depth'],\n",
    "                                   l2_leaf_reg=params['l2_leaf_reg'],\n",
    "                                   class_weights=class_weights,\n",
    "                                   cat_features=['neighbourhood','room_type'],\n",
    "                                   loss_function='MultiClass',\n",
    "                                   eval_metric='Accuracy',\n",
    "                                   thread_count=-1, random_state=42, verbose=False)\n",
    "        \n",
    "        model.fit(X_trn, y_trn, eval_set=(X_val, y_val), use_best_model=True, early_stopping_rounds=EARLY_STOPPING_ROUNDS)\n",
    "        \n",
    "        y_pred = model.predict(X_test)\n",
    "        \n",
    "        acc.append( accuracy_score(y_test, y_pred) )\n",
    "        \n",
    "    return sum(acc) / n_splits"
   ]
  },
  {
   "cell_type": "code",
   "execution_count": 39,
   "id": "c32f8f04-44c8-4c40-8b7f-94da0df9f478",
   "metadata": {},
   "outputs": [],
   "source": [
    "def grid_search_CV(X, y, params_GridSearch):\n",
    "    df_acc_by_params = pd.DataFrame(columns=list(params_GridSearch.keys()) + ['accuracy'])\n",
    "        \n",
    "    for prms in tqdm( list(ParameterGrid(params_GridSearch)), ascii=True, desc='Params Tuning:', position=0, leave=True ):\n",
    "                          \n",
    "        accuracy = random_forest_cross_val(X, y, prms, n_splits=5)\n",
    "        \n",
    "        data_dic = eval('{'+','.join([f\"'{k}':[prms['{k}']]\" for k in params_GridSearch.keys()])+'}')\n",
    "        data_dic['accuracy'] = [accuracy]\n",
    "        \n",
    "        df_acc_by_params = pd.concat([df_acc_by_params,\n",
    "                                      pd.DataFrame(data=data_dic)], \n",
    "                                      ignore_index=True)\n",
    "        \n",
    "    return df_acc_by_params"
   ]
  },
  {
   "cell_type": "code",
   "execution_count": 40,
   "id": "50853f33-b398-425c-83f8-fda8badfc5bd",
   "metadata": {
    "scrolled": true,
    "tags": []
   },
   "outputs": [
    {
     "name": "stderr",
     "output_type": "stream",
     "text": [
      "Params Tuning:: 100%|##########| 54/54 [48:23<00:00, 53.77s/it] \n"
     ]
    }
   ],
   "source": [
    "df_accuracy_by_params = grid_search_CV(X, y, params_GridSearch)"
   ]
  },
  {
   "cell_type": "code",
   "execution_count": 41,
   "id": "fea1160a-f594-4fdc-8f0a-0126eb1d4454",
   "metadata": {},
   "outputs": [],
   "source": [
    "df_accuracy_by_params['n_estimators'] = df_accuracy_by_params.n_estimators.astype(int)\n",
    "df_accuracy_by_params['max_depth'] = df_accuracy_by_params.max_depth.astype(int)\n",
    "df_accuracy_by_params['learning_rate'] = df_accuracy_by_params.learning_rate.astype(float)\n",
    "df_accuracy_by_params['l2_leaf_reg'] = df_accuracy_by_params.l2_leaf_reg.astype(float)"
   ]
  },
  {
   "cell_type": "code",
   "execution_count": 42,
   "id": "a1f1059d-4897-49b4-993a-8f60cb903a7a",
   "metadata": {},
   "outputs": [
    {
     "data": {
      "text/html": [
       "<div>\n",
       "<style scoped>\n",
       "    .dataframe tbody tr th:only-of-type {\n",
       "        vertical-align: middle;\n",
       "    }\n",
       "\n",
       "    .dataframe tbody tr th {\n",
       "        vertical-align: top;\n",
       "    }\n",
       "\n",
       "    .dataframe thead th {\n",
       "        text-align: right;\n",
       "    }\n",
       "</style>\n",
       "<table border=\"1\" class=\"dataframe\">\n",
       "  <thead>\n",
       "    <tr style=\"text-align: right;\">\n",
       "      <th></th>\n",
       "      <th>n_estimators</th>\n",
       "      <th>learning_rate</th>\n",
       "      <th>max_depth</th>\n",
       "      <th>l2_leaf_reg</th>\n",
       "      <th>accuracy</th>\n",
       "    </tr>\n",
       "  </thead>\n",
       "  <tbody>\n",
       "    <tr>\n",
       "      <th>0</th>\n",
       "      <td>200</td>\n",
       "      <td>0.01</td>\n",
       "      <td>4</td>\n",
       "      <td>1.5</td>\n",
       "      <td>0.588526</td>\n",
       "    </tr>\n",
       "    <tr>\n",
       "      <th>1</th>\n",
       "      <td>600</td>\n",
       "      <td>0.01</td>\n",
       "      <td>4</td>\n",
       "      <td>1.5</td>\n",
       "      <td>0.589231</td>\n",
       "    </tr>\n",
       "    <tr>\n",
       "      <th>2</th>\n",
       "      <td>200</td>\n",
       "      <td>0.01</td>\n",
       "      <td>8</td>\n",
       "      <td>1.5</td>\n",
       "      <td>0.599786</td>\n",
       "    </tr>\n",
       "    <tr>\n",
       "      <th>3</th>\n",
       "      <td>600</td>\n",
       "      <td>0.01</td>\n",
       "      <td>8</td>\n",
       "      <td>1.5</td>\n",
       "      <td>0.599786</td>\n",
       "    </tr>\n",
       "    <tr>\n",
       "      <th>4</th>\n",
       "      <td>200</td>\n",
       "      <td>0.01</td>\n",
       "      <td>12</td>\n",
       "      <td>1.5</td>\n",
       "      <td>0.607623</td>\n",
       "    </tr>\n",
       "  </tbody>\n",
       "</table>\n",
       "</div>"
      ],
      "text/plain": [
       "   n_estimators  learning_rate  max_depth  l2_leaf_reg  accuracy\n",
       "0           200           0.01          4          1.5  0.588526\n",
       "1           600           0.01          4          1.5  0.589231\n",
       "2           200           0.01          8          1.5  0.599786\n",
       "3           600           0.01          8          1.5  0.599786\n",
       "4           200           0.01         12          1.5  0.607623"
      ]
     },
     "execution_count": 42,
     "metadata": {},
     "output_type": "execute_result"
    }
   ],
   "source": [
    "df_accuracy_by_params.head()"
   ]
  },
  {
   "cell_type": "code",
   "execution_count": 43,
   "id": "4e3f49a3-4042-44c3-94ce-70ba93714fe3",
   "metadata": {},
   "outputs": [
    {
     "data": {
      "text/plain": [
       "n_estimators     0.006482\n",
       "learning_rate    0.810679\n",
       "max_depth        0.458405\n",
       "l2_leaf_reg     -0.089583\n",
       "accuracy         1.000000\n",
       "Name: accuracy, dtype: float64"
      ]
     },
     "execution_count": 43,
     "metadata": {},
     "output_type": "execute_result"
    }
   ],
   "source": [
    "df_accuracy_by_params.corr()['accuracy']"
   ]
  },
  {
   "cell_type": "code",
   "execution_count": 44,
   "id": "13afc9a9-52d2-473a-9973-eb09ee7686b0",
   "metadata": {},
   "outputs": [
    {
     "data": {
      "text/html": [
       "<div>\n",
       "<style scoped>\n",
       "    .dataframe tbody tr th:only-of-type {\n",
       "        vertical-align: middle;\n",
       "    }\n",
       "\n",
       "    .dataframe tbody tr th {\n",
       "        vertical-align: top;\n",
       "    }\n",
       "\n",
       "    .dataframe thead th {\n",
       "        text-align: right;\n",
       "    }\n",
       "</style>\n",
       "<table border=\"1\" class=\"dataframe\">\n",
       "  <thead>\n",
       "    <tr style=\"text-align: right;\">\n",
       "      <th></th>\n",
       "      <th>n_estimators</th>\n",
       "      <th>learning_rate</th>\n",
       "      <th>max_depth</th>\n",
       "      <th>l2_leaf_reg</th>\n",
       "      <th>accuracy</th>\n",
       "    </tr>\n",
       "  </thead>\n",
       "  <tbody>\n",
       "    <tr>\n",
       "      <th>35</th>\n",
       "      <td>600</td>\n",
       "      <td>0.10</td>\n",
       "      <td>12</td>\n",
       "      <td>3.0</td>\n",
       "      <td>0.640254</td>\n",
       "    </tr>\n",
       "    <tr>\n",
       "      <th>34</th>\n",
       "      <td>200</td>\n",
       "      <td>0.10</td>\n",
       "      <td>12</td>\n",
       "      <td>3.0</td>\n",
       "      <td>0.640254</td>\n",
       "    </tr>\n",
       "    <tr>\n",
       "      <th>17</th>\n",
       "      <td>600</td>\n",
       "      <td>0.10</td>\n",
       "      <td>12</td>\n",
       "      <td>1.5</td>\n",
       "      <td>0.637327</td>\n",
       "    </tr>\n",
       "    <tr>\n",
       "      <th>16</th>\n",
       "      <td>200</td>\n",
       "      <td>0.10</td>\n",
       "      <td>12</td>\n",
       "      <td>1.5</td>\n",
       "      <td>0.637327</td>\n",
       "    </tr>\n",
       "    <tr>\n",
       "      <th>29</th>\n",
       "      <td>600</td>\n",
       "      <td>0.05</td>\n",
       "      <td>12</td>\n",
       "      <td>3.0</td>\n",
       "      <td>0.634324</td>\n",
       "    </tr>\n",
       "    <tr>\n",
       "      <th>32</th>\n",
       "      <td>200</td>\n",
       "      <td>0.10</td>\n",
       "      <td>8</td>\n",
       "      <td>3.0</td>\n",
       "      <td>0.634010</td>\n",
       "    </tr>\n",
       "    <tr>\n",
       "      <th>33</th>\n",
       "      <td>600</td>\n",
       "      <td>0.10</td>\n",
       "      <td>8</td>\n",
       "      <td>3.0</td>\n",
       "      <td>0.634010</td>\n",
       "    </tr>\n",
       "    <tr>\n",
       "      <th>15</th>\n",
       "      <td>600</td>\n",
       "      <td>0.10</td>\n",
       "      <td>8</td>\n",
       "      <td>1.5</td>\n",
       "      <td>0.633984</td>\n",
       "    </tr>\n",
       "    <tr>\n",
       "      <th>14</th>\n",
       "      <td>200</td>\n",
       "      <td>0.10</td>\n",
       "      <td>8</td>\n",
       "      <td>1.5</td>\n",
       "      <td>0.633879</td>\n",
       "    </tr>\n",
       "    <tr>\n",
       "      <th>28</th>\n",
       "      <td>200</td>\n",
       "      <td>0.05</td>\n",
       "      <td>12</td>\n",
       "      <td>3.0</td>\n",
       "      <td>0.633775</td>\n",
       "    </tr>\n",
       "  </tbody>\n",
       "</table>\n",
       "</div>"
      ],
      "text/plain": [
       "    n_estimators  learning_rate  max_depth  l2_leaf_reg  accuracy\n",
       "35           600           0.10         12          3.0  0.640254\n",
       "34           200           0.10         12          3.0  0.640254\n",
       "17           600           0.10         12          1.5  0.637327\n",
       "16           200           0.10         12          1.5  0.637327\n",
       "29           600           0.05         12          3.0  0.634324\n",
       "32           200           0.10          8          3.0  0.634010\n",
       "33           600           0.10          8          3.0  0.634010\n",
       "15           600           0.10          8          1.5  0.633984\n",
       "14           200           0.10          8          1.5  0.633879\n",
       "28           200           0.05         12          3.0  0.633775"
      ]
     },
     "execution_count": 44,
     "metadata": {},
     "output_type": "execute_result"
    }
   ],
   "source": [
    "df_accuracy_by_params.sort_values('accuracy', ascending=False).head(10)"
   ]
  },
  {
   "cell_type": "markdown",
   "id": "983ee6b9-69ee-4f73-8b63-f67b9e8ca407",
   "metadata": {},
   "source": [
    "## Best model"
   ]
  },
  {
   "cell_type": "markdown",
   "id": "8c224c75-7f71-4e97-b2a2-8b5e62cbbf9c",
   "metadata": {},
   "source": [
    "### Training & Evaluation"
   ]
  },
  {
   "cell_type": "code",
   "execution_count": 46,
   "id": "446a26df-7a3f-481b-aa29-6eb94f32eba7",
   "metadata": {},
   "outputs": [
    {
     "data": {
      "text/plain": [
       "{1: 0.7608836099791273,\n",
       " 2: 0.8688287368062649,\n",
       " 0: 0.7491192876015266,\n",
       " 3: 5.00343137254902}"
      ]
     },
     "execution_count": 46,
     "metadata": {},
     "output_type": "execute_result"
    }
   ],
   "source": [
    "classes = y_train.unique()\n",
    "weights = compute_class_weight(class_weight='balanced', classes=classes, y=y_train)\n",
    "class_weights = dict(zip(classes, weights))\n",
    "class_weights"
   ]
  },
  {
   "cell_type": "code",
   "execution_count": 51,
   "id": "17992584-914d-4ee3-ac99-9abee9e236fe",
   "metadata": {
    "scrolled": true,
    "tags": []
   },
   "outputs": [
    {
     "name": "stdout",
     "output_type": "stream",
     "text": [
      "0:\tlearn: 0.5738156\ttest: 0.5693759\tbest: 0.5693759 (0)\ttotal: 110ms\tremaining: 21.9s\n",
      "1:\tlearn: 0.6026899\ttest: 0.5900427\tbest: 0.5900427 (1)\ttotal: 425ms\tremaining: 42.1s\n",
      "2:\tlearn: 0.6191998\ttest: 0.6019440\tbest: 0.6019440 (2)\ttotal: 637ms\tremaining: 41.8s\n",
      "3:\tlearn: 0.6232976\ttest: 0.6143892\tbest: 0.6143892 (3)\ttotal: 856ms\tremaining: 41.9s\n",
      "4:\tlearn: 0.6277858\ttest: 0.6123707\tbest: 0.6143892 (3)\ttotal: 1.1s\tremaining: 42.8s\n",
      "5:\tlearn: 0.6231472\ttest: 0.6140324\tbest: 0.6143892 (3)\ttotal: 1.14s\tremaining: 36.9s\n",
      "6:\tlearn: 0.6275070\ttest: 0.6165801\tbest: 0.6165801 (6)\ttotal: 1.4s\tremaining: 38.7s\n",
      "7:\tlearn: 0.6307360\ttest: 0.6183955\tbest: 0.6183955 (7)\ttotal: 1.62s\tremaining: 38.8s\n",
      "8:\tlearn: 0.6324773\ttest: 0.6155950\tbest: 0.6183955 (7)\ttotal: 1.82s\tremaining: 38.7s\n",
      "9:\tlearn: 0.6379182\ttest: 0.6180997\tbest: 0.6183955 (7)\ttotal: 2.07s\tremaining: 39.3s\n",
      "10:\tlearn: 0.6393245\ttest: 0.6194330\tbest: 0.6194330 (10)\ttotal: 2.29s\tremaining: 39.3s\n",
      "11:\tlearn: 0.6414901\ttest: 0.6183007\tbest: 0.6194330 (10)\ttotal: 2.49s\tremaining: 39s\n",
      "12:\tlearn: 0.6437703\ttest: 0.6199469\tbest: 0.6199469 (12)\ttotal: 2.72s\tremaining: 39.2s\n",
      "13:\tlearn: 0.6480503\ttest: 0.6243099\tbest: 0.6243099 (13)\ttotal: 2.93s\tremaining: 39s\n",
      "14:\tlearn: 0.6499868\ttest: 0.6253424\tbest: 0.6253424 (14)\ttotal: 3.17s\tremaining: 39s\n",
      "15:\tlearn: 0.6509932\ttest: 0.6273906\tbest: 0.6273906 (15)\ttotal: 3.21s\tremaining: 36.9s\n",
      "16:\tlearn: 0.6537506\ttest: 0.6276012\tbest: 0.6276012 (16)\ttotal: 3.44s\tremaining: 37.1s\n",
      "17:\tlearn: 0.6553136\ttest: 0.6262766\tbest: 0.6276012 (16)\ttotal: 3.7s\tremaining: 37.5s\n",
      "18:\tlearn: 0.6568326\ttest: 0.6281083\tbest: 0.6281083 (18)\ttotal: 3.97s\tremaining: 37.8s\n",
      "19:\tlearn: 0.6588685\ttest: 0.6291968\tbest: 0.6291968 (19)\ttotal: 4.24s\tremaining: 38.1s\n",
      "20:\tlearn: 0.6612943\ttest: 0.6299478\tbest: 0.6299478 (20)\ttotal: 4.5s\tremaining: 38.4s\n",
      "21:\tlearn: 0.6624242\ttest: 0.6282862\tbest: 0.6299478 (20)\ttotal: 4.75s\tremaining: 38.4s\n",
      "22:\tlearn: 0.6654245\ttest: 0.6272338\tbest: 0.6299478 (20)\ttotal: 5.01s\tremaining: 38.6s\n",
      "23:\tlearn: 0.6677194\ttest: 0.6282714\tbest: 0.6299478 (20)\ttotal: 5.29s\tremaining: 38.8s\n",
      "24:\tlearn: 0.6690779\ttest: 0.6302874\tbest: 0.6302874 (24)\ttotal: 5.55s\tremaining: 38.9s\n",
      "25:\tlearn: 0.6701949\ttest: 0.6282675\tbest: 0.6302874 (24)\ttotal: 5.78s\tremaining: 38.7s\n",
      "26:\tlearn: 0.6717405\ttest: 0.6277007\tbest: 0.6302874 (24)\ttotal: 5.99s\tremaining: 38.4s\n",
      "27:\tlearn: 0.6715919\ttest: 0.6284986\tbest: 0.6302874 (24)\ttotal: 6.01s\tremaining: 36.9s\n",
      "28:\tlearn: 0.6720140\ttest: 0.6292288\tbest: 0.6302874 (24)\ttotal: 6.26s\tremaining: 36.9s\n",
      "29:\tlearn: 0.6722529\ttest: 0.6282846\tbest: 0.6302874 (24)\ttotal: 6.29s\tremaining: 35.6s\n",
      "30:\tlearn: 0.6718302\ttest: 0.6299786\tbest: 0.6302874 (24)\ttotal: 6.32s\tremaining: 34.4s\n",
      "31:\tlearn: 0.6728736\ttest: 0.6289461\tbest: 0.6302874 (24)\ttotal: 6.58s\tremaining: 34.5s\n",
      "32:\tlearn: 0.6742532\ttest: 0.6296075\tbest: 0.6302874 (24)\ttotal: 6.82s\tremaining: 34.5s\n",
      "33:\tlearn: 0.6744786\ttest: 0.6299837\tbest: 0.6302874 (24)\ttotal: 6.84s\tremaining: 33.4s\n",
      "34:\tlearn: 0.6761384\ttest: 0.6318103\tbest: 0.6318103 (34)\ttotal: 7.08s\tremaining: 33.4s\n",
      "35:\tlearn: 0.6771065\ttest: 0.6296221\tbest: 0.6318103 (34)\ttotal: 7.32s\tremaining: 33.3s\n",
      "36:\tlearn: 0.6797530\ttest: 0.6303511\tbest: 0.6318103 (34)\ttotal: 7.54s\tremaining: 33.2s\n",
      "37:\tlearn: 0.6797482\ttest: 0.6302098\tbest: 0.6318103 (34)\ttotal: 7.6s\tremaining: 32.4s\n",
      "38:\tlearn: 0.6805505\ttest: 0.6315743\tbest: 0.6318103 (34)\ttotal: 7.81s\tremaining: 32.2s\n",
      "39:\tlearn: 0.6809013\ttest: 0.6312474\tbest: 0.6318103 (34)\ttotal: 8.05s\tremaining: 32.2s\n",
      "40:\tlearn: 0.6823256\ttest: 0.6314603\tbest: 0.6318103 (34)\ttotal: 8.28s\tremaining: 32.1s\n",
      "41:\tlearn: 0.6835234\ttest: 0.6326601\tbest: 0.6326601 (41)\ttotal: 8.47s\tremaining: 31.9s\n",
      "42:\tlearn: 0.6855345\ttest: 0.6308777\tbest: 0.6326601 (41)\ttotal: 8.67s\tremaining: 31.7s\n",
      "43:\tlearn: 0.6857879\ttest: 0.6300513\tbest: 0.6326601 (41)\ttotal: 8.88s\tremaining: 31.5s\n",
      "44:\tlearn: 0.6862667\ttest: 0.6285179\tbest: 0.6326601 (41)\ttotal: 9.08s\tremaining: 31.3s\n",
      "45:\tlearn: 0.6887158\ttest: 0.6321060\tbest: 0.6326601 (41)\ttotal: 9.31s\tremaining: 31.2s\n",
      "46:\tlearn: 0.6888093\ttest: 0.6315910\tbest: 0.6326601 (41)\ttotal: 9.51s\tremaining: 31s\n",
      "47:\tlearn: 0.6901258\ttest: 0.6315727\tbest: 0.6326601 (41)\ttotal: 9.72s\tremaining: 30.8s\n",
      "48:\tlearn: 0.6900272\ttest: 0.6310242\tbest: 0.6326601 (41)\ttotal: 9.91s\tremaining: 30.6s\n",
      "49:\tlearn: 0.6908452\ttest: 0.6304092\tbest: 0.6326601 (41)\ttotal: 10.1s\tremaining: 30.4s\n",
      "50:\tlearn: 0.6907496\ttest: 0.6311926\tbest: 0.6326601 (41)\ttotal: 10.2s\tremaining: 29.7s\n",
      "51:\tlearn: 0.6909490\ttest: 0.6313055\tbest: 0.6326601 (41)\ttotal: 10.3s\tremaining: 29.2s\n",
      "52:\tlearn: 0.6908351\ttest: 0.6322265\tbest: 0.6326601 (41)\ttotal: 10.4s\tremaining: 29s\n",
      "53:\tlearn: 0.6925698\ttest: 0.6322175\tbest: 0.6326601 (41)\ttotal: 10.7s\tremaining: 28.8s\n",
      "54:\tlearn: 0.6923480\ttest: 0.6325678\tbest: 0.6326601 (41)\ttotal: 10.7s\tremaining: 28.3s\n",
      "55:\tlearn: 0.6925697\ttest: 0.6327559\tbest: 0.6327559 (55)\ttotal: 10.8s\tremaining: 27.7s\n",
      "56:\tlearn: 0.6935352\ttest: 0.6361013\tbest: 0.6361013 (56)\ttotal: 11s\tremaining: 27.6s\n",
      "57:\tlearn: 0.6946196\ttest: 0.6353073\tbest: 0.6361013 (56)\ttotal: 11.2s\tremaining: 27.5s\n",
      "58:\tlearn: 0.6949784\ttest: 0.6353307\tbest: 0.6361013 (56)\ttotal: 11.4s\tremaining: 27.3s\n",
      "59:\tlearn: 0.6951856\ttest: 0.6369263\tbest: 0.6369263 (59)\ttotal: 11.7s\tremaining: 27.2s\n",
      "60:\tlearn: 0.6959753\ttest: 0.6364322\tbest: 0.6369263 (59)\ttotal: 11.9s\tremaining: 27.1s\n",
      "61:\tlearn: 0.6959997\ttest: 0.6364530\tbest: 0.6369263 (59)\ttotal: 12s\tremaining: 26.7s\n",
      "62:\tlearn: 0.6960290\ttest: 0.6364530\tbest: 0.6369263 (59)\ttotal: 12s\tremaining: 26.1s\n",
      "63:\tlearn: 0.6959327\ttest: 0.6364530\tbest: 0.6369263 (59)\ttotal: 12s\tremaining: 25.6s\n",
      "64:\tlearn: 0.6959619\ttest: 0.6364530\tbest: 0.6369263 (59)\ttotal: 12s\tremaining: 25s\n",
      "65:\tlearn: 0.6959619\ttest: 0.6355579\tbest: 0.6369263 (59)\ttotal: 12.1s\tremaining: 24.5s\n",
      "66:\tlearn: 0.6959953\ttest: 0.6355579\tbest: 0.6369263 (59)\ttotal: 12.1s\tremaining: 24s\n",
      "67:\tlearn: 0.6962624\ttest: 0.6353957\tbest: 0.6369263 (59)\ttotal: 12.3s\tremaining: 23.9s\n",
      "68:\tlearn: 0.6963882\ttest: 0.6361247\tbest: 0.6369263 (59)\ttotal: 12.5s\tremaining: 23.8s\n",
      "69:\tlearn: 0.6974384\ttest: 0.6317918\tbest: 0.6369263 (59)\ttotal: 12.7s\tremaining: 23.7s\n",
      "70:\tlearn: 0.6982286\ttest: 0.6319332\tbest: 0.6369263 (59)\ttotal: 13s\tremaining: 23.5s\n",
      "71:\tlearn: 0.6997643\ttest: 0.6336973\tbest: 0.6369263 (59)\ttotal: 13.2s\tremaining: 23.4s\n",
      "72:\tlearn: 0.6997935\ttest: 0.6336973\tbest: 0.6369263 (59)\ttotal: 13.2s\tremaining: 22.9s\n",
      "73:\tlearn: 0.7009807\ttest: 0.6347067\tbest: 0.6369263 (59)\ttotal: 13.4s\tremaining: 22.8s\n",
      "74:\tlearn: 0.7017847\ttest: 0.6344719\tbest: 0.6369263 (59)\ttotal: 13.6s\tremaining: 22.7s\n",
      "75:\tlearn: 0.7018165\ttest: 0.6349207\tbest: 0.6369263 (59)\ttotal: 13.9s\tremaining: 22.7s\n",
      "76:\tlearn: 0.7033943\ttest: 0.6349182\tbest: 0.6369263 (59)\ttotal: 14.1s\tremaining: 22.6s\n",
      "77:\tlearn: 0.7037077\ttest: 0.6350829\tbest: 0.6369263 (59)\ttotal: 14.2s\tremaining: 22.1s\n",
      "78:\tlearn: 0.7042907\ttest: 0.6352685\tbest: 0.6369263 (59)\ttotal: 14.4s\tremaining: 22s\n",
      "79:\tlearn: 0.7045207\ttest: 0.6348897\tbest: 0.6369263 (59)\ttotal: 14.6s\tremaining: 21.9s\n",
      "80:\tlearn: 0.7043845\ttest: 0.6353605\tbest: 0.6369263 (59)\ttotal: 14.8s\tremaining: 21.8s\n",
      "81:\tlearn: 0.7041710\ttest: 0.6347923\tbest: 0.6369263 (59)\ttotal: 15.1s\tremaining: 21.7s\n",
      "82:\tlearn: 0.7044524\ttest: 0.6355459\tbest: 0.6369263 (59)\ttotal: 15.3s\tremaining: 21.5s\n",
      "83:\tlearn: 0.7045100\ttest: 0.6355459\tbest: 0.6369263 (59)\ttotal: 15.3s\tremaining: 21.2s\n",
      "84:\tlearn: 0.7051064\ttest: 0.6365342\tbest: 0.6369263 (59)\ttotal: 15.5s\tremaining: 21s\n",
      "Stopped by overfitting detector  (25 iterations wait)\n",
      "\n",
      "bestTest = 0.6369263326\n",
      "bestIteration = 59\n",
      "\n",
      "Shrink model to first 60 iterations.\n"
     ]
    }
   ],
   "source": [
    "X_trn, X_val, y_trn, y_val = train_test_split(X_train, y_train, test_size=0.15, random_state=42)\n",
    "\n",
    "model = CatBoostClassifier(n_estimators=200,\n",
    "                           learning_rate=0.1,\n",
    "                           max_depth=12,\n",
    "                           l2_leaf_reg=1.5,\n",
    "                           class_weights=class_weights,\n",
    "                           cat_features=['neighbourhood','room_type'],\n",
    "                           loss_function='MultiClass',\n",
    "                           eval_metric='Accuracy',\n",
    "                           thread_count=-1, random_state=42, verbose=True)\n",
    "        \n",
    "model.fit(X_trn, y_trn, eval_set=(X_val, y_val), use_best_model=True, early_stopping_rounds=25)\n",
    "\n",
    "y_pred = model.predict(X_test)"
   ]
  },
  {
   "cell_type": "code",
   "execution_count": 52,
   "id": "bbf5d7c8-90ba-4dc1-8736-1f7ccdfb5998",
   "metadata": {},
   "outputs": [
    {
     "data": {
      "text/plain": [
       "0.6400208986415883"
      ]
     },
     "execution_count": 52,
     "metadata": {},
     "output_type": "execute_result"
    }
   ],
   "source": [
    "accuracy_score(y_test, y_pred)"
   ]
  },
  {
   "cell_type": "code",
   "execution_count": 53,
   "id": "b75c8d63-3b33-4854-86c3-7ec916ac50d6",
   "metadata": {},
   "outputs": [
    {
     "name": "stdout",
     "output_type": "stream",
     "text": [
      "              precision    recall  f1-score   support\n",
      "\n",
      "           0       0.75      0.83      0.79      2526\n",
      "           1       0.58      0.48      0.53      2526\n",
      "           2       0.63      0.59      0.61      2230\n",
      "           3       0.38      0.67      0.49       374\n",
      "\n",
      "    accuracy                           0.64      7656\n",
      "   macro avg       0.59      0.65      0.60      7656\n",
      "weighted avg       0.64      0.64      0.64      7656\n",
      "\n"
     ]
    }
   ],
   "source": [
    "print(classification_report(y_test, y_pred))"
   ]
  },
  {
   "cell_type": "code",
   "execution_count": 54,
   "id": "2c71b6ea-d150-4e19-aa83-dac88b79b08f",
   "metadata": {},
   "outputs": [
    {
     "data": {
      "image/png": "[encoded data removed]",
      "text/plain": [
       "<Figure size 360x360 with 1 Axes>"
      ]
     },
     "metadata": {
      "needs_background": "light"
     },
     "output_type": "display_data"
    }
   ],
   "source": [
    "classes = [0, 1, 2, 3]\n",
    "labels = ['Low', 'Mid', 'High', 'Luxury']\n",
    "\n",
    "c = confusion_matrix(y_test, y_pred)\n",
    "c = c / c.sum(axis=1).reshape(len(classes), 1)\n",
    "\n",
    "# Plot\n",
    "fig, ax = plt.subplots(figsize=(5, 5))\n",
    "sns.heatmap(c, annot=True, cmap='BuGn', square=True, fmt='.2f', annot_kws={'size': 10}, cbar=False)\n",
    "plt.xlabel('Predicted', fontsize=14)\n",
    "plt.ylabel('Real', fontsize=14)\n",
    "plt.xticks(ticks=np.arange(.5, len(classes)), labels=labels)\n",
    "plt.yticks(ticks=np.arange(.5, len(classes)), labels=labels)\n",
    "plt.show()"
   ]
  },
  {
   "cell_type": "code",
   "execution_count": 55,
   "id": "cc2c0cf6-83fc-4550-96c4-9a8defdc9418",
   "metadata": {},
   "outputs": [],
   "source": [
    "model.save_model(\"../../models/catboost-model-depth12-iter200-l2reg1_5-lr0_1\")"
   ]
  },
  {
   "cell_type": "markdown",
   "id": "960f9a58-e33e-4031-b2d1-1e04d6ce6ca1",
   "metadata": {},
   "source": [
    "### Explicabilidad - Importance plot"
   ]
  },
  {
   "cell_type": "code",
   "execution_count": 56,
   "id": "e5702c09-a82f-4d45-bb1b-397db4ae2f04",
   "metadata": {},
   "outputs": [
    {
     "data": {
      "image/png": "[encoded data removed]",
      "text/plain": [
       "<Figure size 864x504 with 1 Axes>"
      ]
     },
     "metadata": {
      "needs_background": "light"
     },
     "output_type": "display_data"
    }
   ],
   "source": [
    "importances = model.feature_importances_\n",
    "indices = np.argsort(importances)[::-1]\n",
    "features = X_train.columns[indices]\n",
    "importances = importances[indices]\n",
    "\n",
    "fig, ax = plt.subplots(figsize=(12, 7))\n",
    "plt.barh(range(len(importances)), importances)\n",
    "plt.yticks(range(len(importances)), features, fontsize=12)\n",
    "ax.invert_yaxis()\n",
    "ax.set_xlabel(\"Feature importance\", fontsize=12)\n",
    "\n",
    "plt.show()"
   ]
  },
  {
   "cell_type": "markdown",
   "id": "d15b7970-03a9-4338-93a8-30c7ab2b4bc8",
   "metadata": {},
   "source": [
    "### Explicabilidad - Shap values"
   ]
  },
  {
   "cell_type": "code",
   "execution_count": 57,
   "id": "90b91d1e-96d7-490d-a02a-2a075b7cacf3",
   "metadata": {},
   "outputs": [],
   "source": [
    "import shap\n",
    "import pickle"
   ]
  },
  {
   "cell_type": "code",
   "execution_count": null,
   "id": "55614f83-09a9-4d37-9a63-ee1afc831f2c",
   "metadata": {},
   "outputs": [],
   "source": [
    "explainer = shap.TreeExplainer(model)\n",
    "shap_values = explainer.shap_values(X_test)"
   ]
  },
  {
   "cell_type": "code",
   "execution_count": null,
   "id": "4a4e57d0-9908-454b-8241-427f7a8097b6",
   "metadata": {},
   "outputs": [],
   "source": [
    "with open(\"shap_values_catboost_model.pickle\", \"wb\") as f:\n",
    "    pickle.dump(shap_values, f)"
   ]
  },
  {
   "cell_type": "code",
   "execution_count": 59,
   "id": "58ac2a98-86ed-4a89-9781-39b2f80c151d",
   "metadata": {},
   "outputs": [],
   "source": [
    "with open(\"shap_values_catboost_model.pickle\", \"rb\") as f:\n",
    "    shap_values = pickle.load(f)"
   ]
  },
  {
   "cell_type": "markdown",
   "id": "6ed23fc6-ae10-4976-9fe5-aa1185f83a5c",
   "metadata": {},
   "source": [
    "#### Global Shap values"
   ]
  },
  {
   "cell_type": "code",
   "execution_count": 60,
   "id": "55cc49ed-7768-476e-bb87-1604f0187d55",
   "metadata": {},
   "outputs": [
    {
     "data": {
      "image/png": "[encoded data removed]",
      "text/plain": [
       "<Figure size 576x424.8 with 1 Axes>"
      ]
     },
     "metadata": {
      "needs_background": "light"
     },
     "output_type": "display_data"
    }
   ],
   "source": [
    "shap.summary_plot(shap_values, X_test, plot_type=\"bar\", max_display=X_test.shape[1])"
   ]
  },
  {
   "cell_type": "markdown",
   "id": "e20066bd-569f-4848-93a3-2c2248f7ba65",
   "metadata": {},
   "source": [
    "#### Shap values - class 0 (Low price)"
   ]
  },
  {
   "cell_type": "code",
   "execution_count": 61,
   "id": "dfff7d3e-9b7c-4155-a4d8-8b60c0c2dccf",
   "metadata": {},
   "outputs": [
    {
     "data": {
      "image/png": "[encoded data removed]",
      "text/plain": [
       "<Figure size 576x424.8 with 2 Axes>"
      ]
     },
     "metadata": {
      "needs_background": "light"
     },
     "output_type": "display_data"
    }
   ],
   "source": [
    "shap.summary_plot(shap_values[0], X_test, max_display=X_test.shape[1])"
   ]
  },
  {
   "cell_type": "markdown",
   "id": "c8a9fccd-838a-4046-a362-f714f5d5b593",
   "metadata": {},
   "source": [
    "#### Shap values - class 1 (Mid price)"
   ]
  },
  {
   "cell_type": "code",
   "execution_count": 62,
   "id": "f3dd61ba-0265-4704-b592-982bd21a1c34",
   "metadata": {},
   "outputs": [
    {
     "data": {
      "image/png": "[encoded data removed]",
      "text/plain": [
       "<Figure size 576x424.8 with 2 Axes>"
      ]
     },
     "metadata": {
      "needs_background": "light"
     },
     "output_type": "display_data"
    }
   ],
   "source": [
    "shap.summary_plot(shap_values[1], X_test, max_display=X_test.shape[1])"
   ]
  },
  {
   "cell_type": "markdown",
   "id": "5905ba62-30d2-48bb-b548-dce74f3eb7f5",
   "metadata": {},
   "source": [
    "#### Shap values - class 2 (High price)"
   ]
  },
  {
   "cell_type": "code",
   "execution_count": 63,
   "id": "6caeb00b-aed8-4550-a42b-afc851c4e38a",
   "metadata": {},
   "outputs": [
    {
     "data": {
      "image/png": "[encoded data removed]",
      "text/plain": [
       "<Figure size 576x424.8 with 2 Axes>"
      ]
     },
     "metadata": {
      "needs_background": "light"
     },
     "output_type": "display_data"
    }
   ],
   "source": [
    "shap.summary_plot(shap_values[2], X_test, max_display=X_test.shape[1])"
   ]
  },
  {
   "cell_type": "markdown",
   "id": "a1b1e8f4-d482-424e-bc41-9fc0eb17d7bc",
   "metadata": {},
   "source": [
    "#### Shap values - class 3 (Luxury price)"
   ]
  },
  {
   "cell_type": "code",
   "execution_count": 64,
   "id": "0a9d750d-b807-43f0-bc2a-86a23ed4fcc9",
   "metadata": {},
   "outputs": [
    {
     "data": {
      "image/png": "[encoded data removed]",
      "text/plain": [
       "<Figure size 576x424.8 with 2 Axes>"
      ]
     },
     "metadata": {
      "needs_background": "light"
     },
     "output_type": "display_data"
    }
   ],
   "source": [
    "shap.summary_plot(shap_values[3], X_test, max_display=X_test.shape[1])"
   ]
  },
  {
   "cell_type": "markdown",
   "id": "9d58fbe4-3f95-4286-8e82-97118c925979",
   "metadata": {},
   "source": [
    "# Modeling - Logistic regression"
   ]
  },
  {
   "cell_type": "code",
   "execution_count": 66,
   "id": "db5e3b7d-b2b4-45a6-9de6-ba226628884e",
   "metadata": {},
   "outputs": [],
   "source": [
    "from sklearn.preprocessing import StandardScaler\n",
    "from sklearn.linear_model import LogisticRegression"
   ]
  },
  {
   "cell_type": "markdown",
   "id": "a9397df8-ab18-41fe-9880-fd6a922c3a16",
   "metadata": {},
   "source": [
    "## Additional preprocessing"
   ]
  },
  {
   "cell_type": "code",
   "execution_count": 67,
   "id": "75552d72-0148-4c03-ad17-5c0b612ce885",
   "metadata": {},
   "outputs": [],
   "source": [
    "scaler = StandardScaler()\n",
    "data['latitude'] = scaler.fit_transform( data.latitude.values.reshape(-1, 1) )\n",
    "data['longitude'] = scaler.fit_transform( data.longitude.values.reshape(-1, 1) )\n",
    "data['accommodates'] = scaler.fit_transform( data.accommodates.values.reshape(-1, 1) )\n",
    "data['bathrooms'] = scaler.fit_transform( data.bathrooms.values.reshape(-1, 1) )"
   ]
  },
  {
   "cell_type": "code",
   "execution_count": 68,
   "id": "9398daf7-abb8-4c6c-9446-fa7f10ae93f2",
   "metadata": {},
   "outputs": [],
   "source": [
    "data = pd.get_dummies(data, columns=['room_type','neighbourhood'], drop_first=True)"
   ]
  },
  {
   "cell_type": "code",
   "execution_count": 69,
   "id": "83bd45f0-8d75-4eb6-99b5-c0bec1b7a566",
   "metadata": {},
   "outputs": [],
   "source": [
    "data.drop(columns=['beds','bedrooms'], inplace=True)"
   ]
  },
  {
   "cell_type": "code",
   "execution_count": 70,
   "id": "3e043ee3-1051-430e-9728-97948862a4f3",
   "metadata": {},
   "outputs": [
    {
     "data": {
      "text/html": [
       "<div>\n",
       "<style scoped>\n",
       "    .dataframe tbody tr th:only-of-type {\n",
       "        vertical-align: middle;\n",
       "    }\n",
       "\n",
       "    .dataframe tbody tr th {\n",
       "        vertical-align: top;\n",
       "    }\n",
       "\n",
       "    .dataframe thead th {\n",
       "        text-align: right;\n",
       "    }\n",
       "</style>\n",
       "<table border=\"1\" class=\"dataframe\">\n",
       "  <thead>\n",
       "    <tr style=\"text-align: right;\">\n",
       "      <th></th>\n",
       "      <th>latitude</th>\n",
       "      <th>longitude</th>\n",
       "      <th>accommodates</th>\n",
       "      <th>price</th>\n",
       "      <th>bathrooms</th>\n",
       "      <th>tv</th>\n",
       "      <th>elevator</th>\n",
       "      <th>internet</th>\n",
       "      <th>room_type_Hotel room</th>\n",
       "      <th>room_type_Private-Share room</th>\n",
       "      <th>neighbourhood_Brooklyn</th>\n",
       "      <th>neighbourhood_Manhattan</th>\n",
       "    </tr>\n",
       "  </thead>\n",
       "  <tbody>\n",
       "    <tr>\n",
       "      <th>0</th>\n",
       "      <td>0.436829</td>\n",
       "      <td>-0.721506</td>\n",
       "      <td>-0.958487</td>\n",
       "      <td>1</td>\n",
       "      <td>-0.345037</td>\n",
       "      <td>1</td>\n",
       "      <td>0</td>\n",
       "      <td>1</td>\n",
       "      <td>0</td>\n",
       "      <td>0</td>\n",
       "      <td>0</td>\n",
       "      <td>1</td>\n",
       "    </tr>\n",
       "    <tr>\n",
       "      <th>1</th>\n",
       "      <td>-0.793991</td>\n",
       "      <td>-0.171059</td>\n",
       "      <td>0.111197</td>\n",
       "      <td>0</td>\n",
       "      <td>-0.345037</td>\n",
       "      <td>1</td>\n",
       "      <td>0</td>\n",
       "      <td>1</td>\n",
       "      <td>0</td>\n",
       "      <td>0</td>\n",
       "      <td>1</td>\n",
       "      <td>0</td>\n",
       "    </tr>\n",
       "    <tr>\n",
       "      <th>2</th>\n",
       "      <td>-0.786637</td>\n",
       "      <td>-0.121216</td>\n",
       "      <td>-0.423645</td>\n",
       "      <td>0</td>\n",
       "      <td>-0.345037</td>\n",
       "      <td>0</td>\n",
       "      <td>0</td>\n",
       "      <td>1</td>\n",
       "      <td>0</td>\n",
       "      <td>1</td>\n",
       "      <td>1</td>\n",
       "      <td>0</td>\n",
       "    </tr>\n",
       "    <tr>\n",
       "      <th>3</th>\n",
       "      <td>-1.193801</td>\n",
       "      <td>-0.897831</td>\n",
       "      <td>0.646039</td>\n",
       "      <td>2</td>\n",
       "      <td>0.800210</td>\n",
       "      <td>1</td>\n",
       "      <td>0</td>\n",
       "      <td>1</td>\n",
       "      <td>0</td>\n",
       "      <td>0</td>\n",
       "      <td>1</td>\n",
       "      <td>0</td>\n",
       "    </tr>\n",
       "    <tr>\n",
       "      <th>4</th>\n",
       "      <td>0.634313</td>\n",
       "      <td>-0.673830</td>\n",
       "      <td>-0.423645</td>\n",
       "      <td>0</td>\n",
       "      <td>-0.345037</td>\n",
       "      <td>1</td>\n",
       "      <td>0</td>\n",
       "      <td>1</td>\n",
       "      <td>0</td>\n",
       "      <td>1</td>\n",
       "      <td>0</td>\n",
       "      <td>1</td>\n",
       "    </tr>\n",
       "  </tbody>\n",
       "</table>\n",
       "</div>"
      ],
      "text/plain": [
       "   latitude  longitude  accommodates price  bathrooms  tv  elevator  internet  \\\n",
       "0  0.436829  -0.721506     -0.958487     1  -0.345037   1         0         1   \n",
       "1 -0.793991  -0.171059      0.111197     0  -0.345037   1         0         1   \n",
       "2 -0.786637  -0.121216     -0.423645     0  -0.345037   0         0         1   \n",
       "3 -1.193801  -0.897831      0.646039     2   0.800210   1         0         1   \n",
       "4  0.634313  -0.673830     -0.423645     0  -0.345037   1         0         1   \n",
       "\n",
       "   room_type_Hotel room  room_type_Private-Share room  neighbourhood_Brooklyn  \\\n",
       "0                     0                             0                       0   \n",
       "1                     0                             0                       1   \n",
       "2                     0                             1                       1   \n",
       "3                     0                             0                       1   \n",
       "4                     0                             1                       0   \n",
       "\n",
       "   neighbourhood_Manhattan  \n",
       "0                        1  \n",
       "1                        0  \n",
       "2                        0  \n",
       "3                        0  \n",
       "4                        1  "
      ]
     },
     "execution_count": 70,
     "metadata": {},
     "output_type": "execute_result"
    }
   ],
   "source": [
    "data.head()"
   ]
  },
  {
   "cell_type": "code",
   "execution_count": 71,
   "id": "1b599b18-5f1f-47da-b772-ef8c28a53879",
   "metadata": {},
   "outputs": [],
   "source": [
    "X = data.drop(columns=['price'])\n",
    "y = data['price']"
   ]
  },
  {
   "cell_type": "code",
   "execution_count": 72,
   "id": "78002f52-80c6-4525-b41f-88a06e103ce6",
   "metadata": {},
   "outputs": [
    {
     "data": {
      "text/plain": [
       "((30621, 11), (7656, 11), (30621,), (7656,))"
      ]
     },
     "execution_count": 72,
     "metadata": {},
     "output_type": "execute_result"
    }
   ],
   "source": [
    "X_train, X_test, y_train, y_test = train_test_split(X, y, test_size=0.2, random_state=42)\n",
    "X_train.shape, X_test.shape, y_train.shape, y_test.shape"
   ]
  },
  {
   "cell_type": "markdown",
   "id": "2211cfe0-1a82-4874-95c6-05eed5ca6db1",
   "metadata": {},
   "source": [
    "## Baseline model"
   ]
  },
  {
   "cell_type": "markdown",
   "id": "66c7636e-fc82-4328-902f-55c9dd7de132",
   "metadata": {},
   "source": [
    "### Training"
   ]
  },
  {
   "cell_type": "code",
   "execution_count": 61,
   "id": "1eadbabb-3ddb-45d7-95dc-f7b0a928c3dd",
   "metadata": {},
   "outputs": [
    {
     "data": {
      "text/plain": [
       "{1: 0.7608836099791273,\n",
       " 2: 0.8688287368062649,\n",
       " 0: 0.7491192876015266,\n",
       " 3: 5.00343137254902}"
      ]
     },
     "execution_count": 61,
     "metadata": {},
     "output_type": "execute_result"
    }
   ],
   "source": [
    "classes = y_train.unique()\n",
    "weights = compute_class_weight(class_weight='balanced', classes=classes, y=y_train)\n",
    "class_weights = dict(zip(classes, weights))\n",
    "class_weights"
   ]
  },
  {
   "cell_type": "code",
   "execution_count": 62,
   "id": "54392d3b-9b30-44bf-9dd0-1cebf2a00ac4",
   "metadata": {},
   "outputs": [],
   "source": [
    "clf = LogisticRegression(class_weight=class_weights, multi_class='multinomial', random_state=42, n_jobs=-1)\n",
    "clf = clf.fit(X_train, y_train)"
   ]
  },
  {
   "cell_type": "markdown",
   "id": "68137d2d-eae7-4a72-9c90-d4024083d8a2",
   "metadata": {},
   "source": [
    "### Evaluation"
   ]
  },
  {
   "cell_type": "code",
   "execution_count": 63,
   "id": "2520fb89-8e1c-463b-b1b1-1d976924b6b4",
   "metadata": {},
   "outputs": [],
   "source": [
    "y_pred = clf.predict(X_test)"
   ]
  },
  {
   "cell_type": "code",
   "execution_count": 64,
   "id": "81b01557-9008-4227-8ec7-656670f96be1",
   "metadata": {},
   "outputs": [
    {
     "data": {
      "text/plain": [
       "0.5948275862068966"
      ]
     },
     "execution_count": 64,
     "metadata": {},
     "output_type": "execute_result"
    }
   ],
   "source": [
    "accuracy_score(y_test, y_pred)"
   ]
  },
  {
   "cell_type": "code",
   "execution_count": 65,
   "id": "fd29472e-5348-461b-af68-cf57905b9cb6",
   "metadata": {},
   "outputs": [
    {
     "name": "stdout",
     "output_type": "stream",
     "text": [
      "              precision    recall  f1-score   support\n",
      "\n",
      "           0       0.73      0.85      0.78      2526\n",
      "           1       0.55      0.37      0.44      2526\n",
      "           2       0.57      0.56      0.56      2230\n",
      "           3       0.30      0.65      0.41       374\n",
      "\n",
      "    accuracy                           0.59      7656\n",
      "   macro avg       0.53      0.61      0.55      7656\n",
      "weighted avg       0.60      0.59      0.59      7656\n",
      "\n"
     ]
    }
   ],
   "source": [
    "print(classification_report(y_test, y_pred))"
   ]
  },
  {
   "cell_type": "code",
   "execution_count": 66,
   "id": "728c3ebb-9d6d-4169-ad71-fc827653b32d",
   "metadata": {},
   "outputs": [
    {
     "data": {
      "image/png": "[encoded data removed]",
      "text/plain": [
       "<Figure size 360x360 with 1 Axes>"
      ]
     },
     "metadata": {
      "needs_background": "light"
     },
     "output_type": "display_data"
    }
   ],
   "source": [
    "classes = [0, 1, 2, 3]\n",
    "labels = ['Low', 'Mid', 'High', 'Luxury']\n",
    "\n",
    "c = confusion_matrix(y_test, y_pred)\n",
    "c = c / c.sum(axis=1).reshape(len(classes), 1)\n",
    "\n",
    "# Plot\n",
    "fig, ax = plt.subplots(figsize=(5, 5))\n",
    "sns.heatmap(c, annot=True, cmap='BuGn', square=True, fmt='.2f', annot_kws={'size': 10}, cbar=False)\n",
    "plt.xlabel('Predicted', fontsize=14)\n",
    "plt.ylabel('Real', fontsize=14)\n",
    "plt.xticks(ticks=np.arange(.5, len(classes)), labels=labels)\n",
    "plt.yticks(ticks=np.arange(.5, len(classes)), labels=labels)\n",
    "plt.show()"
   ]
  },
  {
   "cell_type": "markdown",
   "id": "92ab2692-3432-4363-aa2e-851fbc25e6b0",
   "metadata": {},
   "source": [
    "TODO\n",
    "- USE SHAP FOR EXPLAINABILITY OF BEST MODEL"
   ]
  },
  {
   "cell_type": "code",
   "execution_count": null,
   "id": "06111f56-7027-4889-b9d0-33d51955478a",
   "metadata": {},
   "outputs": [],
   "source": []
  },
  {
   "cell_type": "code",
   "execution_count": null,
   "id": "f3dcb6eb-6646-49ff-8e7e-de754fa7ab92",
   "metadata": {},
   "outputs": [],
   "source": []
  },
  {
   "cell_type": "code",
   "execution_count": null,
   "id": "4a604ed1-0269-4b60-91e4-51418085e994",
   "metadata": {},
   "outputs": [],
   "source": []
  },
  {
   "cell_type": "code",
   "execution_count": null,
   "id": "1389db03-2137-46fb-ad64-502fe9d6b684",
   "metadata": {},
   "outputs": [],
   "source": []
  }
 ],
 "metadata": {
  "kernelspec": {
   "display_name": "Python 3",
   "language": "python",
   "name": "python3"
  },
  "language_info": {
   "codemirror_mode": {
    "name": "ipython",
    "version": 3
   },
   "file_extension": ".py",
   "mimetype": "text/x-python",
   "name": "python",
   "nbconvert_exporter": "python",
   "pygments_lexer": "ipython3",
   "version": "3.8.5"
  }
 },
 "nbformat": 4,
 "nbformat_minor": 5
}
